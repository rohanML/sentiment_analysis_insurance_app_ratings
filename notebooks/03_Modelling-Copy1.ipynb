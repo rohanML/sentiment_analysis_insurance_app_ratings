{
 "cells": [
  {
   "cell_type": "markdown",
   "id": "ongoing-serbia",
   "metadata": {},
   "source": [
    "# Modeling - Insurance App Ratings on Google Play Store"
   ]
  },
  {
   "cell_type": "markdown",
   "id": "acting-uncertainty",
   "metadata": {},
   "source": [
    "In this notebook, we will\n",
    "1. select an appropriate __evaluation matrix__\n",
    "2. devise our __modelling and validation strategy__\n",
    "3. select the __best model__ and\n",
    "4. share __actionable business insights__"
   ]
  },
  {
   "cell_type": "code",
   "execution_count": 2,
   "id": "signed-interpretation",
   "metadata": {},
   "outputs": [],
   "source": [
    "import pandas as pd\n",
    "import numpy as np\n",
    "import time\n",
    "import string\n",
    "from datetime import datetime\n",
    "from pathlib import Path\n",
    "import re\n",
    "from scipy.stats import loguniform\n",
    "from collections import Counter\n",
    "\n",
    "import matplotlib.pyplot as plt\n",
    "import seaborn as sns\n",
    "from matplotlib.ticker import MaxNLocator\n",
    "\n",
    "from nltk import word_tokenize\n",
    "from sklearn.preprocessing import LabelEncoder\n",
    "from sklearn.feature_extraction.text import CountVectorizer\n",
    "from sklearn.feature_extraction.text import TfidfVectorizer\n",
    "from sklearn.model_selection import StratifiedKFold, RandomizedSearchCV\n",
    "from sklearn.metrics import average_precision_score, precision_recall_curve\n",
    "\n",
    "from sklearn.linear_model import LogisticRegression\n",
    "from sklearn.naive_bayes import MultinomialNB\n",
    "import xgboost as xgb\n",
    "\n",
    "# Setup Pandas\n",
    "pd.set_option('display.width', 500)\n",
    "pd.set_option('display.max_columns', 100)\n",
    "\n",
    "# Setup Seaborn\n",
    "plt.style.use('fivethirtyeight')\n",
    "\n",
    "# For process develpment\n",
    "development_flag =  False\n",
    "\n",
    "random_seed = 79"
   ]
  },
  {
   "cell_type": "code",
   "execution_count": 118,
   "id": "alike-thailand",
   "metadata": {},
   "outputs": [
    {
     "data": {
      "text/plain": [
       "(7980, 14)"
      ]
     },
     "execution_count": 118,
     "metadata": {},
     "output_type": "execute_result"
    }
   ],
   "source": [
    "train_review = '../data/interim/train_review.csv'\n",
    "df_train = pd.read_csv(train_review)\n",
    "df_train.shape"
   ]
  },
  {
   "cell_type": "code",
   "execution_count": 119,
   "id": "metropolitan-netherlands",
   "metadata": {},
   "outputs": [
    {
     "data": {
      "text/plain": [
       "(2660, 14)"
      ]
     },
     "execution_count": 119,
     "metadata": {},
     "output_type": "execute_result"
    }
   ],
   "source": [
    "test_review = '../data/interim/test_review.csv'\n",
    "df_test = pd.read_csv(test_review)\n",
    "df_test.shape"
   ]
  },
  {
   "cell_type": "code",
   "execution_count": 120,
   "id": "initial-ireland",
   "metadata": {},
   "outputs": [
    {
     "data": {
      "text/html": [
       "<div>\n",
       "<style scoped>\n",
       "    .dataframe tbody tr th:only-of-type {\n",
       "        vertical-align: middle;\n",
       "    }\n",
       "\n",
       "    .dataframe tbody tr th {\n",
       "        vertical-align: top;\n",
       "    }\n",
       "\n",
       "    .dataframe thead th {\n",
       "        text-align: right;\n",
       "    }\n",
       "</style>\n",
       "<table border=\"1\" class=\"dataframe\">\n",
       "  <thead>\n",
       "    <tr style=\"text-align: right;\">\n",
       "      <th></th>\n",
       "      <th>reviewId</th>\n",
       "      <th>review</th>\n",
       "      <th>score</th>\n",
       "      <th>thumbsUpCount</th>\n",
       "      <th>reviewCreatedVersion</th>\n",
       "      <th>at</th>\n",
       "      <th>replyContent</th>\n",
       "      <th>repliedAt</th>\n",
       "      <th>appId</th>\n",
       "      <th>company</th>\n",
       "      <th>year</th>\n",
       "      <th>rating</th>\n",
       "      <th>clean_review</th>\n",
       "      <th>clean_review_len</th>\n",
       "    </tr>\n",
       "  </thead>\n",
       "  <tbody>\n",
       "    <tr>\n",
       "      <th>0</th>\n",
       "      <td>gp:AOqpTOFZYnapoEKajsEGFrCKJ_vmsJ8If4t6mZ5K6xt...</td>\n",
       "      <td>After update my existing policies are not show...</td>\n",
       "      <td>1</td>\n",
       "      <td>0</td>\n",
       "      <td>4.9</td>\n",
       "      <td>2019-10-28 20:49:10</td>\n",
       "      <td>Hi,\\nWe are sorry for the inconvenience caused...</td>\n",
       "      <td>2019-10-29 09:26:51</td>\n",
       "      <td>com.ba.cp.controller</td>\n",
       "      <td>bajaj_allianz</td>\n",
       "      <td>2019</td>\n",
       "      <td>1</td>\n",
       "      <td>update exist policy not show full bug</td>\n",
       "      <td>7</td>\n",
       "    </tr>\n",
       "    <tr>\n",
       "      <th>1</th>\n",
       "      <td>gp:AOqpTOHy0QfB7Y5Uj98Kw7F-iRhMZGUeYNw81fR8ZFW...</td>\n",
       "      <td>Tiring. Just keeps icon rotating. Nothing happ...</td>\n",
       "      <td>1</td>\n",
       "      <td>0</td>\n",
       "      <td>7.7</td>\n",
       "      <td>2021-04-10 15:04:07</td>\n",
       "      <td>Hi Sharad Thombre, We apologize for the inconv...</td>\n",
       "      <td>2021-04-21 10:31:33</td>\n",
       "      <td>com.pms.activity</td>\n",
       "      <td>hdfc_ergo</td>\n",
       "      <td>2021</td>\n",
       "      <td>1</td>\n",
       "      <td>tire keep icon rotate nothing happen wastage time</td>\n",
       "      <td>8</td>\n",
       "    </tr>\n",
       "    <tr>\n",
       "      <th>2</th>\n",
       "      <td>gp:AOqpTOGutSpa6ZgezQpU9b58sHejnifKFX_91Qa2SoQ...</td>\n",
       "      <td>Now it's working properly, thanks</td>\n",
       "      <td>4</td>\n",
       "      <td>0</td>\n",
       "      <td>2.0.17</td>\n",
       "      <td>2021-02-03 15:02:58</td>\n",
       "      <td>Dear Deepak, thanks for your feedback and we v...</td>\n",
       "      <td>2021-02-04 16:10:40</td>\n",
       "      <td>icici.lombard.ghi</td>\n",
       "      <td>icici_lombard</td>\n",
       "      <td>2021</td>\n",
       "      <td>0</td>\n",
       "      <td>work properly thank</td>\n",
       "      <td>3</td>\n",
       "    </tr>\n",
       "    <tr>\n",
       "      <th>3</th>\n",
       "      <td>gp:AOqpTOErT-CbrKgwZlpEKMUBuzlqSlQ5OhR8QOAgA39...</td>\n",
       "      <td>ICICI people ask us to raise the claim through...</td>\n",
       "      <td>1</td>\n",
       "      <td>0</td>\n",
       "      <td>2.0.27</td>\n",
       "      <td>2021-04-14 15:37:37</td>\n",
       "      <td>Dear Bhushan, we apologize for the inconvenien...</td>\n",
       "      <td>2021-04-14 20:09:17</td>\n",
       "      <td>icici.lombard.ghi</td>\n",
       "      <td>icici_lombard</td>\n",
       "      <td>2021</td>\n",
       "      <td>1</td>\n",
       "      <td>people ask raise claim app app crash continuou...</td>\n",
       "      <td>13</td>\n",
       "    </tr>\n",
       "    <tr>\n",
       "      <th>4</th>\n",
       "      <td>gp:AOqpTOE_fRyh1_FEiWVfsG5qCw72bRHskVmI1jwLyNY...</td>\n",
       "      <td>Shaheen explained the app well ..easy to use a...</td>\n",
       "      <td>5</td>\n",
       "      <td>2</td>\n",
       "      <td>2.0.34</td>\n",
       "      <td>2021-06-20 22:18:43</td>\n",
       "      <td>Dear Ruchika, Thank you so much for your valua...</td>\n",
       "      <td>2021-06-21 19:54:40</td>\n",
       "      <td>icici.lombard.ghi</td>\n",
       "      <td>icici_lombard</td>\n",
       "      <td>2021</td>\n",
       "      <td>0</td>\n",
       "      <td>shaheen explain app well easy use various faci...</td>\n",
       "      <td>12</td>\n",
       "    </tr>\n",
       "  </tbody>\n",
       "</table>\n",
       "</div>"
      ],
      "text/plain": [
       "                                            reviewId                                             review  score  thumbsUpCount reviewCreatedVersion                   at                                       replyContent            repliedAt                 appId        company  year  rating                                       clean_review  clean_review_len\n",
       "0  gp:AOqpTOFZYnapoEKajsEGFrCKJ_vmsJ8If4t6mZ5K6xt...  After update my existing policies are not show...      1              0                  4.9  2019-10-28 20:49:10  Hi,\\nWe are sorry for the inconvenience caused...  2019-10-29 09:26:51  com.ba.cp.controller  bajaj_allianz  2019       1              update exist policy not show full bug                 7\n",
       "1  gp:AOqpTOHy0QfB7Y5Uj98Kw7F-iRhMZGUeYNw81fR8ZFW...  Tiring. Just keeps icon rotating. Nothing happ...      1              0                  7.7  2021-04-10 15:04:07  Hi Sharad Thombre, We apologize for the inconv...  2021-04-21 10:31:33      com.pms.activity      hdfc_ergo  2021       1  tire keep icon rotate nothing happen wastage time                 8\n",
       "2  gp:AOqpTOGutSpa6ZgezQpU9b58sHejnifKFX_91Qa2SoQ...                  Now it's working properly, thanks      4              0               2.0.17  2021-02-03 15:02:58  Dear Deepak, thanks for your feedback and we v...  2021-02-04 16:10:40     icici.lombard.ghi  icici_lombard  2021       0                                work properly thank                 3\n",
       "3  gp:AOqpTOErT-CbrKgwZlpEKMUBuzlqSlQ5OhR8QOAgA39...  ICICI people ask us to raise the claim through...      1              0               2.0.27  2021-04-14 15:37:37  Dear Bhushan, we apologize for the inconvenien...  2021-04-14 20:09:17     icici.lombard.ghi  icici_lombard  2021       1  people ask raise claim app app crash continuou...                13\n",
       "4  gp:AOqpTOE_fRyh1_FEiWVfsG5qCw72bRHskVmI1jwLyNY...  Shaheen explained the app well ..easy to use a...      5              2               2.0.34  2021-06-20 22:18:43  Dear Ruchika, Thank you so much for your valua...  2021-06-21 19:54:40     icici.lombard.ghi  icici_lombard  2021       0  shaheen explain app well easy use various faci...                12"
      ]
     },
     "execution_count": 120,
     "metadata": {},
     "output_type": "execute_result"
    }
   ],
   "source": [
    "df_train.head()"
   ]
  },
  {
   "cell_type": "code",
   "execution_count": 121,
   "id": "union-prescription",
   "metadata": {},
   "outputs": [
    {
     "name": "stdout",
     "output_type": "stream",
     "text": [
      "<class 'pandas.core.frame.DataFrame'>\n",
      "RangeIndex: 7980 entries, 0 to 7979\n",
      "Data columns (total 14 columns):\n",
      " #   Column                Non-Null Count  Dtype \n",
      "---  ------                --------------  ----- \n",
      " 0   reviewId              7980 non-null   object\n",
      " 1   review                7980 non-null   object\n",
      " 2   score                 7980 non-null   int64 \n",
      " 3   thumbsUpCount         7980 non-null   int64 \n",
      " 4   reviewCreatedVersion  6944 non-null   object\n",
      " 5   at                    7980 non-null   object\n",
      " 6   replyContent          6047 non-null   object\n",
      " 7   repliedAt             6047 non-null   object\n",
      " 8   appId                 7980 non-null   object\n",
      " 9   company               7980 non-null   object\n",
      " 10  year                  7980 non-null   int64 \n",
      " 11  rating                7980 non-null   int64 \n",
      " 12  clean_review          7980 non-null   object\n",
      " 13  clean_review_len      7980 non-null   int64 \n",
      "dtypes: int64(5), object(9)\n",
      "memory usage: 872.9+ KB\n"
     ]
    }
   ],
   "source": [
    "df_train.info()"
   ]
  },
  {
   "cell_type": "markdown",
   "id": "hybrid-rwanda",
   "metadata": {},
   "source": [
    "For modelling purpose, we are mainly intested in ratins, clean review text and comapny column."
   ]
  },
  {
   "cell_type": "code",
   "execution_count": 122,
   "id": "optical-damages",
   "metadata": {},
   "outputs": [],
   "source": [
    "df_train = df_train[['rating','clean_review','company']]\n",
    "df_test = df_train[['rating','clean_review','company']]"
   ]
  },
  {
   "cell_type": "code",
   "execution_count": 123,
   "id": "cognitive-nirvana",
   "metadata": {},
   "outputs": [
    {
     "data": {
      "image/png": "[encoded data removed]",
      "text/plain": [
       "<Figure size 432x288 with 1 Axes>"
      ]
     },
     "metadata": {},
     "output_type": "display_data"
    }
   ],
   "source": [
    "map_sentiment = {0:'Positive', 1:'Negative'}\n",
    "\n",
    "\n",
    "ax = sns.countplot(y='rating', data= df_train)\n",
    "ax.set_yticklabels(map_sentiment.values())\n",
    "ax.invert_yaxis()\n",
    "plt.ylabel('Sentiment')\n",
    "plt.xlabel('Number of Reviews')\n",
    "plt.title('Number of Reviews by Sentiment');"
   ]
  },
  {
   "cell_type": "markdown",
   "id": "running-fleet",
   "metadata": {},
   "source": [
    "We have 66% negative sentiments and 34% positive sentiments."
   ]
  },
  {
   "cell_type": "markdown",
   "id": "experienced-madonna",
   "metadata": {},
   "source": [
    "## Evaluation matrix\n",
    "\n",
    "For GI industry, it is important to increase the adaptation and usage of mobile applications. We are more interesting in understanding __what kind of application features or customer services are driving positive or negative sentiments__. We have seen that 40% customers are not happy with the mobile app. This is a huge number. Hence, our __primary focus will be negative sentiment__. Given this business objective, we will be __using the pr_auc__ matrix as it gives more importance to positive class which in our case is negative sentiment."
   ]
  },
  {
   "cell_type": "markdown",
   "id": "adaptive-binary",
   "metadata": {},
   "source": [
    "## Modelling strategy\n",
    "\n",
    "We are more interested in interpretation and insights. Hence, we consider following algorithms for our classification task. \n",
    "\n",
    "### Modelling :\n",
    "\n",
    "1. __Logistic Regression with l1 regularization__ - Logistic regression is a simple linear algorithm with decent performance. We will use l1 regularization for feature selection. This will also be our base model.\n",
    "2. __XgBoost__ - XgBoost is known to outperform linear models on tabular data in many cases.\n",
    "3. __LightGBM__ - LightGBM is faster than XgBoost and tends to perform well on tabular data.\n",
    "\n",
    "### Feature Extraction : \n",
    "For feature extraction from text, we will use CountVectorizer & TfIdf Vectorizer.\n"
   ]
  },
  {
   "cell_type": "markdown",
   "id": "silent-machine",
   "metadata": {},
   "source": [
    "### Building Pipeline"
   ]
  },
  {
   "cell_type": "markdown",
   "id": "varying-murder",
   "metadata": {},
   "source": [
    "We will use company as a feature because we are more interested at industry level issues. With this dummmy, we will control for comapny specific issues. Converting company feature to dummies."
   ]
  },
  {
   "cell_type": "code",
   "execution_count": 124,
   "id": "married-slovak",
   "metadata": {},
   "outputs": [
    {
     "data": {
      "text/plain": [
       "(7980, 7)"
      ]
     },
     "execution_count": 124,
     "metadata": {},
     "output_type": "execute_result"
    }
   ],
   "source": [
    "df = pd.get_dummies(df_train['company'],columns = ['company'])\n",
    "df_train = pd.concat([df_train, df], axis =1)\n",
    "df_train.shape"
   ]
  },
  {
   "cell_type": "markdown",
   "id": "opened-procedure",
   "metadata": {},
   "source": [
    "### Count Vectorizer"
   ]
  },
  {
   "cell_type": "markdown",
   "id": "threatened-proportion",
   "metadata": {},
   "source": [
    "Below words do not contain any insights and they are coming as important features in our classification task. Hence, we will remove these words. This will somewhat affect our prediction performance. But we are more interested in interpretation and insights than predictions."
   ]
  },
  {
   "cell_type": "code",
   "execution_count": 125,
   "id": "minute-treasury",
   "metadata": {},
   "outputs": [],
   "source": [
    "stop_words = ['no','not','nt','even','try','really','within',\n",
    "              'hello','ever','waste','awesome', 'amazing', 'wrost']"
   ]
  },
  {
   "cell_type": "code",
   "execution_count": 133,
   "id": "homeless-calculation",
   "metadata": {},
   "outputs": [
    {
     "data": {
      "text/plain": [
       "(7980, 884)"
      ]
     },
     "execution_count": 133,
     "metadata": {},
     "output_type": "execute_result"
    }
   ],
   "source": [
    "cnt_vec = CountVectorizer(min_df= 20, \n",
    "                        stop_words = stop_words,\n",
    "                        ngram_range=(1,4))\n",
    "\n",
    "\n",
    "X = cnt_vec.fit_transform(df_train['clean_review'])\n",
    "df_txt_cv_feat = pd.DataFrame(X.toarray(), columns = cnt_vec.get_feature_names())\n",
    "df_txt_cv_feat.shape"
   ]
  },
  {
   "cell_type": "code",
   "execution_count": 134,
   "id": "closed-synthetic",
   "metadata": {},
   "outputs": [
    {
     "data": {
      "text/plain": [
       "(7980, 888)"
      ]
     },
     "execution_count": 134,
     "metadata": {},
     "output_type": "execute_result"
    }
   ],
   "source": [
    "company_ind = True\n",
    "df_dummy = pd.get_dummies(df_train['company'],columns = ['company'])\n",
    "\n",
    "if company_ind == True:\n",
    "    X_train = pd.concat([df_txt_cv_feat, df_dummy], axis =1)\n",
    "    \n",
    "else:\n",
    "    X_train = df_txt_cv_feat\n",
    "    \n",
    "X_train.shape"
   ]
  },
  {
   "cell_type": "code",
   "execution_count": 135,
   "id": "vanilla-austria",
   "metadata": {},
   "outputs": [],
   "source": [
    "y_train = df_train.rating"
   ]
  },
  {
   "cell_type": "code",
   "execution_count": 136,
   "id": "attractive-auditor",
   "metadata": {},
   "outputs": [],
   "source": [
    "num_folds = 3\n",
    "cv = StratifiedKFold(n_splits= num_folds, shuffle=True, random_state=random_seed)"
   ]
  },
  {
   "cell_type": "code",
   "execution_count": 137,
   "id": "identified-combat",
   "metadata": {},
   "outputs": [],
   "source": [
    "classifier_lr = LogisticRegression(penalty='l1', solver = 'saga', \n",
    "                                   max_iter=500, tol = 1e-2, \n",
    "                                   random_state=random_seed)\n",
    "\n",
    "param_dists = { 'C': loguniform(1e-2, 1e2) }\n",
    "\n",
    "lr_iterations = 30"
   ]
  },
  {
   "cell_type": "code",
   "execution_count": 138,
   "id": "criminal-answer",
   "metadata": {},
   "outputs": [
    {
     "name": "stdout",
     "output_type": "stream",
     "text": [
      "Wall time: 2min 18s\n"
     ]
    },
    {
     "data": {
      "text/plain": [
       "RandomizedSearchCV(cv=StratifiedKFold(n_splits=3, random_state=79, shuffle=True),\n",
       "                   estimator=LogisticRegression(max_iter=500, penalty='l1',\n",
       "                                                random_state=79, solver='saga',\n",
       "                                                tol=0.01),\n",
       "                   n_iter=30, n_jobs=-2,\n",
       "                   param_distributions={'C': <scipy.stats._distn_infrastructure.rv_frozen object at 0x0000026896962088>},\n",
       "                   random_state=79, scoring='average_precision')"
      ]
     },
     "execution_count": 138,
     "metadata": {},
     "output_type": "execute_result"
    }
   ],
   "source": [
    "%%time\n",
    "cv_lr = RandomizedSearchCV(classifier_lr, \n",
    "                           param_distributions=param_dists, \n",
    "                           scoring = 'average_precision',\n",
    "                           n_iter=lr_iterations, \n",
    "                           cv=cv, \n",
    "                           n_jobs= -2,\n",
    "                           random_state = random_seed)\n",
    "\n",
    "cv_lr.fit(X_train, y_train)"
   ]
  },
  {
   "cell_type": "code",
   "execution_count": 139,
   "id": "convenient-camel",
   "metadata": {
    "scrolled": false
   },
   "outputs": [
    {
     "data": {
      "text/html": [
       "<div>\n",
       "<style scoped>\n",
       "    .dataframe tbody tr th:only-of-type {\n",
       "        vertical-align: middle;\n",
       "    }\n",
       "\n",
       "    .dataframe tbody tr th {\n",
       "        vertical-align: top;\n",
       "    }\n",
       "\n",
       "    .dataframe thead th {\n",
       "        text-align: right;\n",
       "    }\n",
       "</style>\n",
       "<table border=\"1\" class=\"dataframe\">\n",
       "  <thead>\n",
       "    <tr style=\"text-align: right;\">\n",
       "      <th></th>\n",
       "      <th>mean_fit_time</th>\n",
       "      <th>std_fit_time</th>\n",
       "      <th>mean_score_time</th>\n",
       "      <th>std_score_time</th>\n",
       "      <th>param_C</th>\n",
       "      <th>params</th>\n",
       "      <th>split0_test_score</th>\n",
       "      <th>split1_test_score</th>\n",
       "      <th>split2_test_score</th>\n",
       "      <th>mean_test_score</th>\n",
       "      <th>std_test_score</th>\n",
       "      <th>rank_test_score</th>\n",
       "    </tr>\n",
       "  </thead>\n",
       "  <tbody>\n",
       "    <tr>\n",
       "      <th>24</th>\n",
       "      <td>14.102494</td>\n",
       "      <td>3.779089</td>\n",
       "      <td>0.054661</td>\n",
       "      <td>0.009158</td>\n",
       "      <td>71.215973</td>\n",
       "      <td>{'C': 71.21597312053972}</td>\n",
       "      <td>0.935569</td>\n",
       "      <td>0.957252</td>\n",
       "      <td>0.932533</td>\n",
       "      <td>0.941785</td>\n",
       "      <td>0.011007</td>\n",
       "      <td>1</td>\n",
       "    </tr>\n",
       "    <tr>\n",
       "      <th>29</th>\n",
       "      <td>12.265885</td>\n",
       "      <td>2.264678</td>\n",
       "      <td>0.046009</td>\n",
       "      <td>0.008538</td>\n",
       "      <td>86.475666</td>\n",
       "      <td>{'C': 86.47566601912696}</td>\n",
       "      <td>0.935562</td>\n",
       "      <td>0.957253</td>\n",
       "      <td>0.932534</td>\n",
       "      <td>0.941783</td>\n",
       "      <td>0.011009</td>\n",
       "      <td>2</td>\n",
       "    </tr>\n",
       "    <tr>\n",
       "      <th>28</th>\n",
       "      <td>13.789672</td>\n",
       "      <td>2.545540</td>\n",
       "      <td>0.049733</td>\n",
       "      <td>0.009156</td>\n",
       "      <td>57.112273</td>\n",
       "      <td>{'C': 57.112272826654}</td>\n",
       "      <td>0.935566</td>\n",
       "      <td>0.957251</td>\n",
       "      <td>0.932527</td>\n",
       "      <td>0.941781</td>\n",
       "      <td>0.011009</td>\n",
       "      <td>3</td>\n",
       "    </tr>\n",
       "    <tr>\n",
       "      <th>25</th>\n",
       "      <td>15.266383</td>\n",
       "      <td>3.644512</td>\n",
       "      <td>0.052556</td>\n",
       "      <td>0.000515</td>\n",
       "      <td>27.662862</td>\n",
       "      <td>{'C': 27.66286224401876}</td>\n",
       "      <td>0.935544</td>\n",
       "      <td>0.957235</td>\n",
       "      <td>0.932522</td>\n",
       "      <td>0.941767</td>\n",
       "      <td>0.011007</td>\n",
       "      <td>4</td>\n",
       "    </tr>\n",
       "    <tr>\n",
       "      <th>11</th>\n",
       "      <td>13.145710</td>\n",
       "      <td>2.897850</td>\n",
       "      <td>0.042293</td>\n",
       "      <td>0.002058</td>\n",
       "      <td>19.250924</td>\n",
       "      <td>{'C': 19.250924111697937}</td>\n",
       "      <td>0.935526</td>\n",
       "      <td>0.957218</td>\n",
       "      <td>0.932503</td>\n",
       "      <td>0.941749</td>\n",
       "      <td>0.011008</td>\n",
       "      <td>5</td>\n",
       "    </tr>\n",
       "  </tbody>\n",
       "</table>\n",
       "</div>"
      ],
      "text/plain": [
       "    mean_fit_time  std_fit_time  mean_score_time  std_score_time    param_C                     params  split0_test_score  split1_test_score  split2_test_score  mean_test_score  std_test_score  rank_test_score\n",
       "24      14.102494      3.779089         0.054661        0.009158  71.215973   {'C': 71.21597312053972}           0.935569           0.957252           0.932533         0.941785        0.011007                1\n",
       "29      12.265885      2.264678         0.046009        0.008538  86.475666   {'C': 86.47566601912696}           0.935562           0.957253           0.932534         0.941783        0.011009                2\n",
       "28      13.789672      2.545540         0.049733        0.009156  57.112273     {'C': 57.112272826654}           0.935566           0.957251           0.932527         0.941781        0.011009                3\n",
       "25      15.266383      3.644512         0.052556        0.000515  27.662862   {'C': 27.66286224401876}           0.935544           0.957235           0.932522         0.941767        0.011007                4\n",
       "11      13.145710      2.897850         0.042293        0.002058  19.250924  {'C': 19.250924111697937}           0.935526           0.957218           0.932503         0.941749        0.011008                5"
      ]
     },
     "execution_count": 139,
     "metadata": {},
     "output_type": "execute_result"
    }
   ],
   "source": [
    "cv_lr_results = pd.DataFrame(cv_lr.cv_results_)\n",
    "cv_lr_results.sort_values(by='mean_test_score', ascending=False).head(5)"
   ]
  },
  {
   "cell_type": "code",
   "execution_count": 140,
   "id": "animal-carbon",
   "metadata": {},
   "outputs": [
    {
     "data": {
      "text/html": [
       "<div>\n",
       "<style scoped>\n",
       "    .dataframe tbody tr th:only-of-type {\n",
       "        vertical-align: middle;\n",
       "    }\n",
       "\n",
       "    .dataframe tbody tr th {\n",
       "        vertical-align: top;\n",
       "    }\n",
       "\n",
       "    .dataframe thead th {\n",
       "        text-align: right;\n",
       "    }\n",
       "</style>\n",
       "<table border=\"1\" class=\"dataframe\">\n",
       "  <thead>\n",
       "    <tr style=\"text-align: right;\">\n",
       "      <th></th>\n",
       "      <th>words</th>\n",
       "      <th>weights</th>\n",
       "    </tr>\n",
       "  </thead>\n",
       "  <tbody>\n",
       "    <tr>\n",
       "      <th>886</th>\n",
       "      <td>hdfc_ergo</td>\n",
       "      <td>0.865906</td>\n",
       "    </tr>\n",
       "    <tr>\n",
       "      <th>700</th>\n",
       "      <td>show</td>\n",
       "      <td>0.558576</td>\n",
       "    </tr>\n",
       "    <tr>\n",
       "      <th>796</th>\n",
       "      <td>time</td>\n",
       "      <td>0.531221</td>\n",
       "    </tr>\n",
       "    <tr>\n",
       "      <th>532</th>\n",
       "      <td>otp</td>\n",
       "      <td>0.460349</td>\n",
       "    </tr>\n",
       "    <tr>\n",
       "      <th>818</th>\n",
       "      <td>unable</td>\n",
       "      <td>0.457658</td>\n",
       "    </tr>\n",
       "    <tr>\n",
       "      <th>581</th>\n",
       "      <td>poor</td>\n",
       "      <td>0.437050</td>\n",
       "    </tr>\n",
       "    <tr>\n",
       "      <th>825</th>\n",
       "      <td>update</td>\n",
       "      <td>0.426735</td>\n",
       "    </tr>\n",
       "    <tr>\n",
       "      <th>200</th>\n",
       "      <td>customer</td>\n",
       "      <td>0.426089</td>\n",
       "    </tr>\n",
       "    <tr>\n",
       "      <th>717</th>\n",
       "      <td>slow</td>\n",
       "      <td>0.391713</td>\n",
       "    </tr>\n",
       "    <tr>\n",
       "      <th>525</th>\n",
       "      <td>open</td>\n",
       "      <td>0.389910</td>\n",
       "    </tr>\n",
       "    <tr>\n",
       "      <th>1</th>\n",
       "      <td>able</td>\n",
       "      <td>0.385415</td>\n",
       "    </tr>\n",
       "    <tr>\n",
       "      <th>503</th>\n",
       "      <td>never</td>\n",
       "      <td>0.366342</td>\n",
       "    </tr>\n",
       "    <tr>\n",
       "      <th>446</th>\n",
       "      <td>login</td>\n",
       "      <td>0.363545</td>\n",
       "    </tr>\n",
       "    <tr>\n",
       "      <th>441</th>\n",
       "      <td>load</td>\n",
       "      <td>0.355239</td>\n",
       "    </tr>\n",
       "    <tr>\n",
       "      <th>563</th>\n",
       "      <td>policy</td>\n",
       "      <td>0.354991</td>\n",
       "    </tr>\n",
       "  </tbody>\n",
       "</table>\n",
       "</div>"
      ],
      "text/plain": [
       "         words   weights\n",
       "886  hdfc_ergo  0.865906\n",
       "700       show  0.558576\n",
       "796       time  0.531221\n",
       "532        otp  0.460349\n",
       "818     unable  0.457658\n",
       "581       poor  0.437050\n",
       "825     update  0.426735\n",
       "200   customer  0.426089\n",
       "717       slow  0.391713\n",
       "525       open  0.389910\n",
       "1         able  0.385415\n",
       "503      never  0.366342\n",
       "446      login  0.363545\n",
       "441       load  0.355239\n",
       "563     policy  0.354991"
      ]
     },
     "execution_count": 140,
     "metadata": {},
     "output_type": "execute_result"
    }
   ],
   "source": [
    "lr_weights = pd.DataFrame(list(zip(X_train.columns ,\n",
    "                                   cv_lr.best_estimator_.coef_[0])),\n",
    "                          columns= ['words','weights'])\n",
    "\n",
    "lr_weights.sort_values(['weights'], ascending = False).head(15) # top-15 important features for negative reviews"
   ]
  },
  {
   "cell_type": "code",
   "execution_count": 141,
   "id": "younger-advocacy",
   "metadata": {},
   "outputs": [
    {
     "data": {
      "text/html": [
       "<div>\n",
       "<style scoped>\n",
       "    .dataframe tbody tr th:only-of-type {\n",
       "        vertical-align: middle;\n",
       "    }\n",
       "\n",
       "    .dataframe tbody tr th {\n",
       "        vertical-align: top;\n",
       "    }\n",
       "\n",
       "    .dataframe thead th {\n",
       "        text-align: right;\n",
       "    }\n",
       "</style>\n",
       "<table border=\"1\" class=\"dataframe\">\n",
       "  <thead>\n",
       "    <tr style=\"text-align: right;\">\n",
       "      <th></th>\n",
       "      <th>words</th>\n",
       "      <th>weights</th>\n",
       "    </tr>\n",
       "  </thead>\n",
       "  <tbody>\n",
       "    <tr>\n",
       "      <th>249</th>\n",
       "      <td>easy</td>\n",
       "      <td>-1.231183</td>\n",
       "    </tr>\n",
       "    <tr>\n",
       "      <th>784</th>\n",
       "      <td>thank</td>\n",
       "      <td>-0.782605</td>\n",
       "    </tr>\n",
       "    <tr>\n",
       "      <th>887</th>\n",
       "      <td>icici_lombard</td>\n",
       "      <td>-0.534095</td>\n",
       "    </tr>\n",
       "    <tr>\n",
       "      <th>236</th>\n",
       "      <td>doctor</td>\n",
       "      <td>-0.525512</td>\n",
       "    </tr>\n",
       "    <tr>\n",
       "      <th>884</th>\n",
       "      <td>acko</td>\n",
       "      <td>-0.457393</td>\n",
       "    </tr>\n",
       "    <tr>\n",
       "      <th>319</th>\n",
       "      <td>friendly</td>\n",
       "      <td>-0.370511</td>\n",
       "    </tr>\n",
       "    <tr>\n",
       "      <th>364</th>\n",
       "      <td>helpful</td>\n",
       "      <td>-0.366617</td>\n",
       "    </tr>\n",
       "    <tr>\n",
       "      <th>288</th>\n",
       "      <td>fast</td>\n",
       "      <td>-0.365610</td>\n",
       "    </tr>\n",
       "    <tr>\n",
       "      <th>613</th>\n",
       "      <td>quick</td>\n",
       "      <td>-0.316421</td>\n",
       "    </tr>\n",
       "    <tr>\n",
       "      <th>837</th>\n",
       "      <td>useful</td>\n",
       "      <td>-0.308207</td>\n",
       "    </tr>\n",
       "    <tr>\n",
       "      <th>835</th>\n",
       "      <td>use</td>\n",
       "      <td>-0.285458</td>\n",
       "    </tr>\n",
       "    <tr>\n",
       "      <th>842</th>\n",
       "      <td>user</td>\n",
       "      <td>-0.272878</td>\n",
       "    </tr>\n",
       "    <tr>\n",
       "      <th>844</th>\n",
       "      <td>user friendly</td>\n",
       "      <td>-0.272080</td>\n",
       "    </tr>\n",
       "    <tr>\n",
       "      <th>251</th>\n",
       "      <td>easy use</td>\n",
       "      <td>-0.268527</td>\n",
       "    </tr>\n",
       "    <tr>\n",
       "      <th>290</th>\n",
       "      <td>feature</td>\n",
       "      <td>-0.254102</td>\n",
       "    </tr>\n",
       "  </tbody>\n",
       "</table>\n",
       "</div>"
      ],
      "text/plain": [
       "             words   weights\n",
       "249           easy -1.231183\n",
       "784          thank -0.782605\n",
       "887  icici_lombard -0.534095\n",
       "236         doctor -0.525512\n",
       "884           acko -0.457393\n",
       "319       friendly -0.370511\n",
       "364        helpful -0.366617\n",
       "288           fast -0.365610\n",
       "613          quick -0.316421\n",
       "837         useful -0.308207\n",
       "835            use -0.285458\n",
       "842           user -0.272878\n",
       "844  user friendly -0.272080\n",
       "251       easy use -0.268527\n",
       "290        feature -0.254102"
      ]
     },
     "execution_count": 141,
     "metadata": {},
     "output_type": "execute_result"
    }
   ],
   "source": [
    "lr_weights.sort_values(['weights'] ).head(15) # top-15 important features for positive reviews"
   ]
  },
  {
   "cell_type": "code",
   "execution_count": null,
   "id": "boolean-allowance",
   "metadata": {},
   "outputs": [],
   "source": []
  },
  {
   "cell_type": "code",
   "execution_count": null,
   "id": "religious-review",
   "metadata": {},
   "outputs": [],
   "source": []
  },
  {
   "cell_type": "code",
   "execution_count": 142,
   "id": "geographic-bernard",
   "metadata": {},
   "outputs": [
    {
     "data": {
      "text/plain": [
       "(7980, 289)"
      ]
     },
     "execution_count": 142,
     "metadata": {},
     "output_type": "execute_result"
    }
   ],
   "source": [
    "cnt_vec_bi = CountVectorizer(min_df= 20, \n",
    "                        stop_words = stop_words,\n",
    "                        ngram_range=(2,4))\n",
    "\n",
    "X_bi = cnt_vec_bi.fit_transform(df_train['clean_review'])\n",
    "df_txt_cv_bi_feat = pd.DataFrame(X_bi.toarray(), columns = cnt_vec_bi.get_feature_names())\n",
    "\n",
    "if company_ind == True:\n",
    "    X_train_bi = pd.concat([df_txt_cv_bi_feat, df_dummy], axis =1)\n",
    "    \n",
    "else:\n",
    "    X_train_bi = df_txt_cv_bi_feat\n",
    "    \n",
    "X_train_bi.shape\n"
   ]
  },
  {
   "cell_type": "code",
   "execution_count": 143,
   "id": "forbidden-shelter",
   "metadata": {},
   "outputs": [
    {
     "name": "stdout",
     "output_type": "stream",
     "text": [
      "Wall time: 28.4 s\n"
     ]
    },
    {
     "data": {
      "text/plain": [
       "RandomizedSearchCV(cv=StratifiedKFold(n_splits=3, random_state=79, shuffle=True),\n",
       "                   estimator=LogisticRegression(max_iter=500, penalty='l1',\n",
       "                                                random_state=79, solver='saga',\n",
       "                                                tol=0.01),\n",
       "                   n_iter=30, n_jobs=-2,\n",
       "                   param_distributions={'C': <scipy.stats._distn_infrastructure.rv_frozen object at 0x0000026896962088>},\n",
       "                   random_state=79, scoring='average_precision')"
      ]
     },
     "execution_count": 143,
     "metadata": {},
     "output_type": "execute_result"
    }
   ],
   "source": [
    "%%time\n",
    "cv_lr = RandomizedSearchCV(classifier_lr, \n",
    "                           param_distributions=param_dists, \n",
    "                           scoring = 'average_precision',\n",
    "                           n_iter=lr_iterations, \n",
    "                           cv=cv, \n",
    "                           n_jobs= -2,\n",
    "                           random_state = random_seed)\n",
    "\n",
    "cv_lr.fit(X_train_bi, y_train)"
   ]
  },
  {
   "cell_type": "code",
   "execution_count": 144,
   "id": "uniform-league",
   "metadata": {},
   "outputs": [
    {
     "data": {
      "text/html": [
       "<div>\n",
       "<style scoped>\n",
       "    .dataframe tbody tr th:only-of-type {\n",
       "        vertical-align: middle;\n",
       "    }\n",
       "\n",
       "    .dataframe tbody tr th {\n",
       "        vertical-align: top;\n",
       "    }\n",
       "\n",
       "    .dataframe thead th {\n",
       "        text-align: right;\n",
       "    }\n",
       "</style>\n",
       "<table border=\"1\" class=\"dataframe\">\n",
       "  <thead>\n",
       "    <tr style=\"text-align: right;\">\n",
       "      <th></th>\n",
       "      <th>mean_fit_time</th>\n",
       "      <th>std_fit_time</th>\n",
       "      <th>mean_score_time</th>\n",
       "      <th>std_score_time</th>\n",
       "      <th>param_C</th>\n",
       "      <th>params</th>\n",
       "      <th>split0_test_score</th>\n",
       "      <th>split1_test_score</th>\n",
       "      <th>split2_test_score</th>\n",
       "      <th>mean_test_score</th>\n",
       "      <th>std_test_score</th>\n",
       "      <th>rank_test_score</th>\n",
       "    </tr>\n",
       "  </thead>\n",
       "  <tbody>\n",
       "    <tr>\n",
       "      <th>24</th>\n",
       "      <td>2.769287</td>\n",
       "      <td>0.584094</td>\n",
       "      <td>0.026784</td>\n",
       "      <td>0.007403</td>\n",
       "      <td>71.215973</td>\n",
       "      <td>{'C': 71.21597312053972}</td>\n",
       "      <td>0.866657</td>\n",
       "      <td>0.896624</td>\n",
       "      <td>0.867101</td>\n",
       "      <td>0.876794</td>\n",
       "      <td>0.014023</td>\n",
       "      <td>1</td>\n",
       "    </tr>\n",
       "    <tr>\n",
       "      <th>28</th>\n",
       "      <td>2.443298</td>\n",
       "      <td>0.417951</td>\n",
       "      <td>0.017051</td>\n",
       "      <td>0.002502</td>\n",
       "      <td>57.112273</td>\n",
       "      <td>{'C': 57.112272826654}</td>\n",
       "      <td>0.866657</td>\n",
       "      <td>0.896617</td>\n",
       "      <td>0.867101</td>\n",
       "      <td>0.876791</td>\n",
       "      <td>0.014020</td>\n",
       "      <td>2</td>\n",
       "    </tr>\n",
       "    <tr>\n",
       "      <th>29</th>\n",
       "      <td>2.352331</td>\n",
       "      <td>0.586414</td>\n",
       "      <td>0.023293</td>\n",
       "      <td>0.007837</td>\n",
       "      <td>86.475666</td>\n",
       "      <td>{'C': 86.47566601912696}</td>\n",
       "      <td>0.866660</td>\n",
       "      <td>0.896599</td>\n",
       "      <td>0.867099</td>\n",
       "      <td>0.876786</td>\n",
       "      <td>0.014011</td>\n",
       "      <td>3</td>\n",
       "    </tr>\n",
       "    <tr>\n",
       "      <th>25</th>\n",
       "      <td>2.732110</td>\n",
       "      <td>0.549098</td>\n",
       "      <td>0.021864</td>\n",
       "      <td>0.001130</td>\n",
       "      <td>27.662862</td>\n",
       "      <td>{'C': 27.66286224401876}</td>\n",
       "      <td>0.866648</td>\n",
       "      <td>0.896610</td>\n",
       "      <td>0.867097</td>\n",
       "      <td>0.876785</td>\n",
       "      <td>0.014019</td>\n",
       "      <td>4</td>\n",
       "    </tr>\n",
       "    <tr>\n",
       "      <th>11</th>\n",
       "      <td>2.670153</td>\n",
       "      <td>0.612044</td>\n",
       "      <td>0.023108</td>\n",
       "      <td>0.001133</td>\n",
       "      <td>19.250924</td>\n",
       "      <td>{'C': 19.250924111697937}</td>\n",
       "      <td>0.866639</td>\n",
       "      <td>0.896584</td>\n",
       "      <td>0.867058</td>\n",
       "      <td>0.876760</td>\n",
       "      <td>0.014019</td>\n",
       "      <td>5</td>\n",
       "    </tr>\n",
       "  </tbody>\n",
       "</table>\n",
       "</div>"
      ],
      "text/plain": [
       "    mean_fit_time  std_fit_time  mean_score_time  std_score_time    param_C                     params  split0_test_score  split1_test_score  split2_test_score  mean_test_score  std_test_score  rank_test_score\n",
       "24       2.769287      0.584094         0.026784        0.007403  71.215973   {'C': 71.21597312053972}           0.866657           0.896624           0.867101         0.876794        0.014023                1\n",
       "28       2.443298      0.417951         0.017051        0.002502  57.112273     {'C': 57.112272826654}           0.866657           0.896617           0.867101         0.876791        0.014020                2\n",
       "29       2.352331      0.586414         0.023293        0.007837  86.475666   {'C': 86.47566601912696}           0.866660           0.896599           0.867099         0.876786        0.014011                3\n",
       "25       2.732110      0.549098         0.021864        0.001130  27.662862   {'C': 27.66286224401876}           0.866648           0.896610           0.867097         0.876785        0.014019                4\n",
       "11       2.670153      0.612044         0.023108        0.001133  19.250924  {'C': 19.250924111697937}           0.866639           0.896584           0.867058         0.876760        0.014019                5"
      ]
     },
     "execution_count": 144,
     "metadata": {},
     "output_type": "execute_result"
    }
   ],
   "source": [
    "cv_lr_results = pd.DataFrame(cv_lr.cv_results_)\n",
    "cv_lr_results.sort_values(by='mean_test_score', ascending=False).head(5)"
   ]
  },
  {
   "cell_type": "code",
   "execution_count": 145,
   "id": "impaired-homework",
   "metadata": {},
   "outputs": [
    {
     "data": {
      "text/html": [
       "<div>\n",
       "<style scoped>\n",
       "    .dataframe tbody tr th:only-of-type {\n",
       "        vertical-align: middle;\n",
       "    }\n",
       "\n",
       "    .dataframe tbody tr th {\n",
       "        vertical-align: top;\n",
       "    }\n",
       "\n",
       "    .dataframe thead th {\n",
       "        text-align: right;\n",
       "    }\n",
       "</style>\n",
       "<table border=\"1\" class=\"dataframe\">\n",
       "  <thead>\n",
       "    <tr style=\"text-align: right;\">\n",
       "      <th></th>\n",
       "      <th>words</th>\n",
       "      <th>weights</th>\n",
       "    </tr>\n",
       "  </thead>\n",
       "  <tbody>\n",
       "    <tr>\n",
       "      <th>287</th>\n",
       "      <td>hdfc_ergo</td>\n",
       "      <td>1.185927</td>\n",
       "    </tr>\n",
       "    <tr>\n",
       "      <th>91</th>\n",
       "      <td>customer care</td>\n",
       "      <td>0.716726</td>\n",
       "    </tr>\n",
       "    <tr>\n",
       "      <th>275</th>\n",
       "      <td>useless app</td>\n",
       "      <td>0.426778</td>\n",
       "    </tr>\n",
       "    <tr>\n",
       "      <th>67</th>\n",
       "      <td>app work</td>\n",
       "      <td>0.394313</td>\n",
       "    </tr>\n",
       "    <tr>\n",
       "      <th>6</th>\n",
       "      <td>add policy</td>\n",
       "      <td>0.379310</td>\n",
       "    </tr>\n",
       "    <tr>\n",
       "      <th>107</th>\n",
       "      <td>every time</td>\n",
       "      <td>0.328844</td>\n",
       "    </tr>\n",
       "    <tr>\n",
       "      <th>150</th>\n",
       "      <td>link policy</td>\n",
       "      <td>0.295555</td>\n",
       "    </tr>\n",
       "    <tr>\n",
       "      <th>271</th>\n",
       "      <td>upload document</td>\n",
       "      <td>0.293273</td>\n",
       "    </tr>\n",
       "    <tr>\n",
       "      <th>160</th>\n",
       "      <td>many time</td>\n",
       "      <td>0.268944</td>\n",
       "    </tr>\n",
       "    <tr>\n",
       "      <th>283</th>\n",
       "      <td>work properly</td>\n",
       "      <td>0.260762</td>\n",
       "    </tr>\n",
       "    <tr>\n",
       "      <th>286</th>\n",
       "      <td>bajaj_allianz</td>\n",
       "      <td>0.253004</td>\n",
       "    </tr>\n",
       "    <tr>\n",
       "      <th>207</th>\n",
       "      <td>renew policy</td>\n",
       "      <td>0.252278</td>\n",
       "    </tr>\n",
       "    <tr>\n",
       "      <th>196</th>\n",
       "      <td>poor app</td>\n",
       "      <td>0.249563</td>\n",
       "    </tr>\n",
       "    <tr>\n",
       "      <th>95</th>\n",
       "      <td>customer service</td>\n",
       "      <td>0.240646</td>\n",
       "    </tr>\n",
       "    <tr>\n",
       "      <th>73</th>\n",
       "      <td>buy policy</td>\n",
       "      <td>0.238018</td>\n",
       "    </tr>\n",
       "  </tbody>\n",
       "</table>\n",
       "</div>"
      ],
      "text/plain": [
       "                words   weights\n",
       "287         hdfc_ergo  1.185927\n",
       "91      customer care  0.716726\n",
       "275       useless app  0.426778\n",
       "67           app work  0.394313\n",
       "6          add policy  0.379310\n",
       "107        every time  0.328844\n",
       "150       link policy  0.295555\n",
       "271   upload document  0.293273\n",
       "160         many time  0.268944\n",
       "283     work properly  0.260762\n",
       "286     bajaj_allianz  0.253004\n",
       "207      renew policy  0.252278\n",
       "196          poor app  0.249563\n",
       "95   customer service  0.240646\n",
       "73         buy policy  0.238018"
      ]
     },
     "execution_count": 145,
     "metadata": {},
     "output_type": "execute_result"
    }
   ],
   "source": [
    "lr_weights = pd.DataFrame(list(zip(X_train_bi.columns ,\n",
    "                                   cv_lr.best_estimator_.coef_[0])),\n",
    "                          columns= ['words','weights'])\n",
    "\n",
    "lr_weights.sort_values(['weights'], ascending = False).head(15) # top-15 important features for negative reviews"
   ]
  },
  {
   "cell_type": "code",
   "execution_count": 146,
   "id": "based-recycling",
   "metadata": {},
   "outputs": [
    {
     "data": {
      "text/html": [
       "<div>\n",
       "<style scoped>\n",
       "    .dataframe tbody tr th:only-of-type {\n",
       "        vertical-align: middle;\n",
       "    }\n",
       "\n",
       "    .dataframe tbody tr th {\n",
       "        vertical-align: top;\n",
       "    }\n",
       "\n",
       "    .dataframe thead th {\n",
       "        text-align: right;\n",
       "    }\n",
       "</style>\n",
       "<table border=\"1\" class=\"dataframe\">\n",
       "  <thead>\n",
       "    <tr style=\"text-align: right;\">\n",
       "      <th></th>\n",
       "      <th>words</th>\n",
       "      <th>weights</th>\n",
       "    </tr>\n",
       "  </thead>\n",
       "  <tbody>\n",
       "    <tr>\n",
       "      <th>105</th>\n",
       "      <td>easy use</td>\n",
       "      <td>-0.788283</td>\n",
       "    </tr>\n",
       "    <tr>\n",
       "      <th>277</th>\n",
       "      <td>user friendly</td>\n",
       "      <td>-0.707227</td>\n",
       "    </tr>\n",
       "    <tr>\n",
       "      <th>285</th>\n",
       "      <td>acko</td>\n",
       "      <td>-0.552059</td>\n",
       "    </tr>\n",
       "    <tr>\n",
       "      <th>22</th>\n",
       "      <td>app easy</td>\n",
       "      <td>-0.538412</td>\n",
       "    </tr>\n",
       "    <tr>\n",
       "      <th>288</th>\n",
       "      <td>icici_lombard</td>\n",
       "      <td>-0.491944</td>\n",
       "    </tr>\n",
       "    <tr>\n",
       "      <th>128</th>\n",
       "      <td>hassle free</td>\n",
       "      <td>-0.319141</td>\n",
       "    </tr>\n",
       "    <tr>\n",
       "      <th>120</th>\n",
       "      <td>friendly app</td>\n",
       "      <td>-0.279881</td>\n",
       "    </tr>\n",
       "    <tr>\n",
       "      <th>231</th>\n",
       "      <td>smile face</td>\n",
       "      <td>-0.273311</td>\n",
       "    </tr>\n",
       "    <tr>\n",
       "      <th>56</th>\n",
       "      <td>app thank</td>\n",
       "      <td>-0.238029</td>\n",
       "    </tr>\n",
       "    <tr>\n",
       "      <th>99</th>\n",
       "      <td>doctor service</td>\n",
       "      <td>-0.235946</td>\n",
       "    </tr>\n",
       "    <tr>\n",
       "      <th>23</th>\n",
       "      <td>app easy use</td>\n",
       "      <td>-0.223511</td>\n",
       "    </tr>\n",
       "    <tr>\n",
       "      <th>278</th>\n",
       "      <td>user friendly app</td>\n",
       "      <td>-0.217288</td>\n",
       "    </tr>\n",
       "    <tr>\n",
       "      <th>274</th>\n",
       "      <td>useful app</td>\n",
       "      <td>-0.209433</td>\n",
       "    </tr>\n",
       "    <tr>\n",
       "      <th>238</th>\n",
       "      <td>take care</td>\n",
       "      <td>-0.180078</td>\n",
       "    </tr>\n",
       "    <tr>\n",
       "      <th>64</th>\n",
       "      <td>app user</td>\n",
       "      <td>-0.158257</td>\n",
       "    </tr>\n",
       "  </tbody>\n",
       "</table>\n",
       "</div>"
      ],
      "text/plain": [
       "                 words   weights\n",
       "105           easy use -0.788283\n",
       "277      user friendly -0.707227\n",
       "285               acko -0.552059\n",
       "22            app easy -0.538412\n",
       "288      icici_lombard -0.491944\n",
       "128        hassle free -0.319141\n",
       "120       friendly app -0.279881\n",
       "231         smile face -0.273311\n",
       "56           app thank -0.238029\n",
       "99      doctor service -0.235946\n",
       "23        app easy use -0.223511\n",
       "278  user friendly app -0.217288\n",
       "274         useful app -0.209433\n",
       "238          take care -0.180078\n",
       "64            app user -0.158257"
      ]
     },
     "execution_count": 146,
     "metadata": {},
     "output_type": "execute_result"
    }
   ],
   "source": [
    "lr_weights.sort_values(['weights'] ).head(15) # top-15 important features for positive reviews"
   ]
  },
  {
   "cell_type": "code",
   "execution_count": null,
   "id": "destroyed-client",
   "metadata": {},
   "outputs": [],
   "source": []
  },
  {
   "cell_type": "markdown",
   "id": "surprised-response",
   "metadata": {},
   "source": [
    "## Tf Idf"
   ]
  },
  {
   "cell_type": "code",
   "execution_count": 147,
   "id": "immune-composer",
   "metadata": {},
   "outputs": [
    {
     "data": {
      "text/plain": [
       "(7980, 884)"
      ]
     },
     "execution_count": 147,
     "metadata": {},
     "output_type": "execute_result"
    }
   ],
   "source": [
    "tfidf_vec = TfidfVectorizer(stop_words = stop_words,\n",
    "                            min_df = 20,\n",
    "                            ngram_range=(1,4),\n",
    "                            smooth_idf=1,\n",
    "                            sublinear_tf=1)\n",
    "\n",
    "X_tfidf = tfidf_vec.fit_transform(df_train['clean_review'])\n",
    "df_txt_tfidf = pd.DataFrame(X_tfidf.toarray(), columns = tfidf_vec.get_feature_names())\n",
    "df_txt_tfidf.shape"
   ]
  },
  {
   "cell_type": "code",
   "execution_count": 148,
   "id": "hybrid-proof",
   "metadata": {},
   "outputs": [
    {
     "data": {
      "text/plain": [
       "(7980, 888)"
      ]
     },
     "execution_count": 148,
     "metadata": {},
     "output_type": "execute_result"
    }
   ],
   "source": [
    "if company_ind == True:\n",
    "    X_train = pd.concat([df_txt_tfidf, df_dummy], axis =1)\n",
    "    \n",
    "else:\n",
    "    X_train = df_txt_tfidf\n",
    "    \n",
    "X_train.shape"
   ]
  },
  {
   "cell_type": "code",
   "execution_count": 149,
   "id": "increasing-wichita",
   "metadata": {},
   "outputs": [
    {
     "name": "stdout",
     "output_type": "stream",
     "text": [
      "Wall time: 49.5 s\n"
     ]
    },
    {
     "data": {
      "text/plain": [
       "RandomizedSearchCV(cv=StratifiedKFold(n_splits=3, random_state=79, shuffle=True),\n",
       "                   estimator=LogisticRegression(max_iter=500, penalty='l1',\n",
       "                                                random_state=79, solver='saga',\n",
       "                                                tol=0.01),\n",
       "                   n_iter=30, n_jobs=-2,\n",
       "                   param_distributions={'C': <scipy.stats._distn_infrastructure.rv_frozen object at 0x0000026896962088>},\n",
       "                   random_state=79, scoring='average_precision')"
      ]
     },
     "execution_count": 149,
     "metadata": {},
     "output_type": "execute_result"
    }
   ],
   "source": [
    "%%time\n",
    "cv_lr.fit(X_train, y_train)"
   ]
  },
  {
   "cell_type": "code",
   "execution_count": 150,
   "id": "accessible-express",
   "metadata": {},
   "outputs": [
    {
     "data": {
      "text/html": [
       "<div>\n",
       "<style scoped>\n",
       "    .dataframe tbody tr th:only-of-type {\n",
       "        vertical-align: middle;\n",
       "    }\n",
       "\n",
       "    .dataframe tbody tr th {\n",
       "        vertical-align: top;\n",
       "    }\n",
       "\n",
       "    .dataframe thead th {\n",
       "        text-align: right;\n",
       "    }\n",
       "</style>\n",
       "<table border=\"1\" class=\"dataframe\">\n",
       "  <thead>\n",
       "    <tr style=\"text-align: right;\">\n",
       "      <th></th>\n",
       "      <th>mean_fit_time</th>\n",
       "      <th>std_fit_time</th>\n",
       "      <th>mean_score_time</th>\n",
       "      <th>std_score_time</th>\n",
       "      <th>param_C</th>\n",
       "      <th>params</th>\n",
       "      <th>split0_test_score</th>\n",
       "      <th>split1_test_score</th>\n",
       "      <th>split2_test_score</th>\n",
       "      <th>mean_test_score</th>\n",
       "      <th>std_test_score</th>\n",
       "      <th>rank_test_score</th>\n",
       "    </tr>\n",
       "  </thead>\n",
       "  <tbody>\n",
       "    <tr>\n",
       "      <th>14</th>\n",
       "      <td>4.407541</td>\n",
       "      <td>0.336745</td>\n",
       "      <td>0.039068</td>\n",
       "      <td>0.003047</td>\n",
       "      <td>1.747024</td>\n",
       "      <td>{'C': 1.7470236401254036}</td>\n",
       "      <td>0.958407</td>\n",
       "      <td>0.962143</td>\n",
       "      <td>0.964543</td>\n",
       "      <td>0.961698</td>\n",
       "      <td>0.002525</td>\n",
       "      <td>1</td>\n",
       "    </tr>\n",
       "    <tr>\n",
       "      <th>10</th>\n",
       "      <td>6.033478</td>\n",
       "      <td>0.214855</td>\n",
       "      <td>0.038007</td>\n",
       "      <td>0.003875</td>\n",
       "      <td>7.02953</td>\n",
       "      <td>{'C': 7.029530209629741}</td>\n",
       "      <td>0.958898</td>\n",
       "      <td>0.958685</td>\n",
       "      <td>0.963791</td>\n",
       "      <td>0.960458</td>\n",
       "      <td>0.002358</td>\n",
       "      <td>2</td>\n",
       "    </tr>\n",
       "    <tr>\n",
       "      <th>22</th>\n",
       "      <td>4.268866</td>\n",
       "      <td>0.394981</td>\n",
       "      <td>0.038876</td>\n",
       "      <td>0.001136</td>\n",
       "      <td>1.216125</td>\n",
       "      <td>{'C': 1.2161250429807902}</td>\n",
       "      <td>0.956361</td>\n",
       "      <td>0.961269</td>\n",
       "      <td>0.962830</td>\n",
       "      <td>0.960153</td>\n",
       "      <td>0.002756</td>\n",
       "      <td>3</td>\n",
       "    </tr>\n",
       "    <tr>\n",
       "      <th>15</th>\n",
       "      <td>4.157049</td>\n",
       "      <td>0.401322</td>\n",
       "      <td>0.046477</td>\n",
       "      <td>0.008124</td>\n",
       "      <td>1.147422</td>\n",
       "      <td>{'C': 1.1474217553123074}</td>\n",
       "      <td>0.955932</td>\n",
       "      <td>0.961033</td>\n",
       "      <td>0.962516</td>\n",
       "      <td>0.959827</td>\n",
       "      <td>0.002820</td>\n",
       "      <td>4</td>\n",
       "    </tr>\n",
       "    <tr>\n",
       "      <th>27</th>\n",
       "      <td>7.065858</td>\n",
       "      <td>1.181264</td>\n",
       "      <td>0.036179</td>\n",
       "      <td>0.006376</td>\n",
       "      <td>10.19941</td>\n",
       "      <td>{'C': 10.199410472959407}</td>\n",
       "      <td>0.957733</td>\n",
       "      <td>0.957120</td>\n",
       "      <td>0.963007</td>\n",
       "      <td>0.959287</td>\n",
       "      <td>0.002642</td>\n",
       "      <td>5</td>\n",
       "    </tr>\n",
       "  </tbody>\n",
       "</table>\n",
       "</div>"
      ],
      "text/plain": [
       "    mean_fit_time  std_fit_time  mean_score_time  std_score_time   param_C                     params  split0_test_score  split1_test_score  split2_test_score  mean_test_score  std_test_score  rank_test_score\n",
       "14       4.407541      0.336745         0.039068        0.003047  1.747024  {'C': 1.7470236401254036}           0.958407           0.962143           0.964543         0.961698        0.002525                1\n",
       "10       6.033478      0.214855         0.038007        0.003875   7.02953   {'C': 7.029530209629741}           0.958898           0.958685           0.963791         0.960458        0.002358                2\n",
       "22       4.268866      0.394981         0.038876        0.001136  1.216125  {'C': 1.2161250429807902}           0.956361           0.961269           0.962830         0.960153        0.002756                3\n",
       "15       4.157049      0.401322         0.046477        0.008124  1.147422  {'C': 1.1474217553123074}           0.955932           0.961033           0.962516         0.959827        0.002820                4\n",
       "27       7.065858      1.181264         0.036179        0.006376  10.19941  {'C': 10.199410472959407}           0.957733           0.957120           0.963007         0.959287        0.002642                5"
      ]
     },
     "execution_count": 150,
     "metadata": {},
     "output_type": "execute_result"
    }
   ],
   "source": [
    "cv_lr_results = pd.DataFrame(cv_lr.cv_results_)\n",
    "cv_lr_results.sort_values(by='mean_test_score', ascending=False).head()"
   ]
  },
  {
   "cell_type": "code",
   "execution_count": 151,
   "id": "living-seafood",
   "metadata": {},
   "outputs": [
    {
     "data": {
      "text/html": [
       "<div>\n",
       "<style scoped>\n",
       "    .dataframe tbody tr th:only-of-type {\n",
       "        vertical-align: middle;\n",
       "    }\n",
       "\n",
       "    .dataframe tbody tr th {\n",
       "        vertical-align: top;\n",
       "    }\n",
       "\n",
       "    .dataframe thead th {\n",
       "        text-align: right;\n",
       "    }\n",
       "</style>\n",
       "<table border=\"1\" class=\"dataframe\">\n",
       "  <thead>\n",
       "    <tr style=\"text-align: right;\">\n",
       "      <th></th>\n",
       "      <th>words</th>\n",
       "      <th>weights</th>\n",
       "    </tr>\n",
       "  </thead>\n",
       "  <tbody>\n",
       "    <tr>\n",
       "      <th>581</th>\n",
       "      <td>poor</td>\n",
       "      <td>9.410791</td>\n",
       "    </tr>\n",
       "    <tr>\n",
       "      <th>840</th>\n",
       "      <td>useless</td>\n",
       "      <td>7.518782</td>\n",
       "    </tr>\n",
       "    <tr>\n",
       "      <th>503</th>\n",
       "      <td>never</td>\n",
       "      <td>7.179928</td>\n",
       "    </tr>\n",
       "    <tr>\n",
       "      <th>315</th>\n",
       "      <td>fraud</td>\n",
       "      <td>6.905709</td>\n",
       "    </tr>\n",
       "    <tr>\n",
       "      <th>441</th>\n",
       "      <td>load</td>\n",
       "      <td>6.041484</td>\n",
       "    </tr>\n",
       "    <tr>\n",
       "      <th>787</th>\n",
       "      <td>third</td>\n",
       "      <td>5.018442</td>\n",
       "    </tr>\n",
       "    <tr>\n",
       "      <th>442</th>\n",
       "      <td>loading</td>\n",
       "      <td>4.986108</td>\n",
       "    </tr>\n",
       "    <tr>\n",
       "      <th>717</th>\n",
       "      <td>slow</td>\n",
       "      <td>4.785481</td>\n",
       "    </tr>\n",
       "    <tr>\n",
       "      <th>446</th>\n",
       "      <td>login</td>\n",
       "      <td>4.745669</td>\n",
       "    </tr>\n",
       "    <tr>\n",
       "      <th>602</th>\n",
       "      <td>proper</td>\n",
       "      <td>4.741186</td>\n",
       "    </tr>\n",
       "    <tr>\n",
       "      <th>511</th>\n",
       "      <td>nothing</td>\n",
       "      <td>4.550077</td>\n",
       "    </tr>\n",
       "    <tr>\n",
       "      <th>637</th>\n",
       "      <td>reject</td>\n",
       "      <td>4.526698</td>\n",
       "    </tr>\n",
       "    <tr>\n",
       "      <th>700</th>\n",
       "      <td>show</td>\n",
       "      <td>4.320760</td>\n",
       "    </tr>\n",
       "    <tr>\n",
       "      <th>9</th>\n",
       "      <td>accept</td>\n",
       "      <td>4.279431</td>\n",
       "    </tr>\n",
       "    <tr>\n",
       "      <th>532</th>\n",
       "      <td>otp</td>\n",
       "      <td>4.171216</td>\n",
       "    </tr>\n",
       "  </tbody>\n",
       "</table>\n",
       "</div>"
      ],
      "text/plain": [
       "       words   weights\n",
       "581     poor  9.410791\n",
       "840  useless  7.518782\n",
       "503    never  7.179928\n",
       "315    fraud  6.905709\n",
       "441     load  6.041484\n",
       "787    third  5.018442\n",
       "442  loading  4.986108\n",
       "717     slow  4.785481\n",
       "446    login  4.745669\n",
       "602   proper  4.741186\n",
       "511  nothing  4.550077\n",
       "637   reject  4.526698\n",
       "700     show  4.320760\n",
       "9     accept  4.279431\n",
       "532      otp  4.171216"
      ]
     },
     "execution_count": 151,
     "metadata": {},
     "output_type": "execute_result"
    }
   ],
   "source": [
    "lr_weights = pd.DataFrame(list(zip(X_train.columns , # ge tall the n-gram feature names\n",
    "                                   cv_lr.best_estimator_.coef_[0])), # get the logistic regression coefficients\n",
    "                          columns= ['words','weights']) # defining the colunm names\n",
    "\n",
    "lr_weights.sort_values(['weights'], ascending = False).head(15) # top-15 more important features for positive reviews"
   ]
  },
  {
   "cell_type": "code",
   "execution_count": 152,
   "id": "advised-dallas",
   "metadata": {},
   "outputs": [
    {
     "data": {
      "text/html": [
       "<div>\n",
       "<style scoped>\n",
       "    .dataframe tbody tr th:only-of-type {\n",
       "        vertical-align: middle;\n",
       "    }\n",
       "\n",
       "    .dataframe tbody tr th {\n",
       "        vertical-align: top;\n",
       "    }\n",
       "\n",
       "    .dataframe thead th {\n",
       "        text-align: right;\n",
       "    }\n",
       "</style>\n",
       "<table border=\"1\" class=\"dataframe\">\n",
       "  <thead>\n",
       "    <tr style=\"text-align: right;\">\n",
       "      <th></th>\n",
       "      <th>words</th>\n",
       "      <th>weights</th>\n",
       "    </tr>\n",
       "  </thead>\n",
       "  <tbody>\n",
       "    <tr>\n",
       "      <th>249</th>\n",
       "      <td>easy</td>\n",
       "      <td>-11.202260</td>\n",
       "    </tr>\n",
       "    <tr>\n",
       "      <th>784</th>\n",
       "      <td>thank</td>\n",
       "      <td>-9.818210</td>\n",
       "    </tr>\n",
       "    <tr>\n",
       "      <th>613</th>\n",
       "      <td>quick</td>\n",
       "      <td>-6.845296</td>\n",
       "    </tr>\n",
       "    <tr>\n",
       "      <th>236</th>\n",
       "      <td>doctor</td>\n",
       "      <td>-5.655909</td>\n",
       "    </tr>\n",
       "    <tr>\n",
       "      <th>102</th>\n",
       "      <td>appreciate</td>\n",
       "      <td>-5.240245</td>\n",
       "    </tr>\n",
       "    <tr>\n",
       "      <th>188</th>\n",
       "      <td>convenient</td>\n",
       "      <td>-4.988679</td>\n",
       "    </tr>\n",
       "    <tr>\n",
       "      <th>756</th>\n",
       "      <td>superb</td>\n",
       "      <td>-4.508028</td>\n",
       "    </tr>\n",
       "    <tr>\n",
       "      <th>455</th>\n",
       "      <td>love</td>\n",
       "      <td>-4.267156</td>\n",
       "    </tr>\n",
       "    <tr>\n",
       "      <th>301</th>\n",
       "      <td>fine</td>\n",
       "      <td>-4.261288</td>\n",
       "    </tr>\n",
       "    <tr>\n",
       "      <th>278</th>\n",
       "      <td>eye</td>\n",
       "      <td>-4.170779</td>\n",
       "    </tr>\n",
       "    <tr>\n",
       "      <th>614</th>\n",
       "      <td>quickly</td>\n",
       "      <td>-3.966567</td>\n",
       "    </tr>\n",
       "    <tr>\n",
       "      <th>708</th>\n",
       "      <td>simple</td>\n",
       "      <td>-3.750953</td>\n",
       "    </tr>\n",
       "    <tr>\n",
       "      <th>534</th>\n",
       "      <td>overall</td>\n",
       "      <td>-3.691863</td>\n",
       "    </tr>\n",
       "    <tr>\n",
       "      <th>364</th>\n",
       "      <td>helpful</td>\n",
       "      <td>-3.528220</td>\n",
       "    </tr>\n",
       "    <tr>\n",
       "      <th>346</th>\n",
       "      <td>handy</td>\n",
       "      <td>-3.402352</td>\n",
       "    </tr>\n",
       "  </tbody>\n",
       "</table>\n",
       "</div>"
      ],
      "text/plain": [
       "          words    weights\n",
       "249        easy -11.202260\n",
       "784       thank  -9.818210\n",
       "613       quick  -6.845296\n",
       "236      doctor  -5.655909\n",
       "102  appreciate  -5.240245\n",
       "188  convenient  -4.988679\n",
       "756      superb  -4.508028\n",
       "455        love  -4.267156\n",
       "301        fine  -4.261288\n",
       "278         eye  -4.170779\n",
       "614     quickly  -3.966567\n",
       "708      simple  -3.750953\n",
       "534     overall  -3.691863\n",
       "364     helpful  -3.528220\n",
       "346       handy  -3.402352"
      ]
     },
     "execution_count": 152,
     "metadata": {},
     "output_type": "execute_result"
    }
   ],
   "source": [
    "lr_weights.sort_values(['weights']).head(15) # top-15 more important features for positive reviews"
   ]
  },
  {
   "cell_type": "code",
   "execution_count": null,
   "id": "nasty-contest",
   "metadata": {},
   "outputs": [],
   "source": []
  },
  {
   "cell_type": "code",
   "execution_count": null,
   "id": "answering-dragon",
   "metadata": {},
   "outputs": [],
   "source": []
  },
  {
   "cell_type": "code",
   "execution_count": null,
   "id": "agreed-plate",
   "metadata": {},
   "outputs": [],
   "source": []
  },
  {
   "cell_type": "code",
   "execution_count": null,
   "id": "romance-cologne",
   "metadata": {},
   "outputs": [],
   "source": []
  },
  {
   "cell_type": "code",
   "execution_count": null,
   "id": "about-cause",
   "metadata": {},
   "outputs": [],
   "source": []
  },
  {
   "cell_type": "code",
   "execution_count": null,
   "id": "diagnostic-mentor",
   "metadata": {},
   "outputs": [],
   "source": [
    "df_train.company.unique(), df_train.rating.unique()"
   ]
  },
  {
   "cell_type": "code",
   "execution_count": null,
   "id": "expanded-possible",
   "metadata": {},
   "outputs": [],
   "source": [
    "df_train['company_rating'] = df_train['company'].astype('str') + '_' + df_train['rating'].astype('str')\n",
    "df_train['company_rating'].value_counts()"
   ]
  },
  {
   "cell_type": "code",
   "execution_count": null,
   "id": "purple-briefing",
   "metadata": {},
   "outputs": [],
   "source": [
    "lbl_enc = LabelEncoder()\n",
    "\n",
    "y_train_multiclass = lbl_enc.fit_transform(df_train['company_rating'].values)"
   ]
  },
  {
   "cell_type": "code",
   "execution_count": null,
   "id": "blocked-thursday",
   "metadata": {},
   "outputs": [],
   "source": [
    "cnt_y = Counter(y_train_multiclass)\n",
    "cnt_y"
   ]
  },
  {
   "cell_type": "code",
   "execution_count": null,
   "id": "collect-wesley",
   "metadata": {},
   "outputs": [],
   "source": [
    "classifier_lr_multi = LogisticRegression(penalty='l1', solver = 'saga', \n",
    "                                   max_iter=500, tol = 1e-2, \n",
    "                                   multi_class='multinomial',\n",
    "                                   random_state=random_seed)\n",
    "\n",
    "cv_lr_multi = RandomizedSearchCV(classifier_lr_multi, \n",
    "                           param_distributions=param_dists, \n",
    "                           scoring = 'roc_auc_ovo_weighted',\n",
    "                           n_iter=lr_iterations, \n",
    "                           cv=cv, \n",
    "                           n_jobs= -2,\n",
    "                           random_state = random_seed)\n",
    "\n",
    "cv_lr_multi.fit(X_train, y_train_multiclass)"
   ]
  },
  {
   "cell_type": "code",
   "execution_count": null,
   "id": "heavy-surge",
   "metadata": {},
   "outputs": [],
   "source": [
    "cv_lr_multi_results = pd.DataFrame(cv_lr_multi.cv_results_)\n",
    "cv_lr_multi_results.sort_values(by='mean_test_score', ascending=False).head()"
   ]
  },
  {
   "cell_type": "code",
   "execution_count": null,
   "id": "stupid-textbook",
   "metadata": {},
   "outputs": [],
   "source": [
    "lr_weights = pd.DataFrame(list(zip(X_train.columns , # ge tall the n-gram feature names\n",
    "                                   cv_lr_multi.best_estimator_.coef_[0])), # get the logistic regression coefficients\n",
    "                          columns= ['words','weights']) # defining the colunm names\n",
    "\n",
    "lr_weights.sort_values(['weights'], ascending = False).head(15) # top-15 more important features for positive reviews"
   ]
  },
  {
   "cell_type": "code",
   "execution_count": null,
   "id": "transparent-harvard",
   "metadata": {},
   "outputs": [],
   "source": [
    "lr_weights.sort_values(['weights']).head(15) # top-15 more important features for positive reviews"
   ]
  },
  {
   "cell_type": "code",
   "execution_count": null,
   "id": "legitimate-electric",
   "metadata": {},
   "outputs": [],
   "source": []
  },
  {
   "cell_type": "code",
   "execution_count": null,
   "id": "opposite-surrey",
   "metadata": {},
   "outputs": [],
   "source": [
    "classifier_lr_multi = LogisticRegression(penalty='l1', solver = 'saga', \n",
    "                                   max_iter=500, tol = 1e-2, \n",
    "                                   multi_class='multinomial',\n",
    "                                   random_state=random_seed)\n",
    "\n",
    "cv_lr_multi = RandomizedSearchCV(classifier_lr_multi, \n",
    "                           param_distributions=param_dists, \n",
    "                           scoring = 'roc_auc_ovr_weighted',\n",
    "                           n_iter=lr_iterations, \n",
    "                           cv=cv, \n",
    "                           n_jobs= -2,\n",
    "                           random_state = random_seed)\n",
    "\n",
    "cv_lr_multi.fit(X_train, y_train_multiclass)"
   ]
  },
  {
   "cell_type": "code",
   "execution_count": null,
   "id": "romantic-postcard",
   "metadata": {},
   "outputs": [],
   "source": [
    "cv_lr_multi_results = pd.DataFrame(cv_lr_multi.cv_results_)\n",
    "cv_lr_multi_results.sort_values(by='mean_test_score', ascending=False).head()"
   ]
  },
  {
   "cell_type": "code",
   "execution_count": null,
   "id": "damaged-revolution",
   "metadata": {},
   "outputs": [],
   "source": [
    "lr_weights = pd.DataFrame(list(zip(X_train.columns , # ge tall the n-gram feature names\n",
    "                                   cv_lr_multi.best_estimator_.coef_[0])), # get the logistic regression coefficients\n",
    "                          columns= ['words','weights']) # defining the colunm names\n",
    "\n",
    "lr_weights.sort_values(['weights'], ascending = False).head(15) # top-15 more important features for positive reviews"
   ]
  },
  {
   "cell_type": "code",
   "execution_count": null,
   "id": "vertical-fundamentals",
   "metadata": {},
   "outputs": [],
   "source": [
    "lr_weights.sort_values(['weights']).head(15) # top-15 more important features for positive reviews"
   ]
  },
  {
   "cell_type": "code",
   "execution_count": null,
   "id": "prime-representation",
   "metadata": {},
   "outputs": [],
   "source": []
  },
  {
   "cell_type": "code",
   "execution_count": null,
   "id": "prepared-berry",
   "metadata": {},
   "outputs": [],
   "source": [
    "df_train.loc[df_train.rating == 0,].company.value_counts()"
   ]
  },
  {
   "cell_type": "code",
   "execution_count": null,
   "id": "significant-gregory",
   "metadata": {},
   "outputs": [],
   "source": [
    "df_train.loc[df_train.rating == 1,].company.value_counts()"
   ]
  },
  {
   "cell_type": "code",
   "execution_count": null,
   "id": "upset-geneva",
   "metadata": {},
   "outputs": [],
   "source": [
    "bayes_clf = MultinomialNB()\n",
    "\n",
    "alphas = [.1, 1, 5, 10, 50]\n",
    "\n",
    "mb_param_dists = { 'alpha': alphas }\n",
    "\n",
    "mb_iterations = 20"
   ]
  },
  {
   "cell_type": "code",
   "execution_count": null,
   "id": "honey-louis",
   "metadata": {},
   "outputs": [],
   "source": [
    "cv_mb = RandomizedSearchCV(bayes_clf, \n",
    "                           param_distributions=mb_param_dists, \n",
    "                           scoring = 'roc_auc_ovr_weighted',\n",
    "                           n_iter=lr_iterations, \n",
    "                           cv=cv, \n",
    "                           n_jobs= -2,\n",
    "                           random_state = random_seed)\n",
    "\n",
    "cv_mb.fit(X_train, y_train_multiclass)"
   ]
  },
  {
   "cell_type": "code",
   "execution_count": null,
   "id": "first-carbon",
   "metadata": {},
   "outputs": [],
   "source": [
    "cv_mb_results = pd.DataFrame(cv_mb.cv_results_)\n",
    "cv_mb_results.sort_values(by='mean_test_score', ascending=False).head()"
   ]
  },
  {
   "cell_type": "code",
   "execution_count": null,
   "id": "destroyed-initial",
   "metadata": {},
   "outputs": [],
   "source": [
    "gpu_params = {'tree_method':'gpu_hist', \n",
    "              'predictor':'gpu_predictor',\n",
    "              'n_jobs': -1}\n",
    "\n",
    "xgb_clf = xgb.XGBClassifier(objective= 'binary:logistic', max_delta_step = 1,\n",
    "                             **gpu_params, use_label_encoder=False, \n",
    "                            seed=random_seed, verbosity=0)\n",
    "\n",
    "xgb_param_dists = {'learning_rate': loguniform(0.001, 1),\n",
    "               'max_depth' : [4,8,16],\n",
    "               'min_child_weight' : [4,8],\n",
    "               'colsample_bytree' : [0.6,0.8],\n",
    "               'subsample' : [0.6,0.8],\n",
    "               'n_estimators' : [200,400,800],\n",
    "               'reg_alpha' : loguniform(0.001, 10) }\n",
    "\n",
    "xgb_iterations = 10"
   ]
  },
  {
   "cell_type": "code",
   "execution_count": null,
   "id": "final-strain",
   "metadata": {},
   "outputs": [],
   "source": [
    "%%time\n",
    "xgb_cv = RandomizedSearchCV(xgb_clf, \n",
    "                           param_distributions=xgb_param_dists, \n",
    "                           scoring = 'average_precision',\n",
    "                           n_iter=xgb_iterations, \n",
    "                           cv=cv, \n",
    "                           random_state = random_seed)\n",
    "\n",
    "xgb_cv.fit(X_train, y_train)"
   ]
  },
  {
   "cell_type": "code",
   "execution_count": null,
   "id": "cordless-probability",
   "metadata": {},
   "outputs": [],
   "source": [
    "xgb_cv_results = pd.DataFrame(xgb_cv.cv_results_)\n",
    "xgb_cv_results.sort_values(by='mean_test_score', ascending=False).head()"
   ]
  },
  {
   "cell_type": "code",
   "execution_count": null,
   "id": "noted-antigua",
   "metadata": {},
   "outputs": [],
   "source": []
  }
 ],
 "metadata": {
  "kernelspec": {
   "display_name": "Python 3",
   "language": "python",
   "name": "python3"
  },
  "language_info": {
   "codemirror_mode": {
    "name": "ipython",
    "version": 3
   },
   "file_extension": ".py",
   "mimetype": "text/x-python",
   "name": "python",
   "nbconvert_exporter": "python",
   "pygments_lexer": "ipython3",
   "version": "3.7.9"
  }
 },
 "nbformat": 4,
 "nbformat_minor": 5
}
