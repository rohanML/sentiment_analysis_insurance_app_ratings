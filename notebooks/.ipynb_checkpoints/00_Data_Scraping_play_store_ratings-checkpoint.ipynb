{
 "cells": [
  {
   "cell_type": "markdown",
   "id": "naked-robinson",
   "metadata": {},
   "source": [
    "# Data Scraping - Insurance App Ratings on Google Play Store"
   ]
  },
  {
   "cell_type": "markdown",
   "id": "committed-association",
   "metadata": {},
   "source": [
    "### Introduction \n",
    "\n",
    "In this digital era, Mobile applications offer a convenient and seamless channel to buy and renew insurance policies. Customers can quickly and easily lodge claims and get prompt service. The applications are effective communication tools for consultations and notifications. With these applications, companies can build loyalty, increase customer engagement and offer customized products. Hence, it is crucial for companies to build an application that lives up to these expectations. \n",
    "\n",
    "Almost all General Insurance(GI) companies have a mobile application on Play store. We will leverage Play Store reviews to analyze customers' feedback to know what is working, what are the challenges and how companies can address those challenges. \n",
    "\n",
    "In this notebook, we will scrape Play Store ratings of Indian General Insurance Companies."
   ]
  },
  {
   "cell_type": "code",
   "execution_count": 1,
   "id": "laden-friendly",
   "metadata": {},
   "outputs": [],
   "source": [
    "from google_play_scraper import app, Sort, reviews_all\n",
    "\n",
    "import pandas as pd\n",
    "import numpy as np\n",
    "import time\n",
    "from tqdm import tqdm\n"
   ]
  },
  {
   "cell_type": "code",
   "execution_count": 2,
   "id": "metropolitan-stream",
   "metadata": {},
   "outputs": [],
   "source": [
    "app_ids = { 'icici_lombard' : 'icici.lombard.ghi',\n",
    "            'bajaj_allianz' : 'com.ba.cp.controller',\n",
    "            'hdfc_ergo' : 'com.pms.activity',\n",
    "            'iffco_tokio' : 'com.iffcotokio.CustomerApp',\n",
    "            'reliance_general' : 'com.rgi.customerapp.live',\n",
    "            'sbi_general' : 'com.sbig.insurance',\n",
    "            'tata_aig' : 'com.tataaig.android',\n",
    "            'future_generali' : 'com.futuregenerali.fginsure',\n",
    "            'kotak_mahindra' : 'io.cordova.myapp53513c',\n",
    "            'universal_sompo' : 'com.universalsompo.meta',\n",
    "            'royal_sundaram' : 'com.rssync',\n",
    "            'shriram_general' : 'com.sgi.project.android.live',\n",
    "            'liberty_general' : 'com.lvgi.livmobile',\n",
    "            'magma_hdi' : 'net.fhpl.magmahealth',\n",
    "\n",
    "            # insuretechs\n",
    "            'digit' : 'com.godigit.digit',\n",
    "            'acko' : 'com.acko.android',\n",
    "            'navi' : 'com.navi.insurance',\n",
    "           \n",
    "          }"
   ]
  },
  {
   "cell_type": "markdown",
   "id": "seeing-option",
   "metadata": {},
   "source": [
    "Getting app details\n",
    "\n",
    "source : https://pypi.org/project/google-play-scraper/"
   ]
  },
  {
   "cell_type": "code",
   "execution_count": 3,
   "id": "smaller-player",
   "metadata": {},
   "outputs": [
    {
     "name": "stderr",
     "output_type": "stream",
     "text": [
      "100%|██████████████████████████████████████████████████████████████████████████████████| 17/17 [01:24<00:00,  4.99s/it]\n"
     ]
    }
   ],
   "source": [
    "app_details = []\n",
    "for idx in tqdm(app_ids) :\n",
    "    info = app(app_ids[idx], lang='en', \n",
    "               country='in')\n",
    "    del info['comments']\n",
    "    app_details.append(info)\n"
   ]
  },
  {
   "cell_type": "code",
   "execution_count": 4,
   "id": "quarterly-intelligence",
   "metadata": {},
   "outputs": [
    {
     "data": {
      "text/html": [
       "<div>\n",
       "<style scoped>\n",
       "    .dataframe tbody tr th:only-of-type {\n",
       "        vertical-align: middle;\n",
       "    }\n",
       "\n",
       "    .dataframe tbody tr th {\n",
       "        vertical-align: top;\n",
       "    }\n",
       "\n",
       "    .dataframe thead th {\n",
       "        text-align: right;\n",
       "    }\n",
       "</style>\n",
       "<table border=\"1\" class=\"dataframe\">\n",
       "  <thead>\n",
       "    <tr style=\"text-align: right;\">\n",
       "      <th></th>\n",
       "      <th>title</th>\n",
       "      <th>description</th>\n",
       "      <th>descriptionHTML</th>\n",
       "      <th>summary</th>\n",
       "      <th>summaryHTML</th>\n",
       "      <th>installs</th>\n",
       "      <th>minInstalls</th>\n",
       "      <th>score</th>\n",
       "      <th>ratings</th>\n",
       "      <th>reviews</th>\n",
       "      <th>...</th>\n",
       "      <th>adSupported</th>\n",
       "      <th>containsAds</th>\n",
       "      <th>released</th>\n",
       "      <th>updated</th>\n",
       "      <th>version</th>\n",
       "      <th>recentChanges</th>\n",
       "      <th>recentChangesHTML</th>\n",
       "      <th>editorsChoice</th>\n",
       "      <th>appId</th>\n",
       "      <th>url</th>\n",
       "    </tr>\n",
       "  </thead>\n",
       "  <tbody>\n",
       "    <tr>\n",
       "      <th>0</th>\n",
       "      <td>ILTakeCare: Insurance &amp; Wellness Needs</td>\n",
       "      <td>Now, renew or buy bike, car, and health insura...</td>\n",
       "      <td>Now, renew or buy bike, car, and health insura...</td>\n",
       "      <td>An app to take care of all your health, car &amp; ...</td>\n",
       "      <td>An app to take care of all your health, car &amp;a...</td>\n",
       "      <td>500,000+</td>\n",
       "      <td>500000</td>\n",
       "      <td>4.009925</td>\n",
       "      <td>8035</td>\n",
       "      <td>4647</td>\n",
       "      <td>...</td>\n",
       "      <td>None</td>\n",
       "      <td>False</td>\n",
       "      <td>May 29, 2019</td>\n",
       "      <td>1629814871</td>\n",
       "      <td>2.0.40</td>\n",
       "      <td>Our latest app build is equipped with new feat...</td>\n",
       "      <td>Our latest app build is equipped with new feat...</td>\n",
       "      <td>False</td>\n",
       "      <td>icici.lombard.ghi</td>\n",
       "      <td>https://play.google.com/store/apps/details?id=...</td>\n",
       "    </tr>\n",
       "    <tr>\n",
       "      <th>1</th>\n",
       "      <td>Caringly Yours</td>\n",
       "      <td>Caringly Yours is a mobile app platform by Baj...</td>\n",
       "      <td>Caringly Yours is a mobile app platform by Baj...</td>\n",
       "      <td>Bajaj Allianz General Insurance Caringly Yours</td>\n",
       "      <td>Bajaj Allianz General Insurance Caringly Yours</td>\n",
       "      <td>1,000,000+</td>\n",
       "      <td>1000000</td>\n",
       "      <td>4.034217</td>\n",
       "      <td>20468</td>\n",
       "      <td>7750</td>\n",
       "      <td>...</td>\n",
       "      <td>None</td>\n",
       "      <td>False</td>\n",
       "      <td>Jan 9, 2015</td>\n",
       "      <td>1629890013</td>\n",
       "      <td>16.2</td>\n",
       "      <td>None</td>\n",
       "      <td>None</td>\n",
       "      <td>False</td>\n",
       "      <td>com.ba.cp.controller</td>\n",
       "      <td>https://play.google.com/store/apps/details?id=...</td>\n",
       "    </tr>\n",
       "    <tr>\n",
       "      <th>2</th>\n",
       "      <td>HDFC ERGO Insurance App</td>\n",
       "      <td>Manage all your insurance needs at one place w...</td>\n",
       "      <td>Manage all your insurance needs at one place w...</td>\n",
       "      <td>Keep track of your insurance polices on your m...</td>\n",
       "      <td>Keep track of your insurance polices on your m...</td>\n",
       "      <td>1,000,000+</td>\n",
       "      <td>1000000</td>\n",
       "      <td>3.820928</td>\n",
       "      <td>18368</td>\n",
       "      <td>8001</td>\n",
       "      <td>...</td>\n",
       "      <td>None</td>\n",
       "      <td>False</td>\n",
       "      <td>Dec 15, 2011</td>\n",
       "      <td>1627022095</td>\n",
       "      <td>7.12</td>\n",
       "      <td>Performance enhancements and bug fixes.</td>\n",
       "      <td>Performance enhancements and bug fixes.</td>\n",
       "      <td>False</td>\n",
       "      <td>com.pms.activity</td>\n",
       "      <td>https://play.google.com/store/apps/details?id=...</td>\n",
       "    </tr>\n",
       "    <tr>\n",
       "      <th>3</th>\n",
       "      <td>IFFCO Tokio - Customer</td>\n",
       "      <td>CUSTOMER APP\\r\\nFrom buying and renewing polic...</td>\n",
       "      <td>CUSTOMER APP&lt;br&gt;From buying and renewing polic...</td>\n",
       "      <td>Muskurate Raho</td>\n",
       "      <td>Muskurate Raho</td>\n",
       "      <td>100,000+</td>\n",
       "      <td>100000</td>\n",
       "      <td>3.015038</td>\n",
       "      <td>1336</td>\n",
       "      <td>715</td>\n",
       "      <td>...</td>\n",
       "      <td>None</td>\n",
       "      <td>False</td>\n",
       "      <td>Feb 12, 2018</td>\n",
       "      <td>1621250042</td>\n",
       "      <td>4.3.5</td>\n",
       "      <td>Bug Fixes &amp; enhancements.</td>\n",
       "      <td>Bug Fixes &amp;amp; enhancements.</td>\n",
       "      <td>False</td>\n",
       "      <td>com.iffcotokio.CustomerApp</td>\n",
       "      <td>https://play.google.com/store/apps/details?id=...</td>\n",
       "    </tr>\n",
       "    <tr>\n",
       "      <th>4</th>\n",
       "      <td>Reliance Self-i</td>\n",
       "      <td>The Reliance Self-i App from Reliance General ...</td>\n",
       "      <td>The Reliance Self-i App from Reliance General ...</td>\n",
       "      <td>Simplify your Insurance Claims and Policy Rene...</td>\n",
       "      <td>Simplify your Insurance Claims and Policy Rene...</td>\n",
       "      <td>100,000+</td>\n",
       "      <td>100000</td>\n",
       "      <td>3.542071</td>\n",
       "      <td>6166</td>\n",
       "      <td>2892</td>\n",
       "      <td>...</td>\n",
       "      <td>None</td>\n",
       "      <td>False</td>\n",
       "      <td>Apr 20, 2018</td>\n",
       "      <td>1629952199</td>\n",
       "      <td>1.0.73</td>\n",
       "      <td>None</td>\n",
       "      <td>None</td>\n",
       "      <td>False</td>\n",
       "      <td>com.rgi.customerapp.live</td>\n",
       "      <td>https://play.google.com/store/apps/details?id=...</td>\n",
       "    </tr>\n",
       "  </tbody>\n",
       "</table>\n",
       "<p>5 rows × 49 columns</p>\n",
       "</div>"
      ],
      "text/plain": [
       "                                    title  \\\n",
       "0  ILTakeCare: Insurance & Wellness Needs   \n",
       "1                          Caringly Yours   \n",
       "2                 HDFC ERGO Insurance App   \n",
       "3                  IFFCO Tokio - Customer   \n",
       "4                         Reliance Self-i   \n",
       "\n",
       "                                         description  \\\n",
       "0  Now, renew or buy bike, car, and health insura...   \n",
       "1  Caringly Yours is a mobile app platform by Baj...   \n",
       "2  Manage all your insurance needs at one place w...   \n",
       "3  CUSTOMER APP\\r\\nFrom buying and renewing polic...   \n",
       "4  The Reliance Self-i App from Reliance General ...   \n",
       "\n",
       "                                     descriptionHTML  \\\n",
       "0  Now, renew or buy bike, car, and health insura...   \n",
       "1  Caringly Yours is a mobile app platform by Baj...   \n",
       "2  Manage all your insurance needs at one place w...   \n",
       "3  CUSTOMER APP<br>From buying and renewing polic...   \n",
       "4  The Reliance Self-i App from Reliance General ...   \n",
       "\n",
       "                                             summary  \\\n",
       "0  An app to take care of all your health, car & ...   \n",
       "1     Bajaj Allianz General Insurance Caringly Yours   \n",
       "2  Keep track of your insurance polices on your m...   \n",
       "3                                     Muskurate Raho   \n",
       "4  Simplify your Insurance Claims and Policy Rene...   \n",
       "\n",
       "                                         summaryHTML    installs  minInstalls  \\\n",
       "0  An app to take care of all your health, car &a...    500,000+       500000   \n",
       "1     Bajaj Allianz General Insurance Caringly Yours  1,000,000+      1000000   \n",
       "2  Keep track of your insurance polices on your m...  1,000,000+      1000000   \n",
       "3                                     Muskurate Raho    100,000+       100000   \n",
       "4  Simplify your Insurance Claims and Policy Rene...    100,000+       100000   \n",
       "\n",
       "      score  ratings  reviews  ... adSupported  containsAds      released  \\\n",
       "0  4.009925     8035     4647  ...        None        False  May 29, 2019   \n",
       "1  4.034217    20468     7750  ...        None        False   Jan 9, 2015   \n",
       "2  3.820928    18368     8001  ...        None        False  Dec 15, 2011   \n",
       "3  3.015038     1336      715  ...        None        False  Feb 12, 2018   \n",
       "4  3.542071     6166     2892  ...        None        False  Apr 20, 2018   \n",
       "\n",
       "      updated  version                                      recentChanges  \\\n",
       "0  1629814871   2.0.40  Our latest app build is equipped with new feat...   \n",
       "1  1629890013     16.2                                               None   \n",
       "2  1627022095     7.12            Performance enhancements and bug fixes.   \n",
       "3  1621250042    4.3.5                          Bug Fixes & enhancements.   \n",
       "4  1629952199   1.0.73                                               None   \n",
       "\n",
       "                                   recentChangesHTML editorsChoice  \\\n",
       "0  Our latest app build is equipped with new feat...         False   \n",
       "1                                               None         False   \n",
       "2            Performance enhancements and bug fixes.         False   \n",
       "3                      Bug Fixes &amp; enhancements.         False   \n",
       "4                                               None         False   \n",
       "\n",
       "                        appId  \\\n",
       "0           icici.lombard.ghi   \n",
       "1        com.ba.cp.controller   \n",
       "2            com.pms.activity   \n",
       "3  com.iffcotokio.CustomerApp   \n",
       "4    com.rgi.customerapp.live   \n",
       "\n",
       "                                                 url  \n",
       "0  https://play.google.com/store/apps/details?id=...  \n",
       "1  https://play.google.com/store/apps/details?id=...  \n",
       "2  https://play.google.com/store/apps/details?id=...  \n",
       "3  https://play.google.com/store/apps/details?id=...  \n",
       "4  https://play.google.com/store/apps/details?id=...  \n",
       "\n",
       "[5 rows x 49 columns]"
      ]
     },
     "execution_count": 4,
     "metadata": {},
     "output_type": "execute_result"
    }
   ],
   "source": [
    "df_app_details = pd.DataFrame(app_details)\n",
    "df_app_details.head()"
   ]
  },
  {
   "cell_type": "code",
   "execution_count": 5,
   "id": "unauthorized-athens",
   "metadata": {},
   "outputs": [
    {
     "name": "stdout",
     "output_type": "stream",
     "text": [
      "<class 'pandas.core.frame.DataFrame'>\n",
      "RangeIndex: 17 entries, 0 to 16\n",
      "Data columns (total 49 columns):\n",
      " #   Column                    Non-Null Count  Dtype  \n",
      "---  ------                    --------------  -----  \n",
      " 0   title                     17 non-null     object \n",
      " 1   description               17 non-null     object \n",
      " 2   descriptionHTML           17 non-null     object \n",
      " 3   summary                   17 non-null     object \n",
      " 4   summaryHTML               17 non-null     object \n",
      " 5   installs                  17 non-null     object \n",
      " 6   minInstalls               17 non-null     int64  \n",
      " 7   score                     17 non-null     float64\n",
      " 8   ratings                   17 non-null     int64  \n",
      " 9   reviews                   17 non-null     int64  \n",
      " 10  histogram                 17 non-null     object \n",
      " 11  price                     17 non-null     int64  \n",
      " 12  free                      17 non-null     bool   \n",
      " 13  currency                  17 non-null     object \n",
      " 14  sale                      17 non-null     bool   \n",
      " 15  saleTime                  0 non-null      object \n",
      " 16  originalPrice             0 non-null      object \n",
      " 17  saleText                  0 non-null      object \n",
      " 18  offersIAP                 17 non-null     bool   \n",
      " 19  inAppProductPrice         0 non-null      object \n",
      " 20  size                      17 non-null     object \n",
      " 21  androidVersion            17 non-null     object \n",
      " 22  androidVersionText        17 non-null     object \n",
      " 23  developer                 17 non-null     object \n",
      " 24  developerId               17 non-null     object \n",
      " 25  developerEmail            17 non-null     object \n",
      " 26  developerWebsite          17 non-null     object \n",
      " 27  developerAddress          2 non-null      object \n",
      " 28  privacyPolicy             17 non-null     object \n",
      " 29  developerInternalID       17 non-null     object \n",
      " 30  genre                     17 non-null     object \n",
      " 31  genreId                   17 non-null     object \n",
      " 32  icon                      17 non-null     object \n",
      " 33  headerImage               17 non-null     object \n",
      " 34  screenshots               17 non-null     object \n",
      " 35  video                     2 non-null      object \n",
      " 36  videoImage                2 non-null      object \n",
      " 37  contentRating             17 non-null     object \n",
      " 38  contentRatingDescription  0 non-null      object \n",
      " 39  adSupported               1 non-null      object \n",
      " 40  containsAds               17 non-null     bool   \n",
      " 41  released                  17 non-null     object \n",
      " 42  updated                   17 non-null     int64  \n",
      " 43  version                   17 non-null     object \n",
      " 44  recentChanges             14 non-null     object \n",
      " 45  recentChangesHTML         14 non-null     object \n",
      " 46  editorsChoice             17 non-null     bool   \n",
      " 47  appId                     17 non-null     object \n",
      " 48  url                       17 non-null     object \n",
      "dtypes: bool(5), float64(1), int64(5), object(38)\n",
      "memory usage: 6.1+ KB\n"
     ]
    }
   ],
   "source": [
    "df_app_details.info()"
   ]
  },
  {
   "cell_type": "code",
   "execution_count": 6,
   "id": "rotary-quality",
   "metadata": {},
   "outputs": [
    {
     "name": "stderr",
     "output_type": "stream",
     "text": [
      "\r",
      "  0%|                                                                                           | 0/17 [00:00<?, ?it/s]"
     ]
    },
    {
     "name": "stdout",
     "output_type": "stream",
     "text": [
      "Company : icici_lombard Reviews: 4624\n"
     ]
    },
    {
     "name": "stderr",
     "output_type": "stream",
     "text": [
      "\r",
      "  6%|████▉                                                                              | 1/17 [01:11<19:04, 71.52s/it]"
     ]
    },
    {
     "name": "stdout",
     "output_type": "stream",
     "text": [
      "Company : bajaj_allianz Reviews: 7716\n"
     ]
    },
    {
     "name": "stderr",
     "output_type": "stream",
     "text": [
      "\r",
      " 12%|█████████▋                                                                        | 2/17 [04:05<32:56, 131.76s/it]"
     ]
    },
    {
     "name": "stdout",
     "output_type": "stream",
     "text": [
      "Company : hdfc_ergo Reviews: 7967\n"
     ]
    },
    {
     "name": "stderr",
     "output_type": "stream",
     "text": [
      "\r",
      " 18%|██████████████▍                                                                   | 3/17 [07:02<35:34, 152.50s/it]"
     ]
    },
    {
     "name": "stdout",
     "output_type": "stream",
     "text": [
      "Company : iffco_tokio Reviews: 710\n"
     ]
    },
    {
     "name": "stderr",
     "output_type": "stream",
     "text": [
      "\r",
      " 24%|███████████████████▌                                                               | 4/17 [07:21<21:38, 99.87s/it]"
     ]
    },
    {
     "name": "stdout",
     "output_type": "stream",
     "text": [
      "Company : reliance_general Reviews: 2879\n"
     ]
    },
    {
     "name": "stderr",
     "output_type": "stream",
     "text": [
      "\r",
      " 29%|████████████████████████▍                                                          | 5/17 [08:28<17:33, 87.76s/it]"
     ]
    },
    {
     "name": "stdout",
     "output_type": "stream",
     "text": [
      "Company : sbi_ggeneral Reviews: 447\n"
     ]
    },
    {
     "name": "stderr",
     "output_type": "stream",
     "text": [
      "\r",
      " 35%|█████████████████████████████▎                                                     | 6/17 [08:42<11:30, 62.78s/it]"
     ]
    },
    {
     "name": "stdout",
     "output_type": "stream",
     "text": [
      "Company : tata_aig Reviews: 110\n"
     ]
    },
    {
     "name": "stderr",
     "output_type": "stream",
     "text": [
      "\r",
      " 41%|██████████████████████████████████▏                                                | 7/17 [08:50<07:30, 45.03s/it]"
     ]
    },
    {
     "name": "stdout",
     "output_type": "stream",
     "text": [
      "Company : future_generali Reviews: 121\n"
     ]
    },
    {
     "name": "stderr",
     "output_type": "stream",
     "text": [
      "\r",
      " 47%|███████████████████████████████████████                                            | 8/17 [08:57<04:56, 32.91s/it]"
     ]
    },
    {
     "name": "stdout",
     "output_type": "stream",
     "text": [
      "Company : kotak_mahindra Reviews: 360\n"
     ]
    },
    {
     "name": "stderr",
     "output_type": "stream",
     "text": [
      "\r",
      " 53%|███████████████████████████████████████████▉                                       | 9/17 [09:15<03:44, 28.05s/it]"
     ]
    },
    {
     "name": "stdout",
     "output_type": "stream",
     "text": [
      "Company : universal_sompo Reviews: 248\n"
     ]
    },
    {
     "name": "stderr",
     "output_type": "stream",
     "text": [
      "\r",
      " 59%|████████████████████████████████████████████████▏                                 | 10/17 [09:27<02:42, 23.22s/it]"
     ]
    },
    {
     "name": "stdout",
     "output_type": "stream",
     "text": [
      "Company : royal_sundaram Reviews: 432\n"
     ]
    },
    {
     "name": "stderr",
     "output_type": "stream",
     "text": [
      "\r",
      " 65%|█████████████████████████████████████████████████████                             | 11/17 [09:40<02:00, 20.02s/it]"
     ]
    },
    {
     "name": "stdout",
     "output_type": "stream",
     "text": [
      "Company : shriram_general Reviews: 72\n"
     ]
    },
    {
     "name": "stderr",
     "output_type": "stream",
     "text": [
      "\r",
      " 71%|█████████████████████████████████████████████████████████▉                        | 12/17 [09:50<01:25, 17.05s/it]"
     ]
    },
    {
     "name": "stdout",
     "output_type": "stream",
     "text": [
      "Company : liberty_general Reviews: 306\n"
     ]
    },
    {
     "name": "stderr",
     "output_type": "stream",
     "text": [
      "\r",
      " 76%|██████████████████████████████████████████████████████████████▋                   | 13/17 [10:09<01:10, 17.65s/it]"
     ]
    },
    {
     "name": "stdout",
     "output_type": "stream",
     "text": [
      "Company : magma_hdi Reviews: 67\n"
     ]
    },
    {
     "name": "stderr",
     "output_type": "stream",
     "text": [
      "\r",
      " 82%|███████████████████████████████████████████████████████████████████▌              | 14/17 [10:15<00:41, 13.96s/it]"
     ]
    },
    {
     "name": "stdout",
     "output_type": "stream",
     "text": [
      "Company : digit Reviews: 413\n"
     ]
    },
    {
     "name": "stderr",
     "output_type": "stream",
     "text": [
      "\r",
      " 88%|████████████████████████████████████████████████████████████████████████▎         | 15/17 [10:27<00:26, 13.45s/it]"
     ]
    },
    {
     "name": "stdout",
     "output_type": "stream",
     "text": [
      "Company : acko Reviews: 4219\n"
     ]
    },
    {
     "name": "stderr",
     "output_type": "stream",
     "text": [
      "\r",
      " 94%|█████████████████████████████████████████████████████████████████████████████▏    | 16/17 [11:43<00:32, 32.29s/it]"
     ]
    },
    {
     "name": "stdout",
     "output_type": "stream",
     "text": [
      "Company : navi Reviews: 459\n"
     ]
    },
    {
     "name": "stderr",
     "output_type": "stream",
     "text": [
      "100%|██████████████████████████████████████████████████████████████████████████████████| 17/17 [12:02<00:00, 42.48s/it]\n"
     ]
    }
   ],
   "source": [
    "%timeit\n",
    "all_app_reviews = []\n",
    "\n",
    "for idx in tqdm(app_ids) :\n",
    "    # Get all reviews for the app\n",
    "    app_reviews = reviews_all(\n",
    "        app_ids[idx],\n",
    "        sleep_milliseconds=2,\n",
    "        lang='en', \n",
    "        country='in', \n",
    "        sort=Sort.NEWEST)\n",
    "    # append appID to each review\n",
    "    for review in app_reviews:\n",
    "        review['appId'] = app_ids[idx]\n",
    "        all_app_reviews.append(review)\n",
    "    print('Company : {} Reviews: {}'.format(idx,len(app_reviews)))\n",
    "    time.sleep(2)\n",
    "    "
   ]
  },
  {
   "cell_type": "code",
   "execution_count": 7,
   "id": "straight-queens",
   "metadata": {},
   "outputs": [
    {
     "data": {
      "text/plain": [
       "(31150, 11)"
      ]
     },
     "execution_count": 7,
     "metadata": {},
     "output_type": "execute_result"
    }
   ],
   "source": [
    "df_reviews = pd.DataFrame(all_app_reviews)\n",
    "df_reviews.drop(columns=['userName','userImage'])\n",
    "df_reviews.shape"
   ]
  },
  {
   "cell_type": "code",
   "execution_count": 8,
   "id": "amino-george",
   "metadata": {},
   "outputs": [
    {
     "data": {
      "text/html": [
       "<div>\n",
       "<style scoped>\n",
       "    .dataframe tbody tr th:only-of-type {\n",
       "        vertical-align: middle;\n",
       "    }\n",
       "\n",
       "    .dataframe tbody tr th {\n",
       "        vertical-align: top;\n",
       "    }\n",
       "\n",
       "    .dataframe thead th {\n",
       "        text-align: right;\n",
       "    }\n",
       "</style>\n",
       "<table border=\"1\" class=\"dataframe\">\n",
       "  <thead>\n",
       "    <tr style=\"text-align: right;\">\n",
       "      <th></th>\n",
       "      <th>reviewId</th>\n",
       "      <th>userName</th>\n",
       "      <th>userImage</th>\n",
       "      <th>content</th>\n",
       "      <th>score</th>\n",
       "      <th>thumbsUpCount</th>\n",
       "      <th>reviewCreatedVersion</th>\n",
       "      <th>at</th>\n",
       "      <th>replyContent</th>\n",
       "      <th>repliedAt</th>\n",
       "      <th>appId</th>\n",
       "    </tr>\n",
       "  </thead>\n",
       "  <tbody>\n",
       "    <tr>\n",
       "      <th>0</th>\n",
       "      <td>gp:AOqpTOF86De47sxTLcSz5dRWRlYNfO2IN5pk3baCjf8...</td>\n",
       "      <td>Nikki Tamboli</td>\n",
       "      <td>https://play-lh.googleusercontent.com/a/AATXAJ...</td>\n",
       "      <td>Excellent.. The service and reaction were exce...</td>\n",
       "      <td>5</td>\n",
       "      <td>0</td>\n",
       "      <td>None</td>\n",
       "      <td>2021-08-26 22:29:04</td>\n",
       "      <td>None</td>\n",
       "      <td>NaT</td>\n",
       "      <td>icici.lombard.ghi</td>\n",
       "    </tr>\n",
       "    <tr>\n",
       "      <th>1</th>\n",
       "      <td>gp:AOqpTOH09z1vHSV2KRUcILU1eSsx-5HzWABJDC2pCW6...</td>\n",
       "      <td>Sarita Chauhan</td>\n",
       "      <td>https://play-lh.googleusercontent.com/a/AATXAJ...</td>\n",
       "      <td>The app is simple and tidy, with a focus on th...</td>\n",
       "      <td>5</td>\n",
       "      <td>0</td>\n",
       "      <td>None</td>\n",
       "      <td>2021-08-26 22:28:35</td>\n",
       "      <td>None</td>\n",
       "      <td>NaT</td>\n",
       "      <td>icici.lombard.ghi</td>\n",
       "    </tr>\n",
       "    <tr>\n",
       "      <th>2</th>\n",
       "      <td>gp:AOqpTOGYmB7z6aIyAFtbD4YheqYzuDrtrQcYBBJSkmZ...</td>\n",
       "      <td>Asish Mandal</td>\n",
       "      <td>https://play-lh.googleusercontent.com/a-/AOh14...</td>\n",
       "      <td>It is simple to select and purchase insurance....</td>\n",
       "      <td>5</td>\n",
       "      <td>0</td>\n",
       "      <td>None</td>\n",
       "      <td>2021-08-26 22:27:21</td>\n",
       "      <td>None</td>\n",
       "      <td>NaT</td>\n",
       "      <td>icici.lombard.ghi</td>\n",
       "    </tr>\n",
       "    <tr>\n",
       "      <th>3</th>\n",
       "      <td>gp:AOqpTOFEDySNZlgqJByDGyF8C8WMT6pJhqcgAhMokeI...</td>\n",
       "      <td>Jatt Zimidaar</td>\n",
       "      <td>https://play-lh.googleusercontent.com/a/AATXAJ...</td>\n",
       "      <td>I've used this app for my car insurance a few ...</td>\n",
       "      <td>5</td>\n",
       "      <td>0</td>\n",
       "      <td>None</td>\n",
       "      <td>2021-08-26 22:26:59</td>\n",
       "      <td>None</td>\n",
       "      <td>NaT</td>\n",
       "      <td>icici.lombard.ghi</td>\n",
       "    </tr>\n",
       "    <tr>\n",
       "      <th>4</th>\n",
       "      <td>gp:AOqpTOFE6WGoCMTXBlT57sZBjZIxwH0zsmyBH8D2C14...</td>\n",
       "      <td>V g</td>\n",
       "      <td>https://play-lh.googleusercontent.com/a/AATXAJ...</td>\n",
       "      <td>It is wrost insurance company . One of my frie...</td>\n",
       "      <td>1</td>\n",
       "      <td>0</td>\n",
       "      <td>2.0.40</td>\n",
       "      <td>2021-08-26 21:21:10</td>\n",
       "      <td>None</td>\n",
       "      <td>NaT</td>\n",
       "      <td>icici.lombard.ghi</td>\n",
       "    </tr>\n",
       "  </tbody>\n",
       "</table>\n",
       "</div>"
      ],
      "text/plain": [
       "                                            reviewId        userName  \\\n",
       "0  gp:AOqpTOF86De47sxTLcSz5dRWRlYNfO2IN5pk3baCjf8...   Nikki Tamboli   \n",
       "1  gp:AOqpTOH09z1vHSV2KRUcILU1eSsx-5HzWABJDC2pCW6...  Sarita Chauhan   \n",
       "2  gp:AOqpTOGYmB7z6aIyAFtbD4YheqYzuDrtrQcYBBJSkmZ...    Asish Mandal   \n",
       "3  gp:AOqpTOFEDySNZlgqJByDGyF8C8WMT6pJhqcgAhMokeI...   Jatt Zimidaar   \n",
       "4  gp:AOqpTOFE6WGoCMTXBlT57sZBjZIxwH0zsmyBH8D2C14...             V g   \n",
       "\n",
       "                                           userImage  \\\n",
       "0  https://play-lh.googleusercontent.com/a/AATXAJ...   \n",
       "1  https://play-lh.googleusercontent.com/a/AATXAJ...   \n",
       "2  https://play-lh.googleusercontent.com/a-/AOh14...   \n",
       "3  https://play-lh.googleusercontent.com/a/AATXAJ...   \n",
       "4  https://play-lh.googleusercontent.com/a/AATXAJ...   \n",
       "\n",
       "                                             content  score  thumbsUpCount  \\\n",
       "0  Excellent.. The service and reaction were exce...      5              0   \n",
       "1  The app is simple and tidy, with a focus on th...      5              0   \n",
       "2  It is simple to select and purchase insurance....      5              0   \n",
       "3  I've used this app for my car insurance a few ...      5              0   \n",
       "4  It is wrost insurance company . One of my frie...      1              0   \n",
       "\n",
       "  reviewCreatedVersion                  at replyContent repliedAt  \\\n",
       "0                 None 2021-08-26 22:29:04         None       NaT   \n",
       "1                 None 2021-08-26 22:28:35         None       NaT   \n",
       "2                 None 2021-08-26 22:27:21         None       NaT   \n",
       "3                 None 2021-08-26 22:26:59         None       NaT   \n",
       "4               2.0.40 2021-08-26 21:21:10         None       NaT   \n",
       "\n",
       "               appId  \n",
       "0  icici.lombard.ghi  \n",
       "1  icici.lombard.ghi  \n",
       "2  icici.lombard.ghi  \n",
       "3  icici.lombard.ghi  \n",
       "4  icici.lombard.ghi  "
      ]
     },
     "execution_count": 8,
     "metadata": {},
     "output_type": "execute_result"
    }
   ],
   "source": [
    "df_reviews.head()"
   ]
  },
  {
   "cell_type": "code",
   "execution_count": 9,
   "id": "informed-sherman",
   "metadata": {},
   "outputs": [
    {
     "data": {
      "text/html": [
       "<div>\n",
       "<style scoped>\n",
       "    .dataframe tbody tr th:only-of-type {\n",
       "        vertical-align: middle;\n",
       "    }\n",
       "\n",
       "    .dataframe tbody tr th {\n",
       "        vertical-align: top;\n",
       "    }\n",
       "\n",
       "    .dataframe thead th {\n",
       "        text-align: right;\n",
       "    }\n",
       "</style>\n",
       "<table border=\"1\" class=\"dataframe\">\n",
       "  <thead>\n",
       "    <tr style=\"text-align: right;\">\n",
       "      <th></th>\n",
       "      <th>reviewId</th>\n",
       "      <th>userName</th>\n",
       "      <th>userImage</th>\n",
       "      <th>content</th>\n",
       "      <th>score</th>\n",
       "      <th>thumbsUpCount</th>\n",
       "      <th>reviewCreatedVersion</th>\n",
       "      <th>at</th>\n",
       "      <th>replyContent</th>\n",
       "      <th>repliedAt</th>\n",
       "      <th>appId</th>\n",
       "    </tr>\n",
       "  </thead>\n",
       "  <tbody>\n",
       "    <tr>\n",
       "      <th>31145</th>\n",
       "      <td>gp:AOqpTOGWW-s9kWpa4Lsz-4lAzZFa9grKuu0o1jZqELf...</td>\n",
       "      <td>Siddharth Shukla</td>\n",
       "      <td>https://play-lh.googleusercontent.com/a/AATXAJ...</td>\n",
       "      <td>A first of its kind, completely digital produc...</td>\n",
       "      <td>5</td>\n",
       "      <td>61</td>\n",
       "      <td>0.0.8</td>\n",
       "      <td>2020-12-23 19:10:22</td>\n",
       "      <td>Hi,\\nThanks for your feedback. We are continuo...</td>\n",
       "      <td>2021-04-20 10:17:43</td>\n",
       "      <td>com.navi.insurance</td>\n",
       "    </tr>\n",
       "    <tr>\n",
       "      <th>31146</th>\n",
       "      <td>gp:AOqpTOEn-uWSimaiYMqInVa9iXgnku2CtuKRvAc9lQU...</td>\n",
       "      <td>Nimesh Agarwal</td>\n",
       "      <td>https://play-lh.googleusercontent.com/a-/AOh14...</td>\n",
       "      <td>Very quick and easy way to purchase health ins...</td>\n",
       "      <td>5</td>\n",
       "      <td>242</td>\n",
       "      <td>0.0.7</td>\n",
       "      <td>2020-12-21 15:35:00</td>\n",
       "      <td>It is delightful to hear such positive words a...</td>\n",
       "      <td>2021-04-20 10:17:54</td>\n",
       "      <td>com.navi.insurance</td>\n",
       "    </tr>\n",
       "    <tr>\n",
       "      <th>31147</th>\n",
       "      <td>gp:AOqpTOFEOCRfrsxOnzXBQIoERAdFSLc_Q1jlDo7QYxC...</td>\n",
       "      <td>Swapnil Pawar</td>\n",
       "      <td>https://play-lh.googleusercontent.com/a-/AOh14...</td>\n",
       "      <td>A unique interactive way to buy Health Insuran...</td>\n",
       "      <td>5</td>\n",
       "      <td>294</td>\n",
       "      <td>0.0.7</td>\n",
       "      <td>2020-12-21 00:37:24</td>\n",
       "      <td>Hi,\\nThanks for your feedback. We are continuo...</td>\n",
       "      <td>2021-04-20 10:18:02</td>\n",
       "      <td>com.navi.insurance</td>\n",
       "    </tr>\n",
       "    <tr>\n",
       "      <th>31148</th>\n",
       "      <td>gp:AOqpTOGMOuq2ohN_jzVxPiya09XSj_vM3Z5qiTF4WKw...</td>\n",
       "      <td>RISHI PRATAP SINGH SISODIYA</td>\n",
       "      <td>https://play-lh.googleusercontent.com/a/AATXAJ...</td>\n",
       "      <td>Easy and Fast!!</td>\n",
       "      <td>5</td>\n",
       "      <td>36</td>\n",
       "      <td>0.0.7</td>\n",
       "      <td>2020-12-20 23:35:24</td>\n",
       "      <td>Hi, thank you very much for your feedback.</td>\n",
       "      <td>2021-04-20 10:18:14</td>\n",
       "      <td>com.navi.insurance</td>\n",
       "    </tr>\n",
       "    <tr>\n",
       "      <th>31149</th>\n",
       "      <td>gp:AOqpTOEt3PPJluXxGDbJxjjsJlLsrXq-Fxgvg3jQgqR...</td>\n",
       "      <td>Sumit Jhawar</td>\n",
       "      <td>https://play-lh.googleusercontent.com/a-/AOh14...</td>\n",
       "      <td>Best experience ever of buying a insurance pol...</td>\n",
       "      <td>5</td>\n",
       "      <td>414</td>\n",
       "      <td>0.0.7</td>\n",
       "      <td>2020-12-20 01:58:09</td>\n",
       "      <td>It is delightful to hear such positive words a...</td>\n",
       "      <td>2021-04-20 10:18:29</td>\n",
       "      <td>com.navi.insurance</td>\n",
       "    </tr>\n",
       "  </tbody>\n",
       "</table>\n",
       "</div>"
      ],
      "text/plain": [
       "                                                reviewId  \\\n",
       "31145  gp:AOqpTOGWW-s9kWpa4Lsz-4lAzZFa9grKuu0o1jZqELf...   \n",
       "31146  gp:AOqpTOEn-uWSimaiYMqInVa9iXgnku2CtuKRvAc9lQU...   \n",
       "31147  gp:AOqpTOFEOCRfrsxOnzXBQIoERAdFSLc_Q1jlDo7QYxC...   \n",
       "31148  gp:AOqpTOGMOuq2ohN_jzVxPiya09XSj_vM3Z5qiTF4WKw...   \n",
       "31149  gp:AOqpTOEt3PPJluXxGDbJxjjsJlLsrXq-Fxgvg3jQgqR...   \n",
       "\n",
       "                          userName  \\\n",
       "31145             Siddharth Shukla   \n",
       "31146               Nimesh Agarwal   \n",
       "31147                Swapnil Pawar   \n",
       "31148  RISHI PRATAP SINGH SISODIYA   \n",
       "31149                 Sumit Jhawar   \n",
       "\n",
       "                                               userImage  \\\n",
       "31145  https://play-lh.googleusercontent.com/a/AATXAJ...   \n",
       "31146  https://play-lh.googleusercontent.com/a-/AOh14...   \n",
       "31147  https://play-lh.googleusercontent.com/a-/AOh14...   \n",
       "31148  https://play-lh.googleusercontent.com/a/AATXAJ...   \n",
       "31149  https://play-lh.googleusercontent.com/a-/AOh14...   \n",
       "\n",
       "                                                 content  score  \\\n",
       "31145  A first of its kind, completely digital produc...      5   \n",
       "31146  Very quick and easy way to purchase health ins...      5   \n",
       "31147  A unique interactive way to buy Health Insuran...      5   \n",
       "31148                                    Easy and Fast!!      5   \n",
       "31149  Best experience ever of buying a insurance pol...      5   \n",
       "\n",
       "       thumbsUpCount reviewCreatedVersion                  at  \\\n",
       "31145             61                0.0.8 2020-12-23 19:10:22   \n",
       "31146            242                0.0.7 2020-12-21 15:35:00   \n",
       "31147            294                0.0.7 2020-12-21 00:37:24   \n",
       "31148             36                0.0.7 2020-12-20 23:35:24   \n",
       "31149            414                0.0.7 2020-12-20 01:58:09   \n",
       "\n",
       "                                            replyContent           repliedAt  \\\n",
       "31145  Hi,\\nThanks for your feedback. We are continuo... 2021-04-20 10:17:43   \n",
       "31146  It is delightful to hear such positive words a... 2021-04-20 10:17:54   \n",
       "31147  Hi,\\nThanks for your feedback. We are continuo... 2021-04-20 10:18:02   \n",
       "31148         Hi, thank you very much for your feedback. 2021-04-20 10:18:14   \n",
       "31149  It is delightful to hear such positive words a... 2021-04-20 10:18:29   \n",
       "\n",
       "                    appId  \n",
       "31145  com.navi.insurance  \n",
       "31146  com.navi.insurance  \n",
       "31147  com.navi.insurance  \n",
       "31148  com.navi.insurance  \n",
       "31149  com.navi.insurance  "
      ]
     },
     "execution_count": 9,
     "metadata": {},
     "output_type": "execute_result"
    }
   ],
   "source": [
    "df_reviews.tail()"
   ]
  },
  {
   "cell_type": "code",
   "execution_count": 10,
   "id": "removed-albany",
   "metadata": {},
   "outputs": [
    {
     "name": "stdout",
     "output_type": "stream",
     "text": [
      "<class 'pandas.core.frame.DataFrame'>\n",
      "RangeIndex: 31150 entries, 0 to 31149\n",
      "Data columns (total 11 columns):\n",
      " #   Column                Non-Null Count  Dtype         \n",
      "---  ------                --------------  -----         \n",
      " 0   reviewId              31150 non-null  object        \n",
      " 1   userName              31150 non-null  object        \n",
      " 2   userImage             31150 non-null  object        \n",
      " 3   content               31146 non-null  object        \n",
      " 4   score                 31150 non-null  int64         \n",
      " 5   thumbsUpCount         31150 non-null  int64         \n",
      " 6   reviewCreatedVersion  27294 non-null  object        \n",
      " 7   at                    31150 non-null  datetime64[ns]\n",
      " 8   replyContent          20849 non-null  object        \n",
      " 9   repliedAt             20849 non-null  datetime64[ns]\n",
      " 10  appId                 31150 non-null  object        \n",
      "dtypes: datetime64[ns](2), int64(2), object(7)\n",
      "memory usage: 2.6+ MB\n"
     ]
    }
   ],
   "source": [
    "df_reviews.info()"
   ]
  },
  {
   "cell_type": "markdown",
   "id": "outstanding-salmon",
   "metadata": {},
   "source": [
    "We are mainly interested in below fields\n",
    "1. reviewId - unique identifier for reviews\n",
    "2. content - review text\n",
    "3. score - customer rating between 1-5\n",
    "4. at - time of review posting\n",
    "5. repliedAt - time of reply to review\n",
    "6. replyContent - text of reply from company"
   ]
  },
  {
   "cell_type": "markdown",
   "id": "union-afternoon",
   "metadata": {},
   "source": [
    "Saving the data for Data Wrangling step."
   ]
  },
  {
   "cell_type": "code",
   "execution_count": 11,
   "id": "better-chuck",
   "metadata": {},
   "outputs": [],
   "source": [
    "review_path = '../data/reviews.csv'\n",
    "df_reviews.to_csv(review_path,  index=None, header=True)\n",
    "\n",
    "app_details_path = '../data/app_details.csv'\n",
    "df_app_details.to_csv(app_details_path,  index=None, header=True)\n",
    "\n"
   ]
  }
 ],
 "metadata": {
  "kernelspec": {
   "display_name": "Python 3",
   "language": "python",
   "name": "python3"
  },
  "language_info": {
   "codemirror_mode": {
    "name": "ipython",
    "version": 3
   },
   "file_extension": ".py",
   "mimetype": "text/x-python",
   "name": "python",
   "nbconvert_exporter": "python",
   "pygments_lexer": "ipython3",
   "version": "3.7.9"
  }
 },
 "nbformat": 4,
 "nbformat_minor": 5
}
