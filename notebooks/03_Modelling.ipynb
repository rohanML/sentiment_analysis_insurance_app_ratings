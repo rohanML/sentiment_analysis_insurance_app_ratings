{
 "cells": [
  {
   "cell_type": "markdown",
   "id": "designed-particle",
   "metadata": {},
   "source": [
    "# Modelling - Insurance App Ratings on Google Play Store"
   ]
  },
  {
   "cell_type": "markdown",
   "id": "muslim-notion",
   "metadata": {},
   "source": [
    "In this notebook, we will\n",
    "1. select an appropriate __evaluation matrix__\n",
    "2. devise our __modelling and validation strategy__\n",
    "3. select the __best model__ and\n",
    "4. share __actionable business insights__"
   ]
  },
  {
   "cell_type": "code",
   "execution_count": 1,
   "id": "signed-interpretation",
   "metadata": {},
   "outputs": [],
   "source": [
    "import pandas as pd\n",
    "import numpy as np\n",
    "import time\n",
    "import string\n",
    "from datetime import datetime\n",
    "from pathlib import Path\n",
    "import re\n",
    "from scipy.stats import loguniform\n",
    "from collections import Counter\n",
    "\n",
    "import matplotlib.pyplot as plt\n",
    "import seaborn as sns\n",
    "from matplotlib.ticker import MaxNLocator\n",
    "\n",
    "from nltk import word_tokenize\n",
    "from sklearn.preprocessing import LabelEncoder\n",
    "from sklearn.feature_extraction.text import CountVectorizer\n",
    "from sklearn.feature_extraction.text import TfidfVectorizer\n",
    "from sklearn.pipeline import Pipeline, make_pipeline\n",
    "from sklearn.compose import ColumnTransformer\n",
    "\n",
    "from sklearn.model_selection import KFold, StratifiedKFold, RandomizedSearchCV\n",
    "from sklearn.metrics import average_precision_score, precision_recall_curve\n",
    "\n",
    "from sklearn.linear_model import LogisticRegression\n",
    "from sklearn.naive_bayes import MultinomialNB\n",
    "import xgboost as xgb\n",
    "\n",
    "pd.set_option('display.width', 500)\n",
    "pd.set_option('display.max_columns', 100)\n",
    "\n",
    "plt.style.use('fivethirtyeight')\n",
    "\n",
    "random_seed = 79"
   ]
  },
  {
   "cell_type": "code",
   "execution_count": 2,
   "id": "alike-thailand",
   "metadata": {},
   "outputs": [
    {
     "data": {
      "text/plain": [
       "(7980, 14)"
      ]
     },
     "execution_count": 2,
     "metadata": {},
     "output_type": "execute_result"
    }
   ],
   "source": [
    "train_review = '../data/interim/train_review.csv'\n",
    "df_train = pd.read_csv(train_review)\n",
    "df_train.shape"
   ]
  },
  {
   "cell_type": "code",
   "execution_count": 3,
   "id": "metropolitan-netherlands",
   "metadata": {},
   "outputs": [
    {
     "data": {
      "text/plain": [
       "(2660, 14)"
      ]
     },
     "execution_count": 3,
     "metadata": {},
     "output_type": "execute_result"
    }
   ],
   "source": [
    "test_review = '../data/interim/test_review.csv'\n",
    "df_test = pd.read_csv(test_review)\n",
    "df_test.shape"
   ]
  },
  {
   "cell_type": "code",
   "execution_count": 4,
   "id": "initial-ireland",
   "metadata": {},
   "outputs": [
    {
     "data": {
      "text/html": [
       "<div>\n",
       "<style scoped>\n",
       "    .dataframe tbody tr th:only-of-type {\n",
       "        vertical-align: middle;\n",
       "    }\n",
       "\n",
       "    .dataframe tbody tr th {\n",
       "        vertical-align: top;\n",
       "    }\n",
       "\n",
       "    .dataframe thead th {\n",
       "        text-align: right;\n",
       "    }\n",
       "</style>\n",
       "<table border=\"1\" class=\"dataframe\">\n",
       "  <thead>\n",
       "    <tr style=\"text-align: right;\">\n",
       "      <th></th>\n",
       "      <th>reviewId</th>\n",
       "      <th>review</th>\n",
       "      <th>score</th>\n",
       "      <th>thumbsUpCount</th>\n",
       "      <th>reviewCreatedVersion</th>\n",
       "      <th>at</th>\n",
       "      <th>replyContent</th>\n",
       "      <th>repliedAt</th>\n",
       "      <th>appId</th>\n",
       "      <th>company</th>\n",
       "      <th>year</th>\n",
       "      <th>rating</th>\n",
       "      <th>clean_review</th>\n",
       "      <th>clean_review_len</th>\n",
       "    </tr>\n",
       "  </thead>\n",
       "  <tbody>\n",
       "    <tr>\n",
       "      <th>0</th>\n",
       "      <td>gp:AOqpTOFZYnapoEKajsEGFrCKJ_vmsJ8If4t6mZ5K6xt...</td>\n",
       "      <td>After update my existing policies are not show...</td>\n",
       "      <td>1</td>\n",
       "      <td>0</td>\n",
       "      <td>4.9</td>\n",
       "      <td>2019-10-28 20:49:10</td>\n",
       "      <td>Hi,\\nWe are sorry for the inconvenience caused...</td>\n",
       "      <td>2019-10-29 09:26:51</td>\n",
       "      <td>com.ba.cp.controller</td>\n",
       "      <td>bajaj_allianz</td>\n",
       "      <td>2019</td>\n",
       "      <td>1</td>\n",
       "      <td>update exist policy not show full bug</td>\n",
       "      <td>7</td>\n",
       "    </tr>\n",
       "    <tr>\n",
       "      <th>1</th>\n",
       "      <td>gp:AOqpTOHy0QfB7Y5Uj98Kw7F-iRhMZGUeYNw81fR8ZFW...</td>\n",
       "      <td>Tiring. Just keeps icon rotating. Nothing happ...</td>\n",
       "      <td>1</td>\n",
       "      <td>0</td>\n",
       "      <td>7.7</td>\n",
       "      <td>2021-04-10 15:04:07</td>\n",
       "      <td>Hi Sharad Thombre, We apologize for the inconv...</td>\n",
       "      <td>2021-04-21 10:31:33</td>\n",
       "      <td>com.pms.activity</td>\n",
       "      <td>hdfc_ergo</td>\n",
       "      <td>2021</td>\n",
       "      <td>1</td>\n",
       "      <td>tire keep icon rotate nothing happen wastage time</td>\n",
       "      <td>8</td>\n",
       "    </tr>\n",
       "    <tr>\n",
       "      <th>2</th>\n",
       "      <td>gp:AOqpTOGutSpa6ZgezQpU9b58sHejnifKFX_91Qa2SoQ...</td>\n",
       "      <td>Now it's working properly, thanks</td>\n",
       "      <td>4</td>\n",
       "      <td>0</td>\n",
       "      <td>2.0.17</td>\n",
       "      <td>2021-02-03 15:02:58</td>\n",
       "      <td>Dear Deepak, thanks for your feedback and we v...</td>\n",
       "      <td>2021-02-04 16:10:40</td>\n",
       "      <td>icici.lombard.ghi</td>\n",
       "      <td>icici_lombard</td>\n",
       "      <td>2021</td>\n",
       "      <td>0</td>\n",
       "      <td>work properly thank</td>\n",
       "      <td>3</td>\n",
       "    </tr>\n",
       "    <tr>\n",
       "      <th>3</th>\n",
       "      <td>gp:AOqpTOErT-CbrKgwZlpEKMUBuzlqSlQ5OhR8QOAgA39...</td>\n",
       "      <td>ICICI people ask us to raise the claim through...</td>\n",
       "      <td>1</td>\n",
       "      <td>0</td>\n",
       "      <td>2.0.27</td>\n",
       "      <td>2021-04-14 15:37:37</td>\n",
       "      <td>Dear Bhushan, we apologize for the inconvenien...</td>\n",
       "      <td>2021-04-14 20:09:17</td>\n",
       "      <td>icici.lombard.ghi</td>\n",
       "      <td>icici_lombard</td>\n",
       "      <td>2021</td>\n",
       "      <td>1</td>\n",
       "      <td>people ask raise claim app app crash continuou...</td>\n",
       "      <td>13</td>\n",
       "    </tr>\n",
       "    <tr>\n",
       "      <th>4</th>\n",
       "      <td>gp:AOqpTOE_fRyh1_FEiWVfsG5qCw72bRHskVmI1jwLyNY...</td>\n",
       "      <td>Shaheen explained the app well ..easy to use a...</td>\n",
       "      <td>5</td>\n",
       "      <td>2</td>\n",
       "      <td>2.0.34</td>\n",
       "      <td>2021-06-20 22:18:43</td>\n",
       "      <td>Dear Ruchika, Thank you so much for your valua...</td>\n",
       "      <td>2021-06-21 19:54:40</td>\n",
       "      <td>icici.lombard.ghi</td>\n",
       "      <td>icici_lombard</td>\n",
       "      <td>2021</td>\n",
       "      <td>0</td>\n",
       "      <td>shaheen explain app well easy use various faci...</td>\n",
       "      <td>12</td>\n",
       "    </tr>\n",
       "  </tbody>\n",
       "</table>\n",
       "</div>"
      ],
      "text/plain": [
       "                                            reviewId                                             review  score  thumbsUpCount reviewCreatedVersion                   at                                       replyContent            repliedAt                 appId        company  year  rating                                       clean_review  clean_review_len\n",
       "0  gp:AOqpTOFZYnapoEKajsEGFrCKJ_vmsJ8If4t6mZ5K6xt...  After update my existing policies are not show...      1              0                  4.9  2019-10-28 20:49:10  Hi,\\nWe are sorry for the inconvenience caused...  2019-10-29 09:26:51  com.ba.cp.controller  bajaj_allianz  2019       1              update exist policy not show full bug                 7\n",
       "1  gp:AOqpTOHy0QfB7Y5Uj98Kw7F-iRhMZGUeYNw81fR8ZFW...  Tiring. Just keeps icon rotating. Nothing happ...      1              0                  7.7  2021-04-10 15:04:07  Hi Sharad Thombre, We apologize for the inconv...  2021-04-21 10:31:33      com.pms.activity      hdfc_ergo  2021       1  tire keep icon rotate nothing happen wastage time                 8\n",
       "2  gp:AOqpTOGutSpa6ZgezQpU9b58sHejnifKFX_91Qa2SoQ...                  Now it's working properly, thanks      4              0               2.0.17  2021-02-03 15:02:58  Dear Deepak, thanks for your feedback and we v...  2021-02-04 16:10:40     icici.lombard.ghi  icici_lombard  2021       0                                work properly thank                 3\n",
       "3  gp:AOqpTOErT-CbrKgwZlpEKMUBuzlqSlQ5OhR8QOAgA39...  ICICI people ask us to raise the claim through...      1              0               2.0.27  2021-04-14 15:37:37  Dear Bhushan, we apologize for the inconvenien...  2021-04-14 20:09:17     icici.lombard.ghi  icici_lombard  2021       1  people ask raise claim app app crash continuou...                13\n",
       "4  gp:AOqpTOE_fRyh1_FEiWVfsG5qCw72bRHskVmI1jwLyNY...  Shaheen explained the app well ..easy to use a...      5              2               2.0.34  2021-06-20 22:18:43  Dear Ruchika, Thank you so much for your valua...  2021-06-21 19:54:40     icici.lombard.ghi  icici_lombard  2021       0  shaheen explain app well easy use various faci...                12"
      ]
     },
     "execution_count": 4,
     "metadata": {},
     "output_type": "execute_result"
    }
   ],
   "source": [
    "df_train.head()"
   ]
  },
  {
   "cell_type": "code",
   "execution_count": 5,
   "id": "incident-swift",
   "metadata": {},
   "outputs": [
    {
     "name": "stdout",
     "output_type": "stream",
     "text": [
      "<class 'pandas.core.frame.DataFrame'>\n",
      "RangeIndex: 7980 entries, 0 to 7979\n",
      "Data columns (total 14 columns):\n",
      " #   Column                Non-Null Count  Dtype \n",
      "---  ------                --------------  ----- \n",
      " 0   reviewId              7980 non-null   object\n",
      " 1   review                7980 non-null   object\n",
      " 2   score                 7980 non-null   int64 \n",
      " 3   thumbsUpCount         7980 non-null   int64 \n",
      " 4   reviewCreatedVersion  6944 non-null   object\n",
      " 5   at                    7980 non-null   object\n",
      " 6   replyContent          6047 non-null   object\n",
      " 7   repliedAt             6047 non-null   object\n",
      " 8   appId                 7980 non-null   object\n",
      " 9   company               7980 non-null   object\n",
      " 10  year                  7980 non-null   int64 \n",
      " 11  rating                7980 non-null   int64 \n",
      " 12  clean_review          7980 non-null   object\n",
      " 13  clean_review_len      7980 non-null   int64 \n",
      "dtypes: int64(5), object(9)\n",
      "memory usage: 872.9+ KB\n"
     ]
    }
   ],
   "source": [
    "df_train.info()"
   ]
  },
  {
   "cell_type": "markdown",
   "id": "dress-mozambique",
   "metadata": {},
   "source": [
    "For modelling purpose, we are mainly interested in rating, clean review text and company columns."
   ]
  },
  {
   "cell_type": "code",
   "execution_count": 6,
   "id": "overhead-methodology",
   "metadata": {},
   "outputs": [],
   "source": [
    "df_train = df_train[['rating','clean_review','company']]\n",
    "df_test = df_test[['rating','clean_review','company']]"
   ]
  },
  {
   "cell_type": "code",
   "execution_count": 7,
   "id": "subsequent-ireland",
   "metadata": {},
   "outputs": [
    {
     "data": {
      "image/png": "[encoded data removed]",
      "text/plain": [
       "<Figure size 432x288 with 1 Axes>"
      ]
     },
     "metadata": {},
     "output_type": "display_data"
    }
   ],
   "source": [
    "map_sentiment = {0:'Positive', 1:'Negative'}\n",
    "\n",
    "\n",
    "ax = sns.countplot(y='rating', data= df_train)\n",
    "ax.set_yticklabels(map_sentiment.values())\n",
    "ax.invert_yaxis()\n",
    "plt.ylabel('Sentiment')\n",
    "plt.xlabel('Number of Reviews')\n",
    "plt.title('Number of Reviews by Sentiment');"
   ]
  },
  {
   "cell_type": "markdown",
   "id": "complete-lender",
   "metadata": {},
   "source": [
    "We have 66% negative sentiments and 34% positive sentiments."
   ]
  },
  {
   "cell_type": "markdown",
   "id": "incorporate-sociology",
   "metadata": {},
   "source": [
    "## Evaluation matrix\n",
    "\n",
    "For the GI industry, it is important to increase the adaptation and usage of mobile applications. We are more interested in understanding __what kind of application features or customer services are driving positive or negative sentiments__. We have seen that 40% of customers are not happy with mobile apps. This is a huge number. Hence, our __primary focus will be negative sentiment__. Given this business objective, we will be __using the pr_auc__ matrix as it gives more importance to positive class which in our case is negative sentiment."
   ]
  },
  {
   "cell_type": "markdown",
   "id": "athletic-contribution",
   "metadata": {},
   "source": [
    "## Modelling strategy\n",
    "\n",
    "We are more interested in interpretation and insights. Hence, we consider following algorithms for our classification task. \n",
    "\n",
    "\n",
    "### Modelling :\n",
    "\n",
    "1. __Logistic Regression with l1 regularization__ - Logistic regression is a simple linear algorithm with decent performance. We will use l1 regularization for feature selection. This will also be our base model.\n",
    "2. __MultinomialNB Bayes__ - MultinomialNB Bayes is well suited for text classification task with discrete features.\n",
    "2. __XgBoost__ - XgBoost is known to outperform linear models in many competitions.\n",
    "\n",
    "### Validation :\n",
    "\n",
    "We will use a __3-fold__ cross-validation strategy on train data for hyperparameter tuning and model selection. We will train these models on same set train-validation datasets. To select the best hyperparameters, we will use __RandomSearchCV__ technique. \n",
    "\n",
    "And finally, we will test the performance of the best model on the test dataset. This will give us a better idea of how well the model performs on unseen data."
   ]
  },
  {
   "cell_type": "markdown",
   "id": "graphic-carnival",
   "metadata": {},
   "source": [
    "### Process"
   ]
  },
  {
   "cell_type": "code",
   "execution_count": 8,
   "id": "ordered-seventh",
   "metadata": {},
   "outputs": [],
   "source": [
    "num_folds = 3\n",
    "cv = StratifiedKFold(n_splits= num_folds, shuffle=True, random_state=random_seed)"
   ]
  },
  {
   "cell_type": "code",
   "execution_count": 9,
   "id": "realistic-challenge",
   "metadata": {},
   "outputs": [],
   "source": [
    "y_train = df_train['rating']"
   ]
  },
  {
   "cell_type": "markdown",
   "id": "nasty-sender",
   "metadata": {},
   "source": [
    "We will use company as a feature because we are more interested in industry level issues. With this dummmy, we will control for comapny specific issues. Converting company feature to dummies."
   ]
  },
  {
   "cell_type": "code",
   "execution_count": 10,
   "id": "opposite-swedish",
   "metadata": {},
   "outputs": [],
   "source": [
    "df_dummy_company = pd.get_dummies(df_train['company'],columns = ['company'])"
   ]
  },
  {
   "cell_type": "markdown",
   "id": "respected-better",
   "metadata": {},
   "source": [
    "### Logistic Regression"
   ]
  },
  {
   "cell_type": "code",
   "execution_count": 11,
   "id": "vertical-singer",
   "metadata": {},
   "outputs": [],
   "source": [
    "classifier_lr = LogisticRegression(penalty='l1', solver = 'saga', \n",
    "                                   max_iter=500, tol = 1e-2, \n",
    "                                   random_state=random_seed)\n",
    "\n",
    "param_dists = { 'C': [0.1] }\n",
    "\n",
    "lr_iterations = 1"
   ]
  },
  {
   "cell_type": "markdown",
   "id": "swiss-mileage",
   "metadata": {},
   "source": [
    "### Feature Extraction : \n",
    "For feature extraction from text, we will use CountVectorizer & TfIdf Vectorizer.\n",
    "\n",
    "#### Count Vectorizer"
   ]
  },
  {
   "cell_type": "markdown",
   "id": "wooden-mobility",
   "metadata": {},
   "source": [
    "Below words do not contain any insights and they are coming as important features in our classification task. Hence, we will remove these words. This will somewhat affect our prediction performance. But we are more interested in interpretation and insights than predictions."
   ]
  },
  {
   "cell_type": "code",
   "execution_count": 12,
   "id": "earlier-retention",
   "metadata": {},
   "outputs": [],
   "source": [
    "stop_words = ['no','not','nt','even','try','really','within','poor','useful', 'jinn',\n",
    "              'hello','ever','waste','awesome', 'amazing', 'wrost','useless']\n",
    "# jinn is the name of the application"
   ]
  },
  {
   "cell_type": "markdown",
   "id": "corresponding-advice",
   "metadata": {},
   "source": [
    "We will first find the suitable minimum document frequency(min_df) using logistic regression. Then tune the parameters of different algorithms."
   ]
  },
  {
   "cell_type": "code",
   "execution_count": 13,
   "id": "homeless-calculation",
   "metadata": {},
   "outputs": [],
   "source": [
    "def text_vectorize(text, tfidf = False, min_df = 5, ngram_range = (1,3)):\n",
    "    \"\"\"\n",
    "    derives features from text data\n",
    "    \n",
    "    text - text column df series\n",
    "    tfidf - True for tfidf vectorized data. If False, function returns count vectorized data\n",
    "    min_df, ngram_range - parameters for vectorizers\n",
    "    \n",
    "    df_txt_features - returns dataframe with text features as columns\n",
    "    \"\"\"\n",
    "    \n",
    "    if tfidf == False :\n",
    "        vec = CountVectorizer(stop_words = stop_words,\n",
    "                              min_df= min_df, \n",
    "                              ngram_range= ngram_range)\n",
    "    else :\n",
    "        vec = TfidfVectorizer(stop_words = stop_words,\n",
    "                              min_df = min_df,\n",
    "                              ngram_range = ngram_range,\n",
    "                              smooth_idf=1,\n",
    "                              sublinear_tf=1)\n",
    "    \n",
    "\n",
    "    X = vec.fit_transform(text)\n",
    "    df_txt_features = pd.DataFrame(X.toarray(), columns = vec.get_feature_names())\n",
    "    \n",
    "    \n",
    "    return df_txt_features\n",
    "                                          "
   ]
  },
  {
   "cell_type": "markdown",
   "id": "hourly-hazard",
   "metadata": {},
   "source": [
    "Finding optimum min_df for count vectorizer."
   ]
  },
  {
   "cell_type": "code",
   "execution_count": 14,
   "id": "japanese-current",
   "metadata": {},
   "outputs": [
    {
     "name": "stdout",
     "output_type": "stream",
     "text": [
      "[0.9262952667839147, 0.9266864952372322, 0.9272212190697703, 0.9315015200520116, 0.9342909156092102, 0.9313188232909585]\n",
      "Best score is 0.9342909156092102 & associated best parameter is 80\n"
     ]
    }
   ],
   "source": [
    "min_df_range = [5,10,20,40,80,160]\n",
    "\n",
    "best_result = 0\n",
    "results = []\n",
    "best_params = None\n",
    "\n",
    "for min_df in min_df_range:\n",
    "    \n",
    "    df_txt_cv_feat = text_vectorize(df_train['clean_review'], \n",
    "                                     tfidf = False,\n",
    "                                     min_df= min_df, \n",
    "                                     ngram_range = (1,4))\n",
    "    \n",
    "    X_train = pd.concat([df_txt_cv_feat, df_dummy_company], axis =1)\n",
    "    \n",
    "    cv_lr = RandomizedSearchCV(classifier_lr, \n",
    "                           param_distributions=param_dists, \n",
    "                           scoring = 'average_precision',\n",
    "                           n_iter=lr_iterations, \n",
    "                           cv=cv, \n",
    "                           n_jobs= -2,\n",
    "                           random_state = random_seed)\n",
    "    \n",
    "    cv_lr.fit(X_train, y_train)\n",
    "    \n",
    "    results.append(cv_lr.best_score_)\n",
    "    \n",
    "    if  cv_lr.best_score_ > best_result:\n",
    "        \n",
    "        best_result = cv_lr.best_score_ \n",
    "        best_params = min_df\n",
    "\n",
    "print(results)\n",
    "print('Best score is {} & associated best parameter is {}'.format(best_result,best_params))"
   ]
  },
  {
   "cell_type": "markdown",
   "id": "institutional-bleeding",
   "metadata": {},
   "source": [
    "0.93433 seems to be a good score with __best min_df at 80__ for count vectorizer. "
   ]
  },
  {
   "cell_type": "markdown",
   "id": "dried-carol",
   "metadata": {},
   "source": [
    "#### TfIdf vectorizer\n",
    "\n",
    "Similarly, we find optimum minimun document frequency(min_df) using logistic regression for tfidf vectorizer."
   ]
  },
  {
   "cell_type": "code",
   "execution_count": 15,
   "id": "prostate-firmware",
   "metadata": {},
   "outputs": [
    {
     "name": "stdout",
     "output_type": "stream",
     "text": [
      "[0.8855157732485722, 0.8920688454816692, 0.8981875951453304, 0.9028791198796995, 0.9123217410959743, 0.9152480755261374]\n",
      "TfIdf Best score is 0.9152480755261374 & associated best parameter is 160\n"
     ]
    }
   ],
   "source": [
    "min_df_range = [5,10,20,40,80,160]\n",
    "\n",
    "best_result_tfidf = 0\n",
    "results_tfidf = []\n",
    "best_params_tfidf = None\n",
    "\n",
    "for min_df in min_df_range:\n",
    "    \n",
    "    df_txt_cv_feat = text_vectorize(df_train['clean_review'], \n",
    "                                     tfidf = True,\n",
    "                                     min_df= min_df, \n",
    "                                     ngram_range = (1,4))\n",
    "    \n",
    "    X_train = pd.concat([df_txt_cv_feat, df_dummy_company], axis =1)\n",
    "    \n",
    "    cv_lr = RandomizedSearchCV(classifier_lr, \n",
    "                           param_distributions=param_dists, \n",
    "                           scoring = 'average_precision',\n",
    "                           n_iter=lr_iterations, \n",
    "                           cv=cv, \n",
    "                           n_jobs= -2,\n",
    "                           random_state = random_seed)\n",
    "    \n",
    "    cv_lr.fit(X_train, y_train)\n",
    "    \n",
    "    results_tfidf.append(cv_lr.best_score_)\n",
    "    \n",
    "    if  cv_lr.best_score_ > best_result_tfidf:\n",
    "        \n",
    "        best_result_tfidf = cv_lr.best_score_ \n",
    "        best_params_tfidf = min_df\n",
    "\n",
    "print(results_tfidf)\n",
    "print('TfIdf Best score is {} & associated best parameter is {}'.format(best_result_tfidf,best_params_tfidf))"
   ]
  },
  {
   "cell_type": "markdown",
   "id": "extended-liabilities",
   "metadata": {},
   "source": [
    "0.91525 seems to be a good score with __best min_df at 160__ for tfidf vectorizer. pr_auc of 0.91232 for min_df of 80 is very close to best min_df."
   ]
  },
  {
   "cell_type": "markdown",
   "id": "conservative-scholar",
   "metadata": {},
   "source": [
    "### Tuning Logistic Regression using count vectorizer"
   ]
  },
  {
   "cell_type": "code",
   "execution_count": 16,
   "id": "attractive-auditor",
   "metadata": {},
   "outputs": [
    {
     "data": {
      "text/plain": [
       "(7980, 204)"
      ]
     },
     "execution_count": 16,
     "metadata": {},
     "output_type": "execute_result"
    }
   ],
   "source": [
    "df_txt_cv_feat = text_vectorize(df_train['clean_review'], \n",
    "                                     tfidf = False,\n",
    "                                     min_df= best_params, \n",
    "                                     ngram_range = (1,4))\n",
    "\n",
    "X_train = pd.concat([df_txt_cv_feat, df_dummy_company], axis =1)\n",
    "\n",
    "X_train.shape"
   ]
  },
  {
   "cell_type": "code",
   "execution_count": 17,
   "id": "prompt-arnold",
   "metadata": {},
   "outputs": [],
   "source": [
    "param_dists = { 'C': loguniform(1e-2, 1e2) }\n",
    "\n",
    "lr_iterations = 20"
   ]
  },
  {
   "cell_type": "code",
   "execution_count": 18,
   "id": "criminal-answer",
   "metadata": {},
   "outputs": [
    {
     "name": "stdout",
     "output_type": "stream",
     "text": [
      "Wall time: 7.12 s\n"
     ]
    },
    {
     "data": {
      "text/plain": [
       "RandomizedSearchCV(cv=StratifiedKFold(n_splits=3, random_state=79, shuffle=True),\n",
       "                   estimator=LogisticRegression(max_iter=500, penalty='l1',\n",
       "                                                random_state=79, solver='saga',\n",
       "                                                tol=0.01),\n",
       "                   n_iter=20, n_jobs=-2,\n",
       "                   param_distributions={'C': <scipy.stats._distn_infrastructure.rv_frozen object at 0x0000016284DF6548>},\n",
       "                   random_state=79, scoring='average_precision')"
      ]
     },
     "execution_count": 18,
     "metadata": {},
     "output_type": "execute_result"
    }
   ],
   "source": [
    "%%time\n",
    "cv_lr = RandomizedSearchCV(classifier_lr, \n",
    "                           param_distributions=param_dists, \n",
    "                           scoring = 'average_precision',\n",
    "                           n_iter=lr_iterations, \n",
    "                           cv=cv, \n",
    "                           n_jobs= -2,\n",
    "                           random_state = random_seed)\n",
    "\n",
    "cv_lr.fit(X_train, y_train)"
   ]
  },
  {
   "cell_type": "code",
   "execution_count": 19,
   "id": "lightweight-desert",
   "metadata": {
    "scrolled": false
   },
   "outputs": [
    {
     "data": {
      "text/html": [
       "<div>\n",
       "<style scoped>\n",
       "    .dataframe tbody tr th:only-of-type {\n",
       "        vertical-align: middle;\n",
       "    }\n",
       "\n",
       "    .dataframe tbody tr th {\n",
       "        vertical-align: top;\n",
       "    }\n",
       "\n",
       "    .dataframe thead th {\n",
       "        text-align: right;\n",
       "    }\n",
       "</style>\n",
       "<table border=\"1\" class=\"dataframe\">\n",
       "  <thead>\n",
       "    <tr style=\"text-align: right;\">\n",
       "      <th></th>\n",
       "      <th>mean_fit_time</th>\n",
       "      <th>std_fit_time</th>\n",
       "      <th>mean_score_time</th>\n",
       "      <th>std_score_time</th>\n",
       "      <th>param_C</th>\n",
       "      <th>params</th>\n",
       "      <th>split0_test_score</th>\n",
       "      <th>split1_test_score</th>\n",
       "      <th>split2_test_score</th>\n",
       "      <th>mean_test_score</th>\n",
       "      <th>std_test_score</th>\n",
       "      <th>rank_test_score</th>\n",
       "    </tr>\n",
       "  </thead>\n",
       "  <tbody>\n",
       "    <tr>\n",
       "      <th>6</th>\n",
       "      <td>1.270600</td>\n",
       "      <td>0.094471</td>\n",
       "      <td>0.008976</td>\n",
       "      <td>2.247832e-07</td>\n",
       "      <td>13.082658</td>\n",
       "      <td>{'C': 13.082657999616734}</td>\n",
       "      <td>0.938173</td>\n",
       "      <td>0.946158</td>\n",
       "      <td>0.939398</td>\n",
       "      <td>0.941243</td>\n",
       "      <td>0.003511</td>\n",
       "      <td>1</td>\n",
       "    </tr>\n",
       "    <tr>\n",
       "      <th>10</th>\n",
       "      <td>1.230707</td>\n",
       "      <td>0.099504</td>\n",
       "      <td>0.009309</td>\n",
       "      <td>4.701903e-04</td>\n",
       "      <td>7.02953</td>\n",
       "      <td>{'C': 7.029530209629741}</td>\n",
       "      <td>0.938141</td>\n",
       "      <td>0.946188</td>\n",
       "      <td>0.939372</td>\n",
       "      <td>0.941234</td>\n",
       "      <td>0.003539</td>\n",
       "      <td>2</td>\n",
       "    </tr>\n",
       "    <tr>\n",
       "      <th>4</th>\n",
       "      <td>1.269936</td>\n",
       "      <td>0.095780</td>\n",
       "      <td>0.009642</td>\n",
       "      <td>4.708086e-04</td>\n",
       "      <td>19.103447</td>\n",
       "      <td>{'C': 19.103447239881046}</td>\n",
       "      <td>0.938120</td>\n",
       "      <td>0.946161</td>\n",
       "      <td>0.939410</td>\n",
       "      <td>0.941230</td>\n",
       "      <td>0.003526</td>\n",
       "      <td>3</td>\n",
       "    </tr>\n",
       "    <tr>\n",
       "      <th>7</th>\n",
       "      <td>1.225722</td>\n",
       "      <td>0.072199</td>\n",
       "      <td>0.011303</td>\n",
       "      <td>2.049409e-03</td>\n",
       "      <td>18.210473</td>\n",
       "      <td>{'C': 18.210473217312078}</td>\n",
       "      <td>0.938122</td>\n",
       "      <td>0.946161</td>\n",
       "      <td>0.939408</td>\n",
       "      <td>0.941230</td>\n",
       "      <td>0.003526</td>\n",
       "      <td>4</td>\n",
       "    </tr>\n",
       "    <tr>\n",
       "      <th>11</th>\n",
       "      <td>1.233367</td>\n",
       "      <td>0.122855</td>\n",
       "      <td>0.010306</td>\n",
       "      <td>4.701341e-04</td>\n",
       "      <td>19.250924</td>\n",
       "      <td>{'C': 19.250924111697937}</td>\n",
       "      <td>0.938120</td>\n",
       "      <td>0.946160</td>\n",
       "      <td>0.939409</td>\n",
       "      <td>0.941230</td>\n",
       "      <td>0.003526</td>\n",
       "      <td>5</td>\n",
       "    </tr>\n",
       "  </tbody>\n",
       "</table>\n",
       "</div>"
      ],
      "text/plain": [
       "    mean_fit_time  std_fit_time  mean_score_time  std_score_time    param_C                     params  split0_test_score  split1_test_score  split2_test_score  mean_test_score  std_test_score  rank_test_score\n",
       "6        1.270600      0.094471         0.008976    2.247832e-07  13.082658  {'C': 13.082657999616734}           0.938173           0.946158           0.939398         0.941243        0.003511                1\n",
       "10       1.230707      0.099504         0.009309    4.701903e-04    7.02953   {'C': 7.029530209629741}           0.938141           0.946188           0.939372         0.941234        0.003539                2\n",
       "4        1.269936      0.095780         0.009642    4.708086e-04  19.103447  {'C': 19.103447239881046}           0.938120           0.946161           0.939410         0.941230        0.003526                3\n",
       "7        1.225722      0.072199         0.011303    2.049409e-03  18.210473  {'C': 18.210473217312078}           0.938122           0.946161           0.939408         0.941230        0.003526                4\n",
       "11       1.233367      0.122855         0.010306    4.701341e-04  19.250924  {'C': 19.250924111697937}           0.938120           0.946160           0.939409         0.941230        0.003526                5"
      ]
     },
     "execution_count": 19,
     "metadata": {},
     "output_type": "execute_result"
    }
   ],
   "source": [
    "cv_lr_results = pd.DataFrame(cv_lr.cv_results_)\n",
    "cv_lr_results.sort_values(by='mean_test_score', ascending=False).head(5)"
   ]
  },
  {
   "cell_type": "code",
   "execution_count": 20,
   "id": "potential-package",
   "metadata": {},
   "outputs": [
    {
     "data": {
      "text/plain": [
       "0.9412431766985551"
      ]
     },
     "execution_count": 20,
     "metadata": {},
     "output_type": "execute_result"
    }
   ],
   "source": [
    "cv_lr.best_score_"
   ]
  },
  {
   "cell_type": "code",
   "execution_count": 21,
   "id": "competitive-instruction",
   "metadata": {},
   "outputs": [
    {
     "data": {
      "text/plain": [
       "{'C': 13.082657999616734}"
      ]
     },
     "execution_count": 21,
     "metadata": {},
     "output_type": "execute_result"
    }
   ],
   "source": [
    "cv_lr.best_params_"
   ]
  },
  {
   "cell_type": "markdown",
   "id": "duplicate-kazakhstan",
   "metadata": {},
   "source": [
    "Let us look at feature importance in terms of effect size using coefficients."
   ]
  },
  {
   "cell_type": "code",
   "execution_count": 22,
   "id": "conceptual-alexander",
   "metadata": {},
   "outputs": [],
   "source": [
    "lr_weights = pd.DataFrame(list(zip(X_train.columns ,\n",
    "                                   cv_lr.best_estimator_.coef_[0])),\n",
    "                              columns= ['words','weights'])"
   ]
  },
  {
   "cell_type": "code",
   "execution_count": 23,
   "id": "fabulous-yorkshire",
   "metadata": {},
   "outputs": [
    {
     "data": {
      "text/html": [
       "<div>\n",
       "<style scoped>\n",
       "    .dataframe tbody tr th:only-of-type {\n",
       "        vertical-align: middle;\n",
       "    }\n",
       "\n",
       "    .dataframe tbody tr th {\n",
       "        vertical-align: top;\n",
       "    }\n",
       "\n",
       "    .dataframe thead th {\n",
       "        text-align: right;\n",
       "    }\n",
       "</style>\n",
       "<table border=\"1\" class=\"dataframe\">\n",
       "  <thead>\n",
       "    <tr style=\"text-align: right;\">\n",
       "      <th></th>\n",
       "      <th>words</th>\n",
       "      <th>weights</th>\n",
       "    </tr>\n",
       "  </thead>\n",
       "  <tbody>\n",
       "    <tr>\n",
       "      <th>120</th>\n",
       "      <td>otp</td>\n",
       "      <td>1.068166</td>\n",
       "    </tr>\n",
       "    <tr>\n",
       "      <th>182</th>\n",
       "      <td>unable</td>\n",
       "      <td>1.062995</td>\n",
       "    </tr>\n",
       "    <tr>\n",
       "      <th>159</th>\n",
       "      <td>show</td>\n",
       "      <td>1.047649</td>\n",
       "    </tr>\n",
       "    <tr>\n",
       "      <th>163</th>\n",
       "      <td>slow</td>\n",
       "      <td>0.989414</td>\n",
       "    </tr>\n",
       "    <tr>\n",
       "      <th>117</th>\n",
       "      <td>open</td>\n",
       "      <td>0.988144</td>\n",
       "    </tr>\n",
       "    <tr>\n",
       "      <th>110</th>\n",
       "      <td>never</td>\n",
       "      <td>0.948043</td>\n",
       "    </tr>\n",
       "    <tr>\n",
       "      <th>202</th>\n",
       "      <td>hdfc_ergo</td>\n",
       "      <td>0.917341</td>\n",
       "    </tr>\n",
       "    <tr>\n",
       "      <th>91</th>\n",
       "      <td>load</td>\n",
       "      <td>0.856394</td>\n",
       "    </tr>\n",
       "    <tr>\n",
       "      <th>94</th>\n",
       "      <td>login</td>\n",
       "      <td>0.836556</td>\n",
       "    </tr>\n",
       "    <tr>\n",
       "      <th>183</th>\n",
       "      <td>update</td>\n",
       "      <td>0.818857</td>\n",
       "    </tr>\n",
       "    <tr>\n",
       "      <th>0</th>\n",
       "      <td>able</td>\n",
       "      <td>0.781882</td>\n",
       "    </tr>\n",
       "    <tr>\n",
       "      <th>38</th>\n",
       "      <td>customer</td>\n",
       "      <td>0.688947</td>\n",
       "    </tr>\n",
       "    <tr>\n",
       "      <th>179</th>\n",
       "      <td>time</td>\n",
       "      <td>0.681757</td>\n",
       "    </tr>\n",
       "    <tr>\n",
       "      <th>153</th>\n",
       "      <td>say</td>\n",
       "      <td>0.632923</td>\n",
       "    </tr>\n",
       "    <tr>\n",
       "      <th>37</th>\n",
       "      <td>crash</td>\n",
       "      <td>0.603045</td>\n",
       "    </tr>\n",
       "  </tbody>\n",
       "</table>\n",
       "</div>"
      ],
      "text/plain": [
       "         words   weights\n",
       "120        otp  1.068166\n",
       "182     unable  1.062995\n",
       "159       show  1.047649\n",
       "163       slow  0.989414\n",
       "117       open  0.988144\n",
       "110      never  0.948043\n",
       "202  hdfc_ergo  0.917341\n",
       "91        load  0.856394\n",
       "94       login  0.836556\n",
       "183     update  0.818857\n",
       "0         able  0.781882\n",
       "38    customer  0.688947\n",
       "179       time  0.681757\n",
       "153        say  0.632923\n",
       "37       crash  0.603045"
      ]
     },
     "execution_count": 23,
     "metadata": {},
     "output_type": "execute_result"
    }
   ],
   "source": [
    "lr_weights.sort_values(['weights'], ascending = False).head(15) # top-15 more important features for negaative reviews"
   ]
  },
  {
   "cell_type": "code",
   "execution_count": 24,
   "id": "amateur-stock",
   "metadata": {},
   "outputs": [
    {
     "data": {
      "text/html": [
       "<div>\n",
       "<style scoped>\n",
       "    .dataframe tbody tr th:only-of-type {\n",
       "        vertical-align: middle;\n",
       "    }\n",
       "\n",
       "    .dataframe tbody tr th {\n",
       "        vertical-align: top;\n",
       "    }\n",
       "\n",
       "    .dataframe thead th {\n",
       "        text-align: right;\n",
       "    }\n",
       "</style>\n",
       "<table border=\"1\" class=\"dataframe\">\n",
       "  <thead>\n",
       "    <tr style=\"text-align: right;\">\n",
       "      <th></th>\n",
       "      <th>words</th>\n",
       "      <th>weights</th>\n",
       "    </tr>\n",
       "  </thead>\n",
       "  <tbody>\n",
       "    <tr>\n",
       "      <th>49</th>\n",
       "      <td>easy</td>\n",
       "      <td>-2.387757</td>\n",
       "    </tr>\n",
       "    <tr>\n",
       "      <th>174</th>\n",
       "      <td>thank</td>\n",
       "      <td>-1.957801</td>\n",
       "    </tr>\n",
       "    <tr>\n",
       "      <th>45</th>\n",
       "      <td>doctor</td>\n",
       "      <td>-1.183775</td>\n",
       "    </tr>\n",
       "    <tr>\n",
       "      <th>79</th>\n",
       "      <td>helpful</td>\n",
       "      <td>-1.034041</td>\n",
       "    </tr>\n",
       "    <tr>\n",
       "      <th>61</th>\n",
       "      <td>fast</td>\n",
       "      <td>-1.021177</td>\n",
       "    </tr>\n",
       "    <tr>\n",
       "      <th>139</th>\n",
       "      <td>quick</td>\n",
       "      <td>-0.928002</td>\n",
       "    </tr>\n",
       "    <tr>\n",
       "      <th>161</th>\n",
       "      <td>simple</td>\n",
       "      <td>-0.694266</td>\n",
       "    </tr>\n",
       "    <tr>\n",
       "      <th>68</th>\n",
       "      <td>friendly</td>\n",
       "      <td>-0.662794</td>\n",
       "    </tr>\n",
       "    <tr>\n",
       "      <th>62</th>\n",
       "      <td>feature</td>\n",
       "      <td>-0.662073</td>\n",
       "    </tr>\n",
       "    <tr>\n",
       "      <th>67</th>\n",
       "      <td>free</td>\n",
       "      <td>-0.627302</td>\n",
       "    </tr>\n",
       "    <tr>\n",
       "      <th>203</th>\n",
       "      <td>icici_lombard</td>\n",
       "      <td>-0.607153</td>\n",
       "    </tr>\n",
       "    <tr>\n",
       "      <th>75</th>\n",
       "      <td>happy</td>\n",
       "      <td>-0.579195</td>\n",
       "    </tr>\n",
       "    <tr>\n",
       "      <th>200</th>\n",
       "      <td>acko</td>\n",
       "      <td>-0.513627</td>\n",
       "    </tr>\n",
       "    <tr>\n",
       "      <th>78</th>\n",
       "      <td>help</td>\n",
       "      <td>-0.433099</td>\n",
       "    </tr>\n",
       "    <tr>\n",
       "      <th>50</th>\n",
       "      <td>easy use</td>\n",
       "      <td>-0.432295</td>\n",
       "    </tr>\n",
       "  </tbody>\n",
       "</table>\n",
       "</div>"
      ],
      "text/plain": [
       "             words   weights\n",
       "49            easy -2.387757\n",
       "174          thank -1.957801\n",
       "45          doctor -1.183775\n",
       "79         helpful -1.034041\n",
       "61            fast -1.021177\n",
       "139          quick -0.928002\n",
       "161         simple -0.694266\n",
       "68        friendly -0.662794\n",
       "62         feature -0.662073\n",
       "67            free -0.627302\n",
       "203  icici_lombard -0.607153\n",
       "75           happy -0.579195\n",
       "200           acko -0.513627\n",
       "78            help -0.433099\n",
       "50        easy use -0.432295"
      ]
     },
     "execution_count": 24,
     "metadata": {},
     "output_type": "execute_result"
    }
   ],
   "source": [
    "lr_weights.sort_values(['weights']).head(15) # top-15 more important features for positive reviews"
   ]
  },
  {
   "cell_type": "markdown",
   "id": "recent-rapid",
   "metadata": {},
   "source": [
    "Customers had a __negative__ experience when using the app for\n",
    "1. Customers faced issues in receiving __OTP__(One Time Password).\n",
    "2. The app was __not showing__ policy / claims details.\n",
    "3. The app was  __slow / not loading / opening / crashing__.\n",
    "4. Customers were not able to __login__ \n",
    "5. HDFC Ergo is associated with negative sentiment. \n",
    "\n",
    "Customers had an __positive__ experience when using the app. \n",
    "1. The app was __easy / simple / friendly__.\n",
    "2. The app was __fast / quick__.\n",
    "3. Hello __doctor__ tele-consultation service is helpful. "
   ]
  },
  {
   "cell_type": "markdown",
   "id": "operational-commercial",
   "metadata": {},
   "source": [
    "### Tuning Logistic Regression using tfidf vectorizer\n"
   ]
  },
  {
   "cell_type": "code",
   "execution_count": 25,
   "id": "whole-radius",
   "metadata": {},
   "outputs": [
    {
     "data": {
      "text/plain": [
       "(7980, 99)"
      ]
     },
     "execution_count": 25,
     "metadata": {},
     "output_type": "execute_result"
    }
   ],
   "source": [
    "df_txt_tfidf_feat = text_vectorize(df_train['clean_review'], \n",
    "                                     tfidf = True,\n",
    "                                     min_df= best_params_tfidf, \n",
    "                                     ngram_range = (1,4))\n",
    "\n",
    "X_train_tfidf = pd.concat([df_txt_tfidf_feat, df_dummy_company], axis =1)\n",
    "X_train_tfidf.shape"
   ]
  },
  {
   "cell_type": "code",
   "execution_count": 26,
   "id": "brilliant-remains",
   "metadata": {},
   "outputs": [
    {
     "name": "stdout",
     "output_type": "stream",
     "text": [
      "Wall time: 1.4 s\n"
     ]
    },
    {
     "data": {
      "text/plain": [
       "RandomizedSearchCV(cv=StratifiedKFold(n_splits=3, random_state=79, shuffle=True),\n",
       "                   estimator=LogisticRegression(max_iter=500, penalty='l1',\n",
       "                                                random_state=79, solver='saga',\n",
       "                                                tol=0.01),\n",
       "                   n_iter=20, n_jobs=-2,\n",
       "                   param_distributions={'C': <scipy.stats._distn_infrastructure.rv_frozen object at 0x0000016284DF6548>},\n",
       "                   random_state=79, scoring='average_precision')"
      ]
     },
     "execution_count": 26,
     "metadata": {},
     "output_type": "execute_result"
    }
   ],
   "source": [
    "%%time\n",
    "cv_lr_tfidf = RandomizedSearchCV(classifier_lr, \n",
    "                           param_distributions=param_dists, \n",
    "                           scoring = 'average_precision',\n",
    "                           n_iter=lr_iterations, \n",
    "                           cv=cv, \n",
    "                           n_jobs= -2,\n",
    "                           random_state = random_seed)\n",
    "\n",
    "cv_lr_tfidf.fit(X_train_tfidf, y_train)"
   ]
  },
  {
   "cell_type": "code",
   "execution_count": 27,
   "id": "quantitative-canyon",
   "metadata": {},
   "outputs": [
    {
     "data": {
      "text/html": [
       "<div>\n",
       "<style scoped>\n",
       "    .dataframe tbody tr th:only-of-type {\n",
       "        vertical-align: middle;\n",
       "    }\n",
       "\n",
       "    .dataframe tbody tr th {\n",
       "        vertical-align: top;\n",
       "    }\n",
       "\n",
       "    .dataframe thead th {\n",
       "        text-align: right;\n",
       "    }\n",
       "</style>\n",
       "<table border=\"1\" class=\"dataframe\">\n",
       "  <thead>\n",
       "    <tr style=\"text-align: right;\">\n",
       "      <th></th>\n",
       "      <th>mean_fit_time</th>\n",
       "      <th>std_fit_time</th>\n",
       "      <th>mean_score_time</th>\n",
       "      <th>std_score_time</th>\n",
       "      <th>param_C</th>\n",
       "      <th>params</th>\n",
       "      <th>split0_test_score</th>\n",
       "      <th>split1_test_score</th>\n",
       "      <th>split2_test_score</th>\n",
       "      <th>mean_test_score</th>\n",
       "      <th>std_test_score</th>\n",
       "      <th>rank_test_score</th>\n",
       "    </tr>\n",
       "  </thead>\n",
       "  <tbody>\n",
       "    <tr>\n",
       "      <th>14</th>\n",
       "      <td>0.173536</td>\n",
       "      <td>0.008617</td>\n",
       "      <td>0.006316</td>\n",
       "      <td>0.001695</td>\n",
       "      <td>1.747024</td>\n",
       "      <td>{'C': 1.7470236401254036}</td>\n",
       "      <td>0.936597</td>\n",
       "      <td>0.939616</td>\n",
       "      <td>0.938707</td>\n",
       "      <td>0.938307</td>\n",
       "      <td>0.001265</td>\n",
       "      <td>1</td>\n",
       "    </tr>\n",
       "    <tr>\n",
       "      <th>10</th>\n",
       "      <td>0.187830</td>\n",
       "      <td>0.013063</td>\n",
       "      <td>0.005986</td>\n",
       "      <td>0.000814</td>\n",
       "      <td>7.02953</td>\n",
       "      <td>{'C': 7.029530209629741}</td>\n",
       "      <td>0.936721</td>\n",
       "      <td>0.939206</td>\n",
       "      <td>0.938849</td>\n",
       "      <td>0.938259</td>\n",
       "      <td>0.001097</td>\n",
       "      <td>2</td>\n",
       "    </tr>\n",
       "    <tr>\n",
       "      <th>15</th>\n",
       "      <td>0.175198</td>\n",
       "      <td>0.001244</td>\n",
       "      <td>0.006650</td>\n",
       "      <td>0.000470</td>\n",
       "      <td>1.147422</td>\n",
       "      <td>{'C': 1.1474217553123074}</td>\n",
       "      <td>0.936416</td>\n",
       "      <td>0.939781</td>\n",
       "      <td>0.938534</td>\n",
       "      <td>0.938244</td>\n",
       "      <td>0.001389</td>\n",
       "      <td>3</td>\n",
       "    </tr>\n",
       "    <tr>\n",
       "      <th>4</th>\n",
       "      <td>0.199467</td>\n",
       "      <td>0.005086</td>\n",
       "      <td>0.006649</td>\n",
       "      <td>0.000470</td>\n",
       "      <td>19.103447</td>\n",
       "      <td>{'C': 19.103447239881046}</td>\n",
       "      <td>0.936769</td>\n",
       "      <td>0.939081</td>\n",
       "      <td>0.938877</td>\n",
       "      <td>0.938242</td>\n",
       "      <td>0.001045</td>\n",
       "      <td>4</td>\n",
       "    </tr>\n",
       "    <tr>\n",
       "      <th>11</th>\n",
       "      <td>0.194480</td>\n",
       "      <td>0.005340</td>\n",
       "      <td>0.007314</td>\n",
       "      <td>0.000470</td>\n",
       "      <td>19.250924</td>\n",
       "      <td>{'C': 19.250924111697937}</td>\n",
       "      <td>0.936767</td>\n",
       "      <td>0.939078</td>\n",
       "      <td>0.938876</td>\n",
       "      <td>0.938241</td>\n",
       "      <td>0.001045</td>\n",
       "      <td>5</td>\n",
       "    </tr>\n",
       "  </tbody>\n",
       "</table>\n",
       "</div>"
      ],
      "text/plain": [
       "    mean_fit_time  std_fit_time  mean_score_time  std_score_time    param_C                     params  split0_test_score  split1_test_score  split2_test_score  mean_test_score  std_test_score  rank_test_score\n",
       "14       0.173536      0.008617         0.006316        0.001695   1.747024  {'C': 1.7470236401254036}           0.936597           0.939616           0.938707         0.938307        0.001265                1\n",
       "10       0.187830      0.013063         0.005986        0.000814    7.02953   {'C': 7.029530209629741}           0.936721           0.939206           0.938849         0.938259        0.001097                2\n",
       "15       0.175198      0.001244         0.006650        0.000470   1.147422  {'C': 1.1474217553123074}           0.936416           0.939781           0.938534         0.938244        0.001389                3\n",
       "4        0.199467      0.005086         0.006649        0.000470  19.103447  {'C': 19.103447239881046}           0.936769           0.939081           0.938877         0.938242        0.001045                4\n",
       "11       0.194480      0.005340         0.007314        0.000470  19.250924  {'C': 19.250924111697937}           0.936767           0.939078           0.938876         0.938241        0.001045                5"
      ]
     },
     "execution_count": 27,
     "metadata": {},
     "output_type": "execute_result"
    }
   ],
   "source": [
    "cv_lr_results_tfidf = pd.DataFrame(cv_lr_tfidf.cv_results_)\n",
    "cv_lr_results_tfidf.sort_values(by='mean_test_score', ascending=False).head(5)"
   ]
  },
  {
   "cell_type": "code",
   "execution_count": 28,
   "id": "amino-teacher",
   "metadata": {},
   "outputs": [
    {
     "data": {
      "text/plain": [
       "0.9383065410008697"
      ]
     },
     "execution_count": 28,
     "metadata": {},
     "output_type": "execute_result"
    }
   ],
   "source": [
    "cv_lr_tfidf.best_score_"
   ]
  },
  {
   "cell_type": "code",
   "execution_count": 29,
   "id": "demanding-shooting",
   "metadata": {},
   "outputs": [
    {
     "data": {
      "text/plain": [
       "{'C': 1.7470236401254036}"
      ]
     },
     "execution_count": 29,
     "metadata": {},
     "output_type": "execute_result"
    }
   ],
   "source": [
    "cv_lr_tfidf.best_params_"
   ]
  },
  {
   "cell_type": "markdown",
   "id": "outstanding-venue",
   "metadata": {},
   "source": [
    "Let us look at feature importance in terms of effect size using coefficients."
   ]
  },
  {
   "cell_type": "code",
   "execution_count": 30,
   "id": "existing-sauce",
   "metadata": {},
   "outputs": [],
   "source": [
    "lr_tfidf_weights = pd.DataFrame(list(zip(X_train_tfidf.columns ,\n",
    "                                   cv_lr_tfidf.best_estimator_.coef_[0])),\n",
    "                              columns= ['words','weights'])"
   ]
  },
  {
   "cell_type": "code",
   "execution_count": 31,
   "id": "verbal-belfast",
   "metadata": {},
   "outputs": [
    {
     "data": {
      "text/html": [
       "<div>\n",
       "<style scoped>\n",
       "    .dataframe tbody tr th:only-of-type {\n",
       "        vertical-align: middle;\n",
       "    }\n",
       "\n",
       "    .dataframe tbody tr th {\n",
       "        vertical-align: top;\n",
       "    }\n",
       "\n",
       "    .dataframe thead th {\n",
       "        text-align: right;\n",
       "    }\n",
       "</style>\n",
       "<table border=\"1\" class=\"dataframe\">\n",
       "  <thead>\n",
       "    <tr style=\"text-align: right;\">\n",
       "      <th></th>\n",
       "      <th>words</th>\n",
       "      <th>weights</th>\n",
       "    </tr>\n",
       "  </thead>\n",
       "  <tbody>\n",
       "    <tr>\n",
       "      <th>53</th>\n",
       "      <td>never</td>\n",
       "      <td>4.370162</td>\n",
       "    </tr>\n",
       "    <tr>\n",
       "      <th>42</th>\n",
       "      <td>load</td>\n",
       "      <td>4.197413</td>\n",
       "    </tr>\n",
       "    <tr>\n",
       "      <th>57</th>\n",
       "      <td>open</td>\n",
       "      <td>4.065379</td>\n",
       "    </tr>\n",
       "    <tr>\n",
       "      <th>43</th>\n",
       "      <td>loading</td>\n",
       "      <td>3.884593</td>\n",
       "    </tr>\n",
       "    <tr>\n",
       "      <th>59</th>\n",
       "      <td>otp</td>\n",
       "      <td>3.880319</td>\n",
       "    </tr>\n",
       "    <tr>\n",
       "      <th>15</th>\n",
       "      <td>customer care</td>\n",
       "      <td>3.536942</td>\n",
       "    </tr>\n",
       "    <tr>\n",
       "      <th>44</th>\n",
       "      <td>login</td>\n",
       "      <td>3.457203</td>\n",
       "    </tr>\n",
       "    <tr>\n",
       "      <th>78</th>\n",
       "      <td>slow</td>\n",
       "      <td>3.387839</td>\n",
       "    </tr>\n",
       "    <tr>\n",
       "      <th>85</th>\n",
       "      <td>unable</td>\n",
       "      <td>3.346794</td>\n",
       "    </tr>\n",
       "    <tr>\n",
       "      <th>65</th>\n",
       "      <td>properly</td>\n",
       "      <td>3.344300</td>\n",
       "    </tr>\n",
       "    <tr>\n",
       "      <th>77</th>\n",
       "      <td>show</td>\n",
       "      <td>3.060308</td>\n",
       "    </tr>\n",
       "    <tr>\n",
       "      <th>73</th>\n",
       "      <td>say</td>\n",
       "      <td>2.959124</td>\n",
       "    </tr>\n",
       "    <tr>\n",
       "      <th>6</th>\n",
       "      <td>ask</td>\n",
       "      <td>2.805912</td>\n",
       "    </tr>\n",
       "    <tr>\n",
       "      <th>0</th>\n",
       "      <td>able</td>\n",
       "      <td>2.414995</td>\n",
       "    </tr>\n",
       "    <tr>\n",
       "      <th>23</th>\n",
       "      <td>error</td>\n",
       "      <td>2.329477</td>\n",
       "    </tr>\n",
       "  </tbody>\n",
       "</table>\n",
       "</div>"
      ],
      "text/plain": [
       "            words   weights\n",
       "53          never  4.370162\n",
       "42           load  4.197413\n",
       "57           open  4.065379\n",
       "43        loading  3.884593\n",
       "59            otp  3.880319\n",
       "15  customer care  3.536942\n",
       "44          login  3.457203\n",
       "78           slow  3.387839\n",
       "85         unable  3.346794\n",
       "65       properly  3.344300\n",
       "77           show  3.060308\n",
       "73            say  2.959124\n",
       "6             ask  2.805912\n",
       "0            able  2.414995\n",
       "23          error  2.329477"
      ]
     },
     "execution_count": 31,
     "metadata": {},
     "output_type": "execute_result"
    }
   ],
   "source": [
    "lr_tfidf_weights.sort_values(['weights'], ascending = False).head(15) # top-15 important features for negaative reviews"
   ]
  },
  {
   "cell_type": "code",
   "execution_count": 32,
   "id": "removable-separation",
   "metadata": {},
   "outputs": [
    {
     "data": {
      "text/html": [
       "<div>\n",
       "<style scoped>\n",
       "    .dataframe tbody tr th:only-of-type {\n",
       "        vertical-align: middle;\n",
       "    }\n",
       "\n",
       "    .dataframe tbody tr th {\n",
       "        vertical-align: top;\n",
       "    }\n",
       "\n",
       "    .dataframe thead th {\n",
       "        text-align: right;\n",
       "    }\n",
       "</style>\n",
       "<table border=\"1\" class=\"dataframe\">\n",
       "  <thead>\n",
       "    <tr style=\"text-align: right;\">\n",
       "      <th></th>\n",
       "      <th>words</th>\n",
       "      <th>weights</th>\n",
       "    </tr>\n",
       "  </thead>\n",
       "  <tbody>\n",
       "    <tr>\n",
       "      <th>21</th>\n",
       "      <td>easy</td>\n",
       "      <td>-7.020972</td>\n",
       "    </tr>\n",
       "    <tr>\n",
       "      <th>83</th>\n",
       "      <td>thank</td>\n",
       "      <td>-6.475556</td>\n",
       "    </tr>\n",
       "    <tr>\n",
       "      <th>18</th>\n",
       "      <td>doctor</td>\n",
       "      <td>-4.029159</td>\n",
       "    </tr>\n",
       "    <tr>\n",
       "      <th>27</th>\n",
       "      <td>fast</td>\n",
       "      <td>-2.847144</td>\n",
       "    </tr>\n",
       "    <tr>\n",
       "      <th>28</th>\n",
       "      <td>friendly</td>\n",
       "      <td>-1.737471</td>\n",
       "    </tr>\n",
       "    <tr>\n",
       "      <th>11</th>\n",
       "      <td>care</td>\n",
       "      <td>-1.123804</td>\n",
       "    </tr>\n",
       "    <tr>\n",
       "      <th>32</th>\n",
       "      <td>health</td>\n",
       "      <td>-0.614645</td>\n",
       "    </tr>\n",
       "    <tr>\n",
       "      <th>34</th>\n",
       "      <td>help</td>\n",
       "      <td>-0.597493</td>\n",
       "    </tr>\n",
       "    <tr>\n",
       "      <th>93</th>\n",
       "      <td>well</td>\n",
       "      <td>-0.575553</td>\n",
       "    </tr>\n",
       "    <tr>\n",
       "      <th>98</th>\n",
       "      <td>icici_lombard</td>\n",
       "      <td>-0.558444</td>\n",
       "    </tr>\n",
       "    <tr>\n",
       "      <th>52</th>\n",
       "      <td>need</td>\n",
       "      <td>-0.523400</td>\n",
       "    </tr>\n",
       "    <tr>\n",
       "      <th>64</th>\n",
       "      <td>process</td>\n",
       "      <td>-0.520620</td>\n",
       "    </tr>\n",
       "    <tr>\n",
       "      <th>95</th>\n",
       "      <td>acko</td>\n",
       "      <td>-0.519734</td>\n",
       "    </tr>\n",
       "    <tr>\n",
       "      <th>90</th>\n",
       "      <td>user</td>\n",
       "      <td>-0.465405</td>\n",
       "    </tr>\n",
       "    <tr>\n",
       "      <th>88</th>\n",
       "      <td>use</td>\n",
       "      <td>-0.294187</td>\n",
       "    </tr>\n",
       "  </tbody>\n",
       "</table>\n",
       "</div>"
      ],
      "text/plain": [
       "            words   weights\n",
       "21           easy -7.020972\n",
       "83          thank -6.475556\n",
       "18         doctor -4.029159\n",
       "27           fast -2.847144\n",
       "28       friendly -1.737471\n",
       "11           care -1.123804\n",
       "32         health -0.614645\n",
       "34           help -0.597493\n",
       "93           well -0.575553\n",
       "98  icici_lombard -0.558444\n",
       "52           need -0.523400\n",
       "64        process -0.520620\n",
       "95           acko -0.519734\n",
       "90           user -0.465405\n",
       "88            use -0.294187"
      ]
     },
     "execution_count": 32,
     "metadata": {},
     "output_type": "execute_result"
    }
   ],
   "source": [
    "lr_tfidf_weights.sort_values(['weights']).head(15) # top-15 important features for positive reviews"
   ]
  },
  {
   "cell_type": "markdown",
   "id": "acute-culture",
   "metadata": {},
   "source": [
    "We see similar features importance with LR-TfIdf model. "
   ]
  },
  {
   "cell_type": "markdown",
   "id": "light-arrival",
   "metadata": {},
   "source": [
    "### Tuning Multinomial Naive Bayes using count vectorizer"
   ]
  },
  {
   "cell_type": "code",
   "execution_count": 33,
   "id": "olive-center",
   "metadata": {},
   "outputs": [],
   "source": [
    "clf_mb = MultinomialNB()\n",
    "\n",
    "mb_param_dists = { 'alpha': loguniform(1e-2, 1e2) }\n",
    "\n",
    "mb_iterations = 20"
   ]
  },
  {
   "cell_type": "code",
   "execution_count": 34,
   "id": "attractive-columbus",
   "metadata": {},
   "outputs": [
    {
     "name": "stdout",
     "output_type": "stream",
     "text": [
      "Wall time: 602 ms\n"
     ]
    },
    {
     "data": {
      "text/plain": [
       "RandomizedSearchCV(cv=StratifiedKFold(n_splits=3, random_state=79, shuffle=True),\n",
       "                   estimator=MultinomialNB(), n_iter=20, n_jobs=-2,\n",
       "                   param_distributions={'alpha': <scipy.stats._distn_infrastructure.rv_frozen object at 0x0000016285E84508>},\n",
       "                   random_state=79, scoring='average_precision')"
      ]
     },
     "execution_count": 34,
     "metadata": {},
     "output_type": "execute_result"
    }
   ],
   "source": [
    "%%time\n",
    "cv_mb = RandomizedSearchCV(clf_mb, \n",
    "                           param_distributions=mb_param_dists, \n",
    "                           scoring = 'average_precision',\n",
    "                           n_iter=lr_iterations, \n",
    "                           cv=cv, \n",
    "                           n_jobs= -2,\n",
    "                           random_state = random_seed)\n",
    "\n",
    "cv_mb.fit(X_train, y_train)"
   ]
  },
  {
   "cell_type": "code",
   "execution_count": 35,
   "id": "elder-check",
   "metadata": {},
   "outputs": [
    {
     "data": {
      "text/html": [
       "<div>\n",
       "<style scoped>\n",
       "    .dataframe tbody tr th:only-of-type {\n",
       "        vertical-align: middle;\n",
       "    }\n",
       "\n",
       "    .dataframe tbody tr th {\n",
       "        vertical-align: top;\n",
       "    }\n",
       "\n",
       "    .dataframe thead th {\n",
       "        text-align: right;\n",
       "    }\n",
       "</style>\n",
       "<table border=\"1\" class=\"dataframe\">\n",
       "  <thead>\n",
       "    <tr style=\"text-align: right;\">\n",
       "      <th></th>\n",
       "      <th>mean_fit_time</th>\n",
       "      <th>std_fit_time</th>\n",
       "      <th>mean_score_time</th>\n",
       "      <th>std_score_time</th>\n",
       "      <th>param_alpha</th>\n",
       "      <th>params</th>\n",
       "      <th>split0_test_score</th>\n",
       "      <th>split1_test_score</th>\n",
       "      <th>split2_test_score</th>\n",
       "      <th>mean_test_score</th>\n",
       "      <th>std_test_score</th>\n",
       "      <th>rank_test_score</th>\n",
       "    </tr>\n",
       "  </thead>\n",
       "  <tbody>\n",
       "    <tr>\n",
       "      <th>8</th>\n",
       "      <td>0.047539</td>\n",
       "      <td>0.002859</td>\n",
       "      <td>0.018283</td>\n",
       "      <td>0.000470</td>\n",
       "      <td>0.011461</td>\n",
       "      <td>{'alpha': 0.011460646290589925}</td>\n",
       "      <td>0.935552</td>\n",
       "      <td>0.940535</td>\n",
       "      <td>0.944453</td>\n",
       "      <td>0.940180</td>\n",
       "      <td>0.003642</td>\n",
       "      <td>1</td>\n",
       "    </tr>\n",
       "    <tr>\n",
       "      <th>17</th>\n",
       "      <td>0.046875</td>\n",
       "      <td>0.000814</td>\n",
       "      <td>0.015292</td>\n",
       "      <td>0.000470</td>\n",
       "      <td>0.05654</td>\n",
       "      <td>{'alpha': 0.05654044069745078}</td>\n",
       "      <td>0.935176</td>\n",
       "      <td>0.940845</td>\n",
       "      <td>0.944322</td>\n",
       "      <td>0.940114</td>\n",
       "      <td>0.003769</td>\n",
       "      <td>2</td>\n",
       "    </tr>\n",
       "    <tr>\n",
       "      <th>9</th>\n",
       "      <td>0.048538</td>\n",
       "      <td>0.006778</td>\n",
       "      <td>0.018948</td>\n",
       "      <td>0.001409</td>\n",
       "      <td>0.081343</td>\n",
       "      <td>{'alpha': 0.08134276174546005}</td>\n",
       "      <td>0.935174</td>\n",
       "      <td>0.940883</td>\n",
       "      <td>0.944268</td>\n",
       "      <td>0.940108</td>\n",
       "      <td>0.003753</td>\n",
       "      <td>3</td>\n",
       "    </tr>\n",
       "    <tr>\n",
       "      <th>19</th>\n",
       "      <td>0.034240</td>\n",
       "      <td>0.006532</td>\n",
       "      <td>0.007646</td>\n",
       "      <td>0.000940</td>\n",
       "      <td>0.116208</td>\n",
       "      <td>{'alpha': 0.11620835092990324}</td>\n",
       "      <td>0.935139</td>\n",
       "      <td>0.940945</td>\n",
       "      <td>0.944223</td>\n",
       "      <td>0.940102</td>\n",
       "      <td>0.003756</td>\n",
       "      <td>4</td>\n",
       "    </tr>\n",
       "    <tr>\n",
       "      <th>16</th>\n",
       "      <td>0.044878</td>\n",
       "      <td>0.001412</td>\n",
       "      <td>0.016622</td>\n",
       "      <td>0.001881</td>\n",
       "      <td>0.140622</td>\n",
       "      <td>{'alpha': 0.1406220144178179}</td>\n",
       "      <td>0.935122</td>\n",
       "      <td>0.940973</td>\n",
       "      <td>0.944197</td>\n",
       "      <td>0.940098</td>\n",
       "      <td>0.003756</td>\n",
       "      <td>5</td>\n",
       "    </tr>\n",
       "  </tbody>\n",
       "</table>\n",
       "</div>"
      ],
      "text/plain": [
       "    mean_fit_time  std_fit_time  mean_score_time  std_score_time param_alpha                           params  split0_test_score  split1_test_score  split2_test_score  mean_test_score  std_test_score  rank_test_score\n",
       "8        0.047539      0.002859         0.018283        0.000470    0.011461  {'alpha': 0.011460646290589925}           0.935552           0.940535           0.944453         0.940180        0.003642                1\n",
       "17       0.046875      0.000814         0.015292        0.000470     0.05654   {'alpha': 0.05654044069745078}           0.935176           0.940845           0.944322         0.940114        0.003769                2\n",
       "9        0.048538      0.006778         0.018948        0.001409    0.081343   {'alpha': 0.08134276174546005}           0.935174           0.940883           0.944268         0.940108        0.003753                3\n",
       "19       0.034240      0.006532         0.007646        0.000940    0.116208   {'alpha': 0.11620835092990324}           0.935139           0.940945           0.944223         0.940102        0.003756                4\n",
       "16       0.044878      0.001412         0.016622        0.001881    0.140622    {'alpha': 0.1406220144178179}           0.935122           0.940973           0.944197         0.940098        0.003756                5"
      ]
     },
     "execution_count": 35,
     "metadata": {},
     "output_type": "execute_result"
    }
   ],
   "source": [
    "cv_mb_results = pd.DataFrame(cv_mb.cv_results_)\n",
    "cv_mb_results.sort_values(by='mean_test_score', ascending=False).head(5)"
   ]
  },
  {
   "cell_type": "code",
   "execution_count": 36,
   "id": "handy-share",
   "metadata": {},
   "outputs": [
    {
     "data": {
      "text/plain": [
       "0.9401804041402314"
      ]
     },
     "execution_count": 36,
     "metadata": {},
     "output_type": "execute_result"
    }
   ],
   "source": [
    "cv_mb.best_score_"
   ]
  },
  {
   "cell_type": "code",
   "execution_count": 37,
   "id": "powerful-martin",
   "metadata": {},
   "outputs": [
    {
     "data": {
      "text/plain": [
       "{'alpha': 0.011460646290589925}"
      ]
     },
     "execution_count": 37,
     "metadata": {},
     "output_type": "execute_result"
    }
   ],
   "source": [
    "cv_mb.best_params_"
   ]
  },
  {
   "cell_type": "markdown",
   "id": "horizontal-sleep",
   "metadata": {},
   "source": [
    "Getting important features and associated probabilities."
   ]
  },
  {
   "cell_type": "code",
   "execution_count": 38,
   "id": "threaded-fitness",
   "metadata": {},
   "outputs": [],
   "source": [
    "x = np.eye(X_train.shape[1])\n",
    "probs = cv_mb.best_estimator_.predict_proba(x)[:, 1]\n",
    "ind = np.argsort(probs)\n",
    "\n",
    "positive_words = X_train.columns[ind[:15]]\n",
    "negative_words = X_train.columns[ind[-15:]]\n",
    "\n",
    "positive_prob = probs[ind[:15]]\n",
    "negative_prob = probs[ind[-15:]]"
   ]
  },
  {
   "cell_type": "code",
   "execution_count": 39,
   "id": "medieval-punishment",
   "metadata": {
    "scrolled": false
   },
   "outputs": [
    {
     "data": {
      "text/html": [
       "<div>\n",
       "<style scoped>\n",
       "    .dataframe tbody tr th:only-of-type {\n",
       "        vertical-align: middle;\n",
       "    }\n",
       "\n",
       "    .dataframe tbody tr th {\n",
       "        vertical-align: top;\n",
       "    }\n",
       "\n",
       "    .dataframe thead th {\n",
       "        text-align: right;\n",
       "    }\n",
       "</style>\n",
       "<table border=\"1\" class=\"dataframe\">\n",
       "  <thead>\n",
       "    <tr style=\"text-align: right;\">\n",
       "      <th></th>\n",
       "      <th>words</th>\n",
       "      <th>P(Negative | word)</th>\n",
       "    </tr>\n",
       "  </thead>\n",
       "  <tbody>\n",
       "    <tr>\n",
       "      <th>14</th>\n",
       "      <td>slow app</td>\n",
       "      <td>0.999784</td>\n",
       "    </tr>\n",
       "    <tr>\n",
       "      <th>13</th>\n",
       "      <td>loading</td>\n",
       "      <td>0.984085</td>\n",
       "    </tr>\n",
       "    <tr>\n",
       "      <th>12</th>\n",
       "      <td>work properly</td>\n",
       "      <td>0.966777</td>\n",
       "    </tr>\n",
       "    <tr>\n",
       "      <th>11</th>\n",
       "      <td>exist</td>\n",
       "      <td>0.966385</td>\n",
       "    </tr>\n",
       "    <tr>\n",
       "      <th>10</th>\n",
       "      <td>every time</td>\n",
       "      <td>0.957028</td>\n",
       "    </tr>\n",
       "    <tr>\n",
       "      <th>9</th>\n",
       "      <td>show policy</td>\n",
       "      <td>0.950579</td>\n",
       "    </tr>\n",
       "    <tr>\n",
       "      <th>8</th>\n",
       "      <td>add policy</td>\n",
       "      <td>0.947608</td>\n",
       "    </tr>\n",
       "    <tr>\n",
       "      <th>7</th>\n",
       "      <td>load</td>\n",
       "      <td>0.945043</td>\n",
       "    </tr>\n",
       "    <tr>\n",
       "      <th>6</th>\n",
       "      <td>login</td>\n",
       "      <td>0.943337</td>\n",
       "    </tr>\n",
       "    <tr>\n",
       "      <th>5</th>\n",
       "      <td>nothing</td>\n",
       "      <td>0.940099</td>\n",
       "    </tr>\n",
       "    <tr>\n",
       "      <th>4</th>\n",
       "      <td>open</td>\n",
       "      <td>0.936334</td>\n",
       "    </tr>\n",
       "    <tr>\n",
       "      <th>3</th>\n",
       "      <td>ask</td>\n",
       "      <td>0.933147</td>\n",
       "    </tr>\n",
       "    <tr>\n",
       "      <th>2</th>\n",
       "      <td>many time</td>\n",
       "      <td>0.931878</td>\n",
       "    </tr>\n",
       "    <tr>\n",
       "      <th>1</th>\n",
       "      <td>never</td>\n",
       "      <td>0.929929</td>\n",
       "    </tr>\n",
       "    <tr>\n",
       "      <th>0</th>\n",
       "      <td>properly</td>\n",
       "      <td>0.927458</td>\n",
       "    </tr>\n",
       "  </tbody>\n",
       "</table>\n",
       "</div>"
      ],
      "text/plain": [
       "            words  P(Negative | word)\n",
       "14       slow app            0.999784\n",
       "13        loading            0.984085\n",
       "12  work properly            0.966777\n",
       "11          exist            0.966385\n",
       "10     every time            0.957028\n",
       "9     show policy            0.950579\n",
       "8      add policy            0.947608\n",
       "7            load            0.945043\n",
       "6           login            0.943337\n",
       "5         nothing            0.940099\n",
       "4            open            0.936334\n",
       "3             ask            0.933147\n",
       "2       many time            0.931878\n",
       "1           never            0.929929\n",
       "0        properly            0.927458"
      ]
     },
     "execution_count": 39,
     "metadata": {},
     "output_type": "execute_result"
    }
   ],
   "source": [
    "top_15_imp_negative = pd.DataFrame(zip(negative_words, negative_prob), columns=['words','P(Negative | word)'])\n",
    "top_15_imp_negative.sort_values(by='P(Negative | word)', ascending=False)"
   ]
  },
  {
   "cell_type": "code",
   "execution_count": 40,
   "id": "minus-brush",
   "metadata": {},
   "outputs": [
    {
     "data": {
      "text/html": [
       "<div>\n",
       "<style scoped>\n",
       "    .dataframe tbody tr th:only-of-type {\n",
       "        vertical-align: middle;\n",
       "    }\n",
       "\n",
       "    .dataframe tbody tr th {\n",
       "        vertical-align: top;\n",
       "    }\n",
       "\n",
       "    .dataframe thead th {\n",
       "        text-align: right;\n",
       "    }\n",
       "</style>\n",
       "<table border=\"1\" class=\"dataframe\">\n",
       "  <thead>\n",
       "    <tr style=\"text-align: right;\">\n",
       "      <th></th>\n",
       "      <th>words</th>\n",
       "      <th>P(Negative | word)</th>\n",
       "    </tr>\n",
       "  </thead>\n",
       "  <tbody>\n",
       "    <tr>\n",
       "      <th>0</th>\n",
       "      <td>app easy</td>\n",
       "      <td>0.037520</td>\n",
       "    </tr>\n",
       "    <tr>\n",
       "      <th>1</th>\n",
       "      <td>easy use</td>\n",
       "      <td>0.040844</td>\n",
       "    </tr>\n",
       "    <tr>\n",
       "      <th>2</th>\n",
       "      <td>easy</td>\n",
       "      <td>0.046129</td>\n",
       "    </tr>\n",
       "    <tr>\n",
       "      <th>3</th>\n",
       "      <td>quick</td>\n",
       "      <td>0.053958</td>\n",
       "    </tr>\n",
       "    <tr>\n",
       "      <th>4</th>\n",
       "      <td>thank</td>\n",
       "      <td>0.055171</td>\n",
       "    </tr>\n",
       "    <tr>\n",
       "      <th>5</th>\n",
       "      <td>doctor</td>\n",
       "      <td>0.058814</td>\n",
       "    </tr>\n",
       "    <tr>\n",
       "      <th>6</th>\n",
       "      <td>helpful</td>\n",
       "      <td>0.116591</td>\n",
       "    </tr>\n",
       "    <tr>\n",
       "      <th>7</th>\n",
       "      <td>simple</td>\n",
       "      <td>0.133616</td>\n",
       "    </tr>\n",
       "    <tr>\n",
       "      <th>8</th>\n",
       "      <td>fast</td>\n",
       "      <td>0.139866</td>\n",
       "    </tr>\n",
       "    <tr>\n",
       "      <th>9</th>\n",
       "      <td>happy</td>\n",
       "      <td>0.182548</td>\n",
       "    </tr>\n",
       "    <tr>\n",
       "      <th>10</th>\n",
       "      <td>friendly</td>\n",
       "      <td>0.186852</td>\n",
       "    </tr>\n",
       "    <tr>\n",
       "      <th>11</th>\n",
       "      <td>free</td>\n",
       "      <td>0.189617</td>\n",
       "    </tr>\n",
       "    <tr>\n",
       "      <th>12</th>\n",
       "      <td>user friendly</td>\n",
       "      <td>0.200088</td>\n",
       "    </tr>\n",
       "    <tr>\n",
       "      <th>13</th>\n",
       "      <td>feature</td>\n",
       "      <td>0.225482</td>\n",
       "    </tr>\n",
       "    <tr>\n",
       "      <th>14</th>\n",
       "      <td>user</td>\n",
       "      <td>0.327261</td>\n",
       "    </tr>\n",
       "  </tbody>\n",
       "</table>\n",
       "</div>"
      ],
      "text/plain": [
       "            words  P(Negative | word)\n",
       "0        app easy            0.037520\n",
       "1        easy use            0.040844\n",
       "2            easy            0.046129\n",
       "3           quick            0.053958\n",
       "4           thank            0.055171\n",
       "5          doctor            0.058814\n",
       "6         helpful            0.116591\n",
       "7          simple            0.133616\n",
       "8            fast            0.139866\n",
       "9           happy            0.182548\n",
       "10       friendly            0.186852\n",
       "11           free            0.189617\n",
       "12  user friendly            0.200088\n",
       "13        feature            0.225482\n",
       "14           user            0.327261"
      ]
     },
     "execution_count": 40,
     "metadata": {},
     "output_type": "execute_result"
    }
   ],
   "source": [
    "top_15_imp_positive = pd.DataFrame(zip(positive_words, positive_prob), columns=['words','P(Negative | word)'])\n",
    "top_15_imp_positive"
   ]
  },
  {
   "cell_type": "markdown",
   "id": "norwegian-chess",
   "metadata": {},
   "source": [
    "Customers were not able to add policy details."
   ]
  },
  {
   "cell_type": "markdown",
   "id": "liberal-terrorism",
   "metadata": {},
   "source": [
    "### Tuning XgBoost using tfidf vectorizer"
   ]
  },
  {
   "cell_type": "code",
   "execution_count": 41,
   "id": "mature-updating",
   "metadata": {},
   "outputs": [],
   "source": [
    "gpu_params = {'tree_method':'gpu_hist', \n",
    "              'predictor':'gpu_predictor',\n",
    "              'n_jobs': -1}\n",
    "\n",
    "xgb_clf = xgb.XGBClassifier(objective= 'binary:logistic', max_delta_step = 1,\n",
    "                             **gpu_params, use_label_encoder=False, \n",
    "                            seed=random_seed, verbosity=0)\n",
    "\n",
    "xgb_param_dists = {'learning_rate': loguniform(0.001, 1),\n",
    "               'max_depth' : [4,8],\n",
    "               'min_child_weight' : [4,8],\n",
    "               'colsample_bytree' : [0.6,0.8],\n",
    "               'subsample' : [0.6,0.8],\n",
    "               'n_estimators' : [20,30,50],\n",
    "               'reg_alpha' : loguniform(0.001, 10) }\n",
    "\n",
    "xgb_iterations = 30"
   ]
  },
  {
   "cell_type": "code",
   "execution_count": 42,
   "id": "resistant-venice",
   "metadata": {},
   "outputs": [
    {
     "name": "stdout",
     "output_type": "stream",
     "text": [
      "Wall time: 20 s\n"
     ]
    },
    {
     "data": {
      "text/plain": [
       "RandomizedSearchCV(cv=StratifiedKFold(n_splits=3, random_state=79, shuffle=True),\n",
       "                   estimator=XGBClassifier(base_score=None, booster=None,\n",
       "                                           colsample_bylevel=None,\n",
       "                                           colsample_bynode=None,\n",
       "                                           colsample_bytree=None, gamma=None,\n",
       "                                           gpu_id=None, importance_type='gain',\n",
       "                                           interaction_constraints=None,\n",
       "                                           learning_rate=None, max_delta_step=1,\n",
       "                                           max_depth=None,\n",
       "                                           min_child_weight=None, mis...\n",
       "                   param_distributions={'colsample_bytree': [0.6, 0.8],\n",
       "                                        'learning_rate': <scipy.stats._distn_infrastructure.rv_frozen object at 0x0000016287C03F88>,\n",
       "                                        'max_depth': [4, 8],\n",
       "                                        'min_child_weight': [4, 8],\n",
       "                                        'n_estimators': [20, 30, 50],\n",
       "                                        'reg_alpha': <scipy.stats._distn_infrastructure.rv_frozen object at 0x0000016287C03E08>,\n",
       "                                        'subsample': [0.6, 0.8]},\n",
       "                   random_state=79, scoring='average_precision')"
      ]
     },
     "execution_count": 42,
     "metadata": {},
     "output_type": "execute_result"
    }
   ],
   "source": [
    "%%time\n",
    "xgb_cv = RandomizedSearchCV(xgb_clf, \n",
    "                           param_distributions=xgb_param_dists, \n",
    "                           scoring = 'average_precision',\n",
    "                           n_iter=xgb_iterations, \n",
    "                           cv=cv, \n",
    "                           random_state = random_seed)\n",
    "\n",
    "xgb_cv.fit(X_train_tfidf, y_train)"
   ]
  },
  {
   "cell_type": "code",
   "execution_count": 43,
   "id": "documentary-pasta",
   "metadata": {},
   "outputs": [
    {
     "data": {
      "text/html": [
       "<div>\n",
       "<style scoped>\n",
       "    .dataframe tbody tr th:only-of-type {\n",
       "        vertical-align: middle;\n",
       "    }\n",
       "\n",
       "    .dataframe tbody tr th {\n",
       "        vertical-align: top;\n",
       "    }\n",
       "\n",
       "    .dataframe thead th {\n",
       "        text-align: right;\n",
       "    }\n",
       "</style>\n",
       "<table border=\"1\" class=\"dataframe\">\n",
       "  <thead>\n",
       "    <tr style=\"text-align: right;\">\n",
       "      <th></th>\n",
       "      <th>mean_fit_time</th>\n",
       "      <th>std_fit_time</th>\n",
       "      <th>mean_score_time</th>\n",
       "      <th>std_score_time</th>\n",
       "      <th>param_colsample_bytree</th>\n",
       "      <th>param_learning_rate</th>\n",
       "      <th>param_max_depth</th>\n",
       "      <th>param_min_child_weight</th>\n",
       "      <th>param_n_estimators</th>\n",
       "      <th>param_reg_alpha</th>\n",
       "      <th>param_subsample</th>\n",
       "      <th>params</th>\n",
       "      <th>split0_test_score</th>\n",
       "      <th>split1_test_score</th>\n",
       "      <th>split2_test_score</th>\n",
       "      <th>mean_test_score</th>\n",
       "      <th>std_test_score</th>\n",
       "      <th>rank_test_score</th>\n",
       "    </tr>\n",
       "  </thead>\n",
       "  <tbody>\n",
       "    <tr>\n",
       "      <th>15</th>\n",
       "      <td>0.250152</td>\n",
       "      <td>0.004398</td>\n",
       "      <td>0.013298</td>\n",
       "      <td>0.000470</td>\n",
       "      <td>0.8</td>\n",
       "      <td>0.339572</td>\n",
       "      <td>8</td>\n",
       "      <td>4</td>\n",
       "      <td>30</td>\n",
       "      <td>0.003985</td>\n",
       "      <td>0.8</td>\n",
       "      <td>{'colsample_bytree': 0.8, 'learning_rate': 0.3...</td>\n",
       "      <td>0.939694</td>\n",
       "      <td>0.938714</td>\n",
       "      <td>0.938567</td>\n",
       "      <td>0.938992</td>\n",
       "      <td>0.000500</td>\n",
       "      <td>1</td>\n",
       "    </tr>\n",
       "    <tr>\n",
       "      <th>12</th>\n",
       "      <td>0.167219</td>\n",
       "      <td>0.002860</td>\n",
       "      <td>0.012966</td>\n",
       "      <td>0.000814</td>\n",
       "      <td>0.6</td>\n",
       "      <td>0.449235</td>\n",
       "      <td>4</td>\n",
       "      <td>4</td>\n",
       "      <td>30</td>\n",
       "      <td>0.089622</td>\n",
       "      <td>0.8</td>\n",
       "      <td>{'colsample_bytree': 0.6, 'learning_rate': 0.4...</td>\n",
       "      <td>0.939133</td>\n",
       "      <td>0.937128</td>\n",
       "      <td>0.936985</td>\n",
       "      <td>0.937748</td>\n",
       "      <td>0.000981</td>\n",
       "      <td>2</td>\n",
       "    </tr>\n",
       "    <tr>\n",
       "      <th>14</th>\n",
       "      <td>0.308547</td>\n",
       "      <td>0.006129</td>\n",
       "      <td>0.013632</td>\n",
       "      <td>0.000470</td>\n",
       "      <td>0.6</td>\n",
       "      <td>0.101192</td>\n",
       "      <td>8</td>\n",
       "      <td>8</td>\n",
       "      <td>50</td>\n",
       "      <td>3.340976</td>\n",
       "      <td>0.8</td>\n",
       "      <td>{'colsample_bytree': 0.6, 'learning_rate': 0.1...</td>\n",
       "      <td>0.938847</td>\n",
       "      <td>0.933099</td>\n",
       "      <td>0.935905</td>\n",
       "      <td>0.935950</td>\n",
       "      <td>0.002347</td>\n",
       "      <td>3</td>\n",
       "    </tr>\n",
       "    <tr>\n",
       "      <th>25</th>\n",
       "      <td>0.176860</td>\n",
       "      <td>0.004178</td>\n",
       "      <td>0.012300</td>\n",
       "      <td>0.000470</td>\n",
       "      <td>0.8</td>\n",
       "      <td>0.231835</td>\n",
       "      <td>8</td>\n",
       "      <td>8</td>\n",
       "      <td>20</td>\n",
       "      <td>0.064629</td>\n",
       "      <td>0.6</td>\n",
       "      <td>{'colsample_bytree': 0.8, 'learning_rate': 0.2...</td>\n",
       "      <td>0.936512</td>\n",
       "      <td>0.934639</td>\n",
       "      <td>0.935390</td>\n",
       "      <td>0.935514</td>\n",
       "      <td>0.000770</td>\n",
       "      <td>4</td>\n",
       "    </tr>\n",
       "    <tr>\n",
       "      <th>23</th>\n",
       "      <td>0.160903</td>\n",
       "      <td>0.001880</td>\n",
       "      <td>0.012633</td>\n",
       "      <td>0.000940</td>\n",
       "      <td>0.6</td>\n",
       "      <td>0.852743</td>\n",
       "      <td>4</td>\n",
       "      <td>4</td>\n",
       "      <td>30</td>\n",
       "      <td>2.308323</td>\n",
       "      <td>0.8</td>\n",
       "      <td>{'colsample_bytree': 0.6, 'learning_rate': 0.8...</td>\n",
       "      <td>0.935062</td>\n",
       "      <td>0.935070</td>\n",
       "      <td>0.935545</td>\n",
       "      <td>0.935226</td>\n",
       "      <td>0.000226</td>\n",
       "      <td>5</td>\n",
       "    </tr>\n",
       "  </tbody>\n",
       "</table>\n",
       "</div>"
      ],
      "text/plain": [
       "    mean_fit_time  std_fit_time  mean_score_time  std_score_time param_colsample_bytree param_learning_rate param_max_depth param_min_child_weight param_n_estimators param_reg_alpha param_subsample                                             params  split0_test_score  split1_test_score  split2_test_score  mean_test_score  std_test_score  rank_test_score\n",
       "15       0.250152      0.004398         0.013298        0.000470                    0.8            0.339572               8                      4                 30        0.003985             0.8  {'colsample_bytree': 0.8, 'learning_rate': 0.3...           0.939694           0.938714           0.938567         0.938992        0.000500                1\n",
       "12       0.167219      0.002860         0.012966        0.000814                    0.6            0.449235               4                      4                 30        0.089622             0.8  {'colsample_bytree': 0.6, 'learning_rate': 0.4...           0.939133           0.937128           0.936985         0.937748        0.000981                2\n",
       "14       0.308547      0.006129         0.013632        0.000470                    0.6            0.101192               8                      8                 50        3.340976             0.8  {'colsample_bytree': 0.6, 'learning_rate': 0.1...           0.938847           0.933099           0.935905         0.935950        0.002347                3\n",
       "25       0.176860      0.004178         0.012300        0.000470                    0.8            0.231835               8                      8                 20        0.064629             0.6  {'colsample_bytree': 0.8, 'learning_rate': 0.2...           0.936512           0.934639           0.935390         0.935514        0.000770                4\n",
       "23       0.160903      0.001880         0.012633        0.000940                    0.6            0.852743               4                      4                 30        2.308323             0.8  {'colsample_bytree': 0.6, 'learning_rate': 0.8...           0.935062           0.935070           0.935545         0.935226        0.000226                5"
      ]
     },
     "execution_count": 43,
     "metadata": {},
     "output_type": "execute_result"
    }
   ],
   "source": [
    "xgb_cv_results = pd.DataFrame(xgb_cv.cv_results_)\n",
    "xgb_cv_results.sort_values(by='mean_test_score', ascending=False).head()"
   ]
  },
  {
   "cell_type": "code",
   "execution_count": 44,
   "id": "complicated-inspection",
   "metadata": {},
   "outputs": [
    {
     "data": {
      "text/plain": [
       "0.9389915686875089"
      ]
     },
     "execution_count": 44,
     "metadata": {},
     "output_type": "execute_result"
    }
   ],
   "source": [
    "xgb_cv.best_score_"
   ]
  },
  {
   "cell_type": "code",
   "execution_count": 45,
   "id": "running-credit",
   "metadata": {},
   "outputs": [
    {
     "data": {
      "text/plain": [
       "{'colsample_bytree': 0.8,\n",
       " 'learning_rate': 0.33957166428057245,\n",
       " 'max_depth': 8,\n",
       " 'min_child_weight': 4,\n",
       " 'n_estimators': 30,\n",
       " 'reg_alpha': 0.003985079335335088,\n",
       " 'subsample': 0.8}"
      ]
     },
     "execution_count": 45,
     "metadata": {},
     "output_type": "execute_result"
    }
   ],
   "source": [
    "xgb_cv.best_params_"
   ]
  },
  {
   "cell_type": "markdown",
   "id": "dimensional-authentication",
   "metadata": {},
   "source": [
    "We will not analyse feature importance for XgBoost because we have slightly better performing models with direct feature interpretations capabilities."
   ]
  },
  {
   "cell_type": "markdown",
   "id": "bored-authentication",
   "metadata": {},
   "source": [
    "### Final model\n",
    "Logistic Regression with count vectorizer has best pr_auc of 0.94124. While MultinomialNB with count vectorizer has best pr_auc of 0.94018. __Both models perform well__ and within 1 standard deviation of each other.  \n",
    "We will __choose MultinomialNB because it is directly interpretable__ and contribution of each feature towards negative class is very clear. Also, conditional probabilities are relatively easy to explain to business people than Logistic Regression coefficients. Now we see how well MultinomialNB performs on unseen test data."
   ]
  },
  {
   "cell_type": "markdown",
   "id": "korean-puppy",
   "metadata": {},
   "source": [
    "#### Predicting perfomance on test data\n",
    "\n",
    "We need to transform/derive text features using same CountVectorizer as train data. Since we have not saved that CountVectorizer, we will recreate it here."
   ]
  },
  {
   "cell_type": "code",
   "execution_count": 46,
   "id": "prompt-reset",
   "metadata": {},
   "outputs": [
    {
     "data": {
      "text/plain": [
       "(7980, 200)"
      ]
     },
     "execution_count": 46,
     "metadata": {},
     "output_type": "execute_result"
    }
   ],
   "source": [
    "vec = CountVectorizer(stop_words = stop_words,\n",
    "                      min_df= best_params, \n",
    "                      ngram_range= (1,4))\n",
    "\n",
    "X = vec.fit_transform(df_train['clean_review'])\n",
    "X.shape"
   ]
  },
  {
   "cell_type": "markdown",
   "id": "special-throw",
   "metadata": {},
   "source": [
    "Applying text transformations on test data."
   ]
  },
  {
   "cell_type": "code",
   "execution_count": 47,
   "id": "previous-tsunami",
   "metadata": {},
   "outputs": [
    {
     "data": {
      "text/plain": [
       "(2660, 204)"
      ]
     },
     "execution_count": 47,
     "metadata": {},
     "output_type": "execute_result"
    }
   ],
   "source": [
    "X_test_feat = vec.transform(df_test['clean_review'])\n",
    "\n",
    "df_test_txt_features = pd.DataFrame(X_test_feat.toarray(), columns = vec.get_feature_names())\n",
    "\n",
    "df_test_dummy_company = pd.get_dummies(df_test['company'],columns = ['company'])\n",
    "\n",
    "X_test = pd.concat([df_test_txt_features, df_test_dummy_company], axis =1)\n",
    "X_test.shape"
   ]
  },
  {
   "cell_type": "code",
   "execution_count": 48,
   "id": "engaging-scottish",
   "metadata": {},
   "outputs": [],
   "source": [
    "y_test = df_test.rating\n",
    "y_pred_prob = cv_mb.best_estimator_.predict_proba(X_test)[:,1]"
   ]
  },
  {
   "cell_type": "code",
   "execution_count": 49,
   "id": "otherwise-census",
   "metadata": {},
   "outputs": [
    {
     "data": {
      "text/plain": [
       "0.9443965636313179"
      ]
     },
     "execution_count": 49,
     "metadata": {},
     "output_type": "execute_result"
    }
   ],
   "source": [
    "average_precision_score(y_test, y_pred_prob)"
   ]
  },
  {
   "cell_type": "markdown",
   "id": "otherwise-respect",
   "metadata": {},
   "source": [
    "__0.94500 score on test data__ tells that our model generalizes well on test data. This score is slightly greater than 0.94018 cross validation score but is within 1.2 std deviation(0.0036) from it. This confirms that our model generalizes well on unseen data.  \n",
    "Let's plot pr_auc curve."
   ]
  },
  {
   "cell_type": "code",
   "execution_count": 50,
   "id": "every-synthesis",
   "metadata": {},
   "outputs": [],
   "source": [
    "precision, recall, thresholds = precision_recall_curve(y_test, y_pred_prob)"
   ]
  },
  {
   "cell_type": "code",
   "execution_count": 51,
   "id": "lined-congo",
   "metadata": {},
   "outputs": [
    {
     "data": {
      "image/png": "[encoded data removed]",
      "text/plain": [
       "<Figure size 432x288 with 1 Axes>"
      ]
     },
     "metadata": {},
     "output_type": "display_data"
    }
   ],
   "source": [
    "plt.plot(recall, precision, 'r', linewidth=1);\n",
    "plt.title('Precision Recall Curve')\n",
    "plt.xlabel('Recall')\n",
    "plt.ylabel('Precision');"
   ]
  },
  {
   "cell_type": "markdown",
   "id": "competitive-participant",
   "metadata": {},
   "source": [
    "We have a steep slope which indicates a good performance of the classifier. "
   ]
  },
  {
   "cell_type": "markdown",
   "id": "smooth-marking",
   "metadata": {},
   "source": [
    "### Tuning Multinomial Naive Bayes using count vectorizer and bigram to four-gram \n",
    "\n",
    "This may reduce the pr_auc score but the features will be much more interpretable."
   ]
  },
  {
   "cell_type": "code",
   "execution_count": 52,
   "id": "integrated-attitude",
   "metadata": {},
   "outputs": [
    {
     "data": {
      "text/plain": [
       "(7980, 281)"
      ]
     },
     "execution_count": 52,
     "metadata": {},
     "output_type": "execute_result"
    }
   ],
   "source": [
    "df_txt_cv_bi = text_vectorize(df_train['clean_review'], \n",
    "                                     tfidf = False,\n",
    "                                     min_df= 20, \n",
    "                                     ngram_range = (2,4))\n",
    "\n",
    "X_train_bi = pd.concat([df_txt_cv_bi, df_dummy_company], axis =1)\n",
    "X_train_bi.shape"
   ]
  },
  {
   "cell_type": "code",
   "execution_count": 53,
   "id": "several-johns",
   "metadata": {},
   "outputs": [
    {
     "name": "stdout",
     "output_type": "stream",
     "text": [
      "Wall time: 723 ms\n"
     ]
    },
    {
     "data": {
      "text/plain": [
       "RandomizedSearchCV(cv=StratifiedKFold(n_splits=3, random_state=79, shuffle=True),\n",
       "                   estimator=MultinomialNB(), n_iter=20, n_jobs=-2,\n",
       "                   param_distributions={'alpha': <scipy.stats._distn_infrastructure.rv_frozen object at 0x0000016285E84508>},\n",
       "                   random_state=79, scoring='average_precision')"
      ]
     },
     "execution_count": 53,
     "metadata": {},
     "output_type": "execute_result"
    }
   ],
   "source": [
    "%%time\n",
    "cv_mb_bi = RandomizedSearchCV(clf_mb, \n",
    "                           param_distributions=mb_param_dists, \n",
    "                           scoring = 'average_precision',\n",
    "                           n_iter=mb_iterations, \n",
    "                           cv=cv, \n",
    "                           n_jobs= -2,\n",
    "                           random_state = random_seed)\n",
    "\n",
    "cv_mb_bi.fit(X_train_bi, y_train)"
   ]
  },
  {
   "cell_type": "code",
   "execution_count": 54,
   "id": "infectious-oxide",
   "metadata": {},
   "outputs": [
    {
     "data": {
      "text/html": [
       "<div>\n",
       "<style scoped>\n",
       "    .dataframe tbody tr th:only-of-type {\n",
       "        vertical-align: middle;\n",
       "    }\n",
       "\n",
       "    .dataframe tbody tr th {\n",
       "        vertical-align: top;\n",
       "    }\n",
       "\n",
       "    .dataframe thead th {\n",
       "        text-align: right;\n",
       "    }\n",
       "</style>\n",
       "<table border=\"1\" class=\"dataframe\">\n",
       "  <thead>\n",
       "    <tr style=\"text-align: right;\">\n",
       "      <th></th>\n",
       "      <th>mean_fit_time</th>\n",
       "      <th>std_fit_time</th>\n",
       "      <th>mean_score_time</th>\n",
       "      <th>std_score_time</th>\n",
       "      <th>param_alpha</th>\n",
       "      <th>params</th>\n",
       "      <th>split0_test_score</th>\n",
       "      <th>split1_test_score</th>\n",
       "      <th>split2_test_score</th>\n",
       "      <th>mean_test_score</th>\n",
       "      <th>std_test_score</th>\n",
       "      <th>rank_test_score</th>\n",
       "    </tr>\n",
       "  </thead>\n",
       "  <tbody>\n",
       "    <tr>\n",
       "      <th>19</th>\n",
       "      <td>0.049861</td>\n",
       "      <td>0.003257</td>\n",
       "      <td>0.014960</td>\n",
       "      <td>0.002820</td>\n",
       "      <td>0.116208</td>\n",
       "      <td>{'alpha': 0.11620835092990324}</td>\n",
       "      <td>0.902337</td>\n",
       "      <td>0.903035</td>\n",
       "      <td>0.904180</td>\n",
       "      <td>0.903184</td>\n",
       "      <td>0.000760</td>\n",
       "      <td>1</td>\n",
       "    </tr>\n",
       "    <tr>\n",
       "      <th>16</th>\n",
       "      <td>0.066821</td>\n",
       "      <td>0.002154</td>\n",
       "      <td>0.021944</td>\n",
       "      <td>0.000818</td>\n",
       "      <td>0.140622</td>\n",
       "      <td>{'alpha': 0.1406220144178179}</td>\n",
       "      <td>0.902447</td>\n",
       "      <td>0.902951</td>\n",
       "      <td>0.904071</td>\n",
       "      <td>0.903156</td>\n",
       "      <td>0.000679</td>\n",
       "      <td>2</td>\n",
       "    </tr>\n",
       "    <tr>\n",
       "      <th>5</th>\n",
       "      <td>0.061501</td>\n",
       "      <td>0.003289</td>\n",
       "      <td>0.020944</td>\n",
       "      <td>0.002155</td>\n",
       "      <td>0.192955</td>\n",
       "      <td>{'alpha': 0.1929550398128653}</td>\n",
       "      <td>0.902608</td>\n",
       "      <td>0.902914</td>\n",
       "      <td>0.903872</td>\n",
       "      <td>0.903131</td>\n",
       "      <td>0.000538</td>\n",
       "      <td>3</td>\n",
       "    </tr>\n",
       "    <tr>\n",
       "      <th>18</th>\n",
       "      <td>0.060171</td>\n",
       "      <td>0.005422</td>\n",
       "      <td>0.015625</td>\n",
       "      <td>0.003391</td>\n",
       "      <td>0.231218</td>\n",
       "      <td>{'alpha': 0.23121848058126562}</td>\n",
       "      <td>0.902739</td>\n",
       "      <td>0.902861</td>\n",
       "      <td>0.903742</td>\n",
       "      <td>0.903114</td>\n",
       "      <td>0.000447</td>\n",
       "      <td>4</td>\n",
       "    </tr>\n",
       "    <tr>\n",
       "      <th>9</th>\n",
       "      <td>0.064826</td>\n",
       "      <td>0.004533</td>\n",
       "      <td>0.023272</td>\n",
       "      <td>0.001694</td>\n",
       "      <td>0.081343</td>\n",
       "      <td>{'alpha': 0.08134276174546005}</td>\n",
       "      <td>0.902037</td>\n",
       "      <td>0.903118</td>\n",
       "      <td>0.904185</td>\n",
       "      <td>0.903113</td>\n",
       "      <td>0.000877</td>\n",
       "      <td>5</td>\n",
       "    </tr>\n",
       "  </tbody>\n",
       "</table>\n",
       "</div>"
      ],
      "text/plain": [
       "    mean_fit_time  std_fit_time  mean_score_time  std_score_time param_alpha                          params  split0_test_score  split1_test_score  split2_test_score  mean_test_score  std_test_score  rank_test_score\n",
       "19       0.049861      0.003257         0.014960        0.002820    0.116208  {'alpha': 0.11620835092990324}           0.902337           0.903035           0.904180         0.903184        0.000760                1\n",
       "16       0.066821      0.002154         0.021944        0.000818    0.140622   {'alpha': 0.1406220144178179}           0.902447           0.902951           0.904071         0.903156        0.000679                2\n",
       "5        0.061501      0.003289         0.020944        0.002155    0.192955   {'alpha': 0.1929550398128653}           0.902608           0.902914           0.903872         0.903131        0.000538                3\n",
       "18       0.060171      0.005422         0.015625        0.003391    0.231218  {'alpha': 0.23121848058126562}           0.902739           0.902861           0.903742         0.903114        0.000447                4\n",
       "9        0.064826      0.004533         0.023272        0.001694    0.081343  {'alpha': 0.08134276174546005}           0.902037           0.903118           0.904185         0.903113        0.000877                5"
      ]
     },
     "execution_count": 54,
     "metadata": {},
     "output_type": "execute_result"
    }
   ],
   "source": [
    "cv_mb_bi_results = pd.DataFrame(cv_mb_bi.cv_results_)\n",
    "cv_mb_bi_results.sort_values(by='mean_test_score', ascending=False).head(5)"
   ]
  },
  {
   "cell_type": "code",
   "execution_count": 55,
   "id": "apparent-reality",
   "metadata": {},
   "outputs": [
    {
     "data": {
      "text/plain": [
       "0.9031840177064505"
      ]
     },
     "execution_count": 55,
     "metadata": {},
     "output_type": "execute_result"
    }
   ],
   "source": [
    "cv_mb_bi.best_score_"
   ]
  },
  {
   "cell_type": "code",
   "execution_count": 56,
   "id": "manufactured-virginia",
   "metadata": {},
   "outputs": [
    {
     "data": {
      "text/plain": [
       "{'alpha': 0.11620835092990324}"
      ]
     },
     "execution_count": 56,
     "metadata": {},
     "output_type": "execute_result"
    }
   ],
   "source": [
    "cv_mb_bi.best_params_"
   ]
  },
  {
   "cell_type": "markdown",
   "id": "liable-exchange",
   "metadata": {},
   "source": [
    "Feature Importance :"
   ]
  },
  {
   "cell_type": "code",
   "execution_count": 57,
   "id": "internal-frank",
   "metadata": {},
   "outputs": [],
   "source": [
    "x = np.eye(X_train_bi.shape[1])\n",
    "probs = cv_mb_bi.best_estimator_.predict_proba(x)[:, 1]\n",
    "ind = np.argsort(probs)\n",
    "\n",
    "positive_words = X_train_bi.columns[ind[:15]]\n",
    "negative_words = X_train_bi.columns[ind[-15:]]\n",
    "\n",
    "positive_prob = probs[ind[:15]]\n",
    "negative_prob = probs[ind[-15:]]"
   ]
  },
  {
   "cell_type": "code",
   "execution_count": 58,
   "id": "placed-vintage",
   "metadata": {},
   "outputs": [
    {
     "data": {
      "text/html": [
       "<div>\n",
       "<style scoped>\n",
       "    .dataframe tbody tr th:only-of-type {\n",
       "        vertical-align: middle;\n",
       "    }\n",
       "\n",
       "    .dataframe tbody tr th {\n",
       "        vertical-align: top;\n",
       "    }\n",
       "\n",
       "    .dataframe thead th {\n",
       "        text-align: right;\n",
       "    }\n",
       "</style>\n",
       "<table border=\"1\" class=\"dataframe\">\n",
       "  <thead>\n",
       "    <tr style=\"text-align: right;\">\n",
       "      <th></th>\n",
       "      <th>words</th>\n",
       "      <th>P(Negative | word)</th>\n",
       "    </tr>\n",
       "  </thead>\n",
       "  <tbody>\n",
       "    <tr>\n",
       "      <th>14</th>\n",
       "      <td>slow app</td>\n",
       "      <td>0.998066</td>\n",
       "    </tr>\n",
       "    <tr>\n",
       "      <th>13</th>\n",
       "      <td>pout face</td>\n",
       "      <td>0.997152</td>\n",
       "    </tr>\n",
       "    <tr>\n",
       "      <th>12</th>\n",
       "      <td>app open</td>\n",
       "      <td>0.997053</td>\n",
       "    </tr>\n",
       "    <tr>\n",
       "      <th>11</th>\n",
       "      <td>third class</td>\n",
       "      <td>0.997000</td>\n",
       "    </tr>\n",
       "    <tr>\n",
       "      <th>10</th>\n",
       "      <td>keep load</td>\n",
       "      <td>0.996946</td>\n",
       "    </tr>\n",
       "    <tr>\n",
       "      <th>9</th>\n",
       "      <td>class app</td>\n",
       "      <td>0.996429</td>\n",
       "    </tr>\n",
       "    <tr>\n",
       "      <th>8</th>\n",
       "      <td>far well</td>\n",
       "      <td>0.996272</td>\n",
       "    </tr>\n",
       "    <tr>\n",
       "      <th>7</th>\n",
       "      <td>app work properly</td>\n",
       "      <td>0.996188</td>\n",
       "    </tr>\n",
       "    <tr>\n",
       "      <th>6</th>\n",
       "      <td>loading loading</td>\n",
       "      <td>0.995472</td>\n",
       "    </tr>\n",
       "    <tr>\n",
       "      <th>5</th>\n",
       "      <td>time open</td>\n",
       "      <td>0.995215</td>\n",
       "    </tr>\n",
       "    <tr>\n",
       "      <th>2</th>\n",
       "      <td>ask select</td>\n",
       "      <td>0.995076</td>\n",
       "    </tr>\n",
       "    <tr>\n",
       "      <th>3</th>\n",
       "      <td>show load</td>\n",
       "      <td>0.995076</td>\n",
       "    </tr>\n",
       "    <tr>\n",
       "      <th>4</th>\n",
       "      <td>unable login</td>\n",
       "      <td>0.995076</td>\n",
       "    </tr>\n",
       "    <tr>\n",
       "      <th>1</th>\n",
       "      <td>fraud company</td>\n",
       "      <td>0.994928</td>\n",
       "    </tr>\n",
       "    <tr>\n",
       "      <th>0</th>\n",
       "      <td>time show</td>\n",
       "      <td>0.994603</td>\n",
       "    </tr>\n",
       "  </tbody>\n",
       "</table>\n",
       "</div>"
      ],
      "text/plain": [
       "                words  P(Negative | word)\n",
       "14           slow app            0.998066\n",
       "13          pout face            0.997152\n",
       "12           app open            0.997053\n",
       "11        third class            0.997000\n",
       "10          keep load            0.996946\n",
       "9           class app            0.996429\n",
       "8            far well            0.996272\n",
       "7   app work properly            0.996188\n",
       "6     loading loading            0.995472\n",
       "5           time open            0.995215\n",
       "2          ask select            0.995076\n",
       "3           show load            0.995076\n",
       "4        unable login            0.995076\n",
       "1       fraud company            0.994928\n",
       "0           time show            0.994603"
      ]
     },
     "execution_count": 58,
     "metadata": {},
     "output_type": "execute_result"
    }
   ],
   "source": [
    "top_15_imp_negative = pd.DataFrame(zip(negative_words, negative_prob), columns=['words','P(Negative | word)'])\n",
    "top_15_imp_negative.sort_values(by='P(Negative | word)', ascending=False)"
   ]
  },
  {
   "cell_type": "code",
   "execution_count": 59,
   "id": "embedded-observation",
   "metadata": {},
   "outputs": [
    {
     "data": {
      "text/html": [
       "<div>\n",
       "<style scoped>\n",
       "    .dataframe tbody tr th:only-of-type {\n",
       "        vertical-align: middle;\n",
       "    }\n",
       "\n",
       "    .dataframe tbody tr th {\n",
       "        vertical-align: top;\n",
       "    }\n",
       "\n",
       "    .dataframe thead th {\n",
       "        text-align: right;\n",
       "    }\n",
       "</style>\n",
       "<table border=\"1\" class=\"dataframe\">\n",
       "  <thead>\n",
       "    <tr style=\"text-align: right;\">\n",
       "      <th></th>\n",
       "      <th>words</th>\n",
       "      <th>P(Negative | word)</th>\n",
       "    </tr>\n",
       "  </thead>\n",
       "  <tbody>\n",
       "    <tr>\n",
       "      <th>0</th>\n",
       "      <td>smile face</td>\n",
       "      <td>0.000849</td>\n",
       "    </tr>\n",
       "    <tr>\n",
       "      <th>1</th>\n",
       "      <td>smile face smile</td>\n",
       "      <td>0.001108</td>\n",
       "    </tr>\n",
       "    <tr>\n",
       "      <th>2</th>\n",
       "      <td>smile face smile eye</td>\n",
       "      <td>0.001660</td>\n",
       "    </tr>\n",
       "    <tr>\n",
       "      <th>3</th>\n",
       "      <td>doctor service</td>\n",
       "      <td>0.002041</td>\n",
       "    </tr>\n",
       "    <tr>\n",
       "      <th>4</th>\n",
       "      <td>app thank</td>\n",
       "      <td>0.002339</td>\n",
       "    </tr>\n",
       "    <tr>\n",
       "      <th>5</th>\n",
       "      <td>face smile</td>\n",
       "      <td>0.019022</td>\n",
       "    </tr>\n",
       "    <tr>\n",
       "      <th>6</th>\n",
       "      <td>smile eye</td>\n",
       "      <td>0.027706</td>\n",
       "    </tr>\n",
       "    <tr>\n",
       "      <th>7</th>\n",
       "      <td>face smile eye</td>\n",
       "      <td>0.027706</td>\n",
       "    </tr>\n",
       "    <tr>\n",
       "      <th>8</th>\n",
       "      <td>app easy use</td>\n",
       "      <td>0.031961</td>\n",
       "    </tr>\n",
       "    <tr>\n",
       "      <th>9</th>\n",
       "      <td>fast service</td>\n",
       "      <td>0.036787</td>\n",
       "    </tr>\n",
       "    <tr>\n",
       "      <th>10</th>\n",
       "      <td>hassle free</td>\n",
       "      <td>0.041842</td>\n",
       "    </tr>\n",
       "    <tr>\n",
       "      <th>11</th>\n",
       "      <td>app easy</td>\n",
       "      <td>0.042814</td>\n",
       "    </tr>\n",
       "    <tr>\n",
       "      <th>12</th>\n",
       "      <td>easy use</td>\n",
       "      <td>0.046344</td>\n",
       "    </tr>\n",
       "    <tr>\n",
       "      <th>13</th>\n",
       "      <td>helpful app</td>\n",
       "      <td>0.056958</td>\n",
       "    </tr>\n",
       "    <tr>\n",
       "      <th>14</th>\n",
       "      <td>friendly app</td>\n",
       "      <td>0.065652</td>\n",
       "    </tr>\n",
       "  </tbody>\n",
       "</table>\n",
       "</div>"
      ],
      "text/plain": [
       "                   words  P(Negative | word)\n",
       "0             smile face            0.000849\n",
       "1       smile face smile            0.001108\n",
       "2   smile face smile eye            0.001660\n",
       "3         doctor service            0.002041\n",
       "4              app thank            0.002339\n",
       "5             face smile            0.019022\n",
       "6              smile eye            0.027706\n",
       "7         face smile eye            0.027706\n",
       "8           app easy use            0.031961\n",
       "9           fast service            0.036787\n",
       "10           hassle free            0.041842\n",
       "11              app easy            0.042814\n",
       "12              easy use            0.046344\n",
       "13           helpful app            0.056958\n",
       "14          friendly app            0.065652"
      ]
     },
     "execution_count": 59,
     "metadata": {},
     "output_type": "execute_result"
    }
   ],
   "source": [
    "top_15_imp_positive = pd.DataFrame(zip(positive_words, positive_prob), columns=['words','P(Negative | word)'])\n",
    "top_15_imp_positive"
   ]
  },
  {
   "cell_type": "markdown",
   "id": "english-reminder",
   "metadata": {},
   "source": [
    "We largely have similar features in importance. The issue of customers saying \"company is __fraud__\" needs to be addressed on priority. "
   ]
  },
  {
   "cell_type": "markdown",
   "id": "governing-twenty",
   "metadata": {},
   "source": [
    "### Seperate Modelling for HDFC Ergo  \n",
    "HDFC Ergo app is rated negatively and  the company name is amongst the top negative feature in logistic regression. Hence, we will seperately model it."
   ]
  },
  {
   "cell_type": "code",
   "execution_count": 60,
   "id": "growing-balloon",
   "metadata": {},
   "outputs": [],
   "source": [
    "hdfc_ind = X_train.hdfc_ergo == 1"
   ]
  },
  {
   "cell_type": "code",
   "execution_count": 61,
   "id": "unique-graham",
   "metadata": {},
   "outputs": [
    {
     "data": {
      "text/plain": [
       "RandomizedSearchCV(cv=StratifiedKFold(n_splits=3, random_state=79, shuffle=True),\n",
       "                   estimator=MultinomialNB(), n_iter=20, n_jobs=-2,\n",
       "                   param_distributions={'alpha': <scipy.stats._distn_infrastructure.rv_frozen object at 0x0000016285E84508>},\n",
       "                   random_state=79, scoring='average_precision')"
      ]
     },
     "execution_count": 61,
     "metadata": {},
     "output_type": "execute_result"
    }
   ],
   "source": [
    "cv_mb.fit(df_txt_cv_feat.loc[hdfc_ind,:], y_train[hdfc_ind])"
   ]
  },
  {
   "cell_type": "code",
   "execution_count": 62,
   "id": "spoken-canadian",
   "metadata": {},
   "outputs": [
    {
     "data": {
      "text/html": [
       "<div>\n",
       "<style scoped>\n",
       "    .dataframe tbody tr th:only-of-type {\n",
       "        vertical-align: middle;\n",
       "    }\n",
       "\n",
       "    .dataframe tbody tr th {\n",
       "        vertical-align: top;\n",
       "    }\n",
       "\n",
       "    .dataframe thead th {\n",
       "        text-align: right;\n",
       "    }\n",
       "</style>\n",
       "<table border=\"1\" class=\"dataframe\">\n",
       "  <thead>\n",
       "    <tr style=\"text-align: right;\">\n",
       "      <th></th>\n",
       "      <th>mean_fit_time</th>\n",
       "      <th>std_fit_time</th>\n",
       "      <th>mean_score_time</th>\n",
       "      <th>std_score_time</th>\n",
       "      <th>param_alpha</th>\n",
       "      <th>params</th>\n",
       "      <th>split0_test_score</th>\n",
       "      <th>split1_test_score</th>\n",
       "      <th>split2_test_score</th>\n",
       "      <th>mean_test_score</th>\n",
       "      <th>std_test_score</th>\n",
       "      <th>rank_test_score</th>\n",
       "    </tr>\n",
       "  </thead>\n",
       "  <tbody>\n",
       "    <tr>\n",
       "      <th>18</th>\n",
       "      <td>0.014626</td>\n",
       "      <td>0.000469</td>\n",
       "      <td>0.006981</td>\n",
       "      <td>1.410346e-03</td>\n",
       "      <td>0.231218</td>\n",
       "      <td>{'alpha': 0.23121848058126562}</td>\n",
       "      <td>0.968251</td>\n",
       "      <td>0.961108</td>\n",
       "      <td>0.970065</td>\n",
       "      <td>0.966474</td>\n",
       "      <td>0.003866</td>\n",
       "      <td>1</td>\n",
       "    </tr>\n",
       "    <tr>\n",
       "      <th>5</th>\n",
       "      <td>0.013631</td>\n",
       "      <td>0.000470</td>\n",
       "      <td>0.006649</td>\n",
       "      <td>4.697969e-04</td>\n",
       "      <td>0.192955</td>\n",
       "      <td>{'alpha': 0.1929550398128653}</td>\n",
       "      <td>0.968123</td>\n",
       "      <td>0.961129</td>\n",
       "      <td>0.970081</td>\n",
       "      <td>0.966444</td>\n",
       "      <td>0.003842</td>\n",
       "      <td>2</td>\n",
       "    </tr>\n",
       "    <tr>\n",
       "      <th>16</th>\n",
       "      <td>0.016290</td>\n",
       "      <td>0.000470</td>\n",
       "      <td>0.007978</td>\n",
       "      <td>2.247832e-07</td>\n",
       "      <td>0.140622</td>\n",
       "      <td>{'alpha': 0.1406220144178179}</td>\n",
       "      <td>0.967856</td>\n",
       "      <td>0.961227</td>\n",
       "      <td>0.970164</td>\n",
       "      <td>0.966415</td>\n",
       "      <td>0.003788</td>\n",
       "      <td>3</td>\n",
       "    </tr>\n",
       "    <tr>\n",
       "      <th>19</th>\n",
       "      <td>0.010969</td>\n",
       "      <td>0.001411</td>\n",
       "      <td>0.004655</td>\n",
       "      <td>4.702466e-04</td>\n",
       "      <td>0.116208</td>\n",
       "      <td>{'alpha': 0.11620835092990324}</td>\n",
       "      <td>0.967697</td>\n",
       "      <td>0.961107</td>\n",
       "      <td>0.970228</td>\n",
       "      <td>0.966344</td>\n",
       "      <td>0.003844</td>\n",
       "      <td>4</td>\n",
       "    </tr>\n",
       "    <tr>\n",
       "      <th>9</th>\n",
       "      <td>0.022939</td>\n",
       "      <td>0.006664</td>\n",
       "      <td>0.010306</td>\n",
       "      <td>1.693970e-03</td>\n",
       "      <td>0.081343</td>\n",
       "      <td>{'alpha': 0.08134276174546005}</td>\n",
       "      <td>0.967330</td>\n",
       "      <td>0.960898</td>\n",
       "      <td>0.970320</td>\n",
       "      <td>0.966182</td>\n",
       "      <td>0.003931</td>\n",
       "      <td>5</td>\n",
       "    </tr>\n",
       "  </tbody>\n",
       "</table>\n",
       "</div>"
      ],
      "text/plain": [
       "    mean_fit_time  std_fit_time  mean_score_time  std_score_time param_alpha                          params  split0_test_score  split1_test_score  split2_test_score  mean_test_score  std_test_score  rank_test_score\n",
       "18       0.014626      0.000469         0.006981    1.410346e-03    0.231218  {'alpha': 0.23121848058126562}           0.968251           0.961108           0.970065         0.966474        0.003866                1\n",
       "5        0.013631      0.000470         0.006649    4.697969e-04    0.192955   {'alpha': 0.1929550398128653}           0.968123           0.961129           0.970081         0.966444        0.003842                2\n",
       "16       0.016290      0.000470         0.007978    2.247832e-07    0.140622   {'alpha': 0.1406220144178179}           0.967856           0.961227           0.970164         0.966415        0.003788                3\n",
       "19       0.010969      0.001411         0.004655    4.702466e-04    0.116208  {'alpha': 0.11620835092990324}           0.967697           0.961107           0.970228         0.966344        0.003844                4\n",
       "9        0.022939      0.006664         0.010306    1.693970e-03    0.081343  {'alpha': 0.08134276174546005}           0.967330           0.960898           0.970320         0.966182        0.003931                5"
      ]
     },
     "execution_count": 62,
     "metadata": {},
     "output_type": "execute_result"
    }
   ],
   "source": [
    "hdfc_mb_results = pd.DataFrame(cv_mb.cv_results_)\n",
    "hdfc_mb_results.sort_values(by='mean_test_score', ascending=False).head(5)"
   ]
  },
  {
   "cell_type": "code",
   "execution_count": 63,
   "id": "ready-cartridge",
   "metadata": {},
   "outputs": [
    {
     "data": {
      "text/plain": [
       "0.9664744434292802"
      ]
     },
     "execution_count": 63,
     "metadata": {},
     "output_type": "execute_result"
    }
   ],
   "source": [
    "cv_mb.best_score_"
   ]
  },
  {
   "cell_type": "code",
   "execution_count": 64,
   "id": "loving-economics",
   "metadata": {},
   "outputs": [
    {
     "data": {
      "text/plain": [
       "{'alpha': 0.23121848058126562}"
      ]
     },
     "execution_count": 64,
     "metadata": {},
     "output_type": "execute_result"
    }
   ],
   "source": [
    "cv_mb.best_params_"
   ]
  },
  {
   "cell_type": "code",
   "execution_count": 65,
   "id": "quality-milwaukee",
   "metadata": {},
   "outputs": [],
   "source": [
    "x = np.eye(df_txt_cv_feat.shape[1])\n",
    "probs = cv_mb.best_estimator_.predict_proba(x)[:, 1]\n",
    "ind = np.argsort(probs)\n",
    "\n",
    "positive_words = df_txt_cv_feat.columns[ind[:15]]\n",
    "negative_words = df_txt_cv_feat.columns[ind[-15:]]\n",
    "\n",
    "positive_prob = probs[ind[:15]]\n",
    "negative_prob = probs[ind[-15:]]"
   ]
  },
  {
   "cell_type": "code",
   "execution_count": 66,
   "id": "dress-bedroom",
   "metadata": {},
   "outputs": [
    {
     "data": {
      "text/html": [
       "<div>\n",
       "<style scoped>\n",
       "    .dataframe tbody tr th:only-of-type {\n",
       "        vertical-align: middle;\n",
       "    }\n",
       "\n",
       "    .dataframe tbody tr th {\n",
       "        vertical-align: top;\n",
       "    }\n",
       "\n",
       "    .dataframe thead th {\n",
       "        text-align: right;\n",
       "    }\n",
       "</style>\n",
       "<table border=\"1\" class=\"dataframe\">\n",
       "  <thead>\n",
       "    <tr style=\"text-align: right;\">\n",
       "      <th></th>\n",
       "      <th>words</th>\n",
       "      <th>P(Negative | word)</th>\n",
       "    </tr>\n",
       "  </thead>\n",
       "  <tbody>\n",
       "    <tr>\n",
       "      <th>14</th>\n",
       "      <td>slow app</td>\n",
       "      <td>0.995101</td>\n",
       "    </tr>\n",
       "    <tr>\n",
       "      <th>13</th>\n",
       "      <td>show policy</td>\n",
       "      <td>0.994485</td>\n",
       "    </tr>\n",
       "    <tr>\n",
       "      <th>11</th>\n",
       "      <td>work properly</td>\n",
       "      <td>0.993792</td>\n",
       "    </tr>\n",
       "    <tr>\n",
       "      <th>12</th>\n",
       "      <td>nothing</td>\n",
       "      <td>0.993792</td>\n",
       "    </tr>\n",
       "    <tr>\n",
       "      <th>10</th>\n",
       "      <td>app show</td>\n",
       "      <td>0.993590</td>\n",
       "    </tr>\n",
       "    <tr>\n",
       "      <th>9</th>\n",
       "      <td>already</td>\n",
       "      <td>0.993375</td>\n",
       "    </tr>\n",
       "    <tr>\n",
       "      <th>8</th>\n",
       "      <td>enter</td>\n",
       "      <td>0.993024</td>\n",
       "    </tr>\n",
       "    <tr>\n",
       "      <th>7</th>\n",
       "      <td>long</td>\n",
       "      <td>0.992349</td>\n",
       "    </tr>\n",
       "    <tr>\n",
       "      <th>6</th>\n",
       "      <td>hai</td>\n",
       "      <td>0.991343</td>\n",
       "    </tr>\n",
       "    <tr>\n",
       "      <th>5</th>\n",
       "      <td>back</td>\n",
       "      <td>0.991149</td>\n",
       "    </tr>\n",
       "    <tr>\n",
       "      <th>4</th>\n",
       "      <td>many time</td>\n",
       "      <td>0.990946</td>\n",
       "    </tr>\n",
       "    <tr>\n",
       "      <th>3</th>\n",
       "      <td>loading</td>\n",
       "      <td>0.989448</td>\n",
       "    </tr>\n",
       "    <tr>\n",
       "      <th>2</th>\n",
       "      <td>hang</td>\n",
       "      <td>0.989215</td>\n",
       "    </tr>\n",
       "    <tr>\n",
       "      <th>1</th>\n",
       "      <td>status</td>\n",
       "      <td>0.987102</td>\n",
       "    </tr>\n",
       "    <tr>\n",
       "      <th>0</th>\n",
       "      <td>respond</td>\n",
       "      <td>0.986201</td>\n",
       "    </tr>\n",
       "  </tbody>\n",
       "</table>\n",
       "</div>"
      ],
      "text/plain": [
       "            words  P(Negative | word)\n",
       "14       slow app            0.995101\n",
       "13    show policy            0.994485\n",
       "11  work properly            0.993792\n",
       "12        nothing            0.993792\n",
       "10       app show            0.993590\n",
       "9         already            0.993375\n",
       "8           enter            0.993024\n",
       "7            long            0.992349\n",
       "6             hai            0.991343\n",
       "5            back            0.991149\n",
       "4       many time            0.990946\n",
       "3         loading            0.989448\n",
       "2            hang            0.989215\n",
       "1          status            0.987102\n",
       "0         respond            0.986201"
      ]
     },
     "execution_count": 66,
     "metadata": {},
     "output_type": "execute_result"
    }
   ],
   "source": [
    "top_15_imp_negative = pd.DataFrame(zip(negative_words, negative_prob), columns=['words','P(Negative | word)'])\n",
    "top_15_imp_negative.sort_values(by='P(Negative | word)', ascending=False)"
   ]
  },
  {
   "cell_type": "code",
   "execution_count": 67,
   "id": "reverse-egypt",
   "metadata": {},
   "outputs": [
    {
     "data": {
      "text/html": [
       "<div>\n",
       "<style scoped>\n",
       "    .dataframe tbody tr th:only-of-type {\n",
       "        vertical-align: middle;\n",
       "    }\n",
       "\n",
       "    .dataframe tbody tr th {\n",
       "        vertical-align: top;\n",
       "    }\n",
       "\n",
       "    .dataframe thead th {\n",
       "        text-align: right;\n",
       "    }\n",
       "</style>\n",
       "<table border=\"1\" class=\"dataframe\">\n",
       "  <thead>\n",
       "    <tr style=\"text-align: right;\">\n",
       "      <th></th>\n",
       "      <th>words</th>\n",
       "      <th>P(Negative | word)</th>\n",
       "    </tr>\n",
       "  </thead>\n",
       "  <tbody>\n",
       "    <tr>\n",
       "      <th>0</th>\n",
       "      <td>thank</td>\n",
       "      <td>0.108865</td>\n",
       "    </tr>\n",
       "    <tr>\n",
       "      <th>1</th>\n",
       "      <td>easy use</td>\n",
       "      <td>0.122818</td>\n",
       "    </tr>\n",
       "    <tr>\n",
       "      <th>2</th>\n",
       "      <td>easy</td>\n",
       "      <td>0.178878</td>\n",
       "    </tr>\n",
       "    <tr>\n",
       "      <th>3</th>\n",
       "      <td>app easy</td>\n",
       "      <td>0.194897</td>\n",
       "    </tr>\n",
       "    <tr>\n",
       "      <th>4</th>\n",
       "      <td>quick</td>\n",
       "      <td>0.273719</td>\n",
       "    </tr>\n",
       "    <tr>\n",
       "      <th>5</th>\n",
       "      <td>free</td>\n",
       "      <td>0.283216</td>\n",
       "    </tr>\n",
       "    <tr>\n",
       "      <th>6</th>\n",
       "      <td>happy</td>\n",
       "      <td>0.386349</td>\n",
       "    </tr>\n",
       "    <tr>\n",
       "      <th>7</th>\n",
       "      <td>fast</td>\n",
       "      <td>0.401967</td>\n",
       "    </tr>\n",
       "    <tr>\n",
       "      <th>8</th>\n",
       "      <td>friendly</td>\n",
       "      <td>0.420715</td>\n",
       "    </tr>\n",
       "    <tr>\n",
       "      <th>9</th>\n",
       "      <td>thumb</td>\n",
       "      <td>0.421605</td>\n",
       "    </tr>\n",
       "    <tr>\n",
       "      <th>10</th>\n",
       "      <td>user friendly</td>\n",
       "      <td>0.449747</td>\n",
       "    </tr>\n",
       "    <tr>\n",
       "      <th>11</th>\n",
       "      <td>simple</td>\n",
       "      <td>0.474348</td>\n",
       "    </tr>\n",
       "    <tr>\n",
       "      <th>12</th>\n",
       "      <td>recommend</td>\n",
       "      <td>0.474348</td>\n",
       "    </tr>\n",
       "    <tr>\n",
       "      <th>13</th>\n",
       "      <td>settlement</td>\n",
       "      <td>0.507200</td>\n",
       "    </tr>\n",
       "    <tr>\n",
       "      <th>14</th>\n",
       "      <td>helpful</td>\n",
       "      <td>0.513392</td>\n",
       "    </tr>\n",
       "  </tbody>\n",
       "</table>\n",
       "</div>"
      ],
      "text/plain": [
       "            words  P(Negative | word)\n",
       "0           thank            0.108865\n",
       "1        easy use            0.122818\n",
       "2            easy            0.178878\n",
       "3        app easy            0.194897\n",
       "4           quick            0.273719\n",
       "5            free            0.283216\n",
       "6           happy            0.386349\n",
       "7            fast            0.401967\n",
       "8        friendly            0.420715\n",
       "9           thumb            0.421605\n",
       "10  user friendly            0.449747\n",
       "11         simple            0.474348\n",
       "12      recommend            0.474348\n",
       "13     settlement            0.507200\n",
       "14        helpful            0.513392"
      ]
     },
     "execution_count": 67,
     "metadata": {},
     "output_type": "execute_result"
    }
   ],
   "source": [
    "top_15_imp_positive = pd.DataFrame(zip(positive_words, positive_prob), columns=['words','P(Negative | word)'])\n",
    "top_15_imp_positive.sort_values(by = 'P(Negative | word)')"
   ]
  },
  {
   "cell_type": "code",
   "execution_count": 68,
   "id": "ideal-amber",
   "metadata": {},
   "outputs": [
    {
     "data": {
      "text/plain": [
       "0.9150836187686486"
      ]
     },
     "execution_count": 68,
     "metadata": {},
     "output_type": "execute_result"
    }
   ],
   "source": [
    "y_test_hdfc = df_test.loc[hdfc_ind,'rating']\n",
    "y_pred_prob_hdfc = cv_mb.best_estimator_.predict_proba(df_test_txt_features.loc[hdfc_ind,])[:,1]\n",
    "\n",
    "average_precision_score(y_test_hdfc, y_pred_prob_hdfc)"
   ]
  },
  {
   "cell_type": "markdown",
   "id": "available-edition",
   "metadata": {},
   "source": [
    "Important predictors of sentiemnts for HDFC Ergo are same as Industry level important features."
   ]
  },
  {
   "cell_type": "markdown",
   "id": "genuine-stockholm",
   "metadata": {},
   "source": [
    "### Seperate Modelling for Acko  \n",
    "Acko app is rated negatively and  the company name is amongst the top negative feature in logistic regression. Hence, we will seperately model it."
   ]
  },
  {
   "cell_type": "code",
   "execution_count": 69,
   "id": "raising-showcase",
   "metadata": {},
   "outputs": [],
   "source": [
    "acko_ind = X_train.acko == 1"
   ]
  },
  {
   "cell_type": "code",
   "execution_count": 70,
   "id": "banned-restriction",
   "metadata": {},
   "outputs": [
    {
     "data": {
      "text/plain": [
       "RandomizedSearchCV(cv=StratifiedKFold(n_splits=3, random_state=79, shuffle=True),\n",
       "                   estimator=MultinomialNB(), n_iter=20, n_jobs=-2,\n",
       "                   param_distributions={'alpha': <scipy.stats._distn_infrastructure.rv_frozen object at 0x0000016285E84508>},\n",
       "                   random_state=79, scoring='average_precision')"
      ]
     },
     "execution_count": 70,
     "metadata": {},
     "output_type": "execute_result"
    }
   ],
   "source": [
    "cv_mb.fit(df_txt_cv_feat.loc[acko_ind,:], y_train[acko_ind])"
   ]
  },
  {
   "cell_type": "code",
   "execution_count": 71,
   "id": "alternative-tamil",
   "metadata": {},
   "outputs": [
    {
     "data": {
      "text/html": [
       "<div>\n",
       "<style scoped>\n",
       "    .dataframe tbody tr th:only-of-type {\n",
       "        vertical-align: middle;\n",
       "    }\n",
       "\n",
       "    .dataframe tbody tr th {\n",
       "        vertical-align: top;\n",
       "    }\n",
       "\n",
       "    .dataframe thead th {\n",
       "        text-align: right;\n",
       "    }\n",
       "</style>\n",
       "<table border=\"1\" class=\"dataframe\">\n",
       "  <thead>\n",
       "    <tr style=\"text-align: right;\">\n",
       "      <th></th>\n",
       "      <th>mean_fit_time</th>\n",
       "      <th>std_fit_time</th>\n",
       "      <th>mean_score_time</th>\n",
       "      <th>std_score_time</th>\n",
       "      <th>param_alpha</th>\n",
       "      <th>params</th>\n",
       "      <th>split0_test_score</th>\n",
       "      <th>split1_test_score</th>\n",
       "      <th>split2_test_score</th>\n",
       "      <th>mean_test_score</th>\n",
       "      <th>std_test_score</th>\n",
       "      <th>rank_test_score</th>\n",
       "    </tr>\n",
       "  </thead>\n",
       "  <tbody>\n",
       "    <tr>\n",
       "      <th>18</th>\n",
       "      <td>0.006982</td>\n",
       "      <td>2.973602e-07</td>\n",
       "      <td>0.003989</td>\n",
       "      <td>9.602742e-07</td>\n",
       "      <td>0.231218</td>\n",
       "      <td>{'alpha': 0.23121848058126562}</td>\n",
       "      <td>0.904432</td>\n",
       "      <td>0.890901</td>\n",
       "      <td>0.822173</td>\n",
       "      <td>0.872502</td>\n",
       "      <td>0.036014</td>\n",
       "      <td>1</td>\n",
       "    </tr>\n",
       "    <tr>\n",
       "      <th>5</th>\n",
       "      <td>0.007978</td>\n",
       "      <td>8.146856e-04</td>\n",
       "      <td>0.006649</td>\n",
       "      <td>4.698533e-04</td>\n",
       "      <td>0.192955</td>\n",
       "      <td>{'alpha': 0.1929550398128653}</td>\n",
       "      <td>0.904286</td>\n",
       "      <td>0.891056</td>\n",
       "      <td>0.821963</td>\n",
       "      <td>0.872435</td>\n",
       "      <td>0.036095</td>\n",
       "      <td>2</td>\n",
       "    </tr>\n",
       "    <tr>\n",
       "      <th>1</th>\n",
       "      <td>0.009973</td>\n",
       "      <td>1.946680e-07</td>\n",
       "      <td>0.005984</td>\n",
       "      <td>7.370010e-07</td>\n",
       "      <td>0.745195</td>\n",
       "      <td>{'alpha': 0.7451946079635787}</td>\n",
       "      <td>0.902360</td>\n",
       "      <td>0.891527</td>\n",
       "      <td>0.821156</td>\n",
       "      <td>0.871681</td>\n",
       "      <td>0.035999</td>\n",
       "      <td>3</td>\n",
       "    </tr>\n",
       "    <tr>\n",
       "      <th>13</th>\n",
       "      <td>0.008315</td>\n",
       "      <td>9.362222e-04</td>\n",
       "      <td>0.005315</td>\n",
       "      <td>1.247809e-03</td>\n",
       "      <td>0.956894</td>\n",
       "      <td>{'alpha': 0.9568942444648805}</td>\n",
       "      <td>0.901459</td>\n",
       "      <td>0.891429</td>\n",
       "      <td>0.821944</td>\n",
       "      <td>0.871611</td>\n",
       "      <td>0.035358</td>\n",
       "      <td>4</td>\n",
       "    </tr>\n",
       "    <tr>\n",
       "      <th>19</th>\n",
       "      <td>0.006315</td>\n",
       "      <td>9.413361e-04</td>\n",
       "      <td>0.003324</td>\n",
       "      <td>4.691790e-04</td>\n",
       "      <td>0.116208</td>\n",
       "      <td>{'alpha': 0.11620835092990324}</td>\n",
       "      <td>0.904605</td>\n",
       "      <td>0.890244</td>\n",
       "      <td>0.819764</td>\n",
       "      <td>0.871538</td>\n",
       "      <td>0.037076</td>\n",
       "      <td>5</td>\n",
       "    </tr>\n",
       "  </tbody>\n",
       "</table>\n",
       "</div>"
      ],
      "text/plain": [
       "    mean_fit_time  std_fit_time  mean_score_time  std_score_time param_alpha                          params  split0_test_score  split1_test_score  split2_test_score  mean_test_score  std_test_score  rank_test_score\n",
       "18       0.006982  2.973602e-07         0.003989    9.602742e-07    0.231218  {'alpha': 0.23121848058126562}           0.904432           0.890901           0.822173         0.872502        0.036014                1\n",
       "5        0.007978  8.146856e-04         0.006649    4.698533e-04    0.192955   {'alpha': 0.1929550398128653}           0.904286           0.891056           0.821963         0.872435        0.036095                2\n",
       "1        0.009973  1.946680e-07         0.005984    7.370010e-07    0.745195   {'alpha': 0.7451946079635787}           0.902360           0.891527           0.821156         0.871681        0.035999                3\n",
       "13       0.008315  9.362222e-04         0.005315    1.247809e-03    0.956894   {'alpha': 0.9568942444648805}           0.901459           0.891429           0.821944         0.871611        0.035358                4\n",
       "19       0.006315  9.413361e-04         0.003324    4.691790e-04    0.116208  {'alpha': 0.11620835092990324}           0.904605           0.890244           0.819764         0.871538        0.037076                5"
      ]
     },
     "execution_count": 71,
     "metadata": {},
     "output_type": "execute_result"
    }
   ],
   "source": [
    "acko_mb_results = pd.DataFrame(cv_mb.cv_results_)\n",
    "acko_mb_results.sort_values(by='mean_test_score', ascending=False).head(5)"
   ]
  },
  {
   "cell_type": "code",
   "execution_count": 72,
   "id": "compatible-premium",
   "metadata": {},
   "outputs": [
    {
     "data": {
      "text/plain": [
       "0.8725020954583207"
      ]
     },
     "execution_count": 72,
     "metadata": {},
     "output_type": "execute_result"
    }
   ],
   "source": [
    "cv_mb.best_score_"
   ]
  },
  {
   "cell_type": "code",
   "execution_count": 73,
   "id": "stuck-collection",
   "metadata": {},
   "outputs": [
    {
     "data": {
      "text/plain": [
       "{'alpha': 0.23121848058126562}"
      ]
     },
     "execution_count": 73,
     "metadata": {},
     "output_type": "execute_result"
    }
   ],
   "source": [
    "cv_mb.best_params_"
   ]
  },
  {
   "cell_type": "code",
   "execution_count": 74,
   "id": "coated-found",
   "metadata": {},
   "outputs": [],
   "source": [
    "x = np.eye(df_txt_cv_feat.shape[1])\n",
    "probs = cv_mb.best_estimator_.predict_proba(x)[:, 1]\n",
    "ind = np.argsort(probs)\n",
    "\n",
    "positive_words = df_txt_cv_feat.columns[ind[:15]]\n",
    "negative_words = df_txt_cv_feat.columns[ind[-15:]]\n",
    "\n",
    "positive_prob = probs[ind[:15]]\n",
    "negative_prob = probs[ind[-15:]]"
   ]
  },
  {
   "cell_type": "code",
   "execution_count": 75,
   "id": "external-corporation",
   "metadata": {},
   "outputs": [
    {
     "data": {
      "text/html": [
       "<div>\n",
       "<style scoped>\n",
       "    .dataframe tbody tr th:only-of-type {\n",
       "        vertical-align: middle;\n",
       "    }\n",
       "\n",
       "    .dataframe tbody tr th {\n",
       "        vertical-align: top;\n",
       "    }\n",
       "\n",
       "    .dataframe thead th {\n",
       "        text-align: right;\n",
       "    }\n",
       "</style>\n",
       "<table border=\"1\" class=\"dataframe\">\n",
       "  <thead>\n",
       "    <tr style=\"text-align: right;\">\n",
       "      <th></th>\n",
       "      <th>words</th>\n",
       "      <th>P(Negative | word)</th>\n",
       "    </tr>\n",
       "  </thead>\n",
       "  <tbody>\n",
       "    <tr>\n",
       "      <th>14</th>\n",
       "      <td>app work</td>\n",
       "      <td>0.985771</td>\n",
       "    </tr>\n",
       "    <tr>\n",
       "      <th>13</th>\n",
       "      <td>load</td>\n",
       "      <td>0.981629</td>\n",
       "    </tr>\n",
       "    <tr>\n",
       "      <th>10</th>\n",
       "      <td>wait</td>\n",
       "      <td>0.975745</td>\n",
       "    </tr>\n",
       "    <tr>\n",
       "      <th>11</th>\n",
       "      <td>properly</td>\n",
       "      <td>0.975745</td>\n",
       "    </tr>\n",
       "    <tr>\n",
       "      <th>12</th>\n",
       "      <td>register</td>\n",
       "      <td>0.975745</td>\n",
       "    </tr>\n",
       "    <tr>\n",
       "      <th>9</th>\n",
       "      <td>crash</td>\n",
       "      <td>0.967388</td>\n",
       "    </tr>\n",
       "    <tr>\n",
       "      <th>8</th>\n",
       "      <td>message</td>\n",
       "      <td>0.964314</td>\n",
       "    </tr>\n",
       "    <tr>\n",
       "      <th>6</th>\n",
       "      <td>reply</td>\n",
       "      <td>0.960601</td>\n",
       "    </tr>\n",
       "    <tr>\n",
       "      <th>7</th>\n",
       "      <td>hang</td>\n",
       "      <td>0.960601</td>\n",
       "    </tr>\n",
       "    <tr>\n",
       "      <th>4</th>\n",
       "      <td>work properly</td>\n",
       "      <td>0.950246</td>\n",
       "    </tr>\n",
       "    <tr>\n",
       "      <th>5</th>\n",
       "      <td>submit</td>\n",
       "      <td>0.950246</td>\n",
       "    </tr>\n",
       "    <tr>\n",
       "      <th>2</th>\n",
       "      <td>every time</td>\n",
       "      <td>0.942719</td>\n",
       "    </tr>\n",
       "    <tr>\n",
       "      <th>3</th>\n",
       "      <td>many time</td>\n",
       "      <td>0.942719</td>\n",
       "    </tr>\n",
       "    <tr>\n",
       "      <th>1</th>\n",
       "      <td>app take</td>\n",
       "      <td>0.932508</td>\n",
       "    </tr>\n",
       "    <tr>\n",
       "      <th>0</th>\n",
       "      <td>login</td>\n",
       "      <td>0.931067</td>\n",
       "    </tr>\n",
       "  </tbody>\n",
       "</table>\n",
       "</div>"
      ],
      "text/plain": [
       "            words  P(Negative | word)\n",
       "14       app work            0.985771\n",
       "13           load            0.981629\n",
       "10           wait            0.975745\n",
       "11       properly            0.975745\n",
       "12       register            0.975745\n",
       "9           crash            0.967388\n",
       "8         message            0.964314\n",
       "6           reply            0.960601\n",
       "7            hang            0.960601\n",
       "4   work properly            0.950246\n",
       "5          submit            0.950246\n",
       "2      every time            0.942719\n",
       "3       many time            0.942719\n",
       "1        app take            0.932508\n",
       "0           login            0.931067"
      ]
     },
     "execution_count": 75,
     "metadata": {},
     "output_type": "execute_result"
    }
   ],
   "source": [
    "top_15_imp_negative = pd.DataFrame(zip(negative_words, negative_prob), columns=['words','P(Negative | word)'])\n",
    "top_15_imp_negative.sort_values(by='P(Negative | word)', ascending=False)"
   ]
  },
  {
   "cell_type": "code",
   "execution_count": 76,
   "id": "played-fellowship",
   "metadata": {},
   "outputs": [
    {
     "data": {
      "text/html": [
       "<div>\n",
       "<style scoped>\n",
       "    .dataframe tbody tr th:only-of-type {\n",
       "        vertical-align: middle;\n",
       "    }\n",
       "\n",
       "    .dataframe tbody tr th {\n",
       "        vertical-align: top;\n",
       "    }\n",
       "\n",
       "    .dataframe thead th {\n",
       "        text-align: right;\n",
       "    }\n",
       "</style>\n",
       "<table border=\"1\" class=\"dataframe\">\n",
       "  <thead>\n",
       "    <tr style=\"text-align: right;\">\n",
       "      <th></th>\n",
       "      <th>words</th>\n",
       "      <th>P(Negative | word)</th>\n",
       "    </tr>\n",
       "  </thead>\n",
       "  <tbody>\n",
       "    <tr>\n",
       "      <th>0</th>\n",
       "      <td>quick</td>\n",
       "      <td>0.002749</td>\n",
       "    </tr>\n",
       "    <tr>\n",
       "      <th>1</th>\n",
       "      <td>easy</td>\n",
       "      <td>0.004273</td>\n",
       "    </tr>\n",
       "    <tr>\n",
       "      <th>2</th>\n",
       "      <td>easy use</td>\n",
       "      <td>0.005565</td>\n",
       "    </tr>\n",
       "    <tr>\n",
       "      <th>3</th>\n",
       "      <td>app easy</td>\n",
       "      <td>0.009185</td>\n",
       "    </tr>\n",
       "    <tr>\n",
       "      <th>4</th>\n",
       "      <td>fast</td>\n",
       "      <td>0.029806</td>\n",
       "    </tr>\n",
       "    <tr>\n",
       "      <th>5</th>\n",
       "      <td>happy</td>\n",
       "      <td>0.035833</td>\n",
       "    </tr>\n",
       "    <tr>\n",
       "      <th>6</th>\n",
       "      <td>simple</td>\n",
       "      <td>0.036245</td>\n",
       "    </tr>\n",
       "    <tr>\n",
       "      <th>7</th>\n",
       "      <td>friendly</td>\n",
       "      <td>0.045673</td>\n",
       "    </tr>\n",
       "    <tr>\n",
       "      <th>8</th>\n",
       "      <td>thank</td>\n",
       "      <td>0.069566</td>\n",
       "    </tr>\n",
       "    <tr>\n",
       "      <th>9</th>\n",
       "      <td>user friendly</td>\n",
       "      <td>0.072535</td>\n",
       "    </tr>\n",
       "    <tr>\n",
       "      <th>10</th>\n",
       "      <td>free</td>\n",
       "      <td>0.082316</td>\n",
       "    </tr>\n",
       "    <tr>\n",
       "      <th>11</th>\n",
       "      <td>thumb</td>\n",
       "      <td>0.085038</td>\n",
       "    </tr>\n",
       "    <tr>\n",
       "      <th>12</th>\n",
       "      <td>helpful</td>\n",
       "      <td>0.094185</td>\n",
       "    </tr>\n",
       "    <tr>\n",
       "      <th>13</th>\n",
       "      <td>minute</td>\n",
       "      <td>0.101657</td>\n",
       "    </tr>\n",
       "    <tr>\n",
       "      <th>14</th>\n",
       "      <td>face</td>\n",
       "      <td>0.136199</td>\n",
       "    </tr>\n",
       "  </tbody>\n",
       "</table>\n",
       "</div>"
      ],
      "text/plain": [
       "            words  P(Negative | word)\n",
       "0           quick            0.002749\n",
       "1            easy            0.004273\n",
       "2        easy use            0.005565\n",
       "3        app easy            0.009185\n",
       "4            fast            0.029806\n",
       "5           happy            0.035833\n",
       "6          simple            0.036245\n",
       "7        friendly            0.045673\n",
       "8           thank            0.069566\n",
       "9   user friendly            0.072535\n",
       "10           free            0.082316\n",
       "11          thumb            0.085038\n",
       "12        helpful            0.094185\n",
       "13         minute            0.101657\n",
       "14           face            0.136199"
      ]
     },
     "execution_count": 76,
     "metadata": {},
     "output_type": "execute_result"
    }
   ],
   "source": [
    "top_15_imp_positive = pd.DataFrame(zip(positive_words, positive_prob), columns=['words','P(Negative | word)'])\n",
    "top_15_imp_positive.sort_values(by = 'P(Negative | word)')"
   ]
  },
  {
   "cell_type": "code",
   "execution_count": 77,
   "id": "unavailable-malawi",
   "metadata": {},
   "outputs": [
    {
     "data": {
      "text/plain": [
       "0.9024630716482509"
      ]
     },
     "execution_count": 77,
     "metadata": {},
     "output_type": "execute_result"
    }
   ],
   "source": [
    "y_test_acko = df_test.loc[acko_ind,'rating']\n",
    "y_pred_prob_acko = cv_mb.best_estimator_.predict_proba(df_test_txt_features.loc[acko_ind,])[:,1]\n",
    "\n",
    "average_precision_score(y_test_acko, y_pred_prob_acko)"
   ]
  },
  {
   "cell_type": "markdown",
   "id": "double-queen",
   "metadata": {},
   "source": [
    "Important predictors of sentiemnts for Acko are same as Industry level important features."
   ]
  },
  {
   "cell_type": "markdown",
   "id": "featured-child",
   "metadata": {},
   "source": [
    "## Business Insights"
   ]
  },
  {
   "cell_type": "markdown",
   "id": "selected-iraqi",
   "metadata": {},
   "source": [
    "1. Companies need to investigate why some customers are facing slowness of apps. Is it because the app is heavy on memory or needs fast internet connection.\n",
    "2. Customers faced issues in receiving OTP and some were not able add or link insurance policies in the app. Better integration with backend IT infrastructure can solve this issue.\n",
    "3. Companies can increase the adaptation of mobile applications by making customers aware of the applications and benefits. This initiative was well received by customers as we have seen with ICICI Lombard.\n",
    "4. Value added services like tele consultation with doctors can definitely boost the positive experience of customers in case of health insurance."
   ]
  },
  {
   "cell_type": "code",
   "execution_count": null,
   "id": "cellular-semiconductor",
   "metadata": {},
   "outputs": [],
   "source": []
  }
 ],
 "metadata": {
  "kernelspec": {
   "display_name": "Python 3",
   "language": "python",
   "name": "python3"
  },
  "language_info": {
   "codemirror_mode": {
    "name": "ipython",
    "version": 3
   },
   "file_extension": ".py",
   "mimetype": "text/x-python",
   "name": "python",
   "nbconvert_exporter": "python",
   "pygments_lexer": "ipython3",
   "version": "3.7.9"
  }
 },
 "nbformat": 4,
 "nbformat_minor": 5
}
