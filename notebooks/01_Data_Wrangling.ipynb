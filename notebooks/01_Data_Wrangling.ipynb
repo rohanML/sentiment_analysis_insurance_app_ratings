{
 "cells": [
  {
   "cell_type": "markdown",
   "id": "about-juice",
   "metadata": {},
   "source": [
    "# Data Wrangling - Insurance App Ratings on Google Play Store"
   ]
  },
  {
   "cell_type": "markdown",
   "id": "rotary-trust",
   "metadata": {},
   "source": [
    "Th objective of this project is to leverage GI companies apps' Play Store reviews to analyze customers' feedback to know what is working, what are the challenges and how companies can address those challenges. The main focus of our analysis is extracting information from negative sentiment & providing actionable insights on improving customer experience to GI comapnies."
   ]
  },
  {
   "cell_type": "markdown",
   "id": "embedded-credits",
   "metadata": {},
   "source": [
    "In this notebook, we will explore the data for\n",
    "1. __Completeness__ : Each record contains all the variables and records are unique.\n",
    "2. __Validity__ : We will be focusing on reviews in the English language.\n",
    "3. __Credibility__ : Do we have relevant and enough information in review text ?\n",
    "4. __Cleaning__ : Accordingly, we will perform typical data cleaning steps.\n",
    "\n",
    "The data is scraped from the Play Store as at 26 Aug 2021. Details are in Data_Scraping notebook."
   ]
  },
  {
   "cell_type": "code",
   "execution_count": 1,
   "id": "studied-sacrifice",
   "metadata": {},
   "outputs": [],
   "source": [
    "import pandas as pd\n",
    "import numpy as np\n",
    "import time\n",
    "import string\n",
    "from datetime import datetime\n",
    "from pathlib import Path\n",
    "import re\n",
    "\n",
    "import matplotlib.pyplot as plt\n",
    "from matplotlib.ticker import PercentFormatter\n",
    "import seaborn as sns\n",
    "\n",
    "import nltk\n",
    "from nltk.corpus import stopwords\n",
    "from nltk import word_tokenize, pos_tag\n",
    "from nltk.stem import WordNetLemmatizer\n",
    "from nltk.corpus import wordnet\n",
    "from contractions import CONTRACTION_MAP\n",
    "import unicodedata\n",
    "from spellchecker import SpellChecker\n",
    "from emot.emo_unicode import UNICODE_EMOJI, EMOTICONS_EMO\n",
    "from langdetect import detect,detect_langs \n",
    "import spacy\n",
    "import textstat\n",
    "\n",
    "from sklearn.feature_extraction.text import CountVectorizer\n",
    "from sklearn.feature_extraction.text import TfidfVectorizer\n",
    "from collections import Counter\n",
    "\n",
    "# Setup Pandas\n",
    "pd.set_option('display.width', 500)\n",
    "pd.set_option('display.max_columns', 100)\n",
    "\n",
    "# Setup Seaborn\n",
    "plt.style.use('fivethirtyeight')\n",
    "\n",
    "# For process develpment\n",
    "development_flag =  False\n",
    "\n",
    "# To save reports\n",
    "p = Path.cwd() / 'reports' / 'figures'\n",
    "suffix ='.pdf'"
   ]
  },
  {
   "cell_type": "markdown",
   "id": "naughty-reason",
   "metadata": {},
   "source": [
    "Downloading NLTK resources for tokenization, tagging etc"
   ]
  },
  {
   "cell_type": "code",
   "execution_count": 2,
   "id": "manufactured-bonus",
   "metadata": {},
   "outputs": [],
   "source": [
    "# nltk_resources = ['stopwords', 'punkt', 'wordnet', 'averaged_perceptron_tagger', 'maxent_treebank_pos_tagger']\n",
    "\n",
    "# for resource in nltk_resources:\n",
    "#     try:\n",
    "#         nltk.data.find(\"tokenizers/\" + resource)\n",
    "#     except LookupError:\n",
    "#         nltk.download(resource)"
   ]
  },
  {
   "cell_type": "code",
   "execution_count": 3,
   "id": "nervous-illinois",
   "metadata": {},
   "outputs": [],
   "source": [
    "# for lemmatization\n",
    "nlp = spacy.load('en_core_web_sm')"
   ]
  },
  {
   "cell_type": "code",
   "execution_count": 4,
   "id": "prescribed-instruction",
   "metadata": {},
   "outputs": [],
   "source": [
    "review_path = '../data/reviews.csv'\n",
    "df_reviews_all = pd.read_csv(review_path)\n",
    "df_reviews_all = df_reviews_all.drop(columns=['userName', 'userImage'])"
   ]
  },
  {
   "cell_type": "code",
   "execution_count": 5,
   "id": "alive-straight",
   "metadata": {},
   "outputs": [
    {
     "data": {
      "text/html": [
       "<div>\n",
       "<style scoped>\n",
       "    .dataframe tbody tr th:only-of-type {\n",
       "        vertical-align: middle;\n",
       "    }\n",
       "\n",
       "    .dataframe tbody tr th {\n",
       "        vertical-align: top;\n",
       "    }\n",
       "\n",
       "    .dataframe thead th {\n",
       "        text-align: right;\n",
       "    }\n",
       "</style>\n",
       "<table border=\"1\" class=\"dataframe\">\n",
       "  <thead>\n",
       "    <tr style=\"text-align: right;\">\n",
       "      <th></th>\n",
       "      <th>reviewId</th>\n",
       "      <th>content</th>\n",
       "      <th>score</th>\n",
       "      <th>thumbsUpCount</th>\n",
       "      <th>reviewCreatedVersion</th>\n",
       "      <th>at</th>\n",
       "      <th>replyContent</th>\n",
       "      <th>repliedAt</th>\n",
       "      <th>appId</th>\n",
       "    </tr>\n",
       "  </thead>\n",
       "  <tbody>\n",
       "    <tr>\n",
       "      <th>0</th>\n",
       "      <td>gp:AOqpTOF86De47sxTLcSz5dRWRlYNfO2IN5pk3baCjf8...</td>\n",
       "      <td>Excellent.. The service and reaction were exce...</td>\n",
       "      <td>5</td>\n",
       "      <td>0</td>\n",
       "      <td>NaN</td>\n",
       "      <td>2021-08-26 22:29:04</td>\n",
       "      <td>NaN</td>\n",
       "      <td>NaN</td>\n",
       "      <td>icici.lombard.ghi</td>\n",
       "    </tr>\n",
       "    <tr>\n",
       "      <th>1</th>\n",
       "      <td>gp:AOqpTOH09z1vHSV2KRUcILU1eSsx-5HzWABJDC2pCW6...</td>\n",
       "      <td>The app is simple and tidy, with a focus on th...</td>\n",
       "      <td>5</td>\n",
       "      <td>0</td>\n",
       "      <td>NaN</td>\n",
       "      <td>2021-08-26 22:28:35</td>\n",
       "      <td>NaN</td>\n",
       "      <td>NaN</td>\n",
       "      <td>icici.lombard.ghi</td>\n",
       "    </tr>\n",
       "    <tr>\n",
       "      <th>2</th>\n",
       "      <td>gp:AOqpTOGYmB7z6aIyAFtbD4YheqYzuDrtrQcYBBJSkmZ...</td>\n",
       "      <td>It is simple to select and purchase insurance....</td>\n",
       "      <td>5</td>\n",
       "      <td>0</td>\n",
       "      <td>NaN</td>\n",
       "      <td>2021-08-26 22:27:21</td>\n",
       "      <td>NaN</td>\n",
       "      <td>NaN</td>\n",
       "      <td>icici.lombard.ghi</td>\n",
       "    </tr>\n",
       "    <tr>\n",
       "      <th>3</th>\n",
       "      <td>gp:AOqpTOFEDySNZlgqJByDGyF8C8WMT6pJhqcgAhMokeI...</td>\n",
       "      <td>I've used this app for my car insurance a few ...</td>\n",
       "      <td>5</td>\n",
       "      <td>0</td>\n",
       "      <td>NaN</td>\n",
       "      <td>2021-08-26 22:26:59</td>\n",
       "      <td>NaN</td>\n",
       "      <td>NaN</td>\n",
       "      <td>icici.lombard.ghi</td>\n",
       "    </tr>\n",
       "    <tr>\n",
       "      <th>4</th>\n",
       "      <td>gp:AOqpTOFE6WGoCMTXBlT57sZBjZIxwH0zsmyBH8D2C14...</td>\n",
       "      <td>It is wrost insurance company . One of my frie...</td>\n",
       "      <td>1</td>\n",
       "      <td>0</td>\n",
       "      <td>2.0.40</td>\n",
       "      <td>2021-08-26 21:21:10</td>\n",
       "      <td>NaN</td>\n",
       "      <td>NaN</td>\n",
       "      <td>icici.lombard.ghi</td>\n",
       "    </tr>\n",
       "  </tbody>\n",
       "</table>\n",
       "</div>"
      ],
      "text/plain": [
       "                                            reviewId                                            content  score  thumbsUpCount reviewCreatedVersion                   at replyContent repliedAt              appId\n",
       "0  gp:AOqpTOF86De47sxTLcSz5dRWRlYNfO2IN5pk3baCjf8...  Excellent.. The service and reaction were exce...      5              0                  NaN  2021-08-26 22:29:04          NaN       NaN  icici.lombard.ghi\n",
       "1  gp:AOqpTOH09z1vHSV2KRUcILU1eSsx-5HzWABJDC2pCW6...  The app is simple and tidy, with a focus on th...      5              0                  NaN  2021-08-26 22:28:35          NaN       NaN  icici.lombard.ghi\n",
       "2  gp:AOqpTOGYmB7z6aIyAFtbD4YheqYzuDrtrQcYBBJSkmZ...  It is simple to select and purchase insurance....      5              0                  NaN  2021-08-26 22:27:21          NaN       NaN  icici.lombard.ghi\n",
       "3  gp:AOqpTOFEDySNZlgqJByDGyF8C8WMT6pJhqcgAhMokeI...  I've used this app for my car insurance a few ...      5              0                  NaN  2021-08-26 22:26:59          NaN       NaN  icici.lombard.ghi\n",
       "4  gp:AOqpTOFE6WGoCMTXBlT57sZBjZIxwH0zsmyBH8D2C14...  It is wrost insurance company . One of my frie...      1              0               2.0.40  2021-08-26 21:21:10          NaN       NaN  icici.lombard.ghi"
      ]
     },
     "execution_count": 5,
     "metadata": {},
     "output_type": "execute_result"
    }
   ],
   "source": [
    "df_reviews_all.head()"
   ]
  },
  {
   "cell_type": "code",
   "execution_count": 6,
   "id": "necessary-coating",
   "metadata": {},
   "outputs": [
    {
     "data": {
      "text/plain": [
       "(31150, 9)"
      ]
     },
     "execution_count": 6,
     "metadata": {},
     "output_type": "execute_result"
    }
   ],
   "source": [
    "df_reviews_all.shape"
   ]
  },
  {
   "cell_type": "code",
   "execution_count": 7,
   "id": "specified-corner",
   "metadata": {},
   "outputs": [
    {
     "name": "stdout",
     "output_type": "stream",
     "text": [
      "<class 'pandas.core.frame.DataFrame'>\n",
      "RangeIndex: 31150 entries, 0 to 31149\n",
      "Data columns (total 9 columns):\n",
      " #   Column                Non-Null Count  Dtype \n",
      "---  ------                --------------  ----- \n",
      " 0   reviewId              31150 non-null  object\n",
      " 1   content               31144 non-null  object\n",
      " 2   score                 31150 non-null  int64 \n",
      " 3   thumbsUpCount         31150 non-null  int64 \n",
      " 4   reviewCreatedVersion  27294 non-null  object\n",
      " 5   at                    31150 non-null  object\n",
      " 6   replyContent          20849 non-null  object\n",
      " 7   repliedAt             20849 non-null  object\n",
      " 8   appId                 31150 non-null  object\n",
      "dtypes: int64(2), object(7)\n",
      "memory usage: 2.1+ MB\n"
     ]
    }
   ],
   "source": [
    "df_reviews_all.info()"
   ]
  },
  {
   "cell_type": "markdown",
   "id": "thorough-scanner",
   "metadata": {},
   "source": [
    "__content, score, appId & at__ are the main fields we are interested in."
   ]
  },
  {
   "cell_type": "code",
   "execution_count": 8,
   "id": "collectible-brazilian",
   "metadata": {},
   "outputs": [
    {
     "data": {
      "text/html": [
       "<div>\n",
       "<style scoped>\n",
       "    .dataframe tbody tr th:only-of-type {\n",
       "        vertical-align: middle;\n",
       "    }\n",
       "\n",
       "    .dataframe tbody tr th {\n",
       "        vertical-align: top;\n",
       "    }\n",
       "\n",
       "    .dataframe thead th {\n",
       "        text-align: right;\n",
       "    }\n",
       "</style>\n",
       "<table border=\"1\" class=\"dataframe\">\n",
       "  <thead>\n",
       "    <tr style=\"text-align: right;\">\n",
       "      <th></th>\n",
       "      <th>reviewId</th>\n",
       "      <th>content</th>\n",
       "      <th>score</th>\n",
       "      <th>thumbsUpCount</th>\n",
       "      <th>reviewCreatedVersion</th>\n",
       "      <th>at</th>\n",
       "      <th>replyContent</th>\n",
       "      <th>repliedAt</th>\n",
       "      <th>appId</th>\n",
       "    </tr>\n",
       "  </thead>\n",
       "  <tbody>\n",
       "    <tr>\n",
       "      <th>7164</th>\n",
       "      <td>gp:AOqpTOEmxz3N1hvXZfkQdTyZ-2katyiLLZGmPYwnXYl...</td>\n",
       "      <td>NaN</td>\n",
       "      <td>5</td>\n",
       "      <td>0</td>\n",
       "      <td>9.5</td>\n",
       "      <td>2020-09-18 09:29:43</td>\n",
       "      <td>NaN</td>\n",
       "      <td>NaN</td>\n",
       "      <td>com.ba.cp.controller</td>\n",
       "    </tr>\n",
       "    <tr>\n",
       "      <th>10450</th>\n",
       "      <td>gp:AOqpTOGbsZLCCqjYtdYUH_s96QFoDORGOqpw6miHYWr...</td>\n",
       "      <td>NaN</td>\n",
       "      <td>3</td>\n",
       "      <td>0</td>\n",
       "      <td>3.6</td>\n",
       "      <td>2019-03-26 11:48:07</td>\n",
       "      <td>NaN</td>\n",
       "      <td>NaN</td>\n",
       "      <td>com.ba.cp.controller</td>\n",
       "    </tr>\n",
       "    <tr>\n",
       "      <th>11211</th>\n",
       "      <td>gp:AOqpTOHHS6Gzat9zkZamTTZq-hEp5FEKjD90XymvDwG...</td>\n",
       "      <td>NaN</td>\n",
       "      <td>4</td>\n",
       "      <td>0</td>\n",
       "      <td>NaN</td>\n",
       "      <td>2018-03-03 13:00:07</td>\n",
       "      <td>Thank you so much for your valuable feedback</td>\n",
       "      <td>2018-03-22 15:08:47</td>\n",
       "      <td>com.ba.cp.controller</td>\n",
       "    </tr>\n",
       "    <tr>\n",
       "      <th>12037</th>\n",
       "      <td>gp:AOqpTOHUJ_9lNuBaNO-N7BHo8ZElh-ajTW3Bi3Oi1cD...</td>\n",
       "      <td>NaN</td>\n",
       "      <td>5</td>\n",
       "      <td>0</td>\n",
       "      <td>1.02</td>\n",
       "      <td>2015-11-14 20:58:00</td>\n",
       "      <td>Thank you so much. \\nYour feedback is valuable..!</td>\n",
       "      <td>2018-01-18 11:16:29</td>\n",
       "      <td>com.ba.cp.controller</td>\n",
       "    </tr>\n",
       "    <tr>\n",
       "      <th>12241</th>\n",
       "      <td>lg:AOqpTOFSs_iyci7HwzPVTmz20qF7o4E5TgbyHzuEjrP...</td>\n",
       "      <td>NaN</td>\n",
       "      <td>5</td>\n",
       "      <td>0</td>\n",
       "      <td>1.02</td>\n",
       "      <td>2015-05-23 08:29:35</td>\n",
       "      <td>Thank you so much. \\nYour feedback is valuable..!</td>\n",
       "      <td>2018-01-17 18:20:24</td>\n",
       "      <td>com.ba.cp.controller</td>\n",
       "    </tr>\n",
       "    <tr>\n",
       "      <th>20253</th>\n",
       "      <td>gp:AOqpTOErT9djFCANf8U58KwgXuqbIjmQKenUiE0q4b-...</td>\n",
       "      <td>NaN</td>\n",
       "      <td>4</td>\n",
       "      <td>0</td>\n",
       "      <td>NaN</td>\n",
       "      <td>2015-08-20 19:29:43</td>\n",
       "      <td>NaN</td>\n",
       "      <td>NaN</td>\n",
       "      <td>com.pms.activity</td>\n",
       "    </tr>\n",
       "  </tbody>\n",
       "</table>\n",
       "</div>"
      ],
      "text/plain": [
       "                                                reviewId content  score  thumbsUpCount reviewCreatedVersion                   at                                       replyContent            repliedAt                 appId\n",
       "7164   gp:AOqpTOEmxz3N1hvXZfkQdTyZ-2katyiLLZGmPYwnXYl...     NaN      5              0                  9.5  2020-09-18 09:29:43                                                NaN                  NaN  com.ba.cp.controller\n",
       "10450  gp:AOqpTOGbsZLCCqjYtdYUH_s96QFoDORGOqpw6miHYWr...     NaN      3              0                  3.6  2019-03-26 11:48:07                                                NaN                  NaN  com.ba.cp.controller\n",
       "11211  gp:AOqpTOHHS6Gzat9zkZamTTZq-hEp5FEKjD90XymvDwG...     NaN      4              0                  NaN  2018-03-03 13:00:07       Thank you so much for your valuable feedback  2018-03-22 15:08:47  com.ba.cp.controller\n",
       "12037  gp:AOqpTOHUJ_9lNuBaNO-N7BHo8ZElh-ajTW3Bi3Oi1cD...     NaN      5              0                 1.02  2015-11-14 20:58:00  Thank you so much. \\nYour feedback is valuable..!  2018-01-18 11:16:29  com.ba.cp.controller\n",
       "12241  lg:AOqpTOFSs_iyci7HwzPVTmz20qF7o4E5TgbyHzuEjrP...     NaN      5              0                 1.02  2015-05-23 08:29:35  Thank you so much. \\nYour feedback is valuable..!  2018-01-17 18:20:24  com.ba.cp.controller\n",
       "20253  gp:AOqpTOErT9djFCANf8U58KwgXuqbIjmQKenUiE0q4b-...     NaN      4              0                  NaN  2015-08-20 19:29:43                                                NaN                  NaN      com.pms.activity"
      ]
     },
     "execution_count": 8,
     "metadata": {},
     "output_type": "execute_result"
    }
   ],
   "source": [
    "df_reviews_all.loc[df_reviews_all.content.isna()]"
   ]
  },
  {
   "cell_type": "markdown",
   "id": "matched-stamp",
   "metadata": {},
   "source": [
    "We have 6 reviews with no text. Removing these reviews."
   ]
  },
  {
   "cell_type": "code",
   "execution_count": 9,
   "id": "downtown-covering",
   "metadata": {},
   "outputs": [],
   "source": [
    "df_reviews_all = df_reviews_all.dropna(subset=['content'])"
   ]
  },
  {
   "cell_type": "code",
   "execution_count": 10,
   "id": "interested-bristol",
   "metadata": {},
   "outputs": [],
   "source": [
    "df_reviews_all = df_reviews_all.rename(columns = {'content':'review'})"
   ]
  },
  {
   "cell_type": "code",
   "execution_count": 11,
   "id": "functional-diabetes",
   "metadata": {},
   "outputs": [
    {
     "data": {
      "text/plain": [
       "True"
      ]
     },
     "execution_count": 11,
     "metadata": {},
     "output_type": "execute_result"
    }
   ],
   "source": [
    "df_reviews_all.reviewId.is_unique"
   ]
  },
  {
   "cell_type": "code",
   "execution_count": 12,
   "id": "intelligent-genius",
   "metadata": {},
   "outputs": [
    {
     "data": {
      "text/html": [
       "<div>\n",
       "<style scoped>\n",
       "    .dataframe tbody tr th:only-of-type {\n",
       "        vertical-align: middle;\n",
       "    }\n",
       "\n",
       "    .dataframe tbody tr th {\n",
       "        vertical-align: top;\n",
       "    }\n",
       "\n",
       "    .dataframe thead th {\n",
       "        text-align: right;\n",
       "    }\n",
       "</style>\n",
       "<table border=\"1\" class=\"dataframe\">\n",
       "  <thead>\n",
       "    <tr style=\"text-align: right;\">\n",
       "      <th></th>\n",
       "      <th>score</th>\n",
       "      <th>thumbsUpCount</th>\n",
       "    </tr>\n",
       "  </thead>\n",
       "  <tbody>\n",
       "    <tr>\n",
       "      <th>count</th>\n",
       "      <td>31144.000000</td>\n",
       "      <td>31144.000000</td>\n",
       "    </tr>\n",
       "    <tr>\n",
       "      <th>mean</th>\n",
       "      <td>3.224859</td>\n",
       "      <td>1.073273</td>\n",
       "    </tr>\n",
       "    <tr>\n",
       "      <th>std</th>\n",
       "      <td>1.849960</td>\n",
       "      <td>8.494398</td>\n",
       "    </tr>\n",
       "    <tr>\n",
       "      <th>min</th>\n",
       "      <td>1.000000</td>\n",
       "      <td>0.000000</td>\n",
       "    </tr>\n",
       "    <tr>\n",
       "      <th>25%</th>\n",
       "      <td>1.000000</td>\n",
       "      <td>0.000000</td>\n",
       "    </tr>\n",
       "    <tr>\n",
       "      <th>50%</th>\n",
       "      <td>4.000000</td>\n",
       "      <td>0.000000</td>\n",
       "    </tr>\n",
       "    <tr>\n",
       "      <th>75%</th>\n",
       "      <td>5.000000</td>\n",
       "      <td>0.000000</td>\n",
       "    </tr>\n",
       "    <tr>\n",
       "      <th>max</th>\n",
       "      <td>5.000000</td>\n",
       "      <td>731.000000</td>\n",
       "    </tr>\n",
       "  </tbody>\n",
       "</table>\n",
       "</div>"
      ],
      "text/plain": [
       "              score  thumbsUpCount\n",
       "count  31144.000000   31144.000000\n",
       "mean       3.224859       1.073273\n",
       "std        1.849960       8.494398\n",
       "min        1.000000       0.000000\n",
       "25%        1.000000       0.000000\n",
       "50%        4.000000       0.000000\n",
       "75%        5.000000       0.000000\n",
       "max        5.000000     731.000000"
      ]
     },
     "execution_count": 12,
     "metadata": {},
     "output_type": "execute_result"
    }
   ],
   "source": [
    "df_reviews_all.describe()"
   ]
  },
  {
   "cell_type": "markdown",
   "id": "searching-saying",
   "metadata": {},
   "source": [
    "Mapping between company Ids & company names"
   ]
  },
  {
   "cell_type": "code",
   "execution_count": 13,
   "id": "illegal-decrease",
   "metadata": {},
   "outputs": [
    {
     "data": {
      "text/html": [
       "<div>\n",
       "<style scoped>\n",
       "    .dataframe tbody tr th:only-of-type {\n",
       "        vertical-align: middle;\n",
       "    }\n",
       "\n",
       "    .dataframe tbody tr th {\n",
       "        vertical-align: top;\n",
       "    }\n",
       "\n",
       "    .dataframe thead th {\n",
       "        text-align: right;\n",
       "    }\n",
       "</style>\n",
       "<table border=\"1\" class=\"dataframe\">\n",
       "  <thead>\n",
       "    <tr style=\"text-align: right;\">\n",
       "      <th></th>\n",
       "      <th>company</th>\n",
       "      <th>appId</th>\n",
       "    </tr>\n",
       "  </thead>\n",
       "  <tbody>\n",
       "    <tr>\n",
       "      <th>0</th>\n",
       "      <td>ICICI Lombard</td>\n",
       "      <td>icici.lombard.ghi</td>\n",
       "    </tr>\n",
       "    <tr>\n",
       "      <th>1</th>\n",
       "      <td>Bajaj Allianz</td>\n",
       "      <td>com.ba.cp.controller</td>\n",
       "    </tr>\n",
       "    <tr>\n",
       "      <th>2</th>\n",
       "      <td>HDFC ERGO</td>\n",
       "      <td>com.pms.activity</td>\n",
       "    </tr>\n",
       "    <tr>\n",
       "      <th>3</th>\n",
       "      <td>Iffco Tokio</td>\n",
       "      <td>com.iffcotokio.CustomerApp</td>\n",
       "    </tr>\n",
       "    <tr>\n",
       "      <th>4</th>\n",
       "      <td>Reliance General</td>\n",
       "      <td>com.rgi.customerapp.live</td>\n",
       "    </tr>\n",
       "  </tbody>\n",
       "</table>\n",
       "</div>"
      ],
      "text/plain": [
       "            company                       appId\n",
       "0     ICICI Lombard           icici.lombard.ghi\n",
       "1     Bajaj Allianz        com.ba.cp.controller\n",
       "2         HDFC ERGO            com.pms.activity\n",
       "3       Iffco Tokio  com.iffcotokio.CustomerApp\n",
       "4  Reliance General    com.rgi.customerapp.live"
      ]
     },
     "execution_count": 13,
     "metadata": {},
     "output_type": "execute_result"
    }
   ],
   "source": [
    "app_ids = { 'ICICI Lombard' : 'icici.lombard.ghi',\n",
    "            'Bajaj Allianz' : 'com.ba.cp.controller',\n",
    "            'HDFC ERGO' : 'com.pms.activity',\n",
    "            'Iffco Tokio' : 'com.iffcotokio.CustomerApp',\n",
    "            'Reliance General' : 'com.rgi.customerapp.live',\n",
    "            'SBI General' : 'com.sbig.insurance',\n",
    "            'Tata AIG' : 'com.tataaig.android',\n",
    "            'Future Generali' : 'com.futuregenerali.fginsure',\n",
    "            'Kotak Mahindra' : 'io.cordova.myapp53513c',\n",
    "            'Universal Sompo' : 'com.universalsompo.meta',\n",
    "            'Royal Sundaram' : 'com.rssync',\n",
    "            'Shriram General' : 'com.sgi.project.android.live',\n",
    "            'Liberty General' : 'com.lvgi.livmobile',\n",
    "            'Magma HDI' : 'net.fhpl.magmahealth',\n",
    "\n",
    "            # insuretechs\n",
    "            'Digit' : 'com.godigit.digit',\n",
    "            'Acko' : 'com.acko.android',\n",
    "            'Navi' : 'com.navi.insurance'\n",
    "           \n",
    "          }\n",
    "df_app_id = pd.DataFrame(app_ids.items(), columns=['company', 'appId'])\n",
    "df_app_id.head()"
   ]
  },
  {
   "cell_type": "code",
   "execution_count": 14,
   "id": "recreational-longitude",
   "metadata": {},
   "outputs": [
    {
     "data": {
      "text/html": [
       "<div>\n",
       "<style scoped>\n",
       "    .dataframe tbody tr th:only-of-type {\n",
       "        vertical-align: middle;\n",
       "    }\n",
       "\n",
       "    .dataframe tbody tr th {\n",
       "        vertical-align: top;\n",
       "    }\n",
       "\n",
       "    .dataframe thead th {\n",
       "        text-align: right;\n",
       "    }\n",
       "</style>\n",
       "<table border=\"1\" class=\"dataframe\">\n",
       "  <thead>\n",
       "    <tr style=\"text-align: right;\">\n",
       "      <th></th>\n",
       "      <th>reviewId</th>\n",
       "      <th>review</th>\n",
       "      <th>score</th>\n",
       "      <th>thumbsUpCount</th>\n",
       "      <th>reviewCreatedVersion</th>\n",
       "      <th>at</th>\n",
       "      <th>replyContent</th>\n",
       "      <th>repliedAt</th>\n",
       "      <th>appId</th>\n",
       "      <th>company</th>\n",
       "    </tr>\n",
       "  </thead>\n",
       "  <tbody>\n",
       "    <tr>\n",
       "      <th>0</th>\n",
       "      <td>gp:AOqpTOF86De47sxTLcSz5dRWRlYNfO2IN5pk3baCjf8...</td>\n",
       "      <td>Excellent.. The service and reaction were exce...</td>\n",
       "      <td>5</td>\n",
       "      <td>0</td>\n",
       "      <td>NaN</td>\n",
       "      <td>2021-08-26 22:29:04</td>\n",
       "      <td>NaN</td>\n",
       "      <td>NaN</td>\n",
       "      <td>icici.lombard.ghi</td>\n",
       "      <td>ICICI Lombard</td>\n",
       "    </tr>\n",
       "    <tr>\n",
       "      <th>1</th>\n",
       "      <td>gp:AOqpTOH09z1vHSV2KRUcILU1eSsx-5HzWABJDC2pCW6...</td>\n",
       "      <td>The app is simple and tidy, with a focus on th...</td>\n",
       "      <td>5</td>\n",
       "      <td>0</td>\n",
       "      <td>NaN</td>\n",
       "      <td>2021-08-26 22:28:35</td>\n",
       "      <td>NaN</td>\n",
       "      <td>NaN</td>\n",
       "      <td>icici.lombard.ghi</td>\n",
       "      <td>ICICI Lombard</td>\n",
       "    </tr>\n",
       "    <tr>\n",
       "      <th>2</th>\n",
       "      <td>gp:AOqpTOGYmB7z6aIyAFtbD4YheqYzuDrtrQcYBBJSkmZ...</td>\n",
       "      <td>It is simple to select and purchase insurance....</td>\n",
       "      <td>5</td>\n",
       "      <td>0</td>\n",
       "      <td>NaN</td>\n",
       "      <td>2021-08-26 22:27:21</td>\n",
       "      <td>NaN</td>\n",
       "      <td>NaN</td>\n",
       "      <td>icici.lombard.ghi</td>\n",
       "      <td>ICICI Lombard</td>\n",
       "    </tr>\n",
       "    <tr>\n",
       "      <th>3</th>\n",
       "      <td>gp:AOqpTOFEDySNZlgqJByDGyF8C8WMT6pJhqcgAhMokeI...</td>\n",
       "      <td>I've used this app for my car insurance a few ...</td>\n",
       "      <td>5</td>\n",
       "      <td>0</td>\n",
       "      <td>NaN</td>\n",
       "      <td>2021-08-26 22:26:59</td>\n",
       "      <td>NaN</td>\n",
       "      <td>NaN</td>\n",
       "      <td>icici.lombard.ghi</td>\n",
       "      <td>ICICI Lombard</td>\n",
       "    </tr>\n",
       "    <tr>\n",
       "      <th>4</th>\n",
       "      <td>gp:AOqpTOFE6WGoCMTXBlT57sZBjZIxwH0zsmyBH8D2C14...</td>\n",
       "      <td>It is wrost insurance company . One of my frie...</td>\n",
       "      <td>1</td>\n",
       "      <td>0</td>\n",
       "      <td>2.0.40</td>\n",
       "      <td>2021-08-26 21:21:10</td>\n",
       "      <td>NaN</td>\n",
       "      <td>NaN</td>\n",
       "      <td>icici.lombard.ghi</td>\n",
       "      <td>ICICI Lombard</td>\n",
       "    </tr>\n",
       "  </tbody>\n",
       "</table>\n",
       "</div>"
      ],
      "text/plain": [
       "                                            reviewId                                             review  score  thumbsUpCount reviewCreatedVersion                   at replyContent repliedAt              appId        company\n",
       "0  gp:AOqpTOF86De47sxTLcSz5dRWRlYNfO2IN5pk3baCjf8...  Excellent.. The service and reaction were exce...      5              0                  NaN  2021-08-26 22:29:04          NaN       NaN  icici.lombard.ghi  ICICI Lombard\n",
       "1  gp:AOqpTOH09z1vHSV2KRUcILU1eSsx-5HzWABJDC2pCW6...  The app is simple and tidy, with a focus on th...      5              0                  NaN  2021-08-26 22:28:35          NaN       NaN  icici.lombard.ghi  ICICI Lombard\n",
       "2  gp:AOqpTOGYmB7z6aIyAFtbD4YheqYzuDrtrQcYBBJSkmZ...  It is simple to select and purchase insurance....      5              0                  NaN  2021-08-26 22:27:21          NaN       NaN  icici.lombard.ghi  ICICI Lombard\n",
       "3  gp:AOqpTOFEDySNZlgqJByDGyF8C8WMT6pJhqcgAhMokeI...  I've used this app for my car insurance a few ...      5              0                  NaN  2021-08-26 22:26:59          NaN       NaN  icici.lombard.ghi  ICICI Lombard\n",
       "4  gp:AOqpTOFE6WGoCMTXBlT57sZBjZIxwH0zsmyBH8D2C14...  It is wrost insurance company . One of my frie...      1              0               2.0.40  2021-08-26 21:21:10          NaN       NaN  icici.lombard.ghi  ICICI Lombard"
      ]
     },
     "execution_count": 14,
     "metadata": {},
     "output_type": "execute_result"
    }
   ],
   "source": [
    "df_reviews_all = df_reviews_all.merge(df_app_id, how='left', on=['appId'])\n",
    "df_reviews_all.head()"
   ]
  },
  {
   "cell_type": "code",
   "execution_count": 15,
   "id": "legitimate-timber",
   "metadata": {},
   "outputs": [
    {
     "data": {
      "text/plain": [
       "HDFC ERGO           7966\n",
       "Bajaj Allianz       7711\n",
       "ICICI Lombard       4624\n",
       "Acko                4219\n",
       "Reliance General    2879\n",
       "Iffco Tokio          710\n",
       "Navi                 459\n",
       "SBI General          447\n",
       "Royal Sundaram       432\n",
       "Digit                413\n",
       "Kotak Mahindra       360\n",
       "Liberty General      306\n",
       "Universal Sompo      248\n",
       "Future Generali      121\n",
       "Tata AIG             110\n",
       "Shriram General       72\n",
       "Magma HDI             67\n",
       "Name: company, dtype: int64"
      ]
     },
     "execution_count": 15,
     "metadata": {},
     "output_type": "execute_result"
    }
   ],
   "source": [
    "df_reviews_all.company.value_counts(dropna=False)"
   ]
  },
  {
   "cell_type": "markdown",
   "id": "cheap-literature",
   "metadata": {},
   "source": [
    "For Our Analysis purpose, we will consider the __top 5 GI companies__ by Gross Premium in 2020-2021 & __3 insurtech__ companies.\n",
    "These are as below"
   ]
  },
  {
   "cell_type": "code",
   "execution_count": 16,
   "id": "popular-russian",
   "metadata": {},
   "outputs": [],
   "source": [
    "top_5 = ['ICICI Lombard', 'Bajaj Allianz', 'HDFC ERGO', 'Iffco Tokio', 'Reliance General']\n",
    "insure_techs = ['Acko', 'Digit', 'Navi']\n",
    "company_subset = top_5 + insure_techs"
   ]
  },
  {
   "cell_type": "code",
   "execution_count": 17,
   "id": "charitable-basis",
   "metadata": {},
   "outputs": [
    {
     "name": "stdout",
     "output_type": "stream",
     "text": [
      "Total : 31144   Subset : 28981\n",
      "We retain 93.05%  data. \n"
     ]
    },
    {
     "data": {
      "text/plain": [
       "HDFC ERGO           7966\n",
       "Bajaj Allianz       7711\n",
       "ICICI Lombard       4624\n",
       "Acko                4219\n",
       "Reliance General    2879\n",
       "Iffco Tokio          710\n",
       "Navi                 459\n",
       "Digit                413\n",
       "Name: company, dtype: int64"
      ]
     },
     "execution_count": 17,
     "metadata": {},
     "output_type": "execute_result"
    }
   ],
   "source": [
    "company_subset_ind  = df_reviews_all.company.isin(company_subset)\n",
    "print('Total : {}   Subset : {}'.format(df_reviews_all.shape[0], company_subset_ind.sum()))\n",
    "print('We retain {:.2%}  data. '.format(company_subset_ind.sum()/df_reviews_all.shape[0]))\n",
    "\n",
    "df_reviews = df_reviews_all.loc[company_subset_ind,:].copy()\n",
    "df_reviews.company.value_counts()"
   ]
  },
  {
   "cell_type": "markdown",
   "id": "timely-giving",
   "metadata": {},
   "source": [
    "Let us explore the data by year."
   ]
  },
  {
   "cell_type": "code",
   "execution_count": 18,
   "id": "acting-rehabilitation",
   "metadata": {},
   "outputs": [],
   "source": [
    "df_reviews.loc[:,'at'] = pd.to_datetime(df_reviews.loc[:,'at'])\n",
    "df_reviews.loc[:,'repliedAt'] = pd.to_datetime(df_reviews.loc[:,'repliedAt'])"
   ]
  },
  {
   "cell_type": "code",
   "execution_count": 19,
   "id": "choice-briefs",
   "metadata": {},
   "outputs": [
    {
     "data": {
      "text/plain": [
       "pandas.core.indexing._AtIndexer"
      ]
     },
     "execution_count": 19,
     "metadata": {},
     "output_type": "execute_result"
    }
   ],
   "source": [
    "type(df_reviews.at)"
   ]
  },
  {
   "cell_type": "code",
   "execution_count": 20,
   "id": "legendary-constraint",
   "metadata": {},
   "outputs": [
    {
     "data": {
      "text/plain": [
       "(Timestamp('2011-12-15 16:08:53'), Timestamp('2021-08-26 23:08:57'))"
      ]
     },
     "execution_count": 20,
     "metadata": {},
     "output_type": "execute_result"
    }
   ],
   "source": [
    "df_reviews['at'].min(), df_reviews['at'].max()"
   ]
  },
  {
   "cell_type": "code",
   "execution_count": 21,
   "id": "proprietary-honor",
   "metadata": {},
   "outputs": [
    {
     "data": {
      "text/plain": [
       "(Timestamp('2015-02-18 16:01:54'), Timestamp('2021-08-26 22:04:15'))"
      ]
     },
     "execution_count": 21,
     "metadata": {},
     "output_type": "execute_result"
    }
   ],
   "source": [
    "df_reviews['repliedAt'].min(), df_reviews['repliedAt'].max()"
   ]
  },
  {
   "cell_type": "code",
   "execution_count": 22,
   "id": "human-settle",
   "metadata": {},
   "outputs": [],
   "source": [
    "df_reviews.loc[:,'year'] = df_reviews.loc[:,'at'].dt.year\n",
    "\n",
    "df_reviews.loc[:,'bin_years'] = df_reviews.loc[:,'year']\n",
    "le_2015 = df_reviews.year <= 2015\n",
    "df_reviews.loc[le_2015 ,'bin_years'] = '<= 2015'\n",
    "\n",
    "reviews_yr = df_reviews['bin_years'].value_counts(ascending=True).reset_index()\n",
    "reviews_yr.columns = ['year','number of reviews']"
   ]
  },
  {
   "cell_type": "code",
   "execution_count": 23,
   "id": "bored-james",
   "metadata": {},
   "outputs": [],
   "source": [
    "reviews_yr = df_reviews['bin_years'].value_counts(ascending=True).reset_index()\n",
    "reviews_yr.columns = ['year','number of reviews']"
   ]
  },
  {
   "cell_type": "code",
   "execution_count": 24,
   "id": "alpine-tourist",
   "metadata": {},
   "outputs": [
    {
     "data": {
      "image/png": "[encoded data removed]",
      "text/plain": [
       "<Figure size 576x432 with 1 Axes>"
      ]
     },
     "metadata": {},
     "output_type": "display_data"
    }
   ],
   "source": [
    "fig, ax = plt.subplots(figsize=(8, 6))\n",
    "\n",
    "xn = range(reviews_yr.shape[0])\n",
    "ax = plt.plot( xn, reviews_yr['number of reviews'], marker='o', linewidth=2)\n",
    "plt.xticks(xn, reviews_yr.year)\n",
    "plt.xlabel('Year')\n",
    "plt.ylabel('Number of Reviews')\n",
    "\n",
    "plt.title('Number of Reviews by Year')\n",
    "\n",
    "# source: https://queirozf.com/entries/add-labels-and-text-to-matplotlib-plots-annotation-examples\n",
    "for x,y in zip(xn,reviews_yr['number of reviews']):\n",
    "\n",
    "    label = \"{:,}\".format(y)\n",
    "\n",
    "    plt.annotate(label, # this is the text\n",
    "                 (x,y), # these are the coordinates to position the label\n",
    "                 textcoords=\"offset points\", # how to position the text\n",
    "                 xytext=(-10,10), # distance from text to points (x,y)\n",
    "                 ha='center') # horizontal alignment can be left, right or center\n",
    "\n",
    "plt.show()"
   ]
  },
  {
   "cell_type": "markdown",
   "id": "spanish-directive",
   "metadata": {},
   "source": [
    "We have just 404 reviews before 2016. Customers' feedback about applications really picked up in 2018. In 2019, the number reached to a respectable level of 3800 reviews. Growth continues in 2020 & 2021. __We will not consider the reviews prior to & including 2018 year__ because\n",
    "1. Numbers are less.\n",
    "2. Mobile application improvements happen much faster.\n",
    "3. Those are initial development and adaptation years and may be lacking in maturity.\n",
    "\n",
    "** 2021 is as of 26 Aug 2021."
   ]
  },
  {
   "cell_type": "code",
   "execution_count": 25,
   "id": "noted-kruger",
   "metadata": {},
   "outputs": [
    {
     "name": "stdout",
     "output_type": "stream",
     "text": [
      "Number of records : 26499\n"
     ]
    },
    {
     "data": {
      "text/plain": [
       "HDFC ERGO           7097\n",
       "Bajaj Allianz       6239\n",
       "ICICI Lombard       4624\n",
       "Acko                4219\n",
       "Reliance General    2760\n",
       "Iffco Tokio          688\n",
       "Navi                 459\n",
       "Digit                413\n",
       "Name: company, dtype: int64"
      ]
     },
     "execution_count": 25,
     "metadata": {},
     "output_type": "execute_result"
    }
   ],
   "source": [
    "df_reviews = df_reviews.loc[df_reviews.year > 2018,]\n",
    "df_reviews = df_reviews.drop(columns=['bin_years'])\n",
    "print('Number of records : {}'.format(df_reviews.shape[0]))\n",
    "df_reviews.company.value_counts()"
   ]
  },
  {
   "cell_type": "markdown",
   "id": "fancy-recall",
   "metadata": {},
   "source": [
    "HDFC Ergo, Bajaj Allianz have >6000 reviews. IFFCO Tokio which is 4th largest has just 688 reviews.  \n",
    "Acko has 2400 reviews while other insurtechs digits & navi have 400-450 reviews."
   ]
  },
  {
   "cell_type": "code",
   "execution_count": 26,
   "id": "extraordinary-monster",
   "metadata": {},
   "outputs": [
    {
     "data": {
      "image/png": "[encoded data removed]",
      "text/plain": [
       "<Figure size 720x576 with 1 Axes>"
      ]
     },
     "metadata": {},
     "output_type": "display_data"
    }
   ],
   "source": [
    "df_review_summary = df_reviews.groupby('company').agg(\n",
    "                                avg_score = ('score',np.mean),\n",
    "                                score_counts = ('score', 'count'))\n",
    "df_review_summary = df_review_summary.sort_values(by='avg_score')\n",
    "\n",
    "# Draw plot\n",
    "fig, ax = plt.subplots(figsize=(10,8))\n",
    "ax.scatter(y=df_review_summary.index, x=df_review_summary.avg_score, s=200, color='brown', marker = '*')\n",
    "\n",
    "# Title, Label, Ticks and Ylim\n",
    "ax.set_title('App ratings from Reviews')\n",
    "ax.set_xlabel('Rating')\n",
    "ax.set_ylabel('Company')\n",
    "ax.set_yticks(df_review_summary.index)\n",
    "ax.set_yticklabels(df_review_summary.index.str.title(), fontdict={'horizontalalignment': 'right'})\n",
    "\n",
    "# Customizing X axis ticks\n",
    "ax.set_xticks([1,2,3,4,5])\n",
    "ax.set_xticklabels([1,2,3,4,5])\n",
    "ax.set_xlim(1, 5)\n",
    "plt.show()"
   ]
  },
  {
   "cell_type": "markdown",
   "id": "persistent-romania",
   "metadata": {},
   "source": [
    "Navi & Acko are leaders with ~3.8 stars. ICIC Lombard & Bajaj Allianz score ~3.5 stars. These GI companies are adopting & making good progress in the mobile application channel. Digit & HDFC Ergo are at 2.8 stars & need to catch up with the leaders. IFFCO Tokio is a laggard with just 1.9 stars. \n",
    "\n",
    "Let's look at the distribution of ratings."
   ]
  },
  {
   "cell_type": "code",
   "execution_count": 27,
   "id": "surface-polish",
   "metadata": {},
   "outputs": [
    {
     "name": "stdout",
     "output_type": "stream",
     "text": [
      "Total Reviews by Ratings\n",
      "score     1    2    3     4      5\n",
      "Total  9666  892  931  2541  12469\n"
     ]
    }
   ],
   "source": [
    "df_review_ratings = df_reviews.pivot_table(index='company', columns=['score'], \n",
    "                                           values='reviewId', aggfunc='count').fillna(value=0)\n",
    "\n",
    "df_reviews_total = pd.DataFrame(df_review_ratings.sum(axis=0))\n",
    "df_reviews_total.columns = ['Total']\n",
    "\n",
    "print('Total Reviews by Ratings')\n",
    "print(df_reviews_total.T)"
   ]
  },
  {
   "cell_type": "code",
   "execution_count": 28,
   "id": "romance-policy",
   "metadata": {},
   "outputs": [],
   "source": [
    "df_review_ratings = df_review_ratings.append(df_reviews_total.T)\n",
    "\n",
    "# Get the % in each rating value\n",
    "df_review_ratings = df_review_ratings.div(df_review_ratings.sum(axis=1), axis=0)*100"
   ]
  },
  {
   "cell_type": "code",
   "execution_count": 29,
   "id": "level-genius",
   "metadata": {},
   "outputs": [],
   "source": [
    "company_subset_rank = ['Navi', 'Acko', 'ICICI Lombard', 'Bajaj Allianz', 'Reliance General',\n",
    "                      'Digit','HDFC ERGO', 'Iffco Tokio','Total']"
   ]
  },
  {
   "cell_type": "code",
   "execution_count": 30,
   "id": "homeless-decrease",
   "metadata": {},
   "outputs": [],
   "source": [
    "df_review_ratings = df_review_ratings.loc[company_subset_rank]"
   ]
  },
  {
   "cell_type": "code",
   "execution_count": 113,
   "id": "external-grass",
   "metadata": {},
   "outputs": [],
   "source": [
    "def plot_score_dist(df_review_ratings, figsize = (8,10)):\n",
    "    \"\"\"\n",
    "    Dunction to plot 1-5 score rating distributionby companies\n",
    "    \n",
    "    df_review_ratings : dataframe containing company name as index & % ratings for each score as columns\n",
    "    eg\n",
    "    \n",
    "    score     1    2    3     4      5\n",
    "    company   30   10   15    20     65\n",
    "    \n",
    "    \"\"\"\n",
    "    \n",
    "    \n",
    "    labels = list(df_review_ratings.index)\n",
    "    data = df_review_ratings.to_numpy()\n",
    "    data_cum = data.cumsum(axis=1)\n",
    "\n",
    "    category_names = ['v. poor', 'poor', 'average', 'good', 'excellent']\n",
    "\n",
    "    category_colors = plt.get_cmap('RdYlBu')(\n",
    "            np.linspace(0.15, 0.85, data.shape[1]))\n",
    "\n",
    "    fig, ax = plt.subplots(figsize=figsize)\n",
    "    ax.invert_yaxis()\n",
    "    ax.grid(False)\n",
    "    ax.xaxis.set_visible(False)\n",
    "\n",
    "    for i, (colname, color) in enumerate(zip(category_names, category_colors)):\n",
    "        widths = data[:, i]\n",
    "        starts = data_cum[:, i] - widths\n",
    "        ax.barh(labels, widths, left=starts,\n",
    "                label=colname, color=color)\n",
    "        xcenters = starts + widths / 2\n",
    "\n",
    "        r, g, b, _ = color\n",
    "        text_color = 'white' if r * g * b < 0.5 else 'darkgrey'\n",
    "        for y, (x, c) in enumerate(zip(xcenters, widths)):\n",
    "            ax.text(x, y, str(int(c)), ha='center', va='center', size = 'medium',\n",
    "                    color=text_color)\n",
    "\n",
    "    ax.legend(ncol=len(category_names), bbox_to_anchor=(0, 1),\n",
    "              loc='lower left', fontsize='medium',\n",
    "              columnspacing = 1, handletextpad=0.2)\n",
    "\n",
    "    # Hide the right and top spines\n",
    "    ax.spines['right'].set_visible(False)\n",
    "    ax.spines['top'].set_visible(False)\n",
    "    ax.spines['left'].set_visible(False)\n",
    "    ax.spines['bottom'].set_visible(False)\n",
    "    \n",
    "    plt.title('Rating Distribution by Company', pad=60)\n",
    "    plt.ylabel('Company')\n",
    "    plt.show()\n"
   ]
  },
  {
   "cell_type": "code",
   "execution_count": 114,
   "id": "brutal-monday",
   "metadata": {},
   "outputs": [
    {
     "data": {
      "image/png": "[encoded data removed]",
      "text/plain": [
       "<Figure size 576x720 with 1 Axes>"
      ]
     },
     "metadata": {},
     "output_type": "display_data"
    }
   ],
   "source": [
    "plot_score_dist(df_review_ratings)"
   ]
  },
  {
   "cell_type": "markdown",
   "id": "fifth-chapel",
   "metadata": {},
   "source": [
    "Navi has highest i.e. 64% 5 star reviews. Acko & ICICI Lombard are next with 58% & 56% 5 star ratings. Yet these companies have a 20-30% 1 star rating for apps. This indicates a huge scope of improvement even for leaders. IFFCO Tokio has a 73% 1 star rating and is an outlier. Digit, HDFC Ergo & Reliance have 40-50% reviews with just 1 star rating.\n",
    " \n",
    "Overall, we have a highly polarized dataset. __~80%__ of the reviewers have given either __Excellent or Very Poor__ rating. Only about 3% reviewers are neutral. We group the ratings as per below logic   \n",
    "1. combine 4 & 5 as positive and label them as 0\n",
    "2. combine 1 & 2 as negative and label them as 1\n",
    "3. ignore 3"
   ]
  },
  {
   "cell_type": "code",
   "execution_count": 33,
   "id": "rational-latex",
   "metadata": {},
   "outputs": [
    {
     "name": "stdout",
     "output_type": "stream",
     "text": [
      "[931] neutral records removed\n",
      "Distribution of Positive(0) and Negative(1) sentiments\n"
     ]
    },
    {
     "data": {
      "text/html": [
       "<div>\n",
       "<style scoped>\n",
       "    .dataframe tbody tr th:only-of-type {\n",
       "        vertical-align: middle;\n",
       "    }\n",
       "\n",
       "    .dataframe tbody tr th {\n",
       "        vertical-align: top;\n",
       "    }\n",
       "\n",
       "    .dataframe thead th {\n",
       "        text-align: right;\n",
       "    }\n",
       "</style>\n",
       "<table border=\"1\" class=\"dataframe\">\n",
       "  <thead>\n",
       "    <tr style=\"text-align: right;\">\n",
       "      <th></th>\n",
       "      <th>sentiment</th>\n",
       "      <th>counts</th>\n",
       "    </tr>\n",
       "  </thead>\n",
       "  <tbody>\n",
       "    <tr>\n",
       "      <th>0</th>\n",
       "      <td>Positive</td>\n",
       "      <td>15010</td>\n",
       "    </tr>\n",
       "    <tr>\n",
       "      <th>1</th>\n",
       "      <td>Negative</td>\n",
       "      <td>10558</td>\n",
       "    </tr>\n",
       "  </tbody>\n",
       "</table>\n",
       "</div>"
      ],
      "text/plain": [
       "  sentiment  counts\n",
       "0  Positive   15010\n",
       "1  Negative   10558"
      ]
     },
     "execution_count": 33,
     "metadata": {},
     "output_type": "execute_result"
    }
   ],
   "source": [
    "df_reviews = df_reviews.loc[df_reviews.score != 3,:]\n",
    "\n",
    "print('{} neutral records removed'.format(df_reviews_total.loc[3].values))\n",
    "\n",
    "df_reviews['rating'] = np.where(df_reviews.score <=2, 1, 0)\n",
    "\n",
    "rating_dist = df_reviews.rating.value_counts().rename_axis('sentiment').reset_index(name='counts')\n",
    "print('Distribution of Positive(0) and Negative(1) sentiments')\n",
    "rating_dist.sentiment = rating_dist.sentiment.map({0:'Positive', 1:'Negative'})\n",
    "rating_dist"
   ]
  },
  {
   "cell_type": "code",
   "execution_count": 34,
   "id": "adequate-republican",
   "metadata": {},
   "outputs": [
    {
     "name": "stdout",
     "output_type": "stream",
     "text": [
      "After removing pre 2019 reviews and selecting Top 5 GIs & 3 InsurTechs,\n",
      "we finally have 25568 (82.10%) records\n"
     ]
    }
   ],
   "source": [
    "print('After removing pre 2019 reviews and selecting Top 5 GIs & 3 InsurTechs,')\n",
    "print('we finally have {} ({:.2%}) records'.format(df_reviews.shape[0],df_reviews.shape[0]/df_reviews_all.shape[0]))"
   ]
  },
  {
   "cell_type": "code",
   "execution_count": 35,
   "id": "alternate-dragon",
   "metadata": {},
   "outputs": [
    {
     "data": {
      "text/html": [
       "<div>\n",
       "<style scoped>\n",
       "    .dataframe tbody tr th:only-of-type {\n",
       "        vertical-align: middle;\n",
       "    }\n",
       "\n",
       "    .dataframe tbody tr th {\n",
       "        vertical-align: top;\n",
       "    }\n",
       "\n",
       "    .dataframe thead th {\n",
       "        text-align: right;\n",
       "    }\n",
       "</style>\n",
       "<table border=\"1\" class=\"dataframe\">\n",
       "  <thead>\n",
       "    <tr style=\"text-align: right;\">\n",
       "      <th></th>\n",
       "      <th>Company</th>\n",
       "      <th>Reviews</th>\n",
       "    </tr>\n",
       "  </thead>\n",
       "  <tbody>\n",
       "    <tr>\n",
       "      <th>0</th>\n",
       "      <td>HDFC ERGO</td>\n",
       "      <td>6882</td>\n",
       "    </tr>\n",
       "    <tr>\n",
       "      <th>1</th>\n",
       "      <td>Bajaj Allianz</td>\n",
       "      <td>5949</td>\n",
       "    </tr>\n",
       "    <tr>\n",
       "      <th>2</th>\n",
       "      <td>ICICI Lombard</td>\n",
       "      <td>4523</td>\n",
       "    </tr>\n",
       "    <tr>\n",
       "      <th>3</th>\n",
       "      <td>Acko</td>\n",
       "      <td>4016</td>\n",
       "    </tr>\n",
       "    <tr>\n",
       "      <th>4</th>\n",
       "      <td>Reliance General</td>\n",
       "      <td>2692</td>\n",
       "    </tr>\n",
       "    <tr>\n",
       "      <th>5</th>\n",
       "      <td>Iffco Tokio</td>\n",
       "      <td>665</td>\n",
       "    </tr>\n",
       "    <tr>\n",
       "      <th>6</th>\n",
       "      <td>Navi</td>\n",
       "      <td>447</td>\n",
       "    </tr>\n",
       "    <tr>\n",
       "      <th>7</th>\n",
       "      <td>Digit</td>\n",
       "      <td>394</td>\n",
       "    </tr>\n",
       "  </tbody>\n",
       "</table>\n",
       "</div>"
      ],
      "text/plain": [
       "            Company  Reviews\n",
       "0         HDFC ERGO     6882\n",
       "1     Bajaj Allianz     5949\n",
       "2     ICICI Lombard     4523\n",
       "3              Acko     4016\n",
       "4  Reliance General     2692\n",
       "5       Iffco Tokio      665\n",
       "6              Navi      447\n",
       "7             Digit      394"
      ]
     },
     "execution_count": 35,
     "metadata": {},
     "output_type": "execute_result"
    }
   ],
   "source": [
    "company_dist = df_reviews.company.value_counts().rename_axis('Company').reset_index(name='Reviews')\n",
    "company_dist"
   ]
  },
  {
   "cell_type": "code",
   "execution_count": 36,
   "id": "early-complex",
   "metadata": {},
   "outputs": [
    {
     "data": {
      "text/plain": [
       "5"
      ]
     },
     "execution_count": 36,
     "metadata": {},
     "output_type": "execute_result"
    }
   ],
   "source": [
    "def count_words(text):\n",
    "    tokens = word_tokenize(text)\n",
    "    return len(tokens)\n",
    "\n",
    "count_words('Hi there :) !')"
   ]
  },
  {
   "cell_type": "code",
   "execution_count": 37,
   "id": "brilliant-naples",
   "metadata": {},
   "outputs": [
    {
     "data": {
      "image/png": "[encoded data removed]",
      "text/plain": [
       "<Figure size 432x288 with 1 Axes>"
      ]
     },
     "metadata": {},
     "output_type": "display_data"
    }
   ],
   "source": [
    "review_len = df_reviews.review.apply(count_words)\n",
    "plt.hist(review_len, bins=50)\n",
    "plt.title('Distribution of Review Length ')\n",
    "plt.xlabel('Review Length(word counts)')\n",
    "plt.ylabel('Count of Reviews')\n",
    "plt.show();"
   ]
  },
  {
   "cell_type": "code",
   "execution_count": 38,
   "id": "destroyed-shooting",
   "metadata": {},
   "outputs": [
    {
     "data": {
      "text/plain": [
       "count    25568.000000\n",
       "mean        13.175845\n",
       "std         19.095722\n",
       "min          1.000000\n",
       "25%          2.000000\n",
       "50%          5.000000\n",
       "75%         17.000000\n",
       "87.5%       31.000000\n",
       "95%         54.000000\n",
       "max        190.000000\n",
       "Name: review, dtype: float64"
      ]
     },
     "execution_count": 38,
     "metadata": {},
     "output_type": "execute_result"
    }
   ],
   "source": [
    "review_len.describe(percentiles=[0.25, .50, 0.75, 0.875,.95])"
   ]
  },
  {
   "cell_type": "markdown",
   "id": "adaptive-terminology",
   "metadata": {},
   "source": [
    "We have a highly skewed distribution. 50% of the reviews are having less than 5 words while top 5 percentile reviews are greater than 54 words in length. Longest review has 190 words.  \n",
    "\n",
    "Let us look at some short & long sample reviews."
   ]
  },
  {
   "cell_type": "code",
   "execution_count": 39,
   "id": "central-optimization",
   "metadata": {},
   "outputs": [],
   "source": [
    "def print_reviews(review_length=5, n = 30):\n",
    "    df_rv_len = df_reviews.loc[review_len==review_length,'review']\n",
    "    print('{} Reviews with lenght {}'.format(len(df_rv_len),review_length))\n",
    "    print('They are: \\n', df_rv_len.sample(n).values)"
   ]
  },
  {
   "cell_type": "code",
   "execution_count": 40,
   "id": "permanent-warner",
   "metadata": {},
   "outputs": [
    {
     "name": "stdout",
     "output_type": "stream",
     "text": [
      "5728 Reviews with lenght 1\n",
      "They are: \n",
      " ['Excellent' 'fine' 'Good' 'nik' 'good' 'Good' 'good' 'Best' 'good' 'good'\n",
      " 'Good' 'nice' 'Nice' 'Good' 'goodwork' 'Gud' 'Awesome' 'good' 'Good'\n",
      " 'later' 'Good' 'Good' 'Good' 'Nice' 'Better' 'Nice' 'Good' 'Easy' 'Bad'\n",
      " 'good']\n"
     ]
    }
   ],
   "source": [
    "print_reviews(review_length=1)"
   ]
  },
  {
   "cell_type": "code",
   "execution_count": 41,
   "id": "chubby-globe",
   "metadata": {},
   "outputs": [
    {
     "name": "stdout",
     "output_type": "stream",
     "text": [
      "3706 Reviews with lenght 2\n",
      "They are: \n",
      " ['Very good' 'bad app' 'Very useful' 'Bad service' 'Nice app'\n",
      " 'excellent experience' 'bad service' 'Good experience' 'Everything hangs'\n",
      " 'Fantastic Nice' 'Great app' 'Super app' 'very good' 'Good Experience'\n",
      " 'Very good' 'Nice App' 'Fantastic app' 'Very useful' 'Very helpful'\n",
      " 'Very nice' 'Very Good' 'Veary Good' 'Best service' 'Good Service'\n",
      " 'Nice app' 'Very bad' 'Fantastic service' 'Nice apps' 'Sakina begum'\n",
      " 'West app']\n"
     ]
    }
   ],
   "source": [
    "print_reviews(review_length=2)"
   ]
  },
  {
   "cell_type": "code",
   "execution_count": 42,
   "id": "connected-victor",
   "metadata": {},
   "outputs": [
    {
     "name": "stdout",
     "output_type": "stream",
     "text": [
      "1841 Reviews with lenght 3\n",
      "They are: \n",
      " ['Lovely Applications 👍👍👍' 'best application.' 'Very good app'\n",
      " 'Overall good experience' 'Nice app.' 'Really Nice app'\n",
      " 'Handy to operate' '1 time good' 'Very Friendly app' 'well done 👍'\n",
      " 'Best Services provided' 'Very good...' 'Awesome app!' 'good to use'\n",
      " 'Very useful.' 'Very good app' 'free diamond 💎💎💎' 'Need more improve'\n",
      " 'Very good app' 'Wonderful App!' 'Good application Nhea' 'Very slow app'\n",
      " 'Renewals made easy' 'App not useful' 'Unbale to use' 'Nice :)'\n",
      " 'Bakbash h app' 'New to this' 'Good and silent' 'Simply superb.']\n"
     ]
    }
   ],
   "source": [
    "print_reviews(review_length=3)"
   ]
  },
  {
   "cell_type": "code",
   "execution_count": 43,
   "id": "ancient-heading",
   "metadata": {},
   "outputs": [
    {
     "name": "stdout",
     "output_type": "stream",
     "text": [
      "1114 Reviews with lenght 4\n",
      "They are: \n",
      " ['Not showing my policy' 'Very easy to access' 'Best answer net policy'\n",
      " 'Worst app ever made' 'Good very easy function' 'Best me sabse best'\n",
      " 'Fantastic app like it' 'Not so much good' 'Good response by team'\n",
      " 'App is very slow' 'most disgusting app....' 'Khatiya app hai bakwas'\n",
      " 'Good app and provision' 'Worthless waste of time' 'Very handy to use'\n",
      " 'Ilike the app easy' 'Very nice so good' 'One type of dustbin'\n",
      " 'help us with me' 'Good And Need Improvement' 'Pooja app achha lga'\n",
      " 'this app very much' 'Super app...❤️❤️❤️❤️' 'Not working properly,'\n",
      " 'Details not getting fetched' 'Your service very poor'\n",
      " 'Good Policy App..' 'Excellent app and service' \"Doesn't even open\"\n",
      " \"It doesn't work\"]\n"
     ]
    }
   ],
   "source": [
    "print_reviews(review_length=4)"
   ]
  },
  {
   "cell_type": "code",
   "execution_count": 44,
   "id": "fancy-integrity",
   "metadata": {},
   "outputs": [
    {
     "name": "stdout",
     "output_type": "stream",
     "text": [
      "1047 Reviews with lenght 5\n",
      "They are: \n",
      " ['User friendly. Smooth.' 'Good application...Thanks neha'\n",
      " 'Not at all user friendly' 'need to update engine/charsee number'\n",
      " 'Best option in covid19 time' 'Very easy to book online'\n",
      " 'Ease of update and use' 'No information will update......'\n",
      " 'Hello doctor service is awesome' 'Easy transaction , super app'\n",
      " 'Pathetic app .. nothing works' 'Seamless and easy to use'\n",
      " 'After update it works well' 'New version is great.'\n",
      " 'Unable to link my policy' 'Not responding very worst update'\n",
      " 'Worst app and worst service' 'Very nice and customer friendly'\n",
      " 'Amazing Service !!!' 'Good app and good service'\n",
      " 'application is functioning seamlessly.' 'VERY GOOD AND FAST APP'\n",
      " 'Very good guidence from Nehal' 'IL hello dr is good'\n",
      " 'Very Helpfull app Thank you' 'Keep it up HDFC ERGO'\n",
      " 'User friendly, easy process' 'Excellent app good job 😊'\n",
      " 'Worst app and worst service' 'Easy settlement done by me']\n"
     ]
    }
   ],
   "source": [
    "print_reviews(review_length=5)"
   ]
  },
  {
   "cell_type": "code",
   "execution_count": 45,
   "id": "basic-genome",
   "metadata": {},
   "outputs": [
    {
     "name": "stdout",
     "output_type": "stream",
     "text": [
      "907 Reviews with lenght 6\n",
      "They are: \n",
      " ['We can upload claim documents easily'\n",
      " 'Worst COMPANY ........giving minus star'\n",
      " 'Very poor servicer after buy policy' 'Best one you come with app'\n",
      " 'Lun* se bura aap hai' 'Worst experience in renewal process...'\n",
      " 'Bad experience customer care no option'\n",
      " 'Very slow. Always showing loading' 'Good and easy to pay insurance'\n",
      " 'Good and quick to login 👍' 'VERY GOOD POLICY. I LIKED'\n",
      " 'Smooth ride , Super fast 👌' 'No renewal facility on this app'\n",
      " 'Very nice auto corrects mistake ⭐⭐⭐⭐⭐⭐⭐⭐⭐⭐'\n",
      " 'Bad app, showing wrong info' 'App is very slow and unresponsive'\n",
      " 'Excellent 👌 Excellent 👌 Excellent.'\n",
      " 'Unable to download and renew policy' 'Best app for our policy detail'\n",
      " 'Good Quick service response for claims' 'very very easy, must try'\n",
      " 'App makes claims process simpler.'\n",
      " 'deleting my feedback..... worst service'\n",
      " 'Bakwas app always show expired policy'\n",
      " 'Very good service and user friendly' 'Very nice services fast and easy'\n",
      " 'Very difficult process of claim receive'\n",
      " 'best.pls send policy copy on mail'\n",
      " 'This application is very useful please' 'Thank u good app good service']\n"
     ]
    }
   ],
   "source": [
    "print_reviews(review_length=6)"
   ]
  },
  {
   "cell_type": "code",
   "execution_count": 46,
   "id": "dominant-finnish",
   "metadata": {},
   "outputs": [
    {
     "name": "stdout",
     "output_type": "stream",
     "text": [
      "1 Reviews with lenght 190\n",
      "They are: \n",
      " ['The waste company i have been policy holder from past 9 years. i renew this policy every year i never felt need to use this policy but in this august i admitted for two days only and having 8000/- hospital expenses, when i register claim on website my sanction claim is only 5202 rupees they email me the list of claim report in that various type of deduction like investigation charges,nursing charges not covered, injection charges not covered, they mention some medicine name that also not covered, etc. when i ask to arrange the call for clarification of these things, i waiting for call last 4 days. I am the policy holder from last 9 years and my first claim is 8000/- but sanction amount is only 5202/- so friends think about this their executive sell the policy lots of benefit offer by them, but when you buy that all benefits comes under investigation that not informed when you buy that policy or by their executive. I am the foolish person who renew every year since 2011.']\n"
     ]
    }
   ],
   "source": [
    "biggest_reviews = df_reviews.loc[review_len==review_len.max(),'review']\n",
    "print('{} Reviews with lenght {}'.format(len(biggest_reviews),review_len.max()))\n",
    "print('They are: \\n', biggest_reviews.values)"
   ]
  },
  {
   "cell_type": "markdown",
   "id": "romantic-observation",
   "metadata": {},
   "source": [
    "### Reviews with less than 4 words are nothing but ratings. "
   ]
  },
  {
   "cell_type": "code",
   "execution_count": 47,
   "id": "bigger-trash",
   "metadata": {},
   "outputs": [
    {
     "data": {
      "text/plain": [
       "(14293, 12)"
      ]
     },
     "execution_count": 47,
     "metadata": {},
     "output_type": "execute_result"
    }
   ],
   "source": [
    "df_long_reviews = df_reviews.loc[review_len > 3,:].copy()\n",
    "df_long_reviews.shape"
   ]
  },
  {
   "cell_type": "code",
   "execution_count": 48,
   "id": "endless-drill",
   "metadata": {},
   "outputs": [],
   "source": [
    "map_sentiment = {0:'Positive', 1:'Negative'}"
   ]
  },
  {
   "cell_type": "code",
   "execution_count": 49,
   "id": "complicated-disco",
   "metadata": {},
   "outputs": [
    {
     "data": {
      "image/png": "[encoded data removed]",
      "text/plain": [
       "<Figure size 1080x432 with 2 Axes>"
      ]
     },
     "metadata": {},
     "output_type": "display_data"
    }
   ],
   "source": [
    "fig = plt.figure(figsize=(15,6))\n",
    "\n",
    "ax1 = fig.add_subplot(121)\n",
    "ax = df_reviews.rating.map(map_sentiment).value_counts().plot(kind='barh', ax= ax1, title = \"Raw reviews\")\n",
    "\n",
    "ax2 = fig.add_subplot(122)\n",
    "ax = df_long_reviews.rating.map(map_sentiment).value_counts().plot(kind='barh', ax= ax2, title = \"After removing short reviews\")\n",
    "ax.invert_yaxis()\n"
   ]
  },
  {
   "cell_type": "code",
   "execution_count": 50,
   "id": "genetic-draft",
   "metadata": {},
   "outputs": [
    {
     "data": {
      "image/png": "[encoded data removed]",
      "text/plain": [
       "<Figure size 360x360 with 1 Axes>"
      ]
     },
     "metadata": {},
     "output_type": "display_data"
    }
   ],
   "source": [
    "df_reviews['review_len'] = review_len\n",
    "sns.displot(df_reviews, x=\"review_len\", hue='rating', kind=\"kde\",fill=True, legend=False)\n",
    "plt.title('Review length by Sentiment ')\n",
    "plt.xlabel('Review length (word counts)')\n",
    "plt.legend(title='Sentiment', loc='upper right', labels=['Negative','Positive']);"
   ]
  },
  {
   "cell_type": "markdown",
   "id": "developing-uniform",
   "metadata": {},
   "source": [
    "Most of the deleted reviews belong to positive sentiments. This makes sense as many customers with Positive experience will write generic short reviews. Hence, these reviews are deleted. While with Negative sentiment, on an average, customers are more explicit and detailed about the problem they are facing."
   ]
  },
  {
   "cell_type": "code",
   "execution_count": 51,
   "id": "geological-miller",
   "metadata": {},
   "outputs": [
    {
     "data": {
      "text/html": [
       "<div>\n",
       "<style scoped>\n",
       "    .dataframe tbody tr th:only-of-type {\n",
       "        vertical-align: middle;\n",
       "    }\n",
       "\n",
       "    .dataframe tbody tr th {\n",
       "        vertical-align: top;\n",
       "    }\n",
       "\n",
       "    .dataframe thead th {\n",
       "        text-align: right;\n",
       "    }\n",
       "</style>\n",
       "<table border=\"1\" class=\"dataframe\">\n",
       "  <thead>\n",
       "    <tr style=\"text-align: right;\">\n",
       "      <th></th>\n",
       "      <th>Company</th>\n",
       "      <th>Long Reviews</th>\n",
       "      <th>Reviews</th>\n",
       "    </tr>\n",
       "  </thead>\n",
       "  <tbody>\n",
       "    <tr>\n",
       "      <th>0</th>\n",
       "      <td>HDFC ERGO</td>\n",
       "      <td>4084</td>\n",
       "      <td>6882</td>\n",
       "    </tr>\n",
       "    <tr>\n",
       "      <th>1</th>\n",
       "      <td>ICICI Lombard</td>\n",
       "      <td>2957</td>\n",
       "      <td>4523</td>\n",
       "    </tr>\n",
       "    <tr>\n",
       "      <th>2</th>\n",
       "      <td>Bajaj Allianz</td>\n",
       "      <td>2762</td>\n",
       "      <td>5949</td>\n",
       "    </tr>\n",
       "    <tr>\n",
       "      <th>3</th>\n",
       "      <td>Acko</td>\n",
       "      <td>2011</td>\n",
       "      <td>4016</td>\n",
       "    </tr>\n",
       "    <tr>\n",
       "      <th>4</th>\n",
       "      <td>Reliance General</td>\n",
       "      <td>1535</td>\n",
       "      <td>2692</td>\n",
       "    </tr>\n",
       "    <tr>\n",
       "      <th>5</th>\n",
       "      <td>Iffco Tokio</td>\n",
       "      <td>491</td>\n",
       "      <td>665</td>\n",
       "    </tr>\n",
       "    <tr>\n",
       "      <th>6</th>\n",
       "      <td>Digit</td>\n",
       "      <td>273</td>\n",
       "      <td>394</td>\n",
       "    </tr>\n",
       "    <tr>\n",
       "      <th>7</th>\n",
       "      <td>Navi</td>\n",
       "      <td>180</td>\n",
       "      <td>447</td>\n",
       "    </tr>\n",
       "  </tbody>\n",
       "</table>\n",
       "</div>"
      ],
      "text/plain": [
       "            Company  Long Reviews  Reviews\n",
       "0         HDFC ERGO          4084     6882\n",
       "1     ICICI Lombard          2957     4523\n",
       "2     Bajaj Allianz          2762     5949\n",
       "3              Acko          2011     4016\n",
       "4  Reliance General          1535     2692\n",
       "5       Iffco Tokio           491      665\n",
       "6             Digit           273      394\n",
       "7              Navi           180      447"
      ]
     },
     "execution_count": 51,
     "metadata": {},
     "output_type": "execute_result"
    }
   ],
   "source": [
    "company_dist_long = df_long_reviews.company.value_counts().rename_axis('Company').reset_index(name='Long Reviews')\n",
    "company_dist_long = company_dist_long.merge(company_dist,on='Company')\n",
    "company_dist_long\n"
   ]
  },
  {
   "cell_type": "markdown",
   "id": "accepting-default",
   "metadata": {},
   "source": [
    "Because of lack of credible data, we will do the analysis for below 4 companies."
   ]
  },
  {
   "cell_type": "code",
   "execution_count": 52,
   "id": "rapid-shoulder",
   "metadata": {},
   "outputs": [
    {
     "data": {
      "text/plain": [
       "(11814,)"
      ]
     },
     "execution_count": 52,
     "metadata": {},
     "output_type": "execute_result"
    }
   ],
   "source": [
    "top_3 = ['ICICI Lombard', 'Bajaj Allianz', 'HDFC ERGO']\n",
    "insure_tech = ['Acko']\n",
    "company_subset_long_review = top_3 + insure_tech\n",
    "company_subset_long_review_ind  = df_long_reviews.company.isin(company_subset_long_review)\n",
    "\n",
    "df_long_4 = df_long_reviews.loc[company_subset_long_review_ind,:].copy()\n",
    "df_long_4.company.shape"
   ]
  },
  {
   "cell_type": "markdown",
   "id": "dynamic-teddy",
   "metadata": {},
   "source": [
    "We will continue with typical text data cleaning steps."
   ]
  },
  {
   "cell_type": "code",
   "execution_count": 53,
   "id": "missing-flooring",
   "metadata": {},
   "outputs": [],
   "source": [
    "# Contractions\n",
    "#source : https://towardsdatascience.com/a-practitioners-guide-to-natural-language-processing-part-i-processing-understanding-text-9f4abfd13e72\n",
    "\n",
    "def expand_contractions(text, contraction_mapping=CONTRACTION_MAP):\n",
    "    \n",
    "    contractions_pattern = re.compile('({})'.format('|'.join(contraction_mapping.keys())), \n",
    "                                      flags=re.IGNORECASE|re.DOTALL)\n",
    "    def expand_match(contraction):\n",
    "        match = contraction.group(0)\n",
    "        first_char = match[0]\n",
    "        expanded_contraction = contraction_mapping.get(match)\\\n",
    "                                if contraction_mapping.get(match)\\\n",
    "                                else contraction_mapping.get(match.lower())                       \n",
    "        expanded_contraction = first_char+expanded_contraction[1:]\n",
    "        return expanded_contraction\n",
    "        \n",
    "    expanded_text = contractions_pattern.sub(expand_match, text)\n",
    "    expanded_text = re.sub(\"'\", \"\", expanded_text)\n",
    "    return expanded_text"
   ]
  },
  {
   "cell_type": "code",
   "execution_count": 54,
   "id": "ordered-daniel",
   "metadata": {},
   "outputs": [],
   "source": [
    "# Emoji\n",
    "def convert_emojis(text):\n",
    "    for emot in UNICODE_EMOJI:\n",
    "        text = text.replace(emot, UNICODE_EMOJI[emot].replace(':', ' ').replace('_',' '))\n",
    "        \n",
    "    return text"
   ]
  },
  {
   "cell_type": "code",
   "execution_count": 55,
   "id": "solar-harvard",
   "metadata": {},
   "outputs": [],
   "source": [
    "# Emoticons\n",
    "def convert_emoticons(text):\n",
    "    for emot in EMOTICONS_EMO:\n",
    "        text = text.replace(emot,EMOTICONS_EMO[emot])\n",
    "    return text"
   ]
  },
  {
   "cell_type": "code",
   "execution_count": 56,
   "id": "unlimited-butterfly",
   "metadata": {},
   "outputs": [],
   "source": [
    "# Lower\n",
    "def convert_lower(text):\n",
    "    return text.lower()"
   ]
  },
  {
   "cell_type": "code",
   "execution_count": 57,
   "id": "characteristic-croatia",
   "metadata": {},
   "outputs": [],
   "source": [
    "# Punctuations\n",
    "def remove_punctuations(text):\n",
    "    punct = string.punctuation\n",
    "    pd_table = str.maketrans('', '', punct)\n",
    "    text = text.translate(pd_table)\n",
    "    return text"
   ]
  },
  {
   "cell_type": "code",
   "execution_count": 58,
   "id": "measured-maker",
   "metadata": {},
   "outputs": [],
   "source": [
    "# Remove leading & trailing white spaces\n",
    "def remove_whitespaces(text):\n",
    "    text = text.strip()\n",
    "    return text"
   ]
  },
  {
   "cell_type": "code",
   "execution_count": 59,
   "id": "tamil-buffalo",
   "metadata": {},
   "outputs": [],
   "source": [
    "def correct_spelling(text):\n",
    "    spell = SpellChecker()\n",
    "    corrected_text = []\n",
    "    misspelled_words = spell.unknown(text.split())\n",
    "    for word in text.split():\n",
    "        if word in misspelled_words:\n",
    "            corrected_text.append(spell.correction(word))\n",
    "        else:\n",
    "            corrected_text.append(word)\n",
    "    return \" \".join(corrected_text)"
   ]
  },
  {
   "cell_type": "code",
   "execution_count": 60,
   "id": "selected-atlas",
   "metadata": {},
   "outputs": [],
   "source": [
    "# Tokenize\n",
    "def wtokenize(text):\n",
    "    \n",
    "    text = word_tokenize(text)\n",
    "    return text"
   ]
  },
  {
   "cell_type": "code",
   "execution_count": 61,
   "id": "desirable-river",
   "metadata": {},
   "outputs": [
    {
     "data": {
      "text/plain": [
       "'is best'"
      ]
     },
     "execution_count": 61,
     "metadata": {},
     "output_type": "execute_result"
    }
   ],
   "source": [
    "brand_names = set(['icici','lombard','bajaj','allianz','alliance', \n",
    "               'hdfc','ergo', 'bank', 'iffco', 'tokio', \n",
    "               'reliance', 'acko', 'digit', 'navi', 'coco', 'apollo', 'munich'])\n",
    "\n",
    "def remove_brand_names(text):\n",
    "    \n",
    "    tokens  = wtokenize(text)\n",
    "    # text =  ' '.join([word if word not in brand_names else 'word_is_brandname' for word in tokens ])\n",
    "    text =  ' '.join([word for word in tokens if word not in brand_names])\n",
    "    return text\n",
    "\n",
    "remove_brand_names('hdfc is best')"
   ]
  },
  {
   "cell_type": "code",
   "execution_count": 62,
   "id": "younger-plenty",
   "metadata": {},
   "outputs": [
    {
     "data": {
      "text/plain": [
       "'app hangs frequently'"
      ]
     },
     "execution_count": 62,
     "metadata": {},
     "output_type": "execute_result"
    }
   ],
   "source": [
    "def replace_application(text):\n",
    "    word_app = ['application','applications']\n",
    "    tokens  = wtokenize(text)\n",
    "    text =  ' '.join([word if word not in word_app else 'app' for word in tokens ])\n",
    "    return text      \n",
    "\n",
    "replace_application('application hangs frequently')"
   ]
  },
  {
   "cell_type": "code",
   "execution_count": 63,
   "id": "caring-printing",
   "metadata": {},
   "outputs": [],
   "source": [
    "def remove_non_alpha_numeric(text,keep_numeric=True):\n",
    "    \n",
    "    # [ ]: match any character inside the list defined by the square brackets, including the space character ' '\n",
    "    # ^: Negation\n",
    "    # A-Z: accept english upper case characters from A to Z\n",
    "    # source : https://www3.ntu.edu.sg/home/ehchua/programming/howto/Regexe.html\n",
    "    \n",
    "    ALPHA = r'[^a-zA-z\\s]'\n",
    "    ALPHA_NUMRIC = r'[^a-zA-z0-9\\s]'\n",
    "    if keep_numeric == True:\n",
    "        PATTERN = ALPHA_NUMRIC\n",
    "    else :\n",
    "        PATTERN = ALPHA\n",
    "        \n",
    "    text = re.sub(PATTERN, '', text)\n",
    "    return text\n"
   ]
  },
  {
   "cell_type": "code",
   "execution_count": 64,
   "id": "sealed-arlington",
   "metadata": {},
   "outputs": [],
   "source": [
    "def remove_extra_whitespaces(text):\n",
    "    \n",
    "    text = re.sub(' +', ' ', text)\n",
    "    return text"
   ]
  },
  {
   "cell_type": "code",
   "execution_count": 65,
   "id": "educational-trace",
   "metadata": {},
   "outputs": [],
   "source": [
    "def preprocess_text(text):\n",
    "    \"\"\"\n",
    "    Performs typical text data cleaning steps\n",
    "    \n",
    "    text : review text\n",
    "    clean_text: text after perfroming all the cleaning steps \n",
    "    \"\"\"\n",
    "    \n",
    "    rmv_lt_whitespace = remove_whitespaces(text)\n",
    "    expanded = expand_contractions(rmv_lt_whitespace)\n",
    "    deemojised = convert_emojis(expanded)\n",
    "    cnvt_emoticons = convert_emoticons(deemojised)\n",
    "    lower_txt = convert_lower(cnvt_emoticons)\n",
    "    rmv_non_alpha_num = remove_non_alpha_numeric(lower_txt,keep_numeric=False) \n",
    "    rmv_brand = remove_brand_names(rmv_non_alpha_num)\n",
    "    rpc_application = replace_application(rmv_brand)\n",
    "    clean_text = remove_extra_whitespaces(rpc_application)\n",
    "    \n",
    "    return clean_text"
   ]
  },
  {
   "cell_type": "markdown",
   "id": "modified-statistics",
   "metadata": {},
   "source": [
    "Following reviews are created for testing based on general observations & likely scenarios."
   ]
  },
  {
   "cell_type": "code",
   "execution_count": 66,
   "id": "subjective-coral",
   "metadata": {},
   "outputs": [],
   "source": [
    "fustrated_review = \"Pathetic app, not at all user friendly, doesn't open, \\\n",
    "                takes too long for navigating from link/page to another ...  \"\n",
    "mistake_review = \"Bad 1one time use after not working hangon please wait re install after use bad app cheat. \\\n",
    "                  please fit it 🤦🤦\"\n",
    "happy_review = \" :) Superb App....      Now policy booking and claim intimation would brew much easier...\\\n",
    "                Network hospitals search its very handy! Kudos!👌 \"\n",
    "angry_review = \" 😠 3rd class app by reliance. No response of our registration of policy and many more problems\"\n",
    "multi_lingual = \"थर्ड class... धब्बा 'હમબડીયું.... Never buying again 😡 \"\n",
    "\n",
    "ppn_lingual = \" super app. Neha explained it well and I was able to file the claims\"\n",
    "\n",
    "dummy_reviews = [fustrated_review, mistake_review, happy_review, angry_review, multi_lingual, ppn_lingual]\n",
    "df_dummy_reviews = pd.DataFrame(dummy_reviews,columns=['reviews'])"
   ]
  },
  {
   "cell_type": "code",
   "execution_count": 67,
   "id": "alpha-glasgow",
   "metadata": {},
   "outputs": [
    {
     "name": "stdout",
     "output_type": "stream",
     "text": [
      "Raw review : Pathetic app, not at all user friendly, doesn't open,                 takes too long for navigating from link/page to another ...  \n",
      "Processed review : pathetic app not at all user friendly does not open takes too long for navigating from linkpage to another\n",
      "\n",
      "\n",
      "Raw review : Bad 1one time use after not working hangon please wait re install after use bad app cheat.                   please fit it 🤦🤦\n",
      "Processed review : bad one time use after not working hangon please wait re install after use bad app cheat please fit it person facepalming person facepalming\n",
      "\n",
      "\n",
      "Raw review :  :) Superb App....      Now policy booking and claim intimation would brew much easier...                Network hospitals search its very handy! Kudos!👌 \n",
      "Processed review : happy face or smiley superb app now policy booking and claim intimation would brew much easier network hospitals search its very handy kudos ok hand\n",
      "\n",
      "\n",
      "Raw review :  😠 3rd class app by reliance. No response of our registration of policy and many more problems\n",
      "Processed review : angry face rd class app by no response of our registration of policy and many more problems\n",
      "\n",
      "\n",
      "Raw review : थर्ड class... धब्बा 'હમબડીયું.... Never buying again 😡 \n",
      "Processed review : class never buying again pouting face\n",
      "\n",
      "\n",
      "Raw review :  super app. Neha explained it well and I was able to file the claims\n",
      "Processed review : super app neha explained it well and i was able to file the claims\n",
      "\n",
      "\n"
     ]
    }
   ],
   "source": [
    "df_dummy_reviews['preprocess_review']= df_dummy_reviews.reviews.apply(preprocess_text)\n",
    "\n",
    "for review, preprocess_review in zip(df_dummy_reviews.reviews, df_dummy_reviews.preprocess_review):\n",
    "    print('Raw review :', review)\n",
    "    print('Processed review :', preprocess_review)\n",
    "    print('\\n')"
   ]
  },
  {
   "cell_type": "code",
   "execution_count": 68,
   "id": "racial-meeting",
   "metadata": {},
   "outputs": [
    {
     "data": {
      "text/html": [
       "<div>\n",
       "<style scoped>\n",
       "    .dataframe tbody tr th:only-of-type {\n",
       "        vertical-align: middle;\n",
       "    }\n",
       "\n",
       "    .dataframe tbody tr th {\n",
       "        vertical-align: top;\n",
       "    }\n",
       "\n",
       "    .dataframe thead th {\n",
       "        text-align: right;\n",
       "    }\n",
       "</style>\n",
       "<table border=\"1\" class=\"dataframe\">\n",
       "  <thead>\n",
       "    <tr style=\"text-align: right;\">\n",
       "      <th></th>\n",
       "      <th>reviewId</th>\n",
       "      <th>review</th>\n",
       "      <th>score</th>\n",
       "      <th>thumbsUpCount</th>\n",
       "      <th>reviewCreatedVersion</th>\n",
       "      <th>at</th>\n",
       "      <th>replyContent</th>\n",
       "      <th>repliedAt</th>\n",
       "      <th>appId</th>\n",
       "      <th>company</th>\n",
       "      <th>year</th>\n",
       "      <th>rating</th>\n",
       "    </tr>\n",
       "  </thead>\n",
       "  <tbody>\n",
       "    <tr>\n",
       "      <th>0</th>\n",
       "      <td>gp:AOqpTOF86De47sxTLcSz5dRWRlYNfO2IN5pk3baCjf8...</td>\n",
       "      <td>Excellent.. The service and reaction were exce...</td>\n",
       "      <td>5</td>\n",
       "      <td>0</td>\n",
       "      <td>NaN</td>\n",
       "      <td>2021-08-26 22:29:04</td>\n",
       "      <td>NaN</td>\n",
       "      <td>NaT</td>\n",
       "      <td>icici.lombard.ghi</td>\n",
       "      <td>ICICI Lombard</td>\n",
       "      <td>2021</td>\n",
       "      <td>0</td>\n",
       "    </tr>\n",
       "    <tr>\n",
       "      <th>1</th>\n",
       "      <td>gp:AOqpTOH09z1vHSV2KRUcILU1eSsx-5HzWABJDC2pCW6...</td>\n",
       "      <td>The app is simple and tidy, with a focus on th...</td>\n",
       "      <td>5</td>\n",
       "      <td>0</td>\n",
       "      <td>NaN</td>\n",
       "      <td>2021-08-26 22:28:35</td>\n",
       "      <td>NaN</td>\n",
       "      <td>NaT</td>\n",
       "      <td>icici.lombard.ghi</td>\n",
       "      <td>ICICI Lombard</td>\n",
       "      <td>2021</td>\n",
       "      <td>0</td>\n",
       "    </tr>\n",
       "    <tr>\n",
       "      <th>2</th>\n",
       "      <td>gp:AOqpTOGYmB7z6aIyAFtbD4YheqYzuDrtrQcYBBJSkmZ...</td>\n",
       "      <td>It is simple to select and purchase insurance....</td>\n",
       "      <td>5</td>\n",
       "      <td>0</td>\n",
       "      <td>NaN</td>\n",
       "      <td>2021-08-26 22:27:21</td>\n",
       "      <td>NaN</td>\n",
       "      <td>NaT</td>\n",
       "      <td>icici.lombard.ghi</td>\n",
       "      <td>ICICI Lombard</td>\n",
       "      <td>2021</td>\n",
       "      <td>0</td>\n",
       "    </tr>\n",
       "    <tr>\n",
       "      <th>3</th>\n",
       "      <td>gp:AOqpTOFEDySNZlgqJByDGyF8C8WMT6pJhqcgAhMokeI...</td>\n",
       "      <td>I've used this app for my car insurance a few ...</td>\n",
       "      <td>5</td>\n",
       "      <td>0</td>\n",
       "      <td>NaN</td>\n",
       "      <td>2021-08-26 22:26:59</td>\n",
       "      <td>NaN</td>\n",
       "      <td>NaT</td>\n",
       "      <td>icici.lombard.ghi</td>\n",
       "      <td>ICICI Lombard</td>\n",
       "      <td>2021</td>\n",
       "      <td>0</td>\n",
       "    </tr>\n",
       "    <tr>\n",
       "      <th>4</th>\n",
       "      <td>gp:AOqpTOFE6WGoCMTXBlT57sZBjZIxwH0zsmyBH8D2C14...</td>\n",
       "      <td>It is wrost insurance company . One of my frie...</td>\n",
       "      <td>1</td>\n",
       "      <td>0</td>\n",
       "      <td>2.0.40</td>\n",
       "      <td>2021-08-26 21:21:10</td>\n",
       "      <td>NaN</td>\n",
       "      <td>NaT</td>\n",
       "      <td>icici.lombard.ghi</td>\n",
       "      <td>ICICI Lombard</td>\n",
       "      <td>2021</td>\n",
       "      <td>1</td>\n",
       "    </tr>\n",
       "  </tbody>\n",
       "</table>\n",
       "</div>"
      ],
      "text/plain": [
       "                                            reviewId                                             review  score  thumbsUpCount reviewCreatedVersion                  at replyContent repliedAt              appId        company  year  rating\n",
       "0  gp:AOqpTOF86De47sxTLcSz5dRWRlYNfO2IN5pk3baCjf8...  Excellent.. The service and reaction were exce...      5              0                  NaN 2021-08-26 22:29:04          NaN       NaT  icici.lombard.ghi  ICICI Lombard  2021       0\n",
       "1  gp:AOqpTOH09z1vHSV2KRUcILU1eSsx-5HzWABJDC2pCW6...  The app is simple and tidy, with a focus on th...      5              0                  NaN 2021-08-26 22:28:35          NaN       NaT  icici.lombard.ghi  ICICI Lombard  2021       0\n",
       "2  gp:AOqpTOGYmB7z6aIyAFtbD4YheqYzuDrtrQcYBBJSkmZ...  It is simple to select and purchase insurance....      5              0                  NaN 2021-08-26 22:27:21          NaN       NaT  icici.lombard.ghi  ICICI Lombard  2021       0\n",
       "3  gp:AOqpTOFEDySNZlgqJByDGyF8C8WMT6pJhqcgAhMokeI...  I've used this app for my car insurance a few ...      5              0                  NaN 2021-08-26 22:26:59          NaN       NaT  icici.lombard.ghi  ICICI Lombard  2021       0\n",
       "4  gp:AOqpTOFE6WGoCMTXBlT57sZBjZIxwH0zsmyBH8D2C14...  It is wrost insurance company . One of my frie...      1              0               2.0.40 2021-08-26 21:21:10          NaN       NaT  icici.lombard.ghi  ICICI Lombard  2021       1"
      ]
     },
     "execution_count": 68,
     "metadata": {},
     "output_type": "execute_result"
    }
   ],
   "source": [
    "df_long_4.head()"
   ]
  },
  {
   "cell_type": "code",
   "execution_count": 69,
   "id": "suitable-conducting",
   "metadata": {},
   "outputs": [
    {
     "data": {
      "text/plain": [
       "(11814, 2)"
      ]
     },
     "execution_count": 69,
     "metadata": {},
     "output_type": "execute_result"
    }
   ],
   "source": [
    "df_text = df_long_4.loc[:,['reviewId','review']].copy()\n",
    "\n",
    "if development_flag == True:\n",
    "    df_text = df_text.sample(100)\n",
    "\n",
    "df_text.shape"
   ]
  },
  {
   "cell_type": "code",
   "execution_count": 70,
   "id": "excessive-extent",
   "metadata": {},
   "outputs": [
    {
     "name": "stdout",
     "output_type": "stream",
     "text": [
      "23.3 s ± 718 ms per loop (mean ± std. dev. of 7 runs, 1 loop each)\n"
     ]
    }
   ],
   "source": [
    "%%timeit\n",
    "\n",
    "df_text['preprocess_review']= df_text.review.apply(preprocess_text)"
   ]
  },
  {
   "cell_type": "code",
   "execution_count": 71,
   "id": "anonymous-overall",
   "metadata": {},
   "outputs": [
    {
     "data": {
      "text/plain": [
       "0     excellent the service and reaction were excell...\n",
       "1     the app is simple and tidy with a focus on the...\n",
       "2     it is simple to select and purchase insurance ...\n",
       "3     i have used this app for my car insurance a fe...\n",
       "4     it is wrost insurance company one of my friend...\n",
       "5     this app does not even work properly sometimes...\n",
       "6     wrost insurance company i had too bad experien...\n",
       "8            good it is useful tor everyone download it\n",
       "10    trying to correct my data of birth since rd au...\n",
       "12    maine apni bike ka insurance liya aur ab mri b...\n",
       "Name: preprocess_review, dtype: object"
      ]
     },
     "execution_count": 71,
     "metadata": {},
     "output_type": "execute_result"
    }
   ],
   "source": [
    "df_text['preprocess_review'].head(10)"
   ]
  },
  {
   "cell_type": "code",
   "execution_count": 72,
   "id": "oriented-verse",
   "metadata": {},
   "outputs": [],
   "source": [
    "# lemmatize\n",
    "# https://spacy.io/usage/processing-pipelines#processing\n",
    "# https://stackoverflow.com/questions/64741609/how-to-remove-names-of-people-in-corpus-using-python\n",
    "# https://github.com/dipanjanS/text-analytics-with-python/blob/master/New-Second-Edition/Ch03%20-%20Processing%20and%20Understanding%20Text/Ch03a%20-%20Text%20Wrangling.ipynb\n",
    "\n",
    "lemma_txt = []\n",
    "\n",
    "for doc in nlp.pipe(df_text['preprocess_review'],  n_process=-1, batch_size=2000):\n",
    "    txt = ' '.join([word.lemma_ if word.lemma_ != '-PRON-' else word.text for word in doc])\n",
    "    lemma_txt.append(txt)\n"
   ]
  },
  {
   "cell_type": "code",
   "execution_count": 73,
   "id": "novel-stanford",
   "metadata": {},
   "outputs": [
    {
     "data": {
      "text/plain": [
       "['excellent the service and reaction be excellent please keep up the good work and do not let your customer down',\n",
       " 'the app be simple and tidy with a focus on the need of the consumer this app make it simple to apply for their insurance policy this app be easy to use because of its feature',\n",
       " 'it be simple to select and purchase insurance this app allow I to renew my bike insurance the procedure go off without a hitch',\n",
       " 'I have use this app for my car insurance a few time now and have always receive excellent service the procedure be easy and straightforward',\n",
       " 'it be wrost insurance company one of my friend abhishek gupta purchase motor insurance and when he claim insurance then the survey person say that singal alloy wheal do not claim in insurance why this this be wrost I suggest do not buy motor insurance']"
      ]
     },
     "execution_count": 73,
     "metadata": {},
     "output_type": "execute_result"
    }
   ],
   "source": [
    "lemma_txt[:5]"
   ]
  },
  {
   "cell_type": "code",
   "execution_count": 74,
   "id": "electoral-pricing",
   "metadata": {},
   "outputs": [
    {
     "name": "stdout",
     "output_type": "stream",
     "text": [
      "['i', 'me', 'my', 'myself', 'we', 'our', 'ours', 'ourselves', 'you', \"you're\", \"you've\", \"you'll\", \"you'd\", 'your', 'yours', 'yourself', 'yourselves', 'he', 'him', 'his', 'himself', 'she', \"she's\", 'her', 'hers', 'herself', 'it', \"it's\", 'its', 'itself', 'they', 'them', 'their', 'theirs', 'themselves', 'what', 'which', 'who', 'whom', 'this', 'that', \"that'll\", 'these', 'those', 'am', 'is', 'are', 'was', 'were', 'be', 'been', 'being', 'have', 'has', 'had', 'having', 'do', 'does', 'did', 'doing', 'a', 'an', 'the', 'and', 'but', 'if', 'or', 'because', 'as', 'until', 'while', 'of', 'at', 'by', 'for', 'with', 'about', 'against', 'between', 'into', 'through', 'during', 'before', 'after', 'above', 'below', 'to', 'from', 'up', 'down', 'in', 'out', 'on', 'off', 'over', 'under', 'again', 'further', 'then', 'once', 'here', 'there', 'when', 'where', 'why', 'how', 'all', 'any', 'both', 'each', 'few', 'more', 'most', 'other', 'some', 'such', 'no', 'nor', 'not', 'only', 'own', 'same', 'so', 'than', 'too', 'very', 's', 't', 'can', 'will', 'just', 'don', \"don't\", 'should', \"should've\", 'now', 'd', 'll', 'm', 'o', 're', 've', 'y', 'ain', 'aren', \"aren't\", 'couldn', \"couldn't\", 'didn', \"didn't\", 'doesn', \"doesn't\", 'hadn', \"hadn't\", 'hasn', \"hasn't\", 'haven', \"haven't\", 'isn', \"isn't\", 'ma', 'mightn', \"mightn't\", 'mustn', \"mustn't\", 'needn', \"needn't\", 'shan', \"shan't\", 'shouldn', \"shouldn't\", 'wasn', \"wasn't\", 'weren', \"weren't\", 'won', \"won't\", 'wouldn', \"wouldn't\"]\n"
     ]
    }
   ],
   "source": [
    "# Stop words\n",
    "stop_words = stopwords.words(\"english\")\n",
    "print(stop_words)"
   ]
  },
  {
   "cell_type": "code",
   "execution_count": 75,
   "id": "close-variable",
   "metadata": {},
   "outputs": [],
   "source": [
    "# no & not can alter the meaning of the sentence. Hence, we will not treat these as stop words\n",
    "stop_words.remove('no')\n",
    "stop_words.remove('not')\n",
    "# treating very as a stopword since we have a binary sentiment to predict & interprete.\n",
    "\n",
    "# insurance is the product we are analyzing. Hence, adding it to stop word.\n",
    "stop_words.append('insurance')"
   ]
  },
  {
   "cell_type": "markdown",
   "id": "tired-genesis",
   "metadata": {},
   "source": [
    "We are more interesting in understanding __what kind of application features or customer service are driving positive\n",
    "or negative sentiments__. Interpretation is the primary objective here. Hence, we will remove below words which occur frequently but do not contribute to the objective much."
   ]
  },
  {
   "cell_type": "code",
   "execution_count": 76,
   "id": "parental-reproduction",
   "metadata": {},
   "outputs": [],
   "source": [
    "stop_words.extend(['good','bad','best','worst','nice','pathetic','excellent','great'])"
   ]
  },
  {
   "cell_type": "code",
   "execution_count": 77,
   "id": "minus-lease",
   "metadata": {},
   "outputs": [],
   "source": [
    "def remove_stopwords(text):\n",
    "    tokens  = wtokenize(text)\n",
    "    text =  ' '.join([word for word in tokens if word.lower() not in stop_words])\n",
    "    return text"
   ]
  },
  {
   "cell_type": "code",
   "execution_count": 78,
   "id": "plain-preparation",
   "metadata": {},
   "outputs": [
    {
     "data": {
      "text/plain": [
       "['service reaction please keep work not let customer',\n",
       " 'app simple tidy focus need consumer app make simple apply policy app easy use feature',\n",
       " 'simple select purchase app allow renew bike procedure go without hitch',\n",
       " 'use app car time always receive service procedure easy straightforward',\n",
       " 'wrost company one friend abhishek gupta purchase motor claim survey person say singal alloy wheal not claim wrost suggest not buy motor',\n",
       " 'app not even work properly sometimes not even open totally waste app team manage product totally suck',\n",
       " 'wrost company experienceduring policy give company tell big big profit claim disclose hidden charge company agent ask money complain also no one give answer cheater',\n",
       " 'useful tor everyone download',\n",
       " 'try correct datum birth since rd august request time accept request dob remain incorrect ask contact hr company not app not keep option',\n",
       " 'maine apni bike ka liya aur ab mri bike road pr gadde ki hone ki wjh se accident uske back ka alloy wheal tut gya bt servey krne wala person bolta h singal alloy wheal cliam nhi hoti pls sugget ka koi na krwaye inki koi custmore loyalti nhi h maine managaer ko call lgaya wo bolya h time hofa tb btayege wrost compnay motir']"
      ]
     },
     "execution_count": 78,
     "metadata": {},
     "output_type": "execute_result"
    }
   ],
   "source": [
    "# Remove stop words\n",
    "clean_txt = []\n",
    "\n",
    "for text in lemma_txt:\n",
    "    rmv_stopwords = remove_stopwords(text)\n",
    "    clean_txt.append(rmv_stopwords)\n",
    "\n",
    "clean_txt[:10]"
   ]
  },
  {
   "cell_type": "code",
   "execution_count": 79,
   "id": "attached-steel",
   "metadata": {},
   "outputs": [],
   "source": [
    "en_lang_ind = []\n",
    "\n",
    "for text in clean_txt:\n",
    "    if len(text) > 0 :\n",
    "        lang = detect(text)\n",
    "        en_lang_ind.append(lang=='en')\n",
    "    else :\n",
    "        en_lang_ind.append(True)"
   ]
  },
  {
   "cell_type": "code",
   "execution_count": 80,
   "id": "external-defendant",
   "metadata": {},
   "outputs": [
    {
     "data": {
      "text/plain": [
       "2604"
      ]
     },
     "execution_count": 80,
     "metadata": {},
     "output_type": "execute_result"
    }
   ],
   "source": [
    "len(en_lang_ind) - sum(en_lang_ind)"
   ]
  },
  {
   "cell_type": "code",
   "execution_count": 81,
   "id": "ethical-victim",
   "metadata": {},
   "outputs": [
    {
     "data": {
      "text/plain": [
       "['maine apni bike ka liya aur ab mri bike road pr gadde ki hone ki wjh se accident uske back ka alloy wheal tut gya bt servey krne wala person bolta h singal alloy wheal cliam nhi hoti pls sugget ka koi na krwaye inki koi custmore loyalti nhi h maine managaer ko call lgaya wo bolya h time hofa tb btayege wrost compnay motir',\n",
       " 'video consultation user friendly',\n",
       " 'app',\n",
       " 'app esga use',\n",
       " 'description representative rakesh',\n",
       " 'policy detail relate coverage miss app',\n",
       " 'error unable download stop',\n",
       " 'unable add policy experience customer support',\n",
       " 'use app',\n",
       " 'help',\n",
       " 'clean',\n",
       " 'easy user friendly',\n",
       " 'not work',\n",
       " 'app app',\n",
       " 'app de slow no use poor app',\n",
       " 'open take long time',\n",
       " 'take age install',\n",
       " 'goodjust awesome',\n",
       " 'app jab detail nahi update ki tab naya aap hi kyu banaya',\n",
       " 'need develop compare app seem quite old version',\n",
       " 'app insurer',\n",
       " 'fantastic app manage one go much recommend',\n",
       " 'app error everything hang middle hope resolve soon',\n",
       " 'app no problem',\n",
       " 'app spam call cross sell experience',\n",
       " 'app not work well keep load even internet',\n",
       " 'app fast']"
      ]
     },
     "execution_count": 81,
     "metadata": {},
     "output_type": "execute_result"
    }
   ],
   "source": [
    "from itertools import compress\n",
    "\n",
    "non_eng_ind = [not elem for elem in en_lang_ind]\n",
    "\n",
    "list(compress(clean_txt, non_eng_ind))[::100]"
   ]
  },
  {
   "cell_type": "markdown",
   "id": "instructional-parcel",
   "metadata": {},
   "source": [
    "Language detection perfroms poorly when text is short in length. Hence, we will not be using it."
   ]
  },
  {
   "cell_type": "code",
   "execution_count": 82,
   "id": "treated-modem",
   "metadata": {},
   "outputs": [
    {
     "data": {
      "text/html": [
       "<div>\n",
       "<style scoped>\n",
       "    .dataframe tbody tr th:only-of-type {\n",
       "        vertical-align: middle;\n",
       "    }\n",
       "\n",
       "    .dataframe tbody tr th {\n",
       "        vertical-align: top;\n",
       "    }\n",
       "\n",
       "    .dataframe thead th {\n",
       "        text-align: right;\n",
       "    }\n",
       "</style>\n",
       "<table border=\"1\" class=\"dataframe\">\n",
       "  <thead>\n",
       "    <tr style=\"text-align: right;\">\n",
       "      <th></th>\n",
       "      <th>reviewId</th>\n",
       "      <th>review</th>\n",
       "      <th>preprocess_review</th>\n",
       "      <th>clean_review</th>\n",
       "    </tr>\n",
       "  </thead>\n",
       "  <tbody>\n",
       "    <tr>\n",
       "      <th>0</th>\n",
       "      <td>gp:AOqpTOF86De47sxTLcSz5dRWRlYNfO2IN5pk3baCjf8...</td>\n",
       "      <td>Excellent.. The service and reaction were exce...</td>\n",
       "      <td>excellent the service and reaction were excell...</td>\n",
       "      <td>service reaction please keep work not let cust...</td>\n",
       "    </tr>\n",
       "    <tr>\n",
       "      <th>1</th>\n",
       "      <td>gp:AOqpTOH09z1vHSV2KRUcILU1eSsx-5HzWABJDC2pCW6...</td>\n",
       "      <td>The app is simple and tidy, with a focus on th...</td>\n",
       "      <td>the app is simple and tidy with a focus on the...</td>\n",
       "      <td>app simple tidy focus need consumer app make s...</td>\n",
       "    </tr>\n",
       "    <tr>\n",
       "      <th>2</th>\n",
       "      <td>gp:AOqpTOGYmB7z6aIyAFtbD4YheqYzuDrtrQcYBBJSkmZ...</td>\n",
       "      <td>It is simple to select and purchase insurance....</td>\n",
       "      <td>it is simple to select and purchase insurance ...</td>\n",
       "      <td>simple select purchase app allow renew bike pr...</td>\n",
       "    </tr>\n",
       "    <tr>\n",
       "      <th>3</th>\n",
       "      <td>gp:AOqpTOFEDySNZlgqJByDGyF8C8WMT6pJhqcgAhMokeI...</td>\n",
       "      <td>I've used this app for my car insurance a few ...</td>\n",
       "      <td>i have used this app for my car insurance a fe...</td>\n",
       "      <td>use app car time always receive service proced...</td>\n",
       "    </tr>\n",
       "    <tr>\n",
       "      <th>4</th>\n",
       "      <td>gp:AOqpTOFE6WGoCMTXBlT57sZBjZIxwH0zsmyBH8D2C14...</td>\n",
       "      <td>It is wrost insurance company . One of my frie...</td>\n",
       "      <td>it is wrost insurance company one of my friend...</td>\n",
       "      <td>wrost company one friend abhishek gupta purcha...</td>\n",
       "    </tr>\n",
       "  </tbody>\n",
       "</table>\n",
       "</div>"
      ],
      "text/plain": [
       "                                            reviewId                                             review                                  preprocess_review                                       clean_review\n",
       "0  gp:AOqpTOF86De47sxTLcSz5dRWRlYNfO2IN5pk3baCjf8...  Excellent.. The service and reaction were exce...  excellent the service and reaction were excell...  service reaction please keep work not let cust...\n",
       "1  gp:AOqpTOH09z1vHSV2KRUcILU1eSsx-5HzWABJDC2pCW6...  The app is simple and tidy, with a focus on th...  the app is simple and tidy with a focus on the...  app simple tidy focus need consumer app make s...\n",
       "2  gp:AOqpTOGYmB7z6aIyAFtbD4YheqYzuDrtrQcYBBJSkmZ...  It is simple to select and purchase insurance....  it is simple to select and purchase insurance ...  simple select purchase app allow renew bike pr...\n",
       "3  gp:AOqpTOFEDySNZlgqJByDGyF8C8WMT6pJhqcgAhMokeI...  I've used this app for my car insurance a few ...  i have used this app for my car insurance a fe...  use app car time always receive service proced...\n",
       "4  gp:AOqpTOFE6WGoCMTXBlT57sZBjZIxwH0zsmyBH8D2C14...  It is wrost insurance company . One of my frie...  it is wrost insurance company one of my friend...  wrost company one friend abhishek gupta purcha..."
      ]
     },
     "execution_count": 82,
     "metadata": {},
     "output_type": "execute_result"
    }
   ],
   "source": [
    "df_text['clean_review'] = clean_txt\n",
    "df_text.head()"
   ]
  },
  {
   "cell_type": "code",
   "execution_count": 83,
   "id": "prompt-contribution",
   "metadata": {},
   "outputs": [
    {
     "data": {
      "text/html": [
       "<div>\n",
       "<style scoped>\n",
       "    .dataframe tbody tr th:only-of-type {\n",
       "        vertical-align: middle;\n",
       "    }\n",
       "\n",
       "    .dataframe tbody tr th {\n",
       "        vertical-align: top;\n",
       "    }\n",
       "\n",
       "    .dataframe thead th {\n",
       "        text-align: right;\n",
       "    }\n",
       "</style>\n",
       "<table border=\"1\" class=\"dataframe\">\n",
       "  <thead>\n",
       "    <tr style=\"text-align: right;\">\n",
       "      <th></th>\n",
       "      <th>reviewId</th>\n",
       "      <th>review</th>\n",
       "      <th>score</th>\n",
       "      <th>thumbsUpCount</th>\n",
       "      <th>reviewCreatedVersion</th>\n",
       "      <th>at</th>\n",
       "      <th>replyContent</th>\n",
       "      <th>repliedAt</th>\n",
       "      <th>appId</th>\n",
       "      <th>company</th>\n",
       "      <th>year</th>\n",
       "      <th>rating</th>\n",
       "      <th>clean_review</th>\n",
       "    </tr>\n",
       "  </thead>\n",
       "  <tbody>\n",
       "    <tr>\n",
       "      <th>0</th>\n",
       "      <td>gp:AOqpTOF86De47sxTLcSz5dRWRlYNfO2IN5pk3baCjf8...</td>\n",
       "      <td>Excellent.. The service and reaction were exce...</td>\n",
       "      <td>5</td>\n",
       "      <td>0</td>\n",
       "      <td>NaN</td>\n",
       "      <td>2021-08-26 22:29:04</td>\n",
       "      <td>NaN</td>\n",
       "      <td>NaT</td>\n",
       "      <td>icici.lombard.ghi</td>\n",
       "      <td>ICICI Lombard</td>\n",
       "      <td>2021</td>\n",
       "      <td>0</td>\n",
       "      <td>service reaction please keep work not let cust...</td>\n",
       "    </tr>\n",
       "    <tr>\n",
       "      <th>1</th>\n",
       "      <td>gp:AOqpTOH09z1vHSV2KRUcILU1eSsx-5HzWABJDC2pCW6...</td>\n",
       "      <td>The app is simple and tidy, with a focus on th...</td>\n",
       "      <td>5</td>\n",
       "      <td>0</td>\n",
       "      <td>NaN</td>\n",
       "      <td>2021-08-26 22:28:35</td>\n",
       "      <td>NaN</td>\n",
       "      <td>NaT</td>\n",
       "      <td>icici.lombard.ghi</td>\n",
       "      <td>ICICI Lombard</td>\n",
       "      <td>2021</td>\n",
       "      <td>0</td>\n",
       "      <td>app simple tidy focus need consumer app make s...</td>\n",
       "    </tr>\n",
       "    <tr>\n",
       "      <th>2</th>\n",
       "      <td>gp:AOqpTOGYmB7z6aIyAFtbD4YheqYzuDrtrQcYBBJSkmZ...</td>\n",
       "      <td>It is simple to select and purchase insurance....</td>\n",
       "      <td>5</td>\n",
       "      <td>0</td>\n",
       "      <td>NaN</td>\n",
       "      <td>2021-08-26 22:27:21</td>\n",
       "      <td>NaN</td>\n",
       "      <td>NaT</td>\n",
       "      <td>icici.lombard.ghi</td>\n",
       "      <td>ICICI Lombard</td>\n",
       "      <td>2021</td>\n",
       "      <td>0</td>\n",
       "      <td>simple select purchase app allow renew bike pr...</td>\n",
       "    </tr>\n",
       "    <tr>\n",
       "      <th>3</th>\n",
       "      <td>gp:AOqpTOFEDySNZlgqJByDGyF8C8WMT6pJhqcgAhMokeI...</td>\n",
       "      <td>I've used this app for my car insurance a few ...</td>\n",
       "      <td>5</td>\n",
       "      <td>0</td>\n",
       "      <td>NaN</td>\n",
       "      <td>2021-08-26 22:26:59</td>\n",
       "      <td>NaN</td>\n",
       "      <td>NaT</td>\n",
       "      <td>icici.lombard.ghi</td>\n",
       "      <td>ICICI Lombard</td>\n",
       "      <td>2021</td>\n",
       "      <td>0</td>\n",
       "      <td>use app car time always receive service proced...</td>\n",
       "    </tr>\n",
       "    <tr>\n",
       "      <th>4</th>\n",
       "      <td>gp:AOqpTOFE6WGoCMTXBlT57sZBjZIxwH0zsmyBH8D2C14...</td>\n",
       "      <td>It is wrost insurance company . One of my frie...</td>\n",
       "      <td>1</td>\n",
       "      <td>0</td>\n",
       "      <td>2.0.40</td>\n",
       "      <td>2021-08-26 21:21:10</td>\n",
       "      <td>NaN</td>\n",
       "      <td>NaT</td>\n",
       "      <td>icici.lombard.ghi</td>\n",
       "      <td>ICICI Lombard</td>\n",
       "      <td>2021</td>\n",
       "      <td>1</td>\n",
       "      <td>wrost company one friend abhishek gupta purcha...</td>\n",
       "    </tr>\n",
       "  </tbody>\n",
       "</table>\n",
       "</div>"
      ],
      "text/plain": [
       "                                            reviewId                                             review  score  thumbsUpCount reviewCreatedVersion                  at replyContent repliedAt              appId        company  year  rating                                       clean_review\n",
       "0  gp:AOqpTOF86De47sxTLcSz5dRWRlYNfO2IN5pk3baCjf8...  Excellent.. The service and reaction were exce...      5              0                  NaN 2021-08-26 22:29:04          NaN       NaT  icici.lombard.ghi  ICICI Lombard  2021       0  service reaction please keep work not let cust...\n",
       "1  gp:AOqpTOH09z1vHSV2KRUcILU1eSsx-5HzWABJDC2pCW6...  The app is simple and tidy, with a focus on th...      5              0                  NaN 2021-08-26 22:28:35          NaN       NaT  icici.lombard.ghi  ICICI Lombard  2021       0  app simple tidy focus need consumer app make s...\n",
       "2  gp:AOqpTOGYmB7z6aIyAFtbD4YheqYzuDrtrQcYBBJSkmZ...  It is simple to select and purchase insurance....      5              0                  NaN 2021-08-26 22:27:21          NaN       NaT  icici.lombard.ghi  ICICI Lombard  2021       0  simple select purchase app allow renew bike pr...\n",
       "3  gp:AOqpTOFEDySNZlgqJByDGyF8C8WMT6pJhqcgAhMokeI...  I've used this app for my car insurance a few ...      5              0                  NaN 2021-08-26 22:26:59          NaN       NaT  icici.lombard.ghi  ICICI Lombard  2021       0  use app car time always receive service proced...\n",
       "4  gp:AOqpTOFE6WGoCMTXBlT57sZBjZIxwH0zsmyBH8D2C14...  It is wrost insurance company . One of my frie...      1              0               2.0.40 2021-08-26 21:21:10          NaN       NaT  icici.lombard.ghi  ICICI Lombard  2021       1  wrost company one friend abhishek gupta purcha..."
      ]
     },
     "execution_count": 83,
     "metadata": {},
     "output_type": "execute_result"
    }
   ],
   "source": [
    "df_long_4 = df_long_4.merge(df_text[['reviewId','clean_review']], on = ['reviewId'], how = 'left')\n",
    "df_long_4.head()"
   ]
  },
  {
   "cell_type": "code",
   "execution_count": 84,
   "id": "indonesian-context",
   "metadata": {},
   "outputs": [],
   "source": [
    "# df_reviews = df_reviews.rename(columns= {'clean_review_y':'clean_review'})"
   ]
  },
  {
   "cell_type": "code",
   "execution_count": 85,
   "id": "north-millennium",
   "metadata": {},
   "outputs": [
    {
     "data": {
      "text/plain": [
       "0"
      ]
     },
     "execution_count": 85,
     "metadata": {},
     "output_type": "execute_result"
    }
   ],
   "source": [
    "df_long_4.clean_review.isna().sum()"
   ]
  },
  {
   "cell_type": "code",
   "execution_count": 86,
   "id": "according-python",
   "metadata": {},
   "outputs": [],
   "source": [
    "df_long_4['clean_review_len'] = df_long_4.clean_review.apply(count_words)"
   ]
  },
  {
   "cell_type": "code",
   "execution_count": 87,
   "id": "talented-peeing",
   "metadata": {},
   "outputs": [
    {
     "name": "stdout",
     "output_type": "stream",
     "text": [
      "74 reviews with length 0: \n",
      "Top 10 sums to 74 \n",
      "['']\n"
     ]
    }
   ],
   "source": [
    "def display_reviews(review_length = 1, top_n = 10):\n",
    "    \n",
    "    df =  df_long_4.loc[df_long_4.clean_review_len==review_length,['review','clean_review']]\n",
    "    print('{} reviews with length {}: '.format(df.shape[0],review_length))\n",
    "    \n",
    "    df_top_n = df.clean_review.value_counts().rename_axis('clean_review').reset_index(name='counts').head(top_n)\n",
    "    print('Top {} sums to {:d} '.format(top_n, df_top_n.counts.sum()))\n",
    "    print(df_top_n.clean_review.values)\n",
    "    return None\n",
    "\n",
    "display_reviews(0)"
   ]
  },
  {
   "cell_type": "code",
   "execution_count": 88,
   "id": "hourly-newport",
   "metadata": {},
   "outputs": [
    {
     "data": {
      "text/plain": [
       "4927                                     Very good and the\n",
       "4568     मेरा क्लेम के लिए लटका रखा है ना पास करते हैं ...\n",
       "3989                            હમબડીયું સે લંબાડીયા જેવું\n",
       "10724    इन को गाली देने का मन करता है acko के कस्टमर क...\n",
       "9311                                       It is very good\n",
       "7983     यह सिर्फ पॉलिसी बेचते वक्त बड़ी मीठी मीठी बाते...\n",
       "11139    फ़ोन रिपेयर हो जाने के बाद भी 2-3 दिन डिलीवरी क...\n",
       "8824     अतिशय चांगल्या प्रकारची सेवा इन्शुरन्स कंपनीकड...\n",
       "11580              अच्छी कंपनी है बीमा आसानी से हो जाता है\n",
       "9609                  It's good ..........................\n",
       "Name: review, dtype: object"
      ]
     },
     "execution_count": 88,
     "metadata": {},
     "output_type": "execute_result"
    }
   ],
   "source": [
    "df_long_4.loc[df_long_4.clean_review_len ==0 , 'review'].sample(10)"
   ]
  },
  {
   "cell_type": "markdown",
   "id": "cultural-focus",
   "metadata": {},
   "source": [
    "Sample reviews which were removed in the cleaning process. We can see just stop words, non-English reviews."
   ]
  },
  {
   "cell_type": "code",
   "execution_count": 89,
   "id": "affecting-empty",
   "metadata": {},
   "outputs": [
    {
     "name": "stdout",
     "output_type": "stream",
     "text": [
      "269 reviews with length 1: \n",
      "Top 100 sums to 269 \n",
      "['app' 'service' 'experience' 'easy' 'work' 'use' 'company' 'thank'\n",
      " 'useful' 'helpful' 'job' 'far' 'policy' 'fast' 'nehal' 'simple' 'poor'\n",
      " 'convenient' 'slow' 'performance' 'like' 'keep' 'love' 'operate' 'help'\n",
      " 'ok' 'well' 'information' 'intiative' 'wowsuper' 'always' 'aap'\n",
      " 'healthjinn' 'quick' 'never' 'ui' 'idv' 'healpful' 'competetive'\n",
      " 'nicetill' 'buy' 'fastly' 'hopeless' 'one' 'instal' 'important' 'appkeep'\n",
      " 'clean' 'l' 'dinesh' 'informative' 'superb' 'betterb' 'really' 'budget'\n",
      " 'since' 'expireanc' 'not' 'faith' 'request' 'price' 'pathentic' 'core'\n",
      " 'family' 'extremely' 'claim' 'stick' 'user' 'customer' 'appslow' 'co'\n",
      " 'load' 'accessible' 'polocy' 'otp' 'happy' 'system' 'convention'\n",
      " 'excellentinstantfast' 'helpfulapp' 'convinient' 'excellentvary'\n",
      " 'harshala' 'rakesh' 'time' 'servicethank' 'improve' 'experiance'\n",
      " 'friendly' 'future' 'hang' 'enough' 'initiative' 'pnb']\n"
     ]
    }
   ],
   "source": [
    "display_reviews(review_length=1,top_n=100)"
   ]
  },
  {
   "cell_type": "code",
   "execution_count": 90,
   "id": "funny-seattle",
   "metadata": {},
   "outputs": [
    {
     "name": "stdout",
     "output_type": "stream",
     "text": [
      "831 reviews with length 2: \n",
      "Top 100 sums to 360 \n",
      "['easy use' 'app service' 'not work' 'useful app' 'user friendly'\n",
      " 'app useful' 'app helpful' 'easy app' 'easy access' 'slow app'\n",
      " 'service app' 'easy operate' 'app thank' 'app slow' 'fast easy' 'one app'\n",
      " 'app policy' 'easy convenient' 'app thumb' 'wonderful app'\n",
      " 'experience app' 'love app' 'app use' 'service thank' 'easy handle'\n",
      " 'keep load' 'simple use' 'helpful app' 'easy fast' 'quick easy'\n",
      " 'fast service' 'app load' 'superb app' 'convenient app' 'supportive app'\n",
      " 'poor service' 'service give' 'experience service' 'awesome experience'\n",
      " 'use app' 'easy claim' 'one useful' 'app customer' 'user interface'\n",
      " 'app work' 'easy simple' 'easy pay' 'two wheeler' 'easy cheap' 'app ever'\n",
      " 'app mohd' 'app download' 'app working' 'fast processing' 'service thumb'\n",
      " 'customer service' 'aap useful' 'unable register' 'app claim' 'not open'\n",
      " 'poor slow' 'poor app' 'slow performance' 'fraud company'\n",
      " 'health company' 'wow easy' 'till experience' 'app app' 'app renewal'\n",
      " 'awesome app' 'app world' 'app usefull' 'amazing service' 'easy quick'\n",
      " 'easy renew' 'helpful informative' 'value money' 'work slow' 'thumb app'\n",
      " 'app muhammad' 'amazing app' 'need improvement' 'overall experience'\n",
      " 'app experience' 'easy upload' 'app fast' 'unable download'\n",
      " 'appvery slow' 'motor deal' 'joke app' 'friendly aap' 'easy like'\n",
      " 'not sure' 'reliableuseful economical' 'app everything' 'awesome service'\n",
      " 'handy app' 'appcant work' 'app information' 'thank upgrade']\n"
     ]
    }
   ],
   "source": [
    "display_reviews(review_length=2,top_n=100)"
   ]
  },
  {
   "cell_type": "code",
   "execution_count": 91,
   "id": "metropolitan-board",
   "metadata": {},
   "outputs": [
    {
     "name": "stdout",
     "output_type": "stream",
     "text": [
      "1221 reviews with length 3: \n",
      "Top 100 sums to 283 \n",
      "['app not work' 'app easy use' 'user friendly app' 'easy use app'\n",
      " 'unable link policy' 'app user friendly' 'app thank neha'\n",
      " 'not work properly' 'app not open' 'policy not show' 'app easy access'\n",
      " 'not user friendly' 'unable renew policy' 'app ever see'\n",
      " 'unable install app' 'simple user friendly' 'hello doctor service'\n",
      " 'loading loading loading' 'not get otp' 'easy user friendly'\n",
      " 'not able login' 'third class app' 'fast user friendly' 'not link policy'\n",
      " 'useful app thumb' 'app ever use' 'not open app' 'app easy work'\n",
      " 'useless app slow' 'experience hassle free' 'not show policy'\n",
      " 'policy one app' 'app no use' 'convenient easy use' 'not fetch policy'\n",
      " 'wrost app slow' 'hassle free renewal' 'app easy handle' 'app keep load'\n",
      " 'not renew policy' 'unable add policy' 'app not respond'\n",
      " 'easy register claim' 'app ok hand' 'not work app' 'easy buy policy'\n",
      " 'use full app' 'app play store' 'app guide nehal' 'simple easy use'\n",
      " 'easy use thank' 'much user friendly' 'loading loading load'\n",
      " 'app waste time' 'service user friendly' 'service easy claim'\n",
      " 'unable download policy' 'help full app' 'fast easy use'\n",
      " 'not satisfied service' 'app easy understand' 'app nothing work'\n",
      " 'easy use convenient' 'user friendly thank' 'app guide tejal'\n",
      " 'simple fast process' 'app keep crash' 'otp not come'\n",
      " 'show wrong information' 'easy yes fast' 'wheelar insurence renual'\n",
      " 'ok hand asp' 'not track claim' 'app not except' 'app health solution'\n",
      " 'totally west time' 'poor service company' 'app guideline anika'\n",
      " 'app health policy' 'brand entire market' 'complete peace mind'\n",
      " 'low cost app' 'location not servicable' 'process claim settlement'\n",
      " 'online facility impressive' 'appthank u mohd' 'online policy procedure'\n",
      " 'loading loading not' 'no responsibility response'\n",
      " 'unable anythingworst app' 'awesome company app' 'simple quality price'\n",
      " 'unfortunately stop app' 'please not policy' 'gud app shaheen'\n",
      " 'easy buy online' 'response issue resolve' 'aap not open'\n",
      " 'quick easy efficient' 'easy enter superb']\n"
     ]
    }
   ],
   "source": [
    "display_reviews(review_length=3,top_n=100)"
   ]
  },
  {
   "cell_type": "code",
   "execution_count": 92,
   "id": "passive-evanescence",
   "metadata": {},
   "outputs": [
    {
     "name": "stdout",
     "output_type": "stream",
     "text": [
      "1089 reviews with length 4: \n",
      "Top 50 sums to 85 \n",
      "['app not work properly' 'not able link policy' 'not get otp log'\n",
      " 'unable link health policy' 'claim not getting submit'\n",
      " 'app hello doctor service' 'not get otp register'\n",
      " 'user friendly app service' 'easy user friendly app'\n",
      " 'not able download app' 'policy not show app' 'app not user friendly'\n",
      " 'unable link policy app' 'otp not receive login' 'pdf upload not work'\n",
      " 'third class app slow' 'renew policy not work' 'app not even open'\n",
      " 'unable open app update' 'il hello doctor service'\n",
      " 'easy use applicationthank neha' 'update app not open'\n",
      " 'app waist not active' 'app slow loading datum' 'app always wait upload'\n",
      " 'second time let see' 'work il communication representative'\n",
      " 'superb app keep update' 'khatiya app hai bakwa' 'app check claim status'\n",
      " 'bestin every aspect thank' 'pls give claim no' 'please make add free'\n",
      " 'trusted use last year' 'nothing work app experience'\n",
      " 'truly appreciate app support' 'app thank pooja ji'\n",
      " 'app easy load document' 'always need fitness datum'\n",
      " 'red heart red heart' 'awesome helpful initiative thank'\n",
      " 'app slow not open' 'last two month app'\n",
      " 'experience hello doctor service' 'not even renew policy'\n",
      " 'impressive claim track feature' 'time show server maintenance'\n",
      " 'happy app useful service' 'keep load loading load'\n",
      " 'quick service claim also']\n"
     ]
    }
   ],
   "source": [
    "display_reviews(review_length=4,top_n=50)"
   ]
  },
  {
   "cell_type": "markdown",
   "id": "surrounded-restriction",
   "metadata": {},
   "source": [
    "Reviews with 1 word are ratings. 2 words reviews are not much informative and variety is less. Top 100 contribute to 45% of total 2 words reviews. From reviews with 3 words, we see information about customer's experience with app and the product. The variety also increases as top 100 contribute to 20% of total 3 words reviews. The infromation from these can be as general as \n",
    "1. easy fast app\n",
    "2. app not working\n",
    "\n",
    "Or it can be specific like \n",
    "1. unable download policy\n",
    "2. easy register claim \n",
    "\n",
    "Hene, we will ignore reviews with length 1 & 2."
   ]
  },
  {
   "cell_type": "code",
   "execution_count": 93,
   "id": "demographic-relief",
   "metadata": {},
   "outputs": [
    {
     "data": {
      "text/plain": [
       "3"
      ]
     },
     "execution_count": 93,
     "metadata": {},
     "output_type": "execute_result"
    }
   ],
   "source": [
    "word_len_threshold = 3\n",
    "df_review_cln = df_long_4.loc[df_long_4.clean_review_len >= word_len_threshold, :].copy()\n",
    "df_review_cln.clean_review_len.min()"
   ]
  },
  {
   "cell_type": "code",
   "execution_count": 94,
   "id": "compact-evaluation",
   "metadata": {},
   "outputs": [
    {
     "data": {
      "text/plain": [
       "(10640, 14)"
      ]
     },
     "execution_count": 94,
     "metadata": {},
     "output_type": "execute_result"
    }
   ],
   "source": [
    "df_review_cln.shape"
   ]
  },
  {
   "cell_type": "code",
   "execution_count": 95,
   "id": "different-friendship",
   "metadata": {},
   "outputs": [
    {
     "data": {
      "image/png": "[encoded data removed]",
      "text/plain": [
       "<Figure size 360x360 with 1 Axes>"
      ]
     },
     "metadata": {},
     "output_type": "display_data"
    }
   ],
   "source": [
    "sns.displot(df_review_cln, x=\"clean_review_len\", hue='rating', kind=\"kde\",fill=True, legend=False)\n",
    "plt.title('Clean Review length by Sentiment ')\n",
    "plt.xlabel('Review length (word counts)')\n",
    "\n",
    "plt.legend(title='Sentiment', loc='upper right', labels=['Negative','Positive']);"
   ]
  },
  {
   "cell_type": "markdown",
   "id": "inner-coordinator",
   "metadata": {},
   "source": [
    "After all the data cleaning, we are left with 10675 quality reviews. Distribution dissimilarity is greatly reduced.\n",
    "\n",
    "Let us look at the distribution of reviews by company and sentiment before & after data cleaning. "
   ]
  },
  {
   "cell_type": "code",
   "execution_count": 96,
   "id": "altered-recipe",
   "metadata": {},
   "outputs": [
    {
     "data": {
      "text/html": [
       "<div>\n",
       "<style scoped>\n",
       "    .dataframe tbody tr th:only-of-type {\n",
       "        vertical-align: middle;\n",
       "    }\n",
       "\n",
       "    .dataframe tbody tr th {\n",
       "        vertical-align: top;\n",
       "    }\n",
       "\n",
       "    .dataframe thead th {\n",
       "        text-align: right;\n",
       "    }\n",
       "</style>\n",
       "<table border=\"1\" class=\"dataframe\">\n",
       "  <thead>\n",
       "    <tr style=\"text-align: right;\">\n",
       "      <th></th>\n",
       "      <th>Company</th>\n",
       "      <th>Reviews</th>\n",
       "    </tr>\n",
       "  </thead>\n",
       "  <tbody>\n",
       "    <tr>\n",
       "      <th>0</th>\n",
       "      <td>HDFC ERGO</td>\n",
       "      <td>3754</td>\n",
       "    </tr>\n",
       "    <tr>\n",
       "      <th>1</th>\n",
       "      <td>ICICI Lombard</td>\n",
       "      <td>2711</td>\n",
       "    </tr>\n",
       "    <tr>\n",
       "      <th>2</th>\n",
       "      <td>Bajaj Allianz</td>\n",
       "      <td>2431</td>\n",
       "    </tr>\n",
       "    <tr>\n",
       "      <th>3</th>\n",
       "      <td>Acko</td>\n",
       "      <td>1744</td>\n",
       "    </tr>\n",
       "  </tbody>\n",
       "</table>\n",
       "</div>"
      ],
      "text/plain": [
       "         Company  Reviews\n",
       "0      HDFC ERGO     3754\n",
       "1  ICICI Lombard     2711\n",
       "2  Bajaj Allianz     2431\n",
       "3           Acko     1744"
      ]
     },
     "execution_count": 96,
     "metadata": {},
     "output_type": "execute_result"
    }
   ],
   "source": [
    "company_dist = df_review_cln.company.value_counts().rename_axis('Company').reset_index(name='Reviews')\n",
    "\n",
    "company_dist"
   ]
  },
  {
   "cell_type": "code",
   "execution_count": 97,
   "id": "proved-murder",
   "metadata": {},
   "outputs": [
    {
     "data": {
      "text/html": [
       "<div>\n",
       "<style scoped>\n",
       "    .dataframe tbody tr th:only-of-type {\n",
       "        vertical-align: middle;\n",
       "    }\n",
       "\n",
       "    .dataframe tbody tr th {\n",
       "        vertical-align: top;\n",
       "    }\n",
       "\n",
       "    .dataframe thead th {\n",
       "        text-align: right;\n",
       "    }\n",
       "</style>\n",
       "<table border=\"1\" class=\"dataframe\">\n",
       "  <thead>\n",
       "    <tr style=\"text-align: right;\">\n",
       "      <th></th>\n",
       "      <th>company</th>\n",
       "      <th>review</th>\n",
       "      <th>Negative %</th>\n",
       "      <th>stage</th>\n",
       "    </tr>\n",
       "  </thead>\n",
       "  <tbody>\n",
       "    <tr>\n",
       "      <th>0</th>\n",
       "      <td>Acko</td>\n",
       "      <td>4016</td>\n",
       "      <td>0.246763</td>\n",
       "      <td>Raw</td>\n",
       "    </tr>\n",
       "    <tr>\n",
       "      <th>1</th>\n",
       "      <td>Bajaj Allianz</td>\n",
       "      <td>5949</td>\n",
       "      <td>0.349639</td>\n",
       "      <td>Raw</td>\n",
       "    </tr>\n",
       "    <tr>\n",
       "      <th>2</th>\n",
       "      <td>HDFC ERGO</td>\n",
       "      <td>6882</td>\n",
       "      <td>0.554054</td>\n",
       "      <td>Raw</td>\n",
       "    </tr>\n",
       "    <tr>\n",
       "      <th>3</th>\n",
       "      <td>ICICI Lombard</td>\n",
       "      <td>4523</td>\n",
       "      <td>0.339377</td>\n",
       "      <td>Raw</td>\n",
       "    </tr>\n",
       "    <tr>\n",
       "      <th>4</th>\n",
       "      <td>total</td>\n",
       "      <td>21370</td>\n",
       "      <td>0.393964</td>\n",
       "      <td>Raw</td>\n",
       "    </tr>\n",
       "  </tbody>\n",
       "</table>\n",
       "</div>"
      ],
      "text/plain": [
       "         company  review  Negative % stage\n",
       "0           Acko    4016    0.246763   Raw\n",
       "1  Bajaj Allianz    5949    0.349639   Raw\n",
       "2      HDFC ERGO    6882    0.554054   Raw\n",
       "3  ICICI Lombard    4523    0.339377   Raw\n",
       "4          total   21370    0.393964   Raw"
      ]
     },
     "execution_count": 97,
     "metadata": {},
     "output_type": "execute_result"
    }
   ],
   "source": [
    "df_reviews_subset = df_reviews.loc[df_reviews.company.isin(company_subset_long_review),].copy()\n",
    "df_reviews_subset_grp = df_reviews_subset.groupby(['company']).agg({'review':'count','rating':np.mean}).reset_index()\n",
    "\n",
    "df_reviews_subset_grp = df_reviews_subset_grp.append({'company':'total',\n",
    "                              'rating':df_reviews_subset.rating.mean(),\n",
    "                              'review':df_reviews_subset.review.count()},ignore_index=True)\n",
    "\n",
    "df_reviews_subset_grp['stage'] = 'Raw'\n",
    "df_reviews_subset_grp = df_reviews_subset_grp.rename(columns={'rating':'Negative %'})\n",
    "df_reviews_subset_grp"
   ]
  },
  {
   "cell_type": "code",
   "execution_count": 98,
   "id": "norwegian-colonial",
   "metadata": {},
   "outputs": [],
   "source": [
    "df_review_cln_grp = df_review_cln.groupby(['company']).agg({'review':'count','rating':np.mean}).reset_index()\n",
    "\n",
    "df_review_cln_grp = df_review_cln_grp.append({'company':'total',\n",
    "                              'rating':df_review_cln.rating.mean(),\n",
    "                              'review':df_review_cln.review.count()},ignore_index=True)\n",
    "\n",
    "\n",
    "df_review_cln_grp['stage'] = 'Cleaned'\n",
    "df_review_cln_grp = df_review_cln_grp.rename(columns={'rating':'Negative %'})"
   ]
  },
  {
   "cell_type": "code",
   "execution_count": 99,
   "id": "working-edinburgh",
   "metadata": {},
   "outputs": [
    {
     "data": {
      "text/html": [
       "<div>\n",
       "<style scoped>\n",
       "    .dataframe tbody tr th:only-of-type {\n",
       "        vertical-align: middle;\n",
       "    }\n",
       "\n",
       "    .dataframe tbody tr th {\n",
       "        vertical-align: top;\n",
       "    }\n",
       "\n",
       "    .dataframe thead th {\n",
       "        text-align: right;\n",
       "    }\n",
       "</style>\n",
       "<table border=\"1\" class=\"dataframe\">\n",
       "  <thead>\n",
       "    <tr style=\"text-align: right;\">\n",
       "      <th></th>\n",
       "      <th>company</th>\n",
       "      <th>review</th>\n",
       "      <th>Negative %</th>\n",
       "      <th>stage</th>\n",
       "    </tr>\n",
       "  </thead>\n",
       "  <tbody>\n",
       "    <tr>\n",
       "      <th>0</th>\n",
       "      <td>Acko</td>\n",
       "      <td>4016</td>\n",
       "      <td>0.246763</td>\n",
       "      <td>Raw</td>\n",
       "    </tr>\n",
       "    <tr>\n",
       "      <th>1</th>\n",
       "      <td>Bajaj Allianz</td>\n",
       "      <td>5949</td>\n",
       "      <td>0.349639</td>\n",
       "      <td>Raw</td>\n",
       "    </tr>\n",
       "    <tr>\n",
       "      <th>2</th>\n",
       "      <td>HDFC ERGO</td>\n",
       "      <td>6882</td>\n",
       "      <td>0.554054</td>\n",
       "      <td>Raw</td>\n",
       "    </tr>\n",
       "    <tr>\n",
       "      <th>3</th>\n",
       "      <td>ICICI Lombard</td>\n",
       "      <td>4523</td>\n",
       "      <td>0.339377</td>\n",
       "      <td>Raw</td>\n",
       "    </tr>\n",
       "    <tr>\n",
       "      <th>4</th>\n",
       "      <td>total</td>\n",
       "      <td>21370</td>\n",
       "      <td>0.393964</td>\n",
       "      <td>Raw</td>\n",
       "    </tr>\n",
       "    <tr>\n",
       "      <th>0</th>\n",
       "      <td>Acko</td>\n",
       "      <td>1744</td>\n",
       "      <td>0.467890</td>\n",
       "      <td>Cleaned</td>\n",
       "    </tr>\n",
       "    <tr>\n",
       "      <th>1</th>\n",
       "      <td>Bajaj Allianz</td>\n",
       "      <td>2431</td>\n",
       "      <td>0.677499</td>\n",
       "      <td>Cleaned</td>\n",
       "    </tr>\n",
       "    <tr>\n",
       "      <th>2</th>\n",
       "      <td>HDFC ERGO</td>\n",
       "      <td>3754</td>\n",
       "      <td>0.855354</td>\n",
       "      <td>Cleaned</td>\n",
       "    </tr>\n",
       "    <tr>\n",
       "      <th>3</th>\n",
       "      <td>ICICI Lombard</td>\n",
       "      <td>2711</td>\n",
       "      <td>0.493545</td>\n",
       "      <td>Cleaned</td>\n",
       "    </tr>\n",
       "    <tr>\n",
       "      <th>4</th>\n",
       "      <td>total</td>\n",
       "      <td>10640</td>\n",
       "      <td>0.659023</td>\n",
       "      <td>Cleaned</td>\n",
       "    </tr>\n",
       "  </tbody>\n",
       "</table>\n",
       "</div>"
      ],
      "text/plain": [
       "         company  review  Negative %    stage\n",
       "0           Acko    4016    0.246763      Raw\n",
       "1  Bajaj Allianz    5949    0.349639      Raw\n",
       "2      HDFC ERGO    6882    0.554054      Raw\n",
       "3  ICICI Lombard    4523    0.339377      Raw\n",
       "4          total   21370    0.393964      Raw\n",
       "0           Acko    1744    0.467890  Cleaned\n",
       "1  Bajaj Allianz    2431    0.677499  Cleaned\n",
       "2      HDFC ERGO    3754    0.855354  Cleaned\n",
       "3  ICICI Lombard    2711    0.493545  Cleaned\n",
       "4          total   10640    0.659023  Cleaned"
      ]
     },
     "execution_count": 99,
     "metadata": {},
     "output_type": "execute_result"
    }
   ],
   "source": [
    "df_company_grp = pd.concat([df_reviews_subset_grp,df_review_cln_grp])\n",
    "df_company_grp"
   ]
  },
  {
   "cell_type": "code",
   "execution_count": 100,
   "id": "hundred-reverse",
   "metadata": {},
   "outputs": [],
   "source": [
    "# To plot categorical featues.\n",
    "# We plot categories on x-axis, default rate on primary y-axis & number of observations on secondary y axis.\n",
    "# Plotting number of observations indicated the credibility of default rate.\n",
    "def compare_company_dist(df, company, company_name):\n",
    "    \"\"\"\n",
    "    Plots % Negative reviews and review counts before vs after data cleaning\n",
    "    \n",
    "    df - DataFrame\n",
    "    company - Name of the company to analyze as per appId & company mapping\n",
    "    company_name - Company name to display\n",
    "    \"\"\"\n",
    "    df_company = df.loc[df.company==company,:]\n",
    "    \n",
    "    with plt.style.context('bmh'):\n",
    "    \n",
    "        # plotting default rate on primary y-axis\n",
    "        fig, ax = plt.subplots(figsize=(9,6))\n",
    "        fontsize = 15\n",
    "        # Increase the size of graph when we have more than 4 categories\n",
    "        ax.plot(df_company['stage'], df_company['Negative %'], 'o--', color= 'red',alpha=0.6)\n",
    "        # Add value labels for dafault rates\n",
    "        #source : https://stackoverflow.com/questions/59143306/add-label-values-to-bar-chart-and-line-chart-in-matplotlib\n",
    "        line = ax.lines[0]\n",
    "        for x_value, y_value in zip(line.get_xdata(), line.get_ydata()):\n",
    "            label = \"{:.1%}\".format(y_value)\n",
    "            ax.annotate(label,(x_value, y_value), xytext=(0, 5), textcoords=\"offset points\",\n",
    "                        fontsize=fontsize,color = 'red',ha='center', va='bottom') \n",
    "            \n",
    "        ax.set_title('Negative Review %  - ' + company_name, pad=25)\n",
    "        ax.set_ylabel('Negative %')\n",
    "        ax.set_xlabel('Processing')\n",
    "        \n",
    "        # setting the y-axis limit\n",
    "        ax.set_ylim(ymin=0,ymax=df_company['Negative %'].max()+0.05)\n",
    "        ax.yaxis.set_major_formatter(PercentFormatter(1))\n",
    "        \n",
    "        # plotting count of records on secondary y-axis\n",
    "        ax2 = plt.twinx()\n",
    "        ax2.bar(df_company['stage'], df_company['review'],\n",
    "                    alpha=0.3, color='sandybrown')\n",
    "        ax2.set_ylabel('Review Counts')\n",
    "        ax2.grid(False)\n",
    "        \n",
    "        # Add legends for both y axes\n",
    "        # source: https://stackoverflow.com/questions/5484922/secondary-axis-with-twinx-how-to-add-to-legend\n",
    "        # https://mpltest2.readthedocs.io/en/stable/gallery/recipes/transparent_legends.html\n",
    "        fig.legend(labels=('Negative % ','Counts'),loc='upper right',bbox_to_anchor=(1,0.9),\n",
    "                   bbox_transform=ax.transAxes,fancybox=True, framealpha=0.4)\n",
    "        sns.despine(left=True,bottom=True,)\n",
    "        plt.tight_layout()\n",
    "        #plt.savefig(p / (company+'.pdf') )\n",
    "        plt.show();\n"
   ]
  },
  {
   "cell_type": "code",
   "execution_count": 101,
   "id": "lesbian-pittsburgh",
   "metadata": {},
   "outputs": [
    {
     "data": {
      "image/png": "[encoded data removed]",
      "text/plain": [
       "<Figure size 648x432 with 2 Axes>"
      ]
     },
     "metadata": {},
     "output_type": "display_data"
    }
   ],
   "source": [
    "compare_company_dist(df_company_grp, 'total', 'Overall')"
   ]
  },
  {
   "cell_type": "markdown",
   "id": "institutional-alert",
   "metadata": {},
   "source": [
    "We have deleted ~50% of the reviews (from 21370 to 10640). Most of the deleted reviews were of positive sentiments. This makes sense as many customers with positive experience would write short reviews with generic words. Hence, these reviews are deleted in data cleaning. The net effect is % of Negative ratings increase by 67%.\n",
    "\n",
    "This has essentially reversed the majority class from positive to negative sentiment. Our main objective is to find what is driving the negative sentiments. Hence, it is OK if the probability of negative reviews changes. The positive reviews which are removed are sparse and do not contain useful information.\n",
    "\n",
    "We observe the same effect of increase in Negative ratings ranging from 48% to 100% across different companies as seen below."
   ]
  },
  {
   "cell_type": "code",
   "execution_count": 102,
   "id": "consistent-chemical",
   "metadata": {},
   "outputs": [
    {
     "data": {
      "image/png": "[encoded data removed]",
      "text/plain": [
       "<Figure size 648x432 with 2 Axes>"
      ]
     },
     "metadata": {},
     "output_type": "display_data"
    }
   ],
   "source": [
    "compare_company_dist(df_company_grp, 'ICICI Lombard', 'ICICI Lombard')"
   ]
  },
  {
   "cell_type": "markdown",
   "id": "hybrid-soldier",
   "metadata": {},
   "source": [
    "Negative review % increase by 48% and review counts decrease to 60%."
   ]
  },
  {
   "cell_type": "code",
   "execution_count": 103,
   "id": "working-donna",
   "metadata": {},
   "outputs": [
    {
     "data": {
      "image/png": "[encoded data removed]",
      "text/plain": [
       "<Figure size 648x432 with 2 Axes>"
      ]
     },
     "metadata": {},
     "output_type": "display_data"
    }
   ],
   "source": [
    "compare_company_dist(df_company_grp, 'Bajaj Allianz', 'Bajaj Allianz')"
   ]
  },
  {
   "cell_type": "markdown",
   "id": "dependent-complement",
   "metadata": {},
   "source": [
    "Negative reviews % increase by ~100% and review counts decrease to 40%."
   ]
  },
  {
   "cell_type": "code",
   "execution_count": 104,
   "id": "comparable-compilation",
   "metadata": {},
   "outputs": [
    {
     "data": {
      "image/png": "[encoded data removed]",
      "text/plain": [
       "<Figure size 648x432 with 2 Axes>"
      ]
     },
     "metadata": {},
     "output_type": "display_data"
    }
   ],
   "source": [
    "compare_company_dist(df_company_grp, 'HDFC ERGO', 'HDFC ERGO')"
   ]
  },
  {
   "cell_type": "markdown",
   "id": "eight-haiti",
   "metadata": {},
   "source": [
    "Negative reviews % increase by 54% and review counts decrease to 55%."
   ]
  },
  {
   "cell_type": "code",
   "execution_count": 105,
   "id": "legislative-mount",
   "metadata": {},
   "outputs": [
    {
     "data": {
      "image/png": "[encoded data removed]",
      "text/plain": [
       "<Figure size 648x432 with 2 Axes>"
      ]
     },
     "metadata": {},
     "output_type": "display_data"
    }
   ],
   "source": [
    "compare_company_dist(df_company_grp, 'Acko', 'Acko')"
   ]
  },
  {
   "cell_type": "markdown",
   "id": "bridal-shame",
   "metadata": {},
   "source": [
    "Negative reviews % increase by 90% and review counts decrease to 40%."
   ]
  },
  {
   "cell_type": "markdown",
   "id": "clean-overall",
   "metadata": {},
   "source": [
    "This completes the data cleaning step and now we will save the data for EDA in next step."
   ]
  },
  {
   "cell_type": "code",
   "execution_count": 106,
   "id": "disabled-speech",
   "metadata": {},
   "outputs": [],
   "source": [
    "clean_review = '../data/interim/clean_review.csv'\n",
    "df_review_cln.to_csv(clean_review,  index=None, header=True)"
   ]
  },
  {
   "cell_type": "markdown",
   "id": "impressed-blood",
   "metadata": {},
   "source": [
    "The process flow in this notebook is inspired from below sources\n",
    "\n",
    "https://www.kaggle.com/sudalairajkumar/getting-started-with-text-preprocessing\n",
    "\n",
    "https://github.com/dipanjanS/text-analytics-with-python/blob/master/New-Second-Edition/Ch03%20-%20Processing%20and%20Understanding%20Text/Ch03a%20-%20Text%20Wrangling.ipynb\n"
   ]
  },
  {
   "cell_type": "code",
   "execution_count": null,
   "id": "handmade-israeli",
   "metadata": {},
   "outputs": [],
   "source": []
  },
  {
   "cell_type": "markdown",
   "id": "working-continuity",
   "metadata": {},
   "source": [
    "### For presentation"
   ]
  },
  {
   "cell_type": "code",
   "execution_count": 107,
   "id": "revolutionary-estate",
   "metadata": {},
   "outputs": [],
   "source": [
    "company_subset_rank_ppt = ['Acko', 'ICICI Lombard', 'Bajaj Allianz', 'HDFC ERGO',]"
   ]
  },
  {
   "cell_type": "code",
   "execution_count": 111,
   "id": "violent-rehabilitation",
   "metadata": {},
   "outputs": [
    {
     "data": {
      "image/png": "[encoded data removed]",
      "text/plain": [
       "<Figure size 432x288 with 1 Axes>"
      ]
     },
     "metadata": {},
     "output_type": "display_data"
    }
   ],
   "source": [
    "df_review_summary_ppt = df_review_summary.loc[company_subset_rank_ppt,]\n",
    "\n",
    "# Draw plot\n",
    "fig, ax = plt.subplots(figsize=(6,4))\n",
    "ax.scatter(y=df_review_summary_ppt.index, x=df_review_summary_ppt.avg_score, s=300, color='brown', marker = '*')\n",
    "\n",
    "# Title, Label, Ticks and Ylim\n",
    "ax.set_title('App ratings from Reviews')\n",
    "ax.set_xlabel('Rating')\n",
    "ax.set_ylabel('Company')\n",
    "ax.set_yticks(df_review_summary_ppt.index)\n",
    "ax.set_yticklabels(df_review_summary_ppt.index.str.title(), fontdict={'horizontalalignment': 'right'})\n",
    "ax.invert_yaxis()\n",
    "\n",
    "# Customizing X axis ticks\n",
    "ax.set_xticks([1,2,3,4,5])\n",
    "ax.set_xticklabels([1,2,3,4,5])\n",
    "ax.set_xlim(1, 5)\n",
    "plt.show()"
   ]
  },
  {
   "cell_type": "code",
   "execution_count": 117,
   "id": "unexpected-writing",
   "metadata": {},
   "outputs": [
    {
     "data": {
      "image/png": "[encoded data removed]",
      "text/plain": [
       "<Figure size 576x432 with 1 Axes>"
      ]
     },
     "metadata": {},
     "output_type": "display_data"
    }
   ],
   "source": [
    "df_review_ratings_ppt = df_review_ratings.loc[company_subset_rank_ppt]\n",
    "\n",
    "plot_score_dist(df_review_ratings_ppt, figsize=(8,6))"
   ]
  },
  {
   "cell_type": "code",
   "execution_count": null,
   "id": "strong-green",
   "metadata": {},
   "outputs": [],
   "source": []
  }
 ],
 "metadata": {
  "kernelspec": {
   "display_name": "Python 3",
   "language": "python",
   "name": "python3"
  },
  "language_info": {
   "codemirror_mode": {
    "name": "ipython",
    "version": 3
   },
   "file_extension": ".py",
   "mimetype": "text/x-python",
   "name": "python",
   "nbconvert_exporter": "python",
   "pygments_lexer": "ipython3",
   "version": "3.7.9"
  }
 },
 "nbformat": 4,
 "nbformat_minor": 5
}
